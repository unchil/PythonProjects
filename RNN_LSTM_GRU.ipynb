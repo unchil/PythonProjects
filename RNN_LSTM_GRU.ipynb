{
 "cells": [
  {
   "cell_type": "code",
   "execution_count": 1,
   "id": "eb2ba771-91bf-41f7-96d5-ea94babd3d79",
   "metadata": {},
   "outputs": [
    {
     "name": "stdout",
     "output_type": "stream",
     "text": [
      "Device: mps\n",
      "Number of workers: 8\n"
     ]
    }
   ],
   "source": [
    "import torch\n",
    "device = torch.device(\"mps\") if torch.backends.mps.is_available() else  torch.device(\"cpu\")\n",
    "print('Device:', device)\n",
    "import os\n",
    "NUM_WORKERS = os.cpu_count()\n",
    "print(\"Number of workers:\", NUM_WORKERS)"
   ]
  },
  {
   "cell_type": "code",
   "execution_count": 3,
   "id": "bc182924-a08a-4a8e-ab96-bc8c3e6164f5",
   "metadata": {},
   "outputs": [
    {
     "name": "stdout",
     "output_type": "stream",
     "text": [
      "W_xh 크기: torch.Size([2, 5])\n",
      "W_hh 크기: torch.Size([2, 2])\n",
      "b_xh 크기: torch.Size([2])\n",
      "b_hh 크기: torch.Size([2])\n"
     ]
    }
   ],
   "source": [
    "import torch.nn as nn\n",
    "\n",
    "torch.manual_seed(1)\n",
    "\n",
    "rnn_layer = nn.RNN(input_size=5, hidden_size=2, num_layers=1, batch_first=True)\n",
    "\n",
    "w_xh = rnn_layer.weight_ih_l0\n",
    "w_hh = rnn_layer.weight_hh_l0\n",
    "b_xh = rnn_layer.bias_ih_l0\n",
    "b_hh = rnn_layer.bias_hh_l0\n",
    "\n",
    "print('W_xh 크기:', w_xh.shape)\n",
    "print('W_hh 크기:', w_hh.shape)\n",
    "print('b_xh 크기:', b_xh.shape)\n",
    "print('b_hh 크기:', b_hh.shape)"
   ]
  },
  {
   "cell_type": "code",
   "execution_count": 7,
   "id": "8ac2acc7-698a-422c-9979-43612ee74369",
   "metadata": {},
   "outputs": [
    {
     "name": "stdout",
     "output_type": "stream",
     "text": [
      "torch.Size([3, 5])\n",
      "torch.Size([1, 3, 5])\n"
     ]
    }
   ],
   "source": [
    "x_seq = torch.tensor([[1.0]*5, [2.0]*5, [3.0]*5]).float()\n",
    "print(x_seq.shape)\n",
    "print(torch.reshape(x_seq, (1,3,5)).shape)"
   ]
  },
  {
   "cell_type": "code",
   "execution_count": 18,
   "id": "c60453ee-1b6e-4c1d-8513-b9fb26b63a3c",
   "metadata": {},
   "outputs": [
    {
     "name": "stdout",
     "output_type": "stream",
     "text": [
      "tensor([[1., 1., 1., 1., 1.]])\n"
     ]
    }
   ],
   "source": [
    "xt = torch.reshape(x_seq[0], (1,5))\n",
    "print(xt)"
   ]
  },
  {
   "cell_type": "code",
   "execution_count": 21,
   "id": "da807ba6-e1c8-4758-a929-b84dff6e25cd",
   "metadata": {},
   "outputs": [],
   "source": [
    "output, hn = rnn_layer(torch.reshape(x_seq, (1,3,5)))"
   ]
  },
  {
   "cell_type": "code",
   "execution_count": 20,
   "id": "466b083d-d248-4df9-8435-5aeb84f47515",
   "metadata": {},
   "outputs": [
    {
     "name": "stdout",
     "output_type": "stream",
     "text": [
      "타임 스텝 0 =>\n",
      "   입력           :tensor([[1., 1., 1., 1., 1.]])\n",
      "   은닉           :tensor([[-0.4702,  0.5864]])\n",
      "   출력 (수동)     : tensor([[-0.3520,  0.5253]])\n",
      "   RNN 출력       : tensor([[-0.3520,  0.5253]])\n",
      "타임 스텝 1 =>\n",
      "   입력           :tensor([[2., 2., 2., 2., 2.]])\n",
      "   은닉           :tensor([[-0.8888,  1.2364]])\n",
      "   출력 (수동)     : tensor([[-0.6842,  0.7607]])\n",
      "   RNN 출력       : tensor([[-0.6842,  0.7607]])\n",
      "타임 스텝 2 =>\n",
      "   입력           :tensor([[3., 3., 3., 3., 3.]])\n",
      "   은닉           :tensor([[-1.3075,  1.8865]])\n",
      "   출력 (수동)     : tensor([[-0.8649,  0.9047]])\n",
      "   RNN 출력       : tensor([[-0.8649,  0.9047]])\n"
     ]
    }
   ],
   "source": [
    "out_man = []\n",
    "\n",
    "for index in range(3):\n",
    "    xt = torch.reshape(x_seq[index], (1,5))\n",
    "    \n",
    "    print(f'타임 스텝 {index} =>')\n",
    "    print(f'   입력           :{xt}') \n",
    "\n",
    "    ht = torch.matmul(xt, torch.transpose(w_xh, 0, 1)) + b_xh\n",
    "    print(f'   은닉           :{ht.detach()}')\n",
    "\n",
    "    if index > 0:\n",
    "        prev_h =out_man[index-1]\n",
    "    else:\n",
    "        prev_h = torch.zeros((ht.shape))\n",
    "\n",
    "    ot = ht + torch.matmul(prev_h, torch.transpose(w_hh, 0, 1)) + b_hh\n",
    "    ot = torch.tanh(ot)\n",
    "    out_man.append(ot)\n",
    "\n",
    "    \n",
    "    print('   출력 (수동)     :', ot.detach())\n",
    "    print('   RNN 출력       :', output[:, index].detach())\n",
    "    \n"
   ]
  },
  {
   "cell_type": "code",
   "execution_count": null,
   "id": "b7169262-05d6-4ee9-909e-961c8ecb8f81",
   "metadata": {},
   "outputs": [],
   "source": []
  },
  {
   "cell_type": "code",
   "execution_count": 140,
   "id": "1e731a71-d20c-4ba2-b880-03977aa2c2f7",
   "metadata": {},
   "outputs": [],
   "source": [
    "class RNN(nn.Module):\n",
    "    def __init__(self, input_size, hidden_size):\n",
    "        super().__init__()\n",
    "        self.rnn = nn.RNN(input_size, hidden_size, num_layers=2, batch_first=True)\n",
    "        self.fc = nn.Linear(hidden_size, 1)\n",
    "        self.lstm = nn.LSTM(input_size, hidden_size, num_layers=2, batch_first=True)\n",
    "        self.gru = nn.GRU(input_size, hidden_size,  num_layers=2, batch_first=True)\n",
    "        self.flatten = nn.Flatten()\n",
    "\n",
    "    def forward(self, x):\n",
    "        rnn_out, hidden = self.rnn(x)\n",
    "        last_hidden = hidden[-1, :, :]\n",
    "        \n",
    "        #lstm_out, (hidden, cell) = self.lstm(x)\n",
    "        #last_hidden = hidden[-1, :, :]\n",
    "\n",
    "        \n",
    "        #gru_out, hidden = self.gru(x)\n",
    "        #last_hidden = hidden[-1, :, :]\n",
    "\n",
    "\n",
    "        out = self.fc(last_hidden)\n",
    "        return out\n",
    "        \n",
    "        \n"
   ]
  },
  {
   "cell_type": "code",
   "execution_count": 138,
   "id": "9f34a173-93af-4a62-9625-851f453f58a9",
   "metadata": {},
   "outputs": [
    {
     "data": {
      "text/plain": [
       "RNN(\n",
       "  (rnn): RNN(64, 32, num_layers=2, batch_first=True)\n",
       "  (fc): Linear(in_features=32, out_features=1, bias=True)\n",
       "  (lstm): LSTM(64, 32, num_layers=2, batch_first=True)\n",
       "  (gru): GRU(64, 32, num_layers=2, batch_first=True)\n",
       "  (flatten): Flatten(start_dim=1, end_dim=-1)\n",
       ")"
      ]
     },
     "execution_count": 138,
     "metadata": {},
     "output_type": "execute_result"
    }
   ],
   "source": [
    "model = RNN(64, 32).to(device)\n",
    "model"
   ]
  },
  {
   "cell_type": "code",
   "execution_count": 139,
   "id": "57359b20-03e8-4f50-a98c-ad374f3f5bac",
   "metadata": {},
   "outputs": [
    {
     "data": {
      "text/plain": [
       "tensor([[ 0.2095],\n",
       "        [-0.0812],\n",
       "        [-0.0525],\n",
       "        [ 0.2475],\n",
       "        [ 0.3275]], device='mps:0', grad_fn=<LinearBackward0>)"
      ]
     },
     "execution_count": 139,
     "metadata": {},
     "output_type": "execute_result"
    }
   ],
   "source": [
    "model(torch.randn(5, 3, 64).to(device))"
   ]
  },
  {
   "cell_type": "code",
   "execution_count": null,
   "id": "54903896-0a77-494e-8c87-c71ea071bfbd",
   "metadata": {},
   "outputs": [],
   "source": []
  }
 ],
 "metadata": {
  "kernelspec": {
   "display_name": "Python 3 (ipykernel)",
   "language": "python",
   "name": "python3"
  },
  "language_info": {
   "codemirror_mode": {
    "name": "ipython",
    "version": 3
   },
   "file_extension": ".py",
   "mimetype": "text/x-python",
   "name": "python",
   "nbconvert_exporter": "python",
   "pygments_lexer": "ipython3",
   "version": "3.12.2"
  }
 },
 "nbformat": 4,
 "nbformat_minor": 5
}

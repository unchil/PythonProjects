{
 "cells": [
  {
   "cell_type": "code",
   "execution_count": null,
   "id": "59ae4e26-e16b-4f98-8ad2-9121450e28f8",
   "metadata": {},
   "outputs": [],
   "source": [
    "import warnings\n",
    "warnings.filterwarnings(action='ignore')\n"
   ]
  },
  {
   "cell_type": "code",
   "execution_count": null,
   "id": "903de4ff-6d1f-4a9a-bb9f-537beddfc736",
   "metadata": {},
   "outputs": [],
   "source": [
    "import pandas as pd\n",
    "from sqlalchemy import create_engine"
   ]
  },
  {
   "cell_type": "code",
   "execution_count": null,
   "id": "db0d2460-dac2-4d2a-a3e4-a0374dc53bf4",
   "metadata": {},
   "outputs": [],
   "source": [
    "DB_URL = 'sqlite:////Volumes/WorkSpace/PythonProjects/Django/power_exchange/db.sqlite3'\n",
    "conn = create_engine(DB_URL, echo=False)"
   ]
  },
  {
   "cell_type": "code",
   "execution_count": null,
   "id": "db12a506-52ac-4d2a-a195-21f8ed4a5c4b",
   "metadata": {},
   "outputs": [],
   "source": [
    "TABLE_CURRENT = 'supplydemand_fivemsupplydemand'\n",
    "TABLE_DAY = 'supplydemand_dayfiveminsupplydemand'\n",
    "TABLE_FULL = 'supplydemand_fullsupplydemand'"
   ]
  },
  {
   "cell_type": "code",
   "execution_count": null,
   "id": "2e22d46c-95a9-43a9-bb25-5227b7e15245",
   "metadata": {},
   "outputs": [],
   "source": [
    "select_columns=['suppAbility', 'currPwrTot']\n",
    "\n",
    "df = pd.read_sql_table(\n",
    "    table_name=TABLE_DAY, \n",
    "    con=conn, \n",
    "    index_col='baseDatetime',\n",
    "    parse_dates=['baseDatetime'],  \n",
    "   # columns=select_columns \n",
    ")\n",
    "df"
   ]
  },
  {
   "cell_type": "code",
   "execution_count": null,
   "id": "cd8457ee-0ad6-45ee-9704-52df76bf92c9",
   "metadata": {},
   "outputs": [],
   "source": [
    "df = pd.read_sql(\n",
    "    TABLE_DAY, \n",
    "    con=conn, \n",
    "    index_col='baseDatetime',\n",
    "    parse_dates=['baseDatetime'],  \n",
    ")\n",
    "df"
   ]
  },
  {
   "cell_type": "code",
   "execution_count": null,
   "id": "7064e42c-bb38-4359-9d33-bf8cabb08372",
   "metadata": {},
   "outputs": [],
   "source": [
    "sql_stmt = \"\"\"\n",
    "    SELECT *\n",
    "    FROM %s \n",
    "    WHERE baseDatetime < %s \n",
    "\"\"\" % (TABLE_DAY, '20241105000000')\n",
    "\n",
    "df = pd.read_sql_query(\n",
    "    sql=sql_stmt, \n",
    "    con=conn, \n",
    "    index_col='baseDatetime',\n",
    "    parse_dates=['baseDatetime']\n",
    ")\n",
    "df"
   ]
  },
  {
   "cell_type": "code",
   "execution_count": null,
   "id": "ea4a0b45-5988-45ab-8a88-2ec7a6ecac7a",
   "metadata": {},
   "outputs": [],
   "source": [
    "df = pd.read_sql(\n",
    "    sql_stmt, \n",
    "    con=conn, \n",
    "    index_col='baseDatetime',\n",
    "    parse_dates=['baseDatetime'],  \n",
    ")\n",
    "df"
   ]
  },
  {
   "cell_type": "code",
   "execution_count": null,
   "id": "b1a0f158-1185-4068-bd12-07fc46b49182",
   "metadata": {},
   "outputs": [],
   "source": [
    "df['baseDatetime'] = df.index.strftime('%Y%m%d%H%M%S')\n",
    "df"
   ]
  },
  {
   "cell_type": "code",
   "execution_count": null,
   "id": "6df2cfe6-3303-445c-9db8-c8a712c5dc30",
   "metadata": {},
   "outputs": [],
   "source": [
    "df.to_sql(\n",
    "    name=TABLE_FULL,\n",
    "    con=conn,\n",
    "    if_exists='replace',\n",
    "    index=False,\n",
    "    method='multi'\n",
    ")\n"
   ]
  },
  {
   "cell_type": "code",
   "execution_count": null,
   "id": "4ff1f3e7-1dbc-4e32-b1db-d8818fcbef6f",
   "metadata": {},
   "outputs": [],
   "source": [
    "df = pd.read_sql(\n",
    "    TABLE_FULL, \n",
    "    con=conn, \n",
    "    index_col='baseDatetime',\n",
    "    parse_dates=['baseDatetime'],  \n",
    ")\n",
    "df"
   ]
  },
  {
   "cell_type": "code",
   "execution_count": null,
   "id": "d39dfd98-0587-4a67-ac9f-9d6c37292482",
   "metadata": {},
   "outputs": [],
   "source": []
  }
 ],
 "metadata": {
  "kernelspec": {
   "display_name": "Python 3 (ipykernel)",
   "language": "python",
   "name": "python3"
  },
  "language_info": {
   "codemirror_mode": {
    "name": "ipython",
    "version": 3
   },
   "file_extension": ".py",
   "mimetype": "text/x-python",
   "name": "python",
   "nbconvert_exporter": "python",
   "pygments_lexer": "ipython3",
   "version": "3.12.7"
  }
 },
 "nbformat": 4,
 "nbformat_minor": 5
}

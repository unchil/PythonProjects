{
 "cells": [
  {
   "cell_type": "code",
   "execution_count": 2,
   "id": "18643d10-1144-4f8c-b1b6-6332e0223ed3",
   "metadata": {},
   "outputs": [],
   "source": [
    "import pandas as pd\n",
    "import os\n",
    "import torch\n",
    "from torch.utils.data import Dataset\n",
    "from sklearn.preprocessing import MinMaxScaler\n",
    "from torch.utils.data import DataLoader\n",
    "from torch import nn\n",
    "import pytorch_lightning as L\n",
    "from pytorch_lightning import seed_everything, LightningModule, Trainer\n",
    "import numpy as np"
   ]
  },
  {
   "cell_type": "code",
   "execution_count": 3,
   "id": "a0d85cba-9508-4757-8b6e-99939e5997fa",
   "metadata": {},
   "outputs": [
    {
     "data": {
      "text/html": [
       "<div>\n",
       "<style scoped>\n",
       "    .dataframe tbody tr th:only-of-type {\n",
       "        vertical-align: middle;\n",
       "    }\n",
       "\n",
       "    .dataframe tbody tr th {\n",
       "        vertical-align: top;\n",
       "    }\n",
       "\n",
       "    .dataframe thead th {\n",
       "        text-align: right;\n",
       "    }\n",
       "</style>\n",
       "<table border=\"1\" class=\"dataframe\">\n",
       "  <thead>\n",
       "    <tr style=\"text-align: right;\">\n",
       "      <th></th>\n",
       "      <th>demand</th>\n",
       "      <th>month_1</th>\n",
       "      <th>month_2</th>\n",
       "      <th>month_3</th>\n",
       "      <th>month_4</th>\n",
       "      <th>month_5</th>\n",
       "      <th>month_6</th>\n",
       "      <th>month_7</th>\n",
       "      <th>month_8</th>\n",
       "      <th>month_9</th>\n",
       "      <th>...</th>\n",
       "      <th>hr_15</th>\n",
       "      <th>hr_16</th>\n",
       "      <th>hr_17</th>\n",
       "      <th>hr_18</th>\n",
       "      <th>hr_19</th>\n",
       "      <th>hr_20</th>\n",
       "      <th>hr_21</th>\n",
       "      <th>hr_22</th>\n",
       "      <th>hr_23</th>\n",
       "      <th>temp</th>\n",
       "    </tr>\n",
       "    <tr>\n",
       "      <th>date_time</th>\n",
       "      <th></th>\n",
       "      <th></th>\n",
       "      <th></th>\n",
       "      <th></th>\n",
       "      <th></th>\n",
       "      <th></th>\n",
       "      <th></th>\n",
       "      <th></th>\n",
       "      <th></th>\n",
       "      <th></th>\n",
       "      <th></th>\n",
       "      <th></th>\n",
       "      <th></th>\n",
       "      <th></th>\n",
       "      <th></th>\n",
       "      <th></th>\n",
       "      <th></th>\n",
       "      <th></th>\n",
       "      <th></th>\n",
       "      <th></th>\n",
       "      <th></th>\n",
       "    </tr>\n",
       "  </thead>\n",
       "  <tbody>\n",
       "    <tr>\n",
       "      <th>2013-01-01 00:00:00</th>\n",
       "      <td>60178</td>\n",
       "      <td>True</td>\n",
       "      <td>False</td>\n",
       "      <td>False</td>\n",
       "      <td>False</td>\n",
       "      <td>False</td>\n",
       "      <td>False</td>\n",
       "      <td>False</td>\n",
       "      <td>False</td>\n",
       "      <td>False</td>\n",
       "      <td>...</td>\n",
       "      <td>False</td>\n",
       "      <td>False</td>\n",
       "      <td>False</td>\n",
       "      <td>False</td>\n",
       "      <td>False</td>\n",
       "      <td>False</td>\n",
       "      <td>False</td>\n",
       "      <td>False</td>\n",
       "      <td>False</td>\n",
       "      <td>1</td>\n",
       "    </tr>\n",
       "    <tr>\n",
       "      <th>2013-01-01 01:00:00</th>\n",
       "      <td>57862</td>\n",
       "      <td>True</td>\n",
       "      <td>False</td>\n",
       "      <td>False</td>\n",
       "      <td>False</td>\n",
       "      <td>False</td>\n",
       "      <td>False</td>\n",
       "      <td>False</td>\n",
       "      <td>False</td>\n",
       "      <td>False</td>\n",
       "      <td>...</td>\n",
       "      <td>False</td>\n",
       "      <td>False</td>\n",
       "      <td>False</td>\n",
       "      <td>False</td>\n",
       "      <td>False</td>\n",
       "      <td>False</td>\n",
       "      <td>False</td>\n",
       "      <td>False</td>\n",
       "      <td>False</td>\n",
       "      <td>1</td>\n",
       "    </tr>\n",
       "    <tr>\n",
       "      <th>2013-01-01 02:00:00</th>\n",
       "      <td>56165</td>\n",
       "      <td>True</td>\n",
       "      <td>False</td>\n",
       "      <td>False</td>\n",
       "      <td>False</td>\n",
       "      <td>False</td>\n",
       "      <td>False</td>\n",
       "      <td>False</td>\n",
       "      <td>False</td>\n",
       "      <td>False</td>\n",
       "      <td>...</td>\n",
       "      <td>False</td>\n",
       "      <td>False</td>\n",
       "      <td>False</td>\n",
       "      <td>False</td>\n",
       "      <td>False</td>\n",
       "      <td>False</td>\n",
       "      <td>False</td>\n",
       "      <td>False</td>\n",
       "      <td>False</td>\n",
       "      <td>1</td>\n",
       "    </tr>\n",
       "    <tr>\n",
       "      <th>2013-01-01 03:00:00</th>\n",
       "      <td>55135</td>\n",
       "      <td>True</td>\n",
       "      <td>False</td>\n",
       "      <td>False</td>\n",
       "      <td>False</td>\n",
       "      <td>False</td>\n",
       "      <td>False</td>\n",
       "      <td>False</td>\n",
       "      <td>False</td>\n",
       "      <td>False</td>\n",
       "      <td>...</td>\n",
       "      <td>False</td>\n",
       "      <td>False</td>\n",
       "      <td>False</td>\n",
       "      <td>False</td>\n",
       "      <td>False</td>\n",
       "      <td>False</td>\n",
       "      <td>False</td>\n",
       "      <td>False</td>\n",
       "      <td>False</td>\n",
       "      <td>1</td>\n",
       "    </tr>\n",
       "    <tr>\n",
       "      <th>2013-01-01 04:00:00</th>\n",
       "      <td>54450</td>\n",
       "      <td>True</td>\n",
       "      <td>False</td>\n",
       "      <td>False</td>\n",
       "      <td>False</td>\n",
       "      <td>False</td>\n",
       "      <td>False</td>\n",
       "      <td>False</td>\n",
       "      <td>False</td>\n",
       "      <td>False</td>\n",
       "      <td>...</td>\n",
       "      <td>False</td>\n",
       "      <td>False</td>\n",
       "      <td>False</td>\n",
       "      <td>False</td>\n",
       "      <td>False</td>\n",
       "      <td>False</td>\n",
       "      <td>False</td>\n",
       "      <td>False</td>\n",
       "      <td>False</td>\n",
       "      <td>1</td>\n",
       "    </tr>\n",
       "    <tr>\n",
       "      <th>...</th>\n",
       "      <td>...</td>\n",
       "      <td>...</td>\n",
       "      <td>...</td>\n",
       "      <td>...</td>\n",
       "      <td>...</td>\n",
       "      <td>...</td>\n",
       "      <td>...</td>\n",
       "      <td>...</td>\n",
       "      <td>...</td>\n",
       "      <td>...</td>\n",
       "      <td>...</td>\n",
       "      <td>...</td>\n",
       "      <td>...</td>\n",
       "      <td>...</td>\n",
       "      <td>...</td>\n",
       "      <td>...</td>\n",
       "      <td>...</td>\n",
       "      <td>...</td>\n",
       "      <td>...</td>\n",
       "      <td>...</td>\n",
       "      <td>...</td>\n",
       "    </tr>\n",
       "    <tr>\n",
       "      <th>2023-12-31 19:00:00</th>\n",
       "      <td>62902</td>\n",
       "      <td>False</td>\n",
       "      <td>False</td>\n",
       "      <td>False</td>\n",
       "      <td>False</td>\n",
       "      <td>False</td>\n",
       "      <td>False</td>\n",
       "      <td>False</td>\n",
       "      <td>False</td>\n",
       "      <td>False</td>\n",
       "      <td>...</td>\n",
       "      <td>False</td>\n",
       "      <td>False</td>\n",
       "      <td>False</td>\n",
       "      <td>False</td>\n",
       "      <td>True</td>\n",
       "      <td>False</td>\n",
       "      <td>False</td>\n",
       "      <td>False</td>\n",
       "      <td>False</td>\n",
       "      <td>1</td>\n",
       "    </tr>\n",
       "    <tr>\n",
       "      <th>2023-12-31 20:00:00</th>\n",
       "      <td>62061</td>\n",
       "      <td>False</td>\n",
       "      <td>False</td>\n",
       "      <td>False</td>\n",
       "      <td>False</td>\n",
       "      <td>False</td>\n",
       "      <td>False</td>\n",
       "      <td>False</td>\n",
       "      <td>False</td>\n",
       "      <td>False</td>\n",
       "      <td>...</td>\n",
       "      <td>False</td>\n",
       "      <td>False</td>\n",
       "      <td>False</td>\n",
       "      <td>False</td>\n",
       "      <td>False</td>\n",
       "      <td>True</td>\n",
       "      <td>False</td>\n",
       "      <td>False</td>\n",
       "      <td>False</td>\n",
       "      <td>1</td>\n",
       "    </tr>\n",
       "    <tr>\n",
       "      <th>2023-12-31 21:00:00</th>\n",
       "      <td>61403</td>\n",
       "      <td>False</td>\n",
       "      <td>False</td>\n",
       "      <td>False</td>\n",
       "      <td>False</td>\n",
       "      <td>False</td>\n",
       "      <td>False</td>\n",
       "      <td>False</td>\n",
       "      <td>False</td>\n",
       "      <td>False</td>\n",
       "      <td>...</td>\n",
       "      <td>False</td>\n",
       "      <td>False</td>\n",
       "      <td>False</td>\n",
       "      <td>False</td>\n",
       "      <td>False</td>\n",
       "      <td>False</td>\n",
       "      <td>True</td>\n",
       "      <td>False</td>\n",
       "      <td>False</td>\n",
       "      <td>1</td>\n",
       "    </tr>\n",
       "    <tr>\n",
       "      <th>2023-12-31 22:00:00</th>\n",
       "      <td>61891</td>\n",
       "      <td>False</td>\n",
       "      <td>False</td>\n",
       "      <td>False</td>\n",
       "      <td>False</td>\n",
       "      <td>False</td>\n",
       "      <td>False</td>\n",
       "      <td>False</td>\n",
       "      <td>False</td>\n",
       "      <td>False</td>\n",
       "      <td>...</td>\n",
       "      <td>False</td>\n",
       "      <td>False</td>\n",
       "      <td>False</td>\n",
       "      <td>False</td>\n",
       "      <td>False</td>\n",
       "      <td>False</td>\n",
       "      <td>False</td>\n",
       "      <td>True</td>\n",
       "      <td>False</td>\n",
       "      <td>1</td>\n",
       "    </tr>\n",
       "    <tr>\n",
       "      <th>2023-12-31 23:00:00</th>\n",
       "      <td>62125</td>\n",
       "      <td>False</td>\n",
       "      <td>False</td>\n",
       "      <td>False</td>\n",
       "      <td>False</td>\n",
       "      <td>False</td>\n",
       "      <td>False</td>\n",
       "      <td>False</td>\n",
       "      <td>False</td>\n",
       "      <td>False</td>\n",
       "      <td>...</td>\n",
       "      <td>False</td>\n",
       "      <td>False</td>\n",
       "      <td>False</td>\n",
       "      <td>False</td>\n",
       "      <td>False</td>\n",
       "      <td>False</td>\n",
       "      <td>False</td>\n",
       "      <td>False</td>\n",
       "      <td>True</td>\n",
       "      <td>1</td>\n",
       "    </tr>\n",
       "  </tbody>\n",
       "</table>\n",
       "<p>96408 rows × 45 columns</p>\n",
       "</div>"
      ],
      "text/plain": [
       "                     demand  month_1  month_2  month_3  month_4  month_5  \\\n",
       "date_time                                                                  \n",
       "2013-01-01 00:00:00   60178     True    False    False    False    False   \n",
       "2013-01-01 01:00:00   57862     True    False    False    False    False   \n",
       "2013-01-01 02:00:00   56165     True    False    False    False    False   \n",
       "2013-01-01 03:00:00   55135     True    False    False    False    False   \n",
       "2013-01-01 04:00:00   54450     True    False    False    False    False   \n",
       "...                     ...      ...      ...      ...      ...      ...   \n",
       "2023-12-31 19:00:00   62902    False    False    False    False    False   \n",
       "2023-12-31 20:00:00   62061    False    False    False    False    False   \n",
       "2023-12-31 21:00:00   61403    False    False    False    False    False   \n",
       "2023-12-31 22:00:00   61891    False    False    False    False    False   \n",
       "2023-12-31 23:00:00   62125    False    False    False    False    False   \n",
       "\n",
       "                     month_6  month_7  month_8  month_9  ...  hr_15  hr_16  \\\n",
       "date_time                                                ...                 \n",
       "2013-01-01 00:00:00    False    False    False    False  ...  False  False   \n",
       "2013-01-01 01:00:00    False    False    False    False  ...  False  False   \n",
       "2013-01-01 02:00:00    False    False    False    False  ...  False  False   \n",
       "2013-01-01 03:00:00    False    False    False    False  ...  False  False   \n",
       "2013-01-01 04:00:00    False    False    False    False  ...  False  False   \n",
       "...                      ...      ...      ...      ...  ...    ...    ...   \n",
       "2023-12-31 19:00:00    False    False    False    False  ...  False  False   \n",
       "2023-12-31 20:00:00    False    False    False    False  ...  False  False   \n",
       "2023-12-31 21:00:00    False    False    False    False  ...  False  False   \n",
       "2023-12-31 22:00:00    False    False    False    False  ...  False  False   \n",
       "2023-12-31 23:00:00    False    False    False    False  ...  False  False   \n",
       "\n",
       "                     hr_17  hr_18  hr_19  hr_20  hr_21  hr_22  hr_23  temp  \n",
       "date_time                                                                   \n",
       "2013-01-01 00:00:00  False  False  False  False  False  False  False     1  \n",
       "2013-01-01 01:00:00  False  False  False  False  False  False  False     1  \n",
       "2013-01-01 02:00:00  False  False  False  False  False  False  False     1  \n",
       "2013-01-01 03:00:00  False  False  False  False  False  False  False     1  \n",
       "2013-01-01 04:00:00  False  False  False  False  False  False  False     1  \n",
       "...                    ...    ...    ...    ...    ...    ...    ...   ...  \n",
       "2023-12-31 19:00:00  False  False   True  False  False  False  False     1  \n",
       "2023-12-31 20:00:00  False  False  False   True  False  False  False     1  \n",
       "2023-12-31 21:00:00  False  False  False  False   True  False  False     1  \n",
       "2023-12-31 22:00:00  False  False  False  False  False   True  False     1  \n",
       "2023-12-31 23:00:00  False  False  False  False  False  False   True     1  \n",
       "\n",
       "[96408 rows x 45 columns]"
      ]
     },
     "execution_count": 3,
     "metadata": {},
     "output_type": "execute_result"
    }
   ],
   "source": [
    "data_dir = '/Volumes/Data/Row_Data'\n",
    "file_name  = 'kpx_powerDemand_2013_2023_v3.csv'\n",
    "url = f'{data_dir}/{file_name}'\n",
    "df_data = pd.read_csv(url, parse_dates=['date_time'], index_col=\"date_time\")  \n",
    "df_data"
   ]
  },
  {
   "cell_type": "code",
   "execution_count": null,
   "id": "e968e3f8-da70-40f7-83e2-555dfa298bb4",
   "metadata": {},
   "outputs": [],
   "source": []
  },
  {
   "cell_type": "code",
   "execution_count": 4,
   "id": "26ae50fb-37bc-412f-8973-fac2b5bbcfe2",
   "metadata": {},
   "outputs": [
    {
     "data": {
      "text/html": [
       "<style>#sk-container-id-1 {\n",
       "  /* Definition of color scheme common for light and dark mode */\n",
       "  --sklearn-color-text: black;\n",
       "  --sklearn-color-line: gray;\n",
       "  /* Definition of color scheme for unfitted estimators */\n",
       "  --sklearn-color-unfitted-level-0: #fff5e6;\n",
       "  --sklearn-color-unfitted-level-1: #f6e4d2;\n",
       "  --sklearn-color-unfitted-level-2: #ffe0b3;\n",
       "  --sklearn-color-unfitted-level-3: chocolate;\n",
       "  /* Definition of color scheme for fitted estimators */\n",
       "  --sklearn-color-fitted-level-0: #f0f8ff;\n",
       "  --sklearn-color-fitted-level-1: #d4ebff;\n",
       "  --sklearn-color-fitted-level-2: #b3dbfd;\n",
       "  --sklearn-color-fitted-level-3: cornflowerblue;\n",
       "\n",
       "  /* Specific color for light theme */\n",
       "  --sklearn-color-text-on-default-background: var(--sg-text-color, var(--theme-code-foreground, var(--jp-content-font-color1, black)));\n",
       "  --sklearn-color-background: var(--sg-background-color, var(--theme-background, var(--jp-layout-color0, white)));\n",
       "  --sklearn-color-border-box: var(--sg-text-color, var(--theme-code-foreground, var(--jp-content-font-color1, black)));\n",
       "  --sklearn-color-icon: #696969;\n",
       "\n",
       "  @media (prefers-color-scheme: dark) {\n",
       "    /* Redefinition of color scheme for dark theme */\n",
       "    --sklearn-color-text-on-default-background: var(--sg-text-color, var(--theme-code-foreground, var(--jp-content-font-color1, white)));\n",
       "    --sklearn-color-background: var(--sg-background-color, var(--theme-background, var(--jp-layout-color0, #111)));\n",
       "    --sklearn-color-border-box: var(--sg-text-color, var(--theme-code-foreground, var(--jp-content-font-color1, white)));\n",
       "    --sklearn-color-icon: #878787;\n",
       "  }\n",
       "}\n",
       "\n",
       "#sk-container-id-1 {\n",
       "  color: var(--sklearn-color-text);\n",
       "}\n",
       "\n",
       "#sk-container-id-1 pre {\n",
       "  padding: 0;\n",
       "}\n",
       "\n",
       "#sk-container-id-1 input.sk-hidden--visually {\n",
       "  border: 0;\n",
       "  clip: rect(1px 1px 1px 1px);\n",
       "  clip: rect(1px, 1px, 1px, 1px);\n",
       "  height: 1px;\n",
       "  margin: -1px;\n",
       "  overflow: hidden;\n",
       "  padding: 0;\n",
       "  position: absolute;\n",
       "  width: 1px;\n",
       "}\n",
       "\n",
       "#sk-container-id-1 div.sk-dashed-wrapped {\n",
       "  border: 1px dashed var(--sklearn-color-line);\n",
       "  margin: 0 0.4em 0.5em 0.4em;\n",
       "  box-sizing: border-box;\n",
       "  padding-bottom: 0.4em;\n",
       "  background-color: var(--sklearn-color-background);\n",
       "}\n",
       "\n",
       "#sk-container-id-1 div.sk-container {\n",
       "  /* jupyter's `normalize.less` sets `[hidden] { display: none; }`\n",
       "     but bootstrap.min.css set `[hidden] { display: none !important; }`\n",
       "     so we also need the `!important` here to be able to override the\n",
       "     default hidden behavior on the sphinx rendered scikit-learn.org.\n",
       "     See: https://github.com/scikit-learn/scikit-learn/issues/21755 */\n",
       "  display: inline-block !important;\n",
       "  position: relative;\n",
       "}\n",
       "\n",
       "#sk-container-id-1 div.sk-text-repr-fallback {\n",
       "  display: none;\n",
       "}\n",
       "\n",
       "div.sk-parallel-item,\n",
       "div.sk-serial,\n",
       "div.sk-item {\n",
       "  /* draw centered vertical line to link estimators */\n",
       "  background-image: linear-gradient(var(--sklearn-color-text-on-default-background), var(--sklearn-color-text-on-default-background));\n",
       "  background-size: 2px 100%;\n",
       "  background-repeat: no-repeat;\n",
       "  background-position: center center;\n",
       "}\n",
       "\n",
       "/* Parallel-specific style estimator block */\n",
       "\n",
       "#sk-container-id-1 div.sk-parallel-item::after {\n",
       "  content: \"\";\n",
       "  width: 100%;\n",
       "  border-bottom: 2px solid var(--sklearn-color-text-on-default-background);\n",
       "  flex-grow: 1;\n",
       "}\n",
       "\n",
       "#sk-container-id-1 div.sk-parallel {\n",
       "  display: flex;\n",
       "  align-items: stretch;\n",
       "  justify-content: center;\n",
       "  background-color: var(--sklearn-color-background);\n",
       "  position: relative;\n",
       "}\n",
       "\n",
       "#sk-container-id-1 div.sk-parallel-item {\n",
       "  display: flex;\n",
       "  flex-direction: column;\n",
       "}\n",
       "\n",
       "#sk-container-id-1 div.sk-parallel-item:first-child::after {\n",
       "  align-self: flex-end;\n",
       "  width: 50%;\n",
       "}\n",
       "\n",
       "#sk-container-id-1 div.sk-parallel-item:last-child::after {\n",
       "  align-self: flex-start;\n",
       "  width: 50%;\n",
       "}\n",
       "\n",
       "#sk-container-id-1 div.sk-parallel-item:only-child::after {\n",
       "  width: 0;\n",
       "}\n",
       "\n",
       "/* Serial-specific style estimator block */\n",
       "\n",
       "#sk-container-id-1 div.sk-serial {\n",
       "  display: flex;\n",
       "  flex-direction: column;\n",
       "  align-items: center;\n",
       "  background-color: var(--sklearn-color-background);\n",
       "  padding-right: 1em;\n",
       "  padding-left: 1em;\n",
       "}\n",
       "\n",
       "\n",
       "/* Toggleable style: style used for estimator/Pipeline/ColumnTransformer box that is\n",
       "clickable and can be expanded/collapsed.\n",
       "- Pipeline and ColumnTransformer use this feature and define the default style\n",
       "- Estimators will overwrite some part of the style using the `sk-estimator` class\n",
       "*/\n",
       "\n",
       "/* Pipeline and ColumnTransformer style (default) */\n",
       "\n",
       "#sk-container-id-1 div.sk-toggleable {\n",
       "  /* Default theme specific background. It is overwritten whether we have a\n",
       "  specific estimator or a Pipeline/ColumnTransformer */\n",
       "  background-color: var(--sklearn-color-background);\n",
       "}\n",
       "\n",
       "/* Toggleable label */\n",
       "#sk-container-id-1 label.sk-toggleable__label {\n",
       "  cursor: pointer;\n",
       "  display: block;\n",
       "  width: 100%;\n",
       "  margin-bottom: 0;\n",
       "  padding: 0.5em;\n",
       "  box-sizing: border-box;\n",
       "  text-align: center;\n",
       "}\n",
       "\n",
       "#sk-container-id-1 label.sk-toggleable__label-arrow:before {\n",
       "  /* Arrow on the left of the label */\n",
       "  content: \"▸\";\n",
       "  float: left;\n",
       "  margin-right: 0.25em;\n",
       "  color: var(--sklearn-color-icon);\n",
       "}\n",
       "\n",
       "#sk-container-id-1 label.sk-toggleable__label-arrow:hover:before {\n",
       "  color: var(--sklearn-color-text);\n",
       "}\n",
       "\n",
       "/* Toggleable content - dropdown */\n",
       "\n",
       "#sk-container-id-1 div.sk-toggleable__content {\n",
       "  max-height: 0;\n",
       "  max-width: 0;\n",
       "  overflow: hidden;\n",
       "  text-align: left;\n",
       "  /* unfitted */\n",
       "  background-color: var(--sklearn-color-unfitted-level-0);\n",
       "}\n",
       "\n",
       "#sk-container-id-1 div.sk-toggleable__content.fitted {\n",
       "  /* fitted */\n",
       "  background-color: var(--sklearn-color-fitted-level-0);\n",
       "}\n",
       "\n",
       "#sk-container-id-1 div.sk-toggleable__content pre {\n",
       "  margin: 0.2em;\n",
       "  border-radius: 0.25em;\n",
       "  color: var(--sklearn-color-text);\n",
       "  /* unfitted */\n",
       "  background-color: var(--sklearn-color-unfitted-level-0);\n",
       "}\n",
       "\n",
       "#sk-container-id-1 div.sk-toggleable__content.fitted pre {\n",
       "  /* unfitted */\n",
       "  background-color: var(--sklearn-color-fitted-level-0);\n",
       "}\n",
       "\n",
       "#sk-container-id-1 input.sk-toggleable__control:checked~div.sk-toggleable__content {\n",
       "  /* Expand drop-down */\n",
       "  max-height: 200px;\n",
       "  max-width: 100%;\n",
       "  overflow: auto;\n",
       "}\n",
       "\n",
       "#sk-container-id-1 input.sk-toggleable__control:checked~label.sk-toggleable__label-arrow:before {\n",
       "  content: \"▾\";\n",
       "}\n",
       "\n",
       "/* Pipeline/ColumnTransformer-specific style */\n",
       "\n",
       "#sk-container-id-1 div.sk-label input.sk-toggleable__control:checked~label.sk-toggleable__label {\n",
       "  color: var(--sklearn-color-text);\n",
       "  background-color: var(--sklearn-color-unfitted-level-2);\n",
       "}\n",
       "\n",
       "#sk-container-id-1 div.sk-label.fitted input.sk-toggleable__control:checked~label.sk-toggleable__label {\n",
       "  background-color: var(--sklearn-color-fitted-level-2);\n",
       "}\n",
       "\n",
       "/* Estimator-specific style */\n",
       "\n",
       "/* Colorize estimator box */\n",
       "#sk-container-id-1 div.sk-estimator input.sk-toggleable__control:checked~label.sk-toggleable__label {\n",
       "  /* unfitted */\n",
       "  background-color: var(--sklearn-color-unfitted-level-2);\n",
       "}\n",
       "\n",
       "#sk-container-id-1 div.sk-estimator.fitted input.sk-toggleable__control:checked~label.sk-toggleable__label {\n",
       "  /* fitted */\n",
       "  background-color: var(--sklearn-color-fitted-level-2);\n",
       "}\n",
       "\n",
       "#sk-container-id-1 div.sk-label label.sk-toggleable__label,\n",
       "#sk-container-id-1 div.sk-label label {\n",
       "  /* The background is the default theme color */\n",
       "  color: var(--sklearn-color-text-on-default-background);\n",
       "}\n",
       "\n",
       "/* On hover, darken the color of the background */\n",
       "#sk-container-id-1 div.sk-label:hover label.sk-toggleable__label {\n",
       "  color: var(--sklearn-color-text);\n",
       "  background-color: var(--sklearn-color-unfitted-level-2);\n",
       "}\n",
       "\n",
       "/* Label box, darken color on hover, fitted */\n",
       "#sk-container-id-1 div.sk-label.fitted:hover label.sk-toggleable__label.fitted {\n",
       "  color: var(--sklearn-color-text);\n",
       "  background-color: var(--sklearn-color-fitted-level-2);\n",
       "}\n",
       "\n",
       "/* Estimator label */\n",
       "\n",
       "#sk-container-id-1 div.sk-label label {\n",
       "  font-family: monospace;\n",
       "  font-weight: bold;\n",
       "  display: inline-block;\n",
       "  line-height: 1.2em;\n",
       "}\n",
       "\n",
       "#sk-container-id-1 div.sk-label-container {\n",
       "  text-align: center;\n",
       "}\n",
       "\n",
       "/* Estimator-specific */\n",
       "#sk-container-id-1 div.sk-estimator {\n",
       "  font-family: monospace;\n",
       "  border: 1px dotted var(--sklearn-color-border-box);\n",
       "  border-radius: 0.25em;\n",
       "  box-sizing: border-box;\n",
       "  margin-bottom: 0.5em;\n",
       "  /* unfitted */\n",
       "  background-color: var(--sklearn-color-unfitted-level-0);\n",
       "}\n",
       "\n",
       "#sk-container-id-1 div.sk-estimator.fitted {\n",
       "  /* fitted */\n",
       "  background-color: var(--sklearn-color-fitted-level-0);\n",
       "}\n",
       "\n",
       "/* on hover */\n",
       "#sk-container-id-1 div.sk-estimator:hover {\n",
       "  /* unfitted */\n",
       "  background-color: var(--sklearn-color-unfitted-level-2);\n",
       "}\n",
       "\n",
       "#sk-container-id-1 div.sk-estimator.fitted:hover {\n",
       "  /* fitted */\n",
       "  background-color: var(--sklearn-color-fitted-level-2);\n",
       "}\n",
       "\n",
       "/* Specification for estimator info (e.g. \"i\" and \"?\") */\n",
       "\n",
       "/* Common style for \"i\" and \"?\" */\n",
       "\n",
       ".sk-estimator-doc-link,\n",
       "a:link.sk-estimator-doc-link,\n",
       "a:visited.sk-estimator-doc-link {\n",
       "  float: right;\n",
       "  font-size: smaller;\n",
       "  line-height: 1em;\n",
       "  font-family: monospace;\n",
       "  background-color: var(--sklearn-color-background);\n",
       "  border-radius: 1em;\n",
       "  height: 1em;\n",
       "  width: 1em;\n",
       "  text-decoration: none !important;\n",
       "  margin-left: 1ex;\n",
       "  /* unfitted */\n",
       "  border: var(--sklearn-color-unfitted-level-1) 1pt solid;\n",
       "  color: var(--sklearn-color-unfitted-level-1);\n",
       "}\n",
       "\n",
       ".sk-estimator-doc-link.fitted,\n",
       "a:link.sk-estimator-doc-link.fitted,\n",
       "a:visited.sk-estimator-doc-link.fitted {\n",
       "  /* fitted */\n",
       "  border: var(--sklearn-color-fitted-level-1) 1pt solid;\n",
       "  color: var(--sklearn-color-fitted-level-1);\n",
       "}\n",
       "\n",
       "/* On hover */\n",
       "div.sk-estimator:hover .sk-estimator-doc-link:hover,\n",
       ".sk-estimator-doc-link:hover,\n",
       "div.sk-label-container:hover .sk-estimator-doc-link:hover,\n",
       ".sk-estimator-doc-link:hover {\n",
       "  /* unfitted */\n",
       "  background-color: var(--sklearn-color-unfitted-level-3);\n",
       "  color: var(--sklearn-color-background);\n",
       "  text-decoration: none;\n",
       "}\n",
       "\n",
       "div.sk-estimator.fitted:hover .sk-estimator-doc-link.fitted:hover,\n",
       ".sk-estimator-doc-link.fitted:hover,\n",
       "div.sk-label-container:hover .sk-estimator-doc-link.fitted:hover,\n",
       ".sk-estimator-doc-link.fitted:hover {\n",
       "  /* fitted */\n",
       "  background-color: var(--sklearn-color-fitted-level-3);\n",
       "  color: var(--sklearn-color-background);\n",
       "  text-decoration: none;\n",
       "}\n",
       "\n",
       "/* Span, style for the box shown on hovering the info icon */\n",
       ".sk-estimator-doc-link span {\n",
       "  display: none;\n",
       "  z-index: 9999;\n",
       "  position: relative;\n",
       "  font-weight: normal;\n",
       "  right: .2ex;\n",
       "  padding: .5ex;\n",
       "  margin: .5ex;\n",
       "  width: min-content;\n",
       "  min-width: 20ex;\n",
       "  max-width: 50ex;\n",
       "  color: var(--sklearn-color-text);\n",
       "  box-shadow: 2pt 2pt 4pt #999;\n",
       "  /* unfitted */\n",
       "  background: var(--sklearn-color-unfitted-level-0);\n",
       "  border: .5pt solid var(--sklearn-color-unfitted-level-3);\n",
       "}\n",
       "\n",
       ".sk-estimator-doc-link.fitted span {\n",
       "  /* fitted */\n",
       "  background: var(--sklearn-color-fitted-level-0);\n",
       "  border: var(--sklearn-color-fitted-level-3);\n",
       "}\n",
       "\n",
       ".sk-estimator-doc-link:hover span {\n",
       "  display: block;\n",
       "}\n",
       "\n",
       "/* \"?\"-specific style due to the `<a>` HTML tag */\n",
       "\n",
       "#sk-container-id-1 a.estimator_doc_link {\n",
       "  float: right;\n",
       "  font-size: 1rem;\n",
       "  line-height: 1em;\n",
       "  font-family: monospace;\n",
       "  background-color: var(--sklearn-color-background);\n",
       "  border-radius: 1rem;\n",
       "  height: 1rem;\n",
       "  width: 1rem;\n",
       "  text-decoration: none;\n",
       "  /* unfitted */\n",
       "  color: var(--sklearn-color-unfitted-level-1);\n",
       "  border: var(--sklearn-color-unfitted-level-1) 1pt solid;\n",
       "}\n",
       "\n",
       "#sk-container-id-1 a.estimator_doc_link.fitted {\n",
       "  /* fitted */\n",
       "  border: var(--sklearn-color-fitted-level-1) 1pt solid;\n",
       "  color: var(--sklearn-color-fitted-level-1);\n",
       "}\n",
       "\n",
       "/* On hover */\n",
       "#sk-container-id-1 a.estimator_doc_link:hover {\n",
       "  /* unfitted */\n",
       "  background-color: var(--sklearn-color-unfitted-level-3);\n",
       "  color: var(--sklearn-color-background);\n",
       "  text-decoration: none;\n",
       "}\n",
       "\n",
       "#sk-container-id-1 a.estimator_doc_link.fitted:hover {\n",
       "  /* fitted */\n",
       "  background-color: var(--sklearn-color-fitted-level-3);\n",
       "}\n",
       "</style><div id=\"sk-container-id-1\" class=\"sk-top-container\"><div class=\"sk-text-repr-fallback\"><pre>MinMaxScaler()</pre><b>In a Jupyter environment, please rerun this cell to show the HTML representation or trust the notebook. <br />On GitHub, the HTML representation is unable to render, please try loading this page with nbviewer.org.</b></div><div class=\"sk-container\" hidden><div class=\"sk-item\"><div class=\"sk-estimator fitted sk-toggleable\"><input class=\"sk-toggleable__control sk-hidden--visually\" id=\"sk-estimator-id-1\" type=\"checkbox\" checked><label for=\"sk-estimator-id-1\" class=\"sk-toggleable__label fitted sk-toggleable__label-arrow fitted\">&nbsp;&nbsp;MinMaxScaler<a class=\"sk-estimator-doc-link fitted\" rel=\"noreferrer\" target=\"_blank\" href=\"https://scikit-learn.org/1.5/modules/generated/sklearn.preprocessing.MinMaxScaler.html\">?<span>Documentation for MinMaxScaler</span></a><span class=\"sk-estimator-doc-link fitted\">i<span>Fitted</span></span></label><div class=\"sk-toggleable__content fitted\"><pre>MinMaxScaler()</pre></div> </div></div></div></div>"
      ],
      "text/plain": [
       "MinMaxScaler()"
      ]
     },
     "execution_count": 4,
     "metadata": {},
     "output_type": "execute_result"
    }
   ],
   "source": [
    "scaler = MinMaxScaler()\n",
    "scaler.fit( df_data[['demand']] )"
   ]
  },
  {
   "cell_type": "code",
   "execution_count": 5,
   "id": "920113df-0cbe-4f46-88a1-3688d206ae23",
   "metadata": {},
   "outputs": [],
   "source": [
    "#(24 Hour * 30 Day)\n",
    "window_size = 720"
   ]
  },
  {
   "cell_type": "code",
   "execution_count": 6,
   "id": "9fdae003-7b9f-458a-8aac-f79a2dcc1b98",
   "metadata": {},
   "outputs": [],
   "source": [
    "class PowerDemandVolumeDataset(Dataset):\n",
    "    \n",
    "    def __init__(self, df_data, data_type , transformer, window_size=window_size):\n",
    "\n",
    "        self.type = data_type\n",
    "        self.transformer = transformer\n",
    "        # window_size= 720 #(24 Hour  * 30Day)\n",
    "        self.window_size = window_size\n",
    "        self.df_data = df_data\n",
    "\n",
    "        self.data = self.getData()\n",
    "        \n",
    "        features = self.data\n",
    "        target = self.data.demand\n",
    "        \n",
    "        self.x, self.y = [], []\n",
    "\n",
    "\n",
    "        # 각 시간간격별 예측시  1시간뒤: x = 0 , 2시간뒤: x = 1, 3시간뒤: x = 2 ...\n",
    "        #\n",
    "        # for i in range(len(features) - self.window_size - X):\n",
    "        #     v = features.iloc[ i: (i + window_size) ].values\n",
    "        #     self.x.append(v)\n",
    "        #     self.y.append( target.iloc[ i + window_size + x] )\n",
    "\n",
    "        \n",
    "        for i in range(len(features) - self.window_size ):\n",
    "            v = features.iloc[ i: (i + window_size) ].values\n",
    "            self.x.append(v)\n",
    "            self.y.append( features.iloc[ i + window_size ]['demand'] )\n",
    "            #self.y.append( target[ i + window_size ] )\n",
    "\n",
    "\n",
    "        # Many to Many output_size = 6\n",
    "       # for i in range(len(features) - self.window_size - 6 + 1):\n",
    "       #     self.x.append( features.iloc[ i: (i + window_size) ].values )\n",
    "       #     a = target[  i + window_size :  i + window_size + 6].values.reshape(-1, 1)\n",
    "       #     self.y.append( a)\n",
    "    \n",
    "\n",
    "    def getData(self):\n",
    "\n",
    "        if self.type == 'train':\n",
    "            df_data = self.df_data.loc['2013-01-01':'2020-12-31']\n",
    "            df_data.demand =  self.transformer.transform(df_data[['demand']])\n",
    "            return df_data\n",
    "        elif self.type == 'valid':\n",
    "            df_data = self.df_data.loc['2020-01-01':'2022-12-31']\n",
    "            df_data.demand =  self.transformer.transform(df_data[['demand']])\n",
    "            return df_data\n",
    "        elif self.type == 'test': \n",
    "            df_data = self.df_data.loc['2023-01-01':'2023-12-31']\n",
    "            df_data.demand =  self.transformer.transform(df_data[['demand']])\n",
    "            return df_data\n",
    "        else:\n",
    "            df_data = self.df_data\n",
    "            df_data.demand =  self.transformer.transform(df_data[['demand']])\n",
    "            return df_data\n",
    "    \n",
    "    \n",
    "    def __getitem__(self, index):\n",
    "        \n",
    "        x = self.x[index].astype(np.float32)\n",
    "        y = self.y[index].astype(np.float32)\n",
    "        return x, y\n",
    "    \n",
    "        \n",
    "        \n",
    "    \n",
    "    def __len__(self):\n",
    "        \n",
    "        return len(self.x)"
   ]
  },
  {
   "cell_type": "code",
   "execution_count": 7,
   "id": "49eea82b-e670-43fa-95be-7a8b8b4e90a9",
   "metadata": {},
   "outputs": [
    {
     "name": "stdout",
     "output_type": "stream",
     "text": [
      "Device:mps, Number of workers:8\n",
      "Current Dir:/Volumes/WorkSpace/PythonProjects/timeSerise\n"
     ]
    }
   ],
   "source": [
    "input_size =45\n",
    "batch_size=100\n",
    "learning_rate=0.0001\n",
    "log_path = os.getcwd()\n",
    "device = torch.device(\"mps\") if torch.backends.mps.is_available() else  torch.device(\"cpu\")\n",
    "NUM_WORKERS = os.cpu_count()\n",
    "print(f'Device:{device}, Number of workers:{NUM_WORKERS}\\nCurrent Dir:{log_path}')"
   ]
  },
  {
   "cell_type": "code",
   "execution_count": 8,
   "id": "6c89aed3-8026-4917-a90f-d84399245967",
   "metadata": {},
   "outputs": [
    {
     "name": "stderr",
     "output_type": "stream",
     "text": [
      "/var/folders/r5/124yntwj1n7_xfgvd8f6pzv40000gn/T/ipykernel_10518/4046016201.py:53: SettingWithCopyWarning: \n",
      "A value is trying to be set on a copy of a slice from a DataFrame.\n",
      "Try using .loc[row_indexer,col_indexer] = value instead\n",
      "\n",
      "See the caveats in the documentation: https://pandas.pydata.org/pandas-docs/stable/user_guide/indexing.html#returning-a-view-versus-a-copy\n",
      "  df_data.demand =  self.transformer.transform(df_data[['demand']])\n"
     ]
    },
    {
     "name": "stdout",
     "output_type": "stream",
     "text": [
      "Size of the features (720, 45)\n",
      "Printing features:\n",
      " [[0.48199946 1.         0.         ... 0.         0.         1.        ]\n",
      " [0.44007826 1.         0.         ... 0.         0.         1.        ]\n",
      " [0.41011736 1.         0.         ... 0.         0.         1.        ]\n",
      " ...\n",
      " [0.67333037 1.         0.         ... 0.         0.         1.        ]\n",
      " [0.6700014  1.         0.         ... 1.         0.         1.        ]\n",
      " [0.66288006 1.         0.         ... 0.         1.         1.        ]]\n",
      "Size of the targets ()\n",
      "Printing targets:\n",
      " 0.5984796\n"
     ]
    }
   ],
   "source": [
    "test_data = PowerDemandVolumeDataset(df_data=df_data, data_type='test', transformer=scaler,  window_size=window_size)\n",
    "#let's loop it over single iteration and print the shape and also data\n",
    "for i, (features,targets) in enumerate(test_data):\n",
    "    print(\"Size of the features\",features.shape)\n",
    "    print(\"Printing features:\\n\", features)\n",
    "    print(\"Size of the targets\",targets.shape)\n",
    "    print(\"Printing targets:\\n\", targets)\n",
    "    break"
   ]
  },
  {
   "cell_type": "code",
   "execution_count": 9,
   "id": "3c5fdebe-2879-430d-bded-314d6949f05a",
   "metadata": {},
   "outputs": [
    {
     "name": "stderr",
     "output_type": "stream",
     "text": [
      "/var/folders/r5/124yntwj1n7_xfgvd8f6pzv40000gn/T/ipykernel_10518/4046016201.py:45: SettingWithCopyWarning: \n",
      "A value is trying to be set on a copy of a slice from a DataFrame.\n",
      "Try using .loc[row_indexer,col_indexer] = value instead\n",
      "\n",
      "See the caveats in the documentation: https://pandas.pydata.org/pandas-docs/stable/user_guide/indexing.html#returning-a-view-versus-a-copy\n",
      "  df_data.demand =  self.transformer.transform(df_data[['demand']])\n",
      "/var/folders/r5/124yntwj1n7_xfgvd8f6pzv40000gn/T/ipykernel_10518/4046016201.py:49: SettingWithCopyWarning: \n",
      "A value is trying to be set on a copy of a slice from a DataFrame.\n",
      "Try using .loc[row_indexer,col_indexer] = value instead\n",
      "\n",
      "See the caveats in the documentation: https://pandas.pydata.org/pandas-docs/stable/user_guide/indexing.html#returning-a-view-versus-a-copy\n",
      "  df_data.demand =  self.transformer.transform(df_data[['demand']])\n",
      "/var/folders/r5/124yntwj1n7_xfgvd8f6pzv40000gn/T/ipykernel_10518/4046016201.py:53: SettingWithCopyWarning: \n",
      "A value is trying to be set on a copy of a slice from a DataFrame.\n",
      "Try using .loc[row_indexer,col_indexer] = value instead\n",
      "\n",
      "See the caveats in the documentation: https://pandas.pydata.org/pandas-docs/stable/user_guide/indexing.html#returning-a-view-versus-a-copy\n",
      "  df_data.demand =  self.transformer.transform(df_data[['demand']])\n"
     ]
    }
   ],
   "source": [
    "#num_worker = 1\n",
    "train_loader = DataLoader( PowerDemandVolumeDataset(df_data=df_data, data_type='train', transformer=scaler), batch_size=batch_size)\n",
    "valid_loader = DataLoader( PowerDemandVolumeDataset(df_data=df_data, data_type='valid', transformer=scaler), batch_size=batch_size)\n",
    "test_loader = DataLoader( PowerDemandVolumeDataset(df_data=df_data, data_type='test', transformer=scaler), batch_size=batch_size)\n"
   ]
  },
  {
   "cell_type": "code",
   "execution_count": 48,
   "id": "e7fc44eb-8363-4185-85fd-25ca318a6ed8",
   "metadata": {},
   "outputs": [],
   "source": [
    "class PowerDemandPrediction(L.LightningModule):\n",
    "    def __init__(self, input_size=input_size, output_size=1, hidden_dim=10, n_layers=2, lr=learning_rate, window_size=window_size):\n",
    " \n",
    "        super(PowerDemandPrediction, self).__init__()\n",
    "\n",
    "\n",
    "        self.hidden_dim = hidden_dim\n",
    "        self.n_layers = n_layers\n",
    "        self.lstm = nn.LSTM(input_size, hidden_dim, n_layers, bidirectional=False, batch_first=True)\n",
    "        self.fc = nn.Linear(hidden_dim * window_size, output_size)\n",
    "        self.loss = nn.MSELoss()\n",
    "        self.flatten = nn.Flatten()\n",
    "        self.learning_rate = lr\n",
    "\n",
    "    \n",
    "\n",
    "    def forward(self, x):\n",
    "        \n",
    "        batch_size = x.size(0)\n",
    "        hidden = self.init_hidden(batch_size)    \n",
    "        lstm_out, (hidden, cell) = self.lstm(x, hidden)\n",
    "        out = self.flatten(lstm_out)\n",
    "        out = self.fc(out)\n",
    "\n",
    "        return out\n",
    "\n",
    "    \n",
    "    \n",
    "    def init_hidden(self, batch_size):   \n",
    "        hidden_state = torch.zeros(self.n_layers, batch_size, self.hidden_dim).to(device)\n",
    "        cell_state = torch.zeros(self.n_layers, batch_size, self.hidden_dim).to(device)\n",
    "        hidden = (hidden_state, cell_state)\n",
    "        return hidden\n",
    "\n",
    "    \n",
    "    \n",
    "    def configure_optimizers(self):\n",
    "        return {'optimizer': torch.optim.Adam(params=self.parameters(), lr = self.learning_rate) }\n",
    "\n",
    "    def training_step(self, train_batch, batch_idx):\n",
    "        features, targets = train_batch\n",
    "        output = self(features) \n",
    "        output = output.view(-1)\n",
    "        loss = self.loss(output, targets)\n",
    "        self.log('train_loss', loss, prog_bar=True)\n",
    "        return {\"loss\": loss}\n",
    "        \n",
    "    \n",
    "    def validation_step(self, val_batch, batch_idx):\n",
    "        features, targets = val_batch\n",
    "        output = self(features) \n",
    "        output = output.view(-1)\n",
    "        loss = self.loss(output, targets)\n",
    "        self.log('val_loss', loss, prog_bar=True)\n",
    "\n"
   ]
  },
  {
   "cell_type": "code",
   "execution_count": 49,
   "id": "2658d5fe-89f5-4b9f-a1ad-9b6bcfc9aaf0",
   "metadata": {},
   "outputs": [
    {
     "data": {
      "text/plain": [
       "PowerDemandPrediction(\n",
       "  (lstm): LSTM(45, 10, num_layers=2, batch_first=True)\n",
       "  (fc): Linear(in_features=7200, out_features=1, bias=True)\n",
       "  (loss): MSELoss()\n",
       "  (flatten): Flatten(start_dim=1, end_dim=-1)\n",
       ")"
      ]
     },
     "execution_count": 49,
     "metadata": {},
     "output_type": "execute_result"
    }
   ],
   "source": [
    "model = PowerDemandPrediction().to(device)\n",
    "model"
   ]
  },
  {
   "cell_type": "code",
   "execution_count": 50,
   "id": "ebd21c8e-3646-401e-95e6-44f99cddcc03",
   "metadata": {},
   "outputs": [
    {
     "name": "stderr",
     "output_type": "stream",
     "text": [
      "GPU available: True (mps), used: True\n",
      "TPU available: False, using: 0 TPU cores\n",
      "HPU available: False, using: 0 HPUs\n",
      "Running in `fast_dev_run` mode: will run the requested loop using 1 batch(es). Logging and checkpointing is suppressed.\n"
     ]
    }
   ],
   "source": [
    "trainer = L.Trainer( fast_dev_run=True, accelerator='mps', devices=1)"
   ]
  },
  {
   "cell_type": "code",
   "execution_count": 51,
   "id": "c80317e9-7213-43e3-9222-7b600792a49c",
   "metadata": {},
   "outputs": [
    {
     "name": "stderr",
     "output_type": "stream",
     "text": [
      "/Library/Frameworks/Python.framework/Versions/3.12/lib/python3.12/site-packages/lightning_fabric/connector.py:571: UserWarning:\n",
      "\n",
      "`precision=16` is supported for historical reasons but its usage is discouraged. Please set your precision to 16-mixed instead!\n",
      "\n",
      "Using 16bit Automatic Mixed Precision (AMP)\n",
      "/Library/Frameworks/Python.framework/Versions/3.12/lib/python3.12/site-packages/torch/amp/grad_scaler.py:132: UserWarning:\n",
      "\n",
      "torch.cuda.amp.GradScaler is enabled, but CUDA is not available.  Disabling.\n",
      "\n",
      "GPU available: True (mps), used: True\n",
      "TPU available: False, using: 0 TPU cores\n",
      "HPU available: False, using: 0 HPUs\n"
     ]
    }
   ],
   "source": [
    "trainer = L.Trainer( default_root_dir=log_path, precision=\"16\", max_epochs=20, accelerator='mps', devices=1)"
   ]
  },
  {
   "cell_type": "code",
   "execution_count": 52,
   "id": "2ca4bc21-9182-49df-a4e2-8308b60c9f9b",
   "metadata": {},
   "outputs": [
    {
     "name": "stderr",
     "output_type": "stream",
     "text": [
      "\n",
      "  | Name    | Type    | Params | Mode \n",
      "--------------------------------------------\n",
      "0 | lstm    | LSTM    | 3.2 K  | train\n",
      "1 | fc      | Linear  | 7.2 K  | train\n",
      "2 | loss    | MSELoss | 0      | train\n",
      "3 | flatten | Flatten | 0      | train\n",
      "--------------------------------------------\n",
      "10.4 K    Trainable params\n",
      "0         Non-trainable params\n",
      "10.4 K    Total params\n",
      "0.041     Total estimated model params size (MB)\n",
      "4         Modules in train mode\n",
      "0         Modules in eval mode\n"
     ]
    },
    {
     "data": {
      "application/vnd.jupyter.widget-view+json": {
       "model_id": "",
       "version_major": 2,
       "version_minor": 0
      },
      "text/plain": [
       "Sanity Checking: |                                                            | 0/? [00:00<?, ?it/s]"
      ]
     },
     "metadata": {},
     "output_type": "display_data"
    },
    {
     "name": "stderr",
     "output_type": "stream",
     "text": [
      "/Library/Frameworks/Python.framework/Versions/3.12/lib/python3.12/site-packages/pytorch_lightning/trainer/connectors/data_connector.py:424: PossibleUserWarning:\n",
      "\n",
      "The 'val_dataloader' does not have many workers which may be a bottleneck. Consider increasing the value of the `num_workers` argument` to `num_workers=7` in the `DataLoader` to improve performance.\n",
      "\n",
      "/Library/Frameworks/Python.framework/Versions/3.12/lib/python3.12/site-packages/torch/amp/autocast_mode.py:266: UserWarning:\n",
      "\n",
      "User provided device_type of 'cuda', but CUDA is not available. Disabling\n",
      "\n",
      "/Library/Frameworks/Python.framework/Versions/3.12/lib/python3.12/site-packages/pytorch_lightning/trainer/connectors/data_connector.py:424: PossibleUserWarning:\n",
      "\n",
      "The 'train_dataloader' does not have many workers which may be a bottleneck. Consider increasing the value of the `num_workers` argument` to `num_workers=7` in the `DataLoader` to improve performance.\n",
      "\n"
     ]
    },
    {
     "data": {
      "application/vnd.jupyter.widget-view+json": {
       "model_id": "842925608c77478fa6f1d198ee77e2d4",
       "version_major": 2,
       "version_minor": 0
      },
      "text/plain": [
       "Training: |                                                                   | 0/? [00:00<?, ?it/s]"
      ]
     },
     "metadata": {},
     "output_type": "display_data"
    },
    {
     "data": {
      "application/vnd.jupyter.widget-view+json": {
       "model_id": "",
       "version_major": 2,
       "version_minor": 0
      },
      "text/plain": [
       "Validation: |                                                                 | 0/? [00:00<?, ?it/s]"
      ]
     },
     "metadata": {},
     "output_type": "display_data"
    },
    {
     "data": {
      "application/vnd.jupyter.widget-view+json": {
       "model_id": "",
       "version_major": 2,
       "version_minor": 0
      },
      "text/plain": [
       "Validation: |                                                                 | 0/? [00:00<?, ?it/s]"
      ]
     },
     "metadata": {},
     "output_type": "display_data"
    },
    {
     "data": {
      "application/vnd.jupyter.widget-view+json": {
       "model_id": "",
       "version_major": 2,
       "version_minor": 0
      },
      "text/plain": [
       "Validation: |                                                                 | 0/? [00:00<?, ?it/s]"
      ]
     },
     "metadata": {},
     "output_type": "display_data"
    },
    {
     "data": {
      "application/vnd.jupyter.widget-view+json": {
       "model_id": "",
       "version_major": 2,
       "version_minor": 0
      },
      "text/plain": [
       "Validation: |                                                                 | 0/? [00:00<?, ?it/s]"
      ]
     },
     "metadata": {},
     "output_type": "display_data"
    },
    {
     "data": {
      "application/vnd.jupyter.widget-view+json": {
       "model_id": "",
       "version_major": 2,
       "version_minor": 0
      },
      "text/plain": [
       "Validation: |                                                                 | 0/? [00:00<?, ?it/s]"
      ]
     },
     "metadata": {},
     "output_type": "display_data"
    },
    {
     "data": {
      "application/vnd.jupyter.widget-view+json": {
       "model_id": "",
       "version_major": 2,
       "version_minor": 0
      },
      "text/plain": [
       "Validation: |                                                                 | 0/? [00:00<?, ?it/s]"
      ]
     },
     "metadata": {},
     "output_type": "display_data"
    },
    {
     "data": {
      "application/vnd.jupyter.widget-view+json": {
       "model_id": "",
       "version_major": 2,
       "version_minor": 0
      },
      "text/plain": [
       "Validation: |                                                                 | 0/? [00:00<?, ?it/s]"
      ]
     },
     "metadata": {},
     "output_type": "display_data"
    },
    {
     "data": {
      "application/vnd.jupyter.widget-view+json": {
       "model_id": "",
       "version_major": 2,
       "version_minor": 0
      },
      "text/plain": [
       "Validation: |                                                                 | 0/? [00:00<?, ?it/s]"
      ]
     },
     "metadata": {},
     "output_type": "display_data"
    },
    {
     "data": {
      "application/vnd.jupyter.widget-view+json": {
       "model_id": "",
       "version_major": 2,
       "version_minor": 0
      },
      "text/plain": [
       "Validation: |                                                                 | 0/? [00:00<?, ?it/s]"
      ]
     },
     "metadata": {},
     "output_type": "display_data"
    },
    {
     "data": {
      "application/vnd.jupyter.widget-view+json": {
       "model_id": "",
       "version_major": 2,
       "version_minor": 0
      },
      "text/plain": [
       "Validation: |                                                                 | 0/? [00:00<?, ?it/s]"
      ]
     },
     "metadata": {},
     "output_type": "display_data"
    },
    {
     "data": {
      "application/vnd.jupyter.widget-view+json": {
       "model_id": "",
       "version_major": 2,
       "version_minor": 0
      },
      "text/plain": [
       "Validation: |                                                                 | 0/? [00:00<?, ?it/s]"
      ]
     },
     "metadata": {},
     "output_type": "display_data"
    },
    {
     "data": {
      "application/vnd.jupyter.widget-view+json": {
       "model_id": "",
       "version_major": 2,
       "version_minor": 0
      },
      "text/plain": [
       "Validation: |                                                                 | 0/? [00:00<?, ?it/s]"
      ]
     },
     "metadata": {},
     "output_type": "display_data"
    },
    {
     "data": {
      "application/vnd.jupyter.widget-view+json": {
       "model_id": "",
       "version_major": 2,
       "version_minor": 0
      },
      "text/plain": [
       "Validation: |                                                                 | 0/? [00:00<?, ?it/s]"
      ]
     },
     "metadata": {},
     "output_type": "display_data"
    },
    {
     "data": {
      "application/vnd.jupyter.widget-view+json": {
       "model_id": "",
       "version_major": 2,
       "version_minor": 0
      },
      "text/plain": [
       "Validation: |                                                                 | 0/? [00:00<?, ?it/s]"
      ]
     },
     "metadata": {},
     "output_type": "display_data"
    },
    {
     "data": {
      "application/vnd.jupyter.widget-view+json": {
       "model_id": "",
       "version_major": 2,
       "version_minor": 0
      },
      "text/plain": [
       "Validation: |                                                                 | 0/? [00:00<?, ?it/s]"
      ]
     },
     "metadata": {},
     "output_type": "display_data"
    },
    {
     "data": {
      "application/vnd.jupyter.widget-view+json": {
       "model_id": "",
       "version_major": 2,
       "version_minor": 0
      },
      "text/plain": [
       "Validation: |                                                                 | 0/? [00:00<?, ?it/s]"
      ]
     },
     "metadata": {},
     "output_type": "display_data"
    },
    {
     "data": {
      "application/vnd.jupyter.widget-view+json": {
       "model_id": "",
       "version_major": 2,
       "version_minor": 0
      },
      "text/plain": [
       "Validation: |                                                                 | 0/? [00:00<?, ?it/s]"
      ]
     },
     "metadata": {},
     "output_type": "display_data"
    },
    {
     "data": {
      "application/vnd.jupyter.widget-view+json": {
       "model_id": "",
       "version_major": 2,
       "version_minor": 0
      },
      "text/plain": [
       "Validation: |                                                                 | 0/? [00:00<?, ?it/s]"
      ]
     },
     "metadata": {},
     "output_type": "display_data"
    },
    {
     "data": {
      "application/vnd.jupyter.widget-view+json": {
       "model_id": "",
       "version_major": 2,
       "version_minor": 0
      },
      "text/plain": [
       "Validation: |                                                                 | 0/? [00:00<?, ?it/s]"
      ]
     },
     "metadata": {},
     "output_type": "display_data"
    },
    {
     "data": {
      "application/vnd.jupyter.widget-view+json": {
       "model_id": "",
       "version_major": 2,
       "version_minor": 0
      },
      "text/plain": [
       "Validation: |                                                                 | 0/? [00:00<?, ?it/s]"
      ]
     },
     "metadata": {},
     "output_type": "display_data"
    },
    {
     "name": "stderr",
     "output_type": "stream",
     "text": [
      "`Trainer.fit` stopped: `max_epochs=20` reached.\n"
     ]
    }
   ],
   "source": [
    "trainer.fit( model, train_loader,  valid_loader)"
   ]
  },
  {
   "cell_type": "code",
   "execution_count": 53,
   "id": "3e3b32b0-33b2-4483-898c-03058b541f4c",
   "metadata": {
    "scrolled": true
   },
   "outputs": [
    {
     "data": {
      "text/plain": [
       "PowerDemandPrediction(\n",
       "  (lstm): LSTM(45, 10, num_layers=2, batch_first=True)\n",
       "  (fc): Linear(in_features=7200, out_features=1, bias=True)\n",
       "  (loss): MSELoss()\n",
       "  (flatten): Flatten(start_dim=1, end_dim=-1)\n",
       ")"
      ]
     },
     "execution_count": 53,
     "metadata": {},
     "output_type": "execute_result"
    }
   ],
   "source": [
    "PATH = '/Volumes/WorkSpace/PythonProjects/timeSerise/lightning_logs/version_14/checkpoints/epoch=19-step=13900.ckpt'\n",
    "model = PowerDemandPrediction.load_from_checkpoint(PATH).to(device)\n",
    "model.eval()"
   ]
  },
  {
   "cell_type": "code",
   "execution_count": 54,
   "id": "5cb4873b-6068-4486-a15c-b77d144391f3",
   "metadata": {},
   "outputs": [],
   "source": [
    "predicted_result, actual_result = [], []\n",
    "\n",
    "for i, (features,targets) in enumerate(test_loader):\n",
    "\n",
    "    features = features.to(device)\n",
    "    targets = targets.to(device)\n",
    "\n",
    "    result = model(features)\n",
    "    predicted_result.extend(result.view(-1).tolist())\n",
    "    actual_result.extend(targets.view(-1).tolist())"
   ]
  },
  {
   "cell_type": "code",
   "execution_count": 55,
   "id": "7bc462ad-1cb2-43a6-8aeb-10a8f0928070",
   "metadata": {},
   "outputs": [
    {
     "data": {
      "text/plain": [
       "2023-01-31 00:00:00    65069\n",
       "2023-01-31 01:00:00    62933\n",
       "2023-01-31 02:00:00    61792\n",
       "2023-01-31 03:00:00    61302\n",
       "2023-01-31 04:00:00    62034\n",
       "                       ...  \n",
       "2023-12-31 19:00:00    64934\n",
       "2023-12-31 20:00:00    63817\n",
       "2023-12-31 21:00:00    62436\n",
       "2023-12-31 22:00:00    63010\n",
       "2023-12-31 23:00:00    62981\n",
       "Freq: h, Name: demand, Length: 8040, dtype: int64"
      ]
     },
     "execution_count": 55,
     "metadata": {},
     "output_type": "execute_result"
    }
   ],
   "source": [
    "df_before = df_data.loc['2023-01-30':'2023-12-30']['demand']\n",
    "df_before.index = pd.date_range('2023-01-31 00:00:00', '2023-12-31 23:00:00', freq='1h')\n",
    "df_before"
   ]
  },
  {
   "cell_type": "code",
   "execution_count": 56,
   "id": "b19f3652-0c7a-42cb-bf27-3ef8a13f2c60",
   "metadata": {},
   "outputs": [
    {
     "data": {
      "text/html": [
       "<div>\n",
       "<style scoped>\n",
       "    .dataframe tbody tr th:only-of-type {\n",
       "        vertical-align: middle;\n",
       "    }\n",
       "\n",
       "    .dataframe tbody tr th {\n",
       "        vertical-align: top;\n",
       "    }\n",
       "\n",
       "    .dataframe thead th {\n",
       "        text-align: right;\n",
       "    }\n",
       "</style>\n",
       "<table border=\"1\" class=\"dataframe\">\n",
       "  <thead>\n",
       "    <tr style=\"text-align: right;\">\n",
       "      <th></th>\n",
       "      <th>actual</th>\n",
       "      <th>predicted</th>\n",
       "      <th>before</th>\n",
       "    </tr>\n",
       "  </thead>\n",
       "  <tbody>\n",
       "    <tr>\n",
       "      <th>2023-01-31 00:00:00</th>\n",
       "      <td>71109.998834</td>\n",
       "      <td>52668.516963</td>\n",
       "      <td>65069</td>\n",
       "    </tr>\n",
       "    <tr>\n",
       "      <th>2023-01-31 01:00:00</th>\n",
       "      <td>68704.999390</td>\n",
       "      <td>50185.035933</td>\n",
       "      <td>62933</td>\n",
       "    </tr>\n",
       "    <tr>\n",
       "      <th>2023-01-31 02:00:00</th>\n",
       "      <td>67449.999146</td>\n",
       "      <td>49045.135125</td>\n",
       "      <td>61792</td>\n",
       "    </tr>\n",
       "    <tr>\n",
       "      <th>2023-01-31 03:00:00</th>\n",
       "      <td>66689.999856</td>\n",
       "      <td>48792.308005</td>\n",
       "      <td>61302</td>\n",
       "    </tr>\n",
       "    <tr>\n",
       "      <th>2023-01-31 04:00:00</th>\n",
       "      <td>66998.000372</td>\n",
       "      <td>49447.459085</td>\n",
       "      <td>62034</td>\n",
       "    </tr>\n",
       "    <tr>\n",
       "      <th>...</th>\n",
       "      <td>...</td>\n",
       "      <td>...</td>\n",
       "      <td>...</td>\n",
       "    </tr>\n",
       "    <tr>\n",
       "      <th>2023-12-31 19:00:00</th>\n",
       "      <td>62901.999208</td>\n",
       "      <td>65523.952992</td>\n",
       "      <td>64934</td>\n",
       "    </tr>\n",
       "    <tr>\n",
       "      <th>2023-12-31 20:00:00</th>\n",
       "      <td>62060.999162</td>\n",
       "      <td>65507.155048</td>\n",
       "      <td>63817</td>\n",
       "    </tr>\n",
       "    <tr>\n",
       "      <th>2023-12-31 21:00:00</th>\n",
       "      <td>61402.999795</td>\n",
       "      <td>64925.434186</td>\n",
       "      <td>62436</td>\n",
       "    </tr>\n",
       "    <tr>\n",
       "      <th>2023-12-31 22:00:00</th>\n",
       "      <td>61890.999869</td>\n",
       "      <td>64715.732557</td>\n",
       "      <td>63010</td>\n",
       "    </tr>\n",
       "    <tr>\n",
       "      <th>2023-12-31 23:00:00</th>\n",
       "      <td>62125.000510</td>\n",
       "      <td>64717.422424</td>\n",
       "      <td>62981</td>\n",
       "    </tr>\n",
       "  </tbody>\n",
       "</table>\n",
       "<p>8040 rows × 3 columns</p>\n",
       "</div>"
      ],
      "text/plain": [
       "                           actual     predicted  before\n",
       "2023-01-31 00:00:00  71109.998834  52668.516963   65069\n",
       "2023-01-31 01:00:00  68704.999390  50185.035933   62933\n",
       "2023-01-31 02:00:00  67449.999146  49045.135125   61792\n",
       "2023-01-31 03:00:00  66689.999856  48792.308005   61302\n",
       "2023-01-31 04:00:00  66998.000372  49447.459085   62034\n",
       "...                           ...           ...     ...\n",
       "2023-12-31 19:00:00  62901.999208  65523.952992   64934\n",
       "2023-12-31 20:00:00  62060.999162  65507.155048   63817\n",
       "2023-12-31 21:00:00  61402.999795  64925.434186   62436\n",
       "2023-12-31 22:00:00  61890.999869  64715.732557   63010\n",
       "2023-12-31 23:00:00  62125.000510  64717.422424   62981\n",
       "\n",
       "[8040 rows x 3 columns]"
      ]
     },
     "execution_count": 56,
     "metadata": {},
     "output_type": "execute_result"
    }
   ],
   "source": [
    "actual_predicted_df = pd.DataFrame(data={\"actual\":actual_result, \"predicted\": predicted_result})\n",
    "inverse_transformed_values = scaler.inverse_transform(actual_predicted_df)\n",
    "#inverse_transformed_values = model.transformer.inverse_transform(actual_predicted_df)\n",
    "actual_predicted_df[\"actual\"] = inverse_transformed_values[:,[0]]\n",
    "actual_predicted_df[\"predicted\"] = inverse_transformed_values[:,[1]]\n",
    "\n",
    "# window_size= 720 #(24 Hour  * 30Day) 을 뺀 일수 \n",
    "actual_predicted_df.index = pd.date_range('2023-01-31 00:00:00', '2023-12-31 23:00:00', freq='1h')\n",
    "\n",
    "actual_predicted_df['before'] = df_before\n",
    "actual_predicted_df"
   ]
  },
  {
   "cell_type": "code",
   "execution_count": 57,
   "id": "378483d2-582f-4b2e-9a56-926e90e8b0e5",
   "metadata": {},
   "outputs": [
    {
     "data": {
      "text/plain": [
       "(np.int64(36233), np.int64(94509))"
      ]
     },
     "execution_count": 57,
     "metadata": {},
     "output_type": "execute_result"
    }
   ],
   "source": [
    "df_data.demand.min(), df_data.demand.max()"
   ]
  },
  {
   "cell_type": "code",
   "execution_count": 65,
   "id": "a0249a8d-a682-4dbf-bbba-1cc7b6e7cba8",
   "metadata": {},
   "outputs": [
    {
     "data": {
      "application/vnd.plotly.v1+json": {
       "config": {
        "plotlyServerURL": "https://plot.ly"
       },
       "data": [
        {
         "hovertemplate": "variable=actual<br>index=%{x}<br>value=%{y}<extra></extra>",
         "legendgroup": "actual",
         "line": {
          "color": "#4b9ed6",
          "dash": "solid"
         },
         "marker": {
          "symbol": "circle"
         },
         "mode": "lines+markers",
         "name": "actual",
         "orientation": "v",
         "showlegend": true,
         "type": "scatter",
         "x": [
          "2023-03-14T00:00:00",
          "2023-03-14T01:00:00",
          "2023-03-14T02:00:00",
          "2023-03-14T03:00:00",
          "2023-03-14T04:00:00",
          "2023-03-14T05:00:00",
          "2023-03-14T06:00:00",
          "2023-03-14T07:00:00",
          "2023-03-14T08:00:00",
          "2023-03-14T09:00:00",
          "2023-03-14T10:00:00",
          "2023-03-14T11:00:00",
          "2023-03-14T12:00:00",
          "2023-03-14T13:00:00",
          "2023-03-14T14:00:00",
          "2023-03-14T15:00:00",
          "2023-03-14T16:00:00",
          "2023-03-14T17:00:00",
          "2023-03-14T18:00:00",
          "2023-03-14T19:00:00",
          "2023-03-14T20:00:00",
          "2023-03-14T21:00:00",
          "2023-03-14T22:00:00",
          "2023-03-14T23:00:00",
          "2023-03-15T00:00:00",
          "2023-03-15T01:00:00",
          "2023-03-15T02:00:00",
          "2023-03-15T03:00:00",
          "2023-03-15T04:00:00",
          "2023-03-15T05:00:00",
          "2023-03-15T06:00:00",
          "2023-03-15T07:00:00",
          "2023-03-15T08:00:00",
          "2023-03-15T09:00:00",
          "2023-03-15T10:00:00",
          "2023-03-15T11:00:00",
          "2023-03-15T12:00:00",
          "2023-03-15T13:00:00",
          "2023-03-15T14:00:00",
          "2023-03-15T15:00:00",
          "2023-03-15T16:00:00",
          "2023-03-15T17:00:00",
          "2023-03-15T18:00:00",
          "2023-03-15T19:00:00",
          "2023-03-15T20:00:00",
          "2023-03-15T21:00:00",
          "2023-03-15T22:00:00",
          "2023-03-15T23:00:00",
          "2023-03-16T00:00:00",
          "2023-03-16T01:00:00",
          "2023-03-16T02:00:00",
          "2023-03-16T03:00:00",
          "2023-03-16T04:00:00",
          "2023-03-16T05:00:00",
          "2023-03-16T06:00:00",
          "2023-03-16T07:00:00",
          "2023-03-16T08:00:00",
          "2023-03-16T09:00:00",
          "2023-03-16T10:00:00",
          "2023-03-16T11:00:00",
          "2023-03-16T12:00:00",
          "2023-03-16T13:00:00",
          "2023-03-16T14:00:00",
          "2023-03-16T15:00:00",
          "2023-03-16T16:00:00",
          "2023-03-16T17:00:00",
          "2023-03-16T18:00:00",
          "2023-03-16T19:00:00",
          "2023-03-16T20:00:00",
          "2023-03-16T21:00:00",
          "2023-03-16T22:00:00",
          "2023-03-16T23:00:00",
          "2023-03-17T00:00:00",
          "2023-03-17T01:00:00",
          "2023-03-17T02:00:00",
          "2023-03-17T03:00:00",
          "2023-03-17T04:00:00",
          "2023-03-17T05:00:00",
          "2023-03-17T06:00:00",
          "2023-03-17T07:00:00",
          "2023-03-17T08:00:00",
          "2023-03-17T09:00:00",
          "2023-03-17T10:00:00",
          "2023-03-17T11:00:00",
          "2023-03-17T12:00:00",
          "2023-03-17T13:00:00",
          "2023-03-17T14:00:00",
          "2023-03-17T15:00:00",
          "2023-03-17T16:00:00",
          "2023-03-17T17:00:00",
          "2023-03-17T18:00:00",
          "2023-03-17T19:00:00",
          "2023-03-17T20:00:00",
          "2023-03-17T21:00:00",
          "2023-03-17T22:00:00",
          "2023-03-17T23:00:00"
         ],
         "xaxis": "x",
         "y": [
          62900.00019693374,
          60549.0000989437,
          59288.99972212314,
          58832.00081634521,
          59580.00083053111,
          61212.99997222423,
          64661.00029766559,
          68504.00066542624,
          70225.00144338606,
          68627.9983923435,
          66652.99991750716,
          62617.00034248828,
          58139.0005222559,
          59663.999234676354,
          60569.99926578998,
          62260.000612020485,
          65719.99847650526,
          68233.00008678435,
          70755.00158810614,
          70636.99915719031,
          68898.9989709854,
          67206.99861383437,
          67005.99988937376,
          65784.00156116484,
          61736.99961066245,
          59458.00037777423,
          58298.999550104134,
          57828.99925792217,
          58333.00010335445,
          60253.99923193454,
          63417.99932909011,
          66620.99837517737,
          67785.99970912932,
          66890.99857997893,
          66064.9989311695,
          63653.000343561165,
          60285.000400423996,
          62868.00039136409,
          64337.00074660777,
          66072.00154805182,
          68238.99885630606,
          69305.00138878821,
          70532.99848651885,
          70181.9992623329,
          68430.0007894039,
          67011.99865889548,
          66784.00026130675,
          65442.99912834167,
          61521.00048887729,
          59472.00040125846,
          58283.00051569938,
          57703.999420404434,
          58427.99914622306,
          60244.00070381164,
          63736.00011062621,
          67825.00039482115,
          69781.99908757208,
          68476.00061845778,
          66460.00071024893,
          62344.99939000606,
          59255.99954271316,
          61587.00084769725,
          63504.000217676155,
          66258.99851226805,
          69742.0015015602,
          70510.00030875205,
          72067.99920058249,
          71781.99996137618,
          69544.00042510031,
          67787.00008296965,
          67549.00142049788,
          66401.99986863135,
          62431.0002785921,
          59887.999610424034,
          58646.00075244903,
          58157.000304341316,
          58679.9995689392,
          60499.000511288636,
          63793.99921548366,
          67707.0014374256,
          71201.00159192084,
          71611.99893188475,
          70654.99893927573,
          67282.99923753737,
          64187.00024688243,
          67629.00006604193,
          69014.00028038023,
          69409.99895977972,
          70754.00121426581,
          69731.00086283682,
          70200.99941825865,
          69662.9997563362,
          67734.00111055373,
          65941.00120425223,
          65998.00167202948,
          65237.000271439545
         ],
         "yaxis": "y"
        },
        {
         "hovertemplate": "variable=predicted<br>index=%{x}<br>value=%{y}<extra></extra>",
         "legendgroup": "predicted",
         "line": {
          "color": "#c80004",
          "dash": "solid"
         },
         "marker": {
          "symbol": "circle"
         },
         "mode": "lines+markers",
         "name": "predicted",
         "orientation": "v",
         "showlegend": true,
         "type": "scatter",
         "x": [
          "2023-03-14T00:00:00",
          "2023-03-14T01:00:00",
          "2023-03-14T02:00:00",
          "2023-03-14T03:00:00",
          "2023-03-14T04:00:00",
          "2023-03-14T05:00:00",
          "2023-03-14T06:00:00",
          "2023-03-14T07:00:00",
          "2023-03-14T08:00:00",
          "2023-03-14T09:00:00",
          "2023-03-14T10:00:00",
          "2023-03-14T11:00:00",
          "2023-03-14T12:00:00",
          "2023-03-14T13:00:00",
          "2023-03-14T14:00:00",
          "2023-03-14T15:00:00",
          "2023-03-14T16:00:00",
          "2023-03-14T17:00:00",
          "2023-03-14T18:00:00",
          "2023-03-14T19:00:00",
          "2023-03-14T20:00:00",
          "2023-03-14T21:00:00",
          "2023-03-14T22:00:00",
          "2023-03-14T23:00:00",
          "2023-03-15T00:00:00",
          "2023-03-15T01:00:00",
          "2023-03-15T02:00:00",
          "2023-03-15T03:00:00",
          "2023-03-15T04:00:00",
          "2023-03-15T05:00:00",
          "2023-03-15T06:00:00",
          "2023-03-15T07:00:00",
          "2023-03-15T08:00:00",
          "2023-03-15T09:00:00",
          "2023-03-15T10:00:00",
          "2023-03-15T11:00:00",
          "2023-03-15T12:00:00",
          "2023-03-15T13:00:00",
          "2023-03-15T14:00:00",
          "2023-03-15T15:00:00",
          "2023-03-15T16:00:00",
          "2023-03-15T17:00:00",
          "2023-03-15T18:00:00",
          "2023-03-15T19:00:00",
          "2023-03-15T20:00:00",
          "2023-03-15T21:00:00",
          "2023-03-15T22:00:00",
          "2023-03-15T23:00:00",
          "2023-03-16T00:00:00",
          "2023-03-16T01:00:00",
          "2023-03-16T02:00:00",
          "2023-03-16T03:00:00",
          "2023-03-16T04:00:00",
          "2023-03-16T05:00:00",
          "2023-03-16T06:00:00",
          "2023-03-16T07:00:00",
          "2023-03-16T08:00:00",
          "2023-03-16T09:00:00",
          "2023-03-16T10:00:00",
          "2023-03-16T11:00:00",
          "2023-03-16T12:00:00",
          "2023-03-16T13:00:00",
          "2023-03-16T14:00:00",
          "2023-03-16T15:00:00",
          "2023-03-16T16:00:00",
          "2023-03-16T17:00:00",
          "2023-03-16T18:00:00",
          "2023-03-16T19:00:00",
          "2023-03-16T20:00:00",
          "2023-03-16T21:00:00",
          "2023-03-16T22:00:00",
          "2023-03-16T23:00:00",
          "2023-03-17T00:00:00",
          "2023-03-17T01:00:00",
          "2023-03-17T02:00:00",
          "2023-03-17T03:00:00",
          "2023-03-17T04:00:00",
          "2023-03-17T05:00:00",
          "2023-03-17T06:00:00",
          "2023-03-17T07:00:00",
          "2023-03-17T08:00:00",
          "2023-03-17T09:00:00",
          "2023-03-17T10:00:00",
          "2023-03-17T11:00:00",
          "2023-03-17T12:00:00",
          "2023-03-17T13:00:00",
          "2023-03-17T14:00:00",
          "2023-03-17T15:00:00",
          "2023-03-17T16:00:00",
          "2023-03-17T17:00:00",
          "2023-03-17T18:00:00",
          "2023-03-17T19:00:00",
          "2023-03-17T20:00:00",
          "2023-03-17T21:00:00",
          "2023-03-17T22:00:00",
          "2023-03-17T23:00:00"
         ],
         "xaxis": "x",
         "y": [
          54496.85125434399,
          52224.78516793251,
          51290.206748723984,
          51094.35404455662,
          51847.39587342739,
          53223.44656276703,
          55354.310576319695,
          57942.50521683693,
          61430.70459246635,
          62925.0164899826,
          62611.97763216495,
          61312.72300267219,
          58514.00698184966,
          59901.72696256637,
          60698.057537913315,
          61249.9339133501,
          62059.970999717705,
          62055.875719308846,
          62387.87826108932,
          61897.816652536385,
          60682.83136177062,
          59160.2901649475,
          57995.533714175224,
          57369.197221279144,
          54085.914700984955,
          51646.19742155075,
          50470.73471289873,
          50324.28415089846,
          50806.21685361862,
          52127.31471538544,
          54505.012290239334,
          57120.68073940277,
          60562.67534828185,
          62058.33497166633,
          61751.94964194297,
          60566.71505236625,
          57714.71175694466,
          59138.43477535247,
          59858.55110549926,
          60217.36054003238,
          61113.030321836464,
          60931.92792153358,
          61331.7874187231,
          60954.460647583,
          59923.861970543854,
          58620.13865721225,
          57671.27885937691,
          57260.10436987877,
          54159.92847108841,
          51637.671666026115,
          50537.2856246829,
          50149.81443756819,
          50699.790797412395,
          51683.831277012825,
          53913.43705153465,
          56390.64056181908,
          59855.96333289146,
          61475.276804685585,
          61241.144170284264,
          60001.41004753112,
          57224.70225119591,
          58620.00840020179,
          59585.46988821029,
          60075.420344114296,
          61020.23175406455,
          61164.66593754291,
          61733.43577885627,
          61090.26834344863,
          59942.51130092143,
          58453.68930220603,
          57259.171729683876,
          56762.1682908535,
          53714.32618534565,
          51437.91993534565,
          50333.28056842089,
          50123.16211646795,
          50737.729454278946,
          51975.28741657734,
          54292.20880711079,
          56794.69086122513,
          60203.15384209155,
          61657.88150250911,
          61332.07051062583,
          59842.388815641396,
          56983.54963231087,
          58133.295265197754,
          58970.86173653602,
          59431.2073791027,
          60203.959698796265,
          60009.78470492362,
          60144.21341323852,
          59551.99904680251,
          58341.5970660448,
          56948.94989681244,
          55934.08800339699,
          55537.42414486408
         ],
         "yaxis": "y"
        },
        {
         "hovertemplate": "variable=before<br>index=%{x}<br>value=%{y}<extra></extra>",
         "legendgroup": "before",
         "line": {
          "color": "#58a200",
          "dash": "solid"
         },
         "marker": {
          "symbol": "circle"
         },
         "mode": "lines+markers",
         "name": "before",
         "orientation": "v",
         "showlegend": true,
         "type": "scatter",
         "x": [
          "2023-03-14T00:00:00",
          "2023-03-14T01:00:00",
          "2023-03-14T02:00:00",
          "2023-03-14T03:00:00",
          "2023-03-14T04:00:00",
          "2023-03-14T05:00:00",
          "2023-03-14T06:00:00",
          "2023-03-14T07:00:00",
          "2023-03-14T08:00:00",
          "2023-03-14T09:00:00",
          "2023-03-14T10:00:00",
          "2023-03-14T11:00:00",
          "2023-03-14T12:00:00",
          "2023-03-14T13:00:00",
          "2023-03-14T14:00:00",
          "2023-03-14T15:00:00",
          "2023-03-14T16:00:00",
          "2023-03-14T17:00:00",
          "2023-03-14T18:00:00",
          "2023-03-14T19:00:00",
          "2023-03-14T20:00:00",
          "2023-03-14T21:00:00",
          "2023-03-14T22:00:00",
          "2023-03-14T23:00:00",
          "2023-03-15T00:00:00",
          "2023-03-15T01:00:00",
          "2023-03-15T02:00:00",
          "2023-03-15T03:00:00",
          "2023-03-15T04:00:00",
          "2023-03-15T05:00:00",
          "2023-03-15T06:00:00",
          "2023-03-15T07:00:00",
          "2023-03-15T08:00:00",
          "2023-03-15T09:00:00",
          "2023-03-15T10:00:00",
          "2023-03-15T11:00:00",
          "2023-03-15T12:00:00",
          "2023-03-15T13:00:00",
          "2023-03-15T14:00:00",
          "2023-03-15T15:00:00",
          "2023-03-15T16:00:00",
          "2023-03-15T17:00:00",
          "2023-03-15T18:00:00",
          "2023-03-15T19:00:00",
          "2023-03-15T20:00:00",
          "2023-03-15T21:00:00",
          "2023-03-15T22:00:00",
          "2023-03-15T23:00:00",
          "2023-03-16T00:00:00",
          "2023-03-16T01:00:00",
          "2023-03-16T02:00:00",
          "2023-03-16T03:00:00",
          "2023-03-16T04:00:00",
          "2023-03-16T05:00:00",
          "2023-03-16T06:00:00",
          "2023-03-16T07:00:00",
          "2023-03-16T08:00:00",
          "2023-03-16T09:00:00",
          "2023-03-16T10:00:00",
          "2023-03-16T11:00:00",
          "2023-03-16T12:00:00",
          "2023-03-16T13:00:00",
          "2023-03-16T14:00:00",
          "2023-03-16T15:00:00",
          "2023-03-16T16:00:00",
          "2023-03-16T17:00:00",
          "2023-03-16T18:00:00",
          "2023-03-16T19:00:00",
          "2023-03-16T20:00:00",
          "2023-03-16T21:00:00",
          "2023-03-16T22:00:00",
          "2023-03-16T23:00:00",
          "2023-03-17T00:00:00",
          "2023-03-17T01:00:00",
          "2023-03-17T02:00:00",
          "2023-03-17T03:00:00",
          "2023-03-17T04:00:00",
          "2023-03-17T05:00:00",
          "2023-03-17T06:00:00",
          "2023-03-17T07:00:00",
          "2023-03-17T08:00:00",
          "2023-03-17T09:00:00",
          "2023-03-17T10:00:00",
          "2023-03-17T11:00:00",
          "2023-03-17T12:00:00",
          "2023-03-17T13:00:00",
          "2023-03-17T14:00:00",
          "2023-03-17T15:00:00",
          "2023-03-17T16:00:00",
          "2023-03-17T17:00:00",
          "2023-03-17T18:00:00",
          "2023-03-17T19:00:00",
          "2023-03-17T20:00:00",
          "2023-03-17T21:00:00",
          "2023-03-17T22:00:00",
          "2023-03-17T23:00:00"
         ],
         "xaxis": "x",
         "y": [
          57615,
          55680,
          54394,
          54148,
          54887,
          57290,
          61869,
          67121,
          70095,
          69508,
          67604,
          63656,
          59718,
          61469,
          62958,
          65023,
          68682,
          71045,
          72805,
          72455,
          70223,
          68389,
          67863,
          66739,
          62900,
          60549,
          59289,
          58832,
          59580,
          61213,
          64661,
          68504,
          70225,
          68628,
          66653,
          62617,
          58139,
          59664,
          60570,
          62260,
          65720,
          68233,
          70755,
          70637,
          68899,
          67207,
          67006,
          65784,
          61737,
          59458,
          58299,
          57829,
          58333,
          60254,
          63418,
          66621,
          67786,
          66891,
          66065,
          63653,
          60285,
          62868,
          64337,
          66072,
          68239,
          69305,
          70533,
          70182,
          68430,
          67012,
          66784,
          65443,
          61521,
          59472,
          58283,
          57704,
          58428,
          60244,
          63736,
          67825,
          69782,
          68476,
          66460,
          62345,
          59256,
          61587,
          63504,
          66259,
          69742,
          70510,
          72068,
          71782,
          69544,
          67787,
          67549,
          66402
         ],
         "yaxis": "y"
        }
       ],
       "layout": {
        "autosize": true,
        "legend": {
         "title": {
          "text": "variable"
         },
         "tracegroupgap": 0
        },
        "margin": {
         "t": 60
        },
        "template": {
         "data": {
          "bar": [
           {
            "error_x": {
             "color": "#f2f5fa"
            },
            "error_y": {
             "color": "#f2f5fa"
            },
            "marker": {
             "line": {
              "color": "rgb(17,17,17)",
              "width": 0.5
             },
             "pattern": {
              "fillmode": "overlay",
              "size": 10,
              "solidity": 0.2
             }
            },
            "type": "bar"
           }
          ],
          "barpolar": [
           {
            "marker": {
             "line": {
              "color": "rgb(17,17,17)",
              "width": 0.5
             },
             "pattern": {
              "fillmode": "overlay",
              "size": 10,
              "solidity": 0.2
             }
            },
            "type": "barpolar"
           }
          ],
          "carpet": [
           {
            "aaxis": {
             "endlinecolor": "#A2B1C6",
             "gridcolor": "#506784",
             "linecolor": "#506784",
             "minorgridcolor": "#506784",
             "startlinecolor": "#A2B1C6"
            },
            "baxis": {
             "endlinecolor": "#A2B1C6",
             "gridcolor": "#506784",
             "linecolor": "#506784",
             "minorgridcolor": "#506784",
             "startlinecolor": "#A2B1C6"
            },
            "type": "carpet"
           }
          ],
          "choropleth": [
           {
            "colorbar": {
             "outlinewidth": 0,
             "ticks": ""
            },
            "type": "choropleth"
           }
          ],
          "contour": [
           {
            "colorbar": {
             "outlinewidth": 0,
             "ticks": ""
            },
            "colorscale": [
             [
              0,
              "#0d0887"
             ],
             [
              0.1111111111111111,
              "#46039f"
             ],
             [
              0.2222222222222222,
              "#7201a8"
             ],
             [
              0.3333333333333333,
              "#9c179e"
             ],
             [
              0.4444444444444444,
              "#bd3786"
             ],
             [
              0.5555555555555556,
              "#d8576b"
             ],
             [
              0.6666666666666666,
              "#ed7953"
             ],
             [
              0.7777777777777778,
              "#fb9f3a"
             ],
             [
              0.8888888888888888,
              "#fdca26"
             ],
             [
              1,
              "#f0f921"
             ]
            ],
            "type": "contour"
           }
          ],
          "contourcarpet": [
           {
            "colorbar": {
             "outlinewidth": 0,
             "ticks": ""
            },
            "type": "contourcarpet"
           }
          ],
          "heatmap": [
           {
            "colorbar": {
             "outlinewidth": 0,
             "ticks": ""
            },
            "colorscale": [
             [
              0,
              "#0d0887"
             ],
             [
              0.1111111111111111,
              "#46039f"
             ],
             [
              0.2222222222222222,
              "#7201a8"
             ],
             [
              0.3333333333333333,
              "#9c179e"
             ],
             [
              0.4444444444444444,
              "#bd3786"
             ],
             [
              0.5555555555555556,
              "#d8576b"
             ],
             [
              0.6666666666666666,
              "#ed7953"
             ],
             [
              0.7777777777777778,
              "#fb9f3a"
             ],
             [
              0.8888888888888888,
              "#fdca26"
             ],
             [
              1,
              "#f0f921"
             ]
            ],
            "type": "heatmap"
           }
          ],
          "heatmapgl": [
           {
            "colorbar": {
             "outlinewidth": 0,
             "ticks": ""
            },
            "colorscale": [
             [
              0,
              "#0d0887"
             ],
             [
              0.1111111111111111,
              "#46039f"
             ],
             [
              0.2222222222222222,
              "#7201a8"
             ],
             [
              0.3333333333333333,
              "#9c179e"
             ],
             [
              0.4444444444444444,
              "#bd3786"
             ],
             [
              0.5555555555555556,
              "#d8576b"
             ],
             [
              0.6666666666666666,
              "#ed7953"
             ],
             [
              0.7777777777777778,
              "#fb9f3a"
             ],
             [
              0.8888888888888888,
              "#fdca26"
             ],
             [
              1,
              "#f0f921"
             ]
            ],
            "type": "heatmapgl"
           }
          ],
          "histogram": [
           {
            "marker": {
             "pattern": {
              "fillmode": "overlay",
              "size": 10,
              "solidity": 0.2
             }
            },
            "type": "histogram"
           }
          ],
          "histogram2d": [
           {
            "colorbar": {
             "outlinewidth": 0,
             "ticks": ""
            },
            "colorscale": [
             [
              0,
              "#0d0887"
             ],
             [
              0.1111111111111111,
              "#46039f"
             ],
             [
              0.2222222222222222,
              "#7201a8"
             ],
             [
              0.3333333333333333,
              "#9c179e"
             ],
             [
              0.4444444444444444,
              "#bd3786"
             ],
             [
              0.5555555555555556,
              "#d8576b"
             ],
             [
              0.6666666666666666,
              "#ed7953"
             ],
             [
              0.7777777777777778,
              "#fb9f3a"
             ],
             [
              0.8888888888888888,
              "#fdca26"
             ],
             [
              1,
              "#f0f921"
             ]
            ],
            "type": "histogram2d"
           }
          ],
          "histogram2dcontour": [
           {
            "colorbar": {
             "outlinewidth": 0,
             "ticks": ""
            },
            "colorscale": [
             [
              0,
              "#0d0887"
             ],
             [
              0.1111111111111111,
              "#46039f"
             ],
             [
              0.2222222222222222,
              "#7201a8"
             ],
             [
              0.3333333333333333,
              "#9c179e"
             ],
             [
              0.4444444444444444,
              "#bd3786"
             ],
             [
              0.5555555555555556,
              "#d8576b"
             ],
             [
              0.6666666666666666,
              "#ed7953"
             ],
             [
              0.7777777777777778,
              "#fb9f3a"
             ],
             [
              0.8888888888888888,
              "#fdca26"
             ],
             [
              1,
              "#f0f921"
             ]
            ],
            "type": "histogram2dcontour"
           }
          ],
          "mesh3d": [
           {
            "colorbar": {
             "outlinewidth": 0,
             "ticks": ""
            },
            "type": "mesh3d"
           }
          ],
          "parcoords": [
           {
            "line": {
             "colorbar": {
              "outlinewidth": 0,
              "ticks": ""
             }
            },
            "type": "parcoords"
           }
          ],
          "pie": [
           {
            "automargin": true,
            "type": "pie"
           }
          ],
          "scatter": [
           {
            "marker": {
             "line": {
              "color": "#060606"
             }
            },
            "type": "scatter"
           }
          ],
          "scatter3d": [
           {
            "line": {
             "colorbar": {
              "outlinewidth": 0,
              "ticks": ""
             }
            },
            "marker": {
             "colorbar": {
              "outlinewidth": 0,
              "ticks": ""
             }
            },
            "type": "scatter3d"
           }
          ],
          "scattercarpet": [
           {
            "marker": {
             "colorbar": {
              "outlinewidth": 0,
              "ticks": ""
             }
            },
            "type": "scattercarpet"
           }
          ],
          "scattergeo": [
           {
            "marker": {
             "colorbar": {
              "outlinewidth": 0,
              "ticks": ""
             }
            },
            "type": "scattergeo"
           }
          ],
          "scattergl": [
           {
            "marker": {
             "line": {
              "color": "#060606"
             }
            },
            "type": "scattergl"
           }
          ],
          "scattermapbox": [
           {
            "marker": {
             "colorbar": {
              "outlinewidth": 0,
              "ticks": ""
             }
            },
            "type": "scattermapbox"
           }
          ],
          "scatterpolar": [
           {
            "marker": {
             "colorbar": {
              "outlinewidth": 0,
              "ticks": ""
             }
            },
            "type": "scatterpolar"
           }
          ],
          "scatterpolargl": [
           {
            "marker": {
             "colorbar": {
              "outlinewidth": 0,
              "ticks": ""
             }
            },
            "type": "scatterpolargl"
           }
          ],
          "scatterternary": [
           {
            "marker": {
             "colorbar": {
              "outlinewidth": 0,
              "ticks": ""
             }
            },
            "type": "scatterternary"
           }
          ],
          "surface": [
           {
            "colorbar": {
             "outlinewidth": 0,
             "ticks": ""
            },
            "colorscale": [
             [
              0,
              "#0d0887"
             ],
             [
              0.1111111111111111,
              "#46039f"
             ],
             [
              0.2222222222222222,
              "#7201a8"
             ],
             [
              0.3333333333333333,
              "#9c179e"
             ],
             [
              0.4444444444444444,
              "#bd3786"
             ],
             [
              0.5555555555555556,
              "#d8576b"
             ],
             [
              0.6666666666666666,
              "#ed7953"
             ],
             [
              0.7777777777777778,
              "#fb9f3a"
             ],
             [
              0.8888888888888888,
              "#fdca26"
             ],
             [
              1,
              "#f0f921"
             ]
            ],
            "type": "surface"
           }
          ],
          "table": [
           {
            "cells": {
             "fill": {
              "color": "#506784"
             },
             "line": {
              "color": "rgb(17,17,17)"
             }
            },
            "header": {
             "fill": {
              "color": "#2a3f5f"
             },
             "line": {
              "color": "rgb(17,17,17)"
             }
            },
            "type": "table"
           }
          ]
         },
         "layout": {
          "annotationdefaults": {
           "arrowcolor": "#f2f5fa",
           "arrowhead": 0,
           "arrowwidth": 1,
           "font": {
            "color": "#adafae"
           }
          },
          "autotypenumbers": "strict",
          "coloraxis": {
           "colorbar": {
            "outlinewidth": 0,
            "ticks": ""
           }
          },
          "colorscale": {
           "diverging": [
            [
             0,
             "#8e0152"
            ],
            [
             0.1,
             "#c51b7d"
            ],
            [
             0.2,
             "#de77ae"
            ],
            [
             0.3,
             "#f1b6da"
            ],
            [
             0.4,
             "#fde0ef"
            ],
            [
             0.5,
             "#f7f7f7"
            ],
            [
             0.6,
             "#e6f5d0"
            ],
            [
             0.7,
             "#b8e186"
            ],
            [
             0.8,
             "#7fbc41"
            ],
            [
             0.9,
             "#4d9221"
            ],
            [
             1,
             "#276419"
            ]
           ],
           "sequential": [
            [
             0,
             "#2a9fd6"
            ],
            [
             0.1,
             "#4098c6"
            ],
            [
             0.2,
             "#5790b6"
            ],
            [
             0.30000000000000004,
             "#6d89a6"
            ],
            [
             0.4,
             "#838196"
            ],
            [
             0.5,
             "#9a7a86"
            ],
            [
             0.6000000000000001,
             "#b07276"
            ],
            [
             0.7000000000000001,
             "#c66b66"
            ],
            [
             0.8,
             "#dd6456"
            ],
            [
             0.9,
             "#f35c46"
            ],
            [
             1,
             "#ff5536"
            ]
           ],
           "sequentialminus": [
            [
             0,
             "#0d0887"
            ],
            [
             0.1111111111111111,
             "#46039f"
            ],
            [
             0.2222222222222222,
             "#7201a8"
            ],
            [
             0.3333333333333333,
             "#9c179e"
            ],
            [
             0.4444444444444444,
             "#bd3786"
            ],
            [
             0.5555555555555556,
             "#d8576b"
            ],
            [
             0.6666666666666666,
             "#ed7953"
            ],
            [
             0.7777777777777778,
             "#fb9f3a"
            ],
            [
             0.8888888888888888,
             "#fdca26"
            ],
            [
             1,
             "#f0f921"
            ]
           ]
          },
          "colorway": [
           "#4b9ed6",
           "#c80004",
           "#58a200",
           "#ff9d24",
           "#a32acd"
          ],
          "font": {
           "color": "#adafae",
           "family": "Roboto,-apple-system,BlinkMacSystemFont,\"Segoe UI\",\"Helvetica Neue\",Arial,sans-serif"
          },
          "geo": {
           "bgcolor": "#060606",
           "lakecolor": "#060606",
           "landcolor": "#060606",
           "showlakes": true,
           "showland": true,
           "subunitcolor": "#506784"
          },
          "hoverlabel": {
           "align": "left",
           "font": {
            "family": "Roboto,-apple-system,BlinkMacSystemFont,\"Segoe UI\",\"Helvetica Neue\",Arial,sans-serif"
           }
          },
          "hovermode": "closest",
          "mapbox": {
           "style": "dark"
          },
          "paper_bgcolor": "#282828",
          "piecolorway": [
           "#4b9ed6",
           "#c80004",
           "#58a200",
           "#ff9d24",
           "#a32acd"
          ],
          "plot_bgcolor": "#060606",
          "polar": {
           "angularaxis": {
            "gridcolor": "#506784",
            "linecolor": "#506784",
            "ticks": ""
           },
           "bgcolor": "rgb(17,17,17)",
           "radialaxis": {
            "gridcolor": "#506784",
            "linecolor": "#506784",
            "ticks": ""
           }
          },
          "scene": {
           "xaxis": {
            "backgroundcolor": "rgb(17,17,17)",
            "gridcolor": "#506784",
            "gridwidth": 2,
            "linecolor": "#506784",
            "showbackground": true,
            "ticks": "",
            "zerolinecolor": "#C8D4E3"
           },
           "yaxis": {
            "backgroundcolor": "rgb(17,17,17)",
            "gridcolor": "#506784",
            "gridwidth": 2,
            "linecolor": "#506784",
            "showbackground": true,
            "ticks": "",
            "zerolinecolor": "#C8D4E3"
           },
           "zaxis": {
            "backgroundcolor": "rgb(17,17,17)",
            "gridcolor": "#506784",
            "gridwidth": 2,
            "linecolor": "#506784",
            "showbackground": true,
            "ticks": "",
            "zerolinecolor": "#C8D4E3"
           }
          },
          "shapedefaults": {
           "line": {
            "color": "#f2f5fa"
           }
          },
          "sliderdefaults": {
           "bgcolor": "#C8D4E3",
           "bordercolor": "rgb(17,17,17)",
           "borderwidth": 1,
           "tickwidth": 0
          },
          "ternary": {
           "aaxis": {
            "gridcolor": "#506784",
            "linecolor": "#506784",
            "ticks": ""
           },
           "baxis": {
            "gridcolor": "#506784",
            "linecolor": "#506784",
            "ticks": ""
           },
           "bgcolor": "rgb(17,17,17)",
           "caxis": {
            "gridcolor": "#506784",
            "linecolor": "#506784",
            "ticks": ""
           }
          },
          "title": {
           "x": 0.05
          },
          "updatemenudefaults": {
           "bgcolor": "#506784",
           "borderwidth": 0
          },
          "xaxis": {
           "automargin": true,
           "gridcolor": "#131413",
           "gridwidth": 0.5,
           "linecolor": "#506784",
           "ticks": "",
           "title": {
            "standoff": 15
           },
           "zerolinecolor": "#131413",
           "zerolinewidth": 2
          },
          "yaxis": {
           "automargin": true,
           "gridcolor": "#131413",
           "gridwidth": 0.5,
           "linecolor": "#506784",
           "ticks": "",
           "title": {
            "standoff": 15
           },
           "zerolinecolor": "#131413",
           "zerolinewidth": 2
          }
         }
        },
        "xaxis": {
         "anchor": "y",
         "autorange": true,
         "domain": [
          0,
          1
         ],
         "range": [
          "2023-03-13 18:25:13.7892",
          "2023-03-18 04:34:46.2108"
         ],
         "title": {
          "text": "index"
         },
         "type": "date"
        },
        "yaxis": {
         "anchor": "x",
         "domain": [
          0,
          1
         ],
         "range": [
          0,
          120000
         ],
         "title": {
          "text": "value"
         },
         "type": "linear"
        }
       }
      },
      "image/png": "[encoded data removed]",
      "text/html": [
       "<div>                            <div id=\"9306564a-9e2d-4e8e-afa2-84d48e4f961f\" class=\"plotly-graph-div\" style=\"height:600px; width:100%;\"></div>            <script type=\"text/javascript\">                require([\"plotly\"], function(Plotly) {                    window.PLOTLYENV=window.PLOTLYENV || {};                                    if (document.getElementById(\"9306564a-9e2d-4e8e-afa2-84d48e4f961f\")) {                    Plotly.newPlot(                        \"9306564a-9e2d-4e8e-afa2-84d48e4f961f\",                        [{\"hovertemplate\":\"variable=actual\\u003cbr\\u003eindex=%{x}\\u003cbr\\u003evalue=%{y}\\u003cextra\\u003e\\u003c\\u002fextra\\u003e\",\"legendgroup\":\"actual\",\"line\":{\"color\":\"#4b9ed6\",\"dash\":\"solid\"},\"marker\":{\"symbol\":\"circle\"},\"mode\":\"lines+markers\",\"name\":\"actual\",\"orientation\":\"v\",\"showlegend\":true,\"x\":[\"2023-03-14T00:00:00\",\"2023-03-14T01:00:00\",\"2023-03-14T02:00:00\",\"2023-03-14T03:00:00\",\"2023-03-14T04:00:00\",\"2023-03-14T05:00:00\",\"2023-03-14T06:00:00\",\"2023-03-14T07:00:00\",\"2023-03-14T08:00:00\",\"2023-03-14T09:00:00\",\"2023-03-14T10:00:00\",\"2023-03-14T11:00:00\",\"2023-03-14T12:00:00\",\"2023-03-14T13:00:00\",\"2023-03-14T14:00:00\",\"2023-03-14T15:00:00\",\"2023-03-14T16:00:00\",\"2023-03-14T17:00:00\",\"2023-03-14T18:00:00\",\"2023-03-14T19:00:00\",\"2023-03-14T20:00:00\",\"2023-03-14T21:00:00\",\"2023-03-14T22:00:00\",\"2023-03-14T23:00:00\",\"2023-03-15T00:00:00\",\"2023-03-15T01:00:00\",\"2023-03-15T02:00:00\",\"2023-03-15T03:00:00\",\"2023-03-15T04:00:00\",\"2023-03-15T05:00:00\",\"2023-03-15T06:00:00\",\"2023-03-15T07:00:00\",\"2023-03-15T08:00:00\",\"2023-03-15T09:00:00\",\"2023-03-15T10:00:00\",\"2023-03-15T11:00:00\",\"2023-03-15T12:00:00\",\"2023-03-15T13:00:00\",\"2023-03-15T14:00:00\",\"2023-03-15T15:00:00\",\"2023-03-15T16:00:00\",\"2023-03-15T17:00:00\",\"2023-03-15T18:00:00\",\"2023-03-15T19:00:00\",\"2023-03-15T20:00:00\",\"2023-03-15T21:00:00\",\"2023-03-15T22:00:00\",\"2023-03-15T23:00:00\",\"2023-03-16T00:00:00\",\"2023-03-16T01:00:00\",\"2023-03-16T02:00:00\",\"2023-03-16T03:00:00\",\"2023-03-16T04:00:00\",\"2023-03-16T05:00:00\",\"2023-03-16T06:00:00\",\"2023-03-16T07:00:00\",\"2023-03-16T08:00:00\",\"2023-03-16T09:00:00\",\"2023-03-16T10:00:00\",\"2023-03-16T11:00:00\",\"2023-03-16T12:00:00\",\"2023-03-16T13:00:00\",\"2023-03-16T14:00:00\",\"2023-03-16T15:00:00\",\"2023-03-16T16:00:00\",\"2023-03-16T17:00:00\",\"2023-03-16T18:00:00\",\"2023-03-16T19:00:00\",\"2023-03-16T20:00:00\",\"2023-03-16T21:00:00\",\"2023-03-16T22:00:00\",\"2023-03-16T23:00:00\",\"2023-03-17T00:00:00\",\"2023-03-17T01:00:00\",\"2023-03-17T02:00:00\",\"2023-03-17T03:00:00\",\"2023-03-17T04:00:00\",\"2023-03-17T05:00:00\",\"2023-03-17T06:00:00\",\"2023-03-17T07:00:00\",\"2023-03-17T08:00:00\",\"2023-03-17T09:00:00\",\"2023-03-17T10:00:00\",\"2023-03-17T11:00:00\",\"2023-03-17T12:00:00\",\"2023-03-17T13:00:00\",\"2023-03-17T14:00:00\",\"2023-03-17T15:00:00\",\"2023-03-17T16:00:00\",\"2023-03-17T17:00:00\",\"2023-03-17T18:00:00\",\"2023-03-17T19:00:00\",\"2023-03-17T20:00:00\",\"2023-03-17T21:00:00\",\"2023-03-17T22:00:00\",\"2023-03-17T23:00:00\"],\"xaxis\":\"x\",\"y\":[62900.00019693374,60549.0000989437,59288.99972212314,58832.00081634521,59580.00083053111,61212.99997222423,64661.00029766559,68504.00066542624,70225.00144338606,68627.9983923435,66652.99991750716,62617.00034248828,58139.0005222559,59663.999234676354,60569.99926578998,62260.000612020485,65719.99847650526,68233.00008678435,70755.00158810614,70636.99915719031,68898.9989709854,67206.99861383437,67005.99988937376,65784.00156116484,61736.99961066245,59458.00037777423,58298.999550104134,57828.99925792217,58333.00010335445,60253.99923193454,63417.99932909011,66620.99837517737,67785.99970912932,66890.99857997893,66064.9989311695,63653.000343561165,60285.000400423996,62868.00039136409,64337.00074660777,66072.00154805182,68238.99885630606,69305.00138878821,70532.99848651885,70181.9992623329,68430.0007894039,67011.99865889548,66784.00026130675,65442.99912834167,61521.00048887729,59472.00040125846,58283.00051569938,57703.999420404434,58427.99914622306,60244.00070381164,63736.00011062621,67825.00039482115,69781.99908757208,68476.00061845778,66460.00071024893,62344.99939000606,59255.99954271316,61587.00084769725,63504.000217676155,66258.99851226805,69742.0015015602,70510.00030875205,72067.99920058249,71781.99996137618,69544.00042510031,67787.00008296965,67549.00142049788,66401.99986863135,62431.0002785921,59887.999610424034,58646.00075244903,58157.000304341316,58679.9995689392,60499.000511288636,63793.99921548366,67707.0014374256,71201.00159192084,71611.99893188475,70654.99893927573,67282.99923753737,64187.00024688243,67629.00006604193,69014.00028038023,69409.99895977972,70754.00121426581,69731.00086283682,70200.99941825865,69662.9997563362,67734.00111055373,65941.00120425223,65998.00167202948,65237.000271439545],\"yaxis\":\"y\",\"type\":\"scatter\"},{\"hovertemplate\":\"variable=predicted\\u003cbr\\u003eindex=%{x}\\u003cbr\\u003evalue=%{y}\\u003cextra\\u003e\\u003c\\u002fextra\\u003e\",\"legendgroup\":\"predicted\",\"line\":{\"color\":\"#c80004\",\"dash\":\"solid\"},\"marker\":{\"symbol\":\"circle\"},\"mode\":\"lines+markers\",\"name\":\"predicted\",\"orientation\":\"v\",\"showlegend\":true,\"x\":[\"2023-03-14T00:00:00\",\"2023-03-14T01:00:00\",\"2023-03-14T02:00:00\",\"2023-03-14T03:00:00\",\"2023-03-14T04:00:00\",\"2023-03-14T05:00:00\",\"2023-03-14T06:00:00\",\"2023-03-14T07:00:00\",\"2023-03-14T08:00:00\",\"2023-03-14T09:00:00\",\"2023-03-14T10:00:00\",\"2023-03-14T11:00:00\",\"2023-03-14T12:00:00\",\"2023-03-14T13:00:00\",\"2023-03-14T14:00:00\",\"2023-03-14T15:00:00\",\"2023-03-14T16:00:00\",\"2023-03-14T17:00:00\",\"2023-03-14T18:00:00\",\"2023-03-14T19:00:00\",\"2023-03-14T20:00:00\",\"2023-03-14T21:00:00\",\"2023-03-14T22:00:00\",\"2023-03-14T23:00:00\",\"2023-03-15T00:00:00\",\"2023-03-15T01:00:00\",\"2023-03-15T02:00:00\",\"2023-03-15T03:00:00\",\"2023-03-15T04:00:00\",\"2023-03-15T05:00:00\",\"2023-03-15T06:00:00\",\"2023-03-15T07:00:00\",\"2023-03-15T08:00:00\",\"2023-03-15T09:00:00\",\"2023-03-15T10:00:00\",\"2023-03-15T11:00:00\",\"2023-03-15T12:00:00\",\"2023-03-15T13:00:00\",\"2023-03-15T14:00:00\",\"2023-03-15T15:00:00\",\"2023-03-15T16:00:00\",\"2023-03-15T17:00:00\",\"2023-03-15T18:00:00\",\"2023-03-15T19:00:00\",\"2023-03-15T20:00:00\",\"2023-03-15T21:00:00\",\"2023-03-15T22:00:00\",\"2023-03-15T23:00:00\",\"2023-03-16T00:00:00\",\"2023-03-16T01:00:00\",\"2023-03-16T02:00:00\",\"2023-03-16T03:00:00\",\"2023-03-16T04:00:00\",\"2023-03-16T05:00:00\",\"2023-03-16T06:00:00\",\"2023-03-16T07:00:00\",\"2023-03-16T08:00:00\",\"2023-03-16T09:00:00\",\"2023-03-16T10:00:00\",\"2023-03-16T11:00:00\",\"2023-03-16T12:00:00\",\"2023-03-16T13:00:00\",\"2023-03-16T14:00:00\",\"2023-03-16T15:00:00\",\"2023-03-16T16:00:00\",\"2023-03-16T17:00:00\",\"2023-03-16T18:00:00\",\"2023-03-16T19:00:00\",\"2023-03-16T20:00:00\",\"2023-03-16T21:00:00\",\"2023-03-16T22:00:00\",\"2023-03-16T23:00:00\",\"2023-03-17T00:00:00\",\"2023-03-17T01:00:00\",\"2023-03-17T02:00:00\",\"2023-03-17T03:00:00\",\"2023-03-17T04:00:00\",\"2023-03-17T05:00:00\",\"2023-03-17T06:00:00\",\"2023-03-17T07:00:00\",\"2023-03-17T08:00:00\",\"2023-03-17T09:00:00\",\"2023-03-17T10:00:00\",\"2023-03-17T11:00:00\",\"2023-03-17T12:00:00\",\"2023-03-17T13:00:00\",\"2023-03-17T14:00:00\",\"2023-03-17T15:00:00\",\"2023-03-17T16:00:00\",\"2023-03-17T17:00:00\",\"2023-03-17T18:00:00\",\"2023-03-17T19:00:00\",\"2023-03-17T20:00:00\",\"2023-03-17T21:00:00\",\"2023-03-17T22:00:00\",\"2023-03-17T23:00:00\"],\"xaxis\":\"x\",\"y\":[54496.85125434399,52224.78516793251,51290.206748723984,51094.35404455662,51847.39587342739,53223.44656276703,55354.310576319695,57942.50521683693,61430.70459246635,62925.0164899826,62611.97763216495,61312.72300267219,58514.00698184966,59901.72696256637,60698.057537913315,61249.9339133501,62059.970999717705,62055.875719308846,62387.87826108932,61897.816652536385,60682.83136177062,59160.2901649475,57995.533714175224,57369.197221279144,54085.914700984955,51646.19742155075,50470.73471289873,50324.28415089846,50806.21685361862,52127.31471538544,54505.012290239334,57120.68073940277,60562.67534828185,62058.33497166633,61751.94964194297,60566.71505236625,57714.71175694466,59138.43477535247,59858.55110549926,60217.36054003238,61113.030321836464,60931.92792153358,61331.7874187231,60954.460647583,59923.861970543854,58620.13865721225,57671.27885937691,57260.10436987877,54159.92847108841,51637.671666026115,50537.2856246829,50149.81443756819,50699.790797412395,51683.831277012825,53913.43705153465,56390.64056181908,59855.96333289146,61475.276804685585,61241.144170284264,60001.41004753112,57224.70225119591,58620.00840020179,59585.46988821029,60075.420344114296,61020.23175406455,61164.66593754291,61733.43577885627,61090.26834344863,59942.51130092143,58453.68930220603,57259.171729683876,56762.1682908535,53714.32618534565,51437.91993534565,50333.28056842089,50123.16211646795,50737.729454278946,51975.28741657734,54292.20880711079,56794.69086122513,60203.15384209155,61657.88150250911,61332.07051062583,59842.388815641396,56983.54963231087,58133.295265197754,58970.86173653602,59431.2073791027,60203.959698796265,60009.78470492362,60144.21341323852,59551.99904680251,58341.5970660448,56948.94989681244,55934.08800339699,55537.42414486408],\"yaxis\":\"y\",\"type\":\"scatter\"},{\"hovertemplate\":\"variable=before\\u003cbr\\u003eindex=%{x}\\u003cbr\\u003evalue=%{y}\\u003cextra\\u003e\\u003c\\u002fextra\\u003e\",\"legendgroup\":\"before\",\"line\":{\"color\":\"#58a200\",\"dash\":\"solid\"},\"marker\":{\"symbol\":\"circle\"},\"mode\":\"lines+markers\",\"name\":\"before\",\"orientation\":\"v\",\"showlegend\":true,\"x\":[\"2023-03-14T00:00:00\",\"2023-03-14T01:00:00\",\"2023-03-14T02:00:00\",\"2023-03-14T03:00:00\",\"2023-03-14T04:00:00\",\"2023-03-14T05:00:00\",\"2023-03-14T06:00:00\",\"2023-03-14T07:00:00\",\"2023-03-14T08:00:00\",\"2023-03-14T09:00:00\",\"2023-03-14T10:00:00\",\"2023-03-14T11:00:00\",\"2023-03-14T12:00:00\",\"2023-03-14T13:00:00\",\"2023-03-14T14:00:00\",\"2023-03-14T15:00:00\",\"2023-03-14T16:00:00\",\"2023-03-14T17:00:00\",\"2023-03-14T18:00:00\",\"2023-03-14T19:00:00\",\"2023-03-14T20:00:00\",\"2023-03-14T21:00:00\",\"2023-03-14T22:00:00\",\"2023-03-14T23:00:00\",\"2023-03-15T00:00:00\",\"2023-03-15T01:00:00\",\"2023-03-15T02:00:00\",\"2023-03-15T03:00:00\",\"2023-03-15T04:00:00\",\"2023-03-15T05:00:00\",\"2023-03-15T06:00:00\",\"2023-03-15T07:00:00\",\"2023-03-15T08:00:00\",\"2023-03-15T09:00:00\",\"2023-03-15T10:00:00\",\"2023-03-15T11:00:00\",\"2023-03-15T12:00:00\",\"2023-03-15T13:00:00\",\"2023-03-15T14:00:00\",\"2023-03-15T15:00:00\",\"2023-03-15T16:00:00\",\"2023-03-15T17:00:00\",\"2023-03-15T18:00:00\",\"2023-03-15T19:00:00\",\"2023-03-15T20:00:00\",\"2023-03-15T21:00:00\",\"2023-03-15T22:00:00\",\"2023-03-15T23:00:00\",\"2023-03-16T00:00:00\",\"2023-03-16T01:00:00\",\"2023-03-16T02:00:00\",\"2023-03-16T03:00:00\",\"2023-03-16T04:00:00\",\"2023-03-16T05:00:00\",\"2023-03-16T06:00:00\",\"2023-03-16T07:00:00\",\"2023-03-16T08:00:00\",\"2023-03-16T09:00:00\",\"2023-03-16T10:00:00\",\"2023-03-16T11:00:00\",\"2023-03-16T12:00:00\",\"2023-03-16T13:00:00\",\"2023-03-16T14:00:00\",\"2023-03-16T15:00:00\",\"2023-03-16T16:00:00\",\"2023-03-16T17:00:00\",\"2023-03-16T18:00:00\",\"2023-03-16T19:00:00\",\"2023-03-16T20:00:00\",\"2023-03-16T21:00:00\",\"2023-03-16T22:00:00\",\"2023-03-16T23:00:00\",\"2023-03-17T00:00:00\",\"2023-03-17T01:00:00\",\"2023-03-17T02:00:00\",\"2023-03-17T03:00:00\",\"2023-03-17T04:00:00\",\"2023-03-17T05:00:00\",\"2023-03-17T06:00:00\",\"2023-03-17T07:00:00\",\"2023-03-17T08:00:00\",\"2023-03-17T09:00:00\",\"2023-03-17T10:00:00\",\"2023-03-17T11:00:00\",\"2023-03-17T12:00:00\",\"2023-03-17T13:00:00\",\"2023-03-17T14:00:00\",\"2023-03-17T15:00:00\",\"2023-03-17T16:00:00\",\"2023-03-17T17:00:00\",\"2023-03-17T18:00:00\",\"2023-03-17T19:00:00\",\"2023-03-17T20:00:00\",\"2023-03-17T21:00:00\",\"2023-03-17T22:00:00\",\"2023-03-17T23:00:00\"],\"xaxis\":\"x\",\"y\":[57615.0,55680.0,54394.0,54148.0,54887.0,57290.0,61869.0,67121.0,70095.0,69508.0,67604.0,63656.0,59718.0,61469.0,62958.0,65023.0,68682.0,71045.0,72805.0,72455.0,70223.0,68389.0,67863.0,66739.0,62900.0,60549.0,59289.0,58832.0,59580.0,61213.0,64661.0,68504.0,70225.0,68628.0,66653.0,62617.0,58139.0,59664.0,60570.0,62260.0,65720.0,68233.0,70755.0,70637.0,68899.0,67207.0,67006.0,65784.0,61737.0,59458.0,58299.0,57829.0,58333.0,60254.0,63418.0,66621.0,67786.0,66891.0,66065.0,63653.0,60285.0,62868.0,64337.0,66072.0,68239.0,69305.0,70533.0,70182.0,68430.0,67012.0,66784.0,65443.0,61521.0,59472.0,58283.0,57704.0,58428.0,60244.0,63736.0,67825.0,69782.0,68476.0,66460.0,62345.0,59256.0,61587.0,63504.0,66259.0,69742.0,70510.0,72068.0,71782.0,69544.0,67787.0,67549.0,66402.0],\"yaxis\":\"y\",\"type\":\"scatter\"}],                        {\"template\":{\"data\":{\"barpolar\":[{\"marker\":{\"line\":{\"color\":\"rgb(17,17,17)\",\"width\":0.5},\"pattern\":{\"fillmode\":\"overlay\",\"size\":10,\"solidity\":0.2}},\"type\":\"barpolar\"}],\"bar\":[{\"error_x\":{\"color\":\"#f2f5fa\"},\"error_y\":{\"color\":\"#f2f5fa\"},\"marker\":{\"line\":{\"color\":\"rgb(17,17,17)\",\"width\":0.5},\"pattern\":{\"fillmode\":\"overlay\",\"size\":10,\"solidity\":0.2}},\"type\":\"bar\"}],\"carpet\":[{\"aaxis\":{\"endlinecolor\":\"#A2B1C6\",\"gridcolor\":\"#506784\",\"linecolor\":\"#506784\",\"minorgridcolor\":\"#506784\",\"startlinecolor\":\"#A2B1C6\"},\"baxis\":{\"endlinecolor\":\"#A2B1C6\",\"gridcolor\":\"#506784\",\"linecolor\":\"#506784\",\"minorgridcolor\":\"#506784\",\"startlinecolor\":\"#A2B1C6\"},\"type\":\"carpet\"}],\"choropleth\":[{\"colorbar\":{\"outlinewidth\":0,\"ticks\":\"\"},\"type\":\"choropleth\"}],\"contourcarpet\":[{\"colorbar\":{\"outlinewidth\":0,\"ticks\":\"\"},\"type\":\"contourcarpet\"}],\"contour\":[{\"colorbar\":{\"outlinewidth\":0,\"ticks\":\"\"},\"colorscale\":[[0.0,\"#0d0887\"],[0.1111111111111111,\"#46039f\"],[0.2222222222222222,\"#7201a8\"],[0.3333333333333333,\"#9c179e\"],[0.4444444444444444,\"#bd3786\"],[0.5555555555555556,\"#d8576b\"],[0.6666666666666666,\"#ed7953\"],[0.7777777777777778,\"#fb9f3a\"],[0.8888888888888888,\"#fdca26\"],[1.0,\"#f0f921\"]],\"type\":\"contour\"}],\"heatmapgl\":[{\"colorbar\":{\"outlinewidth\":0,\"ticks\":\"\"},\"colorscale\":[[0.0,\"#0d0887\"],[0.1111111111111111,\"#46039f\"],[0.2222222222222222,\"#7201a8\"],[0.3333333333333333,\"#9c179e\"],[0.4444444444444444,\"#bd3786\"],[0.5555555555555556,\"#d8576b\"],[0.6666666666666666,\"#ed7953\"],[0.7777777777777778,\"#fb9f3a\"],[0.8888888888888888,\"#fdca26\"],[1.0,\"#f0f921\"]],\"type\":\"heatmapgl\"}],\"heatmap\":[{\"colorbar\":{\"outlinewidth\":0,\"ticks\":\"\"},\"colorscale\":[[0.0,\"#0d0887\"],[0.1111111111111111,\"#46039f\"],[0.2222222222222222,\"#7201a8\"],[0.3333333333333333,\"#9c179e\"],[0.4444444444444444,\"#bd3786\"],[0.5555555555555556,\"#d8576b\"],[0.6666666666666666,\"#ed7953\"],[0.7777777777777778,\"#fb9f3a\"],[0.8888888888888888,\"#fdca26\"],[1.0,\"#f0f921\"]],\"type\":\"heatmap\"}],\"histogram2dcontour\":[{\"colorbar\":{\"outlinewidth\":0,\"ticks\":\"\"},\"colorscale\":[[0.0,\"#0d0887\"],[0.1111111111111111,\"#46039f\"],[0.2222222222222222,\"#7201a8\"],[0.3333333333333333,\"#9c179e\"],[0.4444444444444444,\"#bd3786\"],[0.5555555555555556,\"#d8576b\"],[0.6666666666666666,\"#ed7953\"],[0.7777777777777778,\"#fb9f3a\"],[0.8888888888888888,\"#fdca26\"],[1.0,\"#f0f921\"]],\"type\":\"histogram2dcontour\"}],\"histogram2d\":[{\"colorbar\":{\"outlinewidth\":0,\"ticks\":\"\"},\"colorscale\":[[0.0,\"#0d0887\"],[0.1111111111111111,\"#46039f\"],[0.2222222222222222,\"#7201a8\"],[0.3333333333333333,\"#9c179e\"],[0.4444444444444444,\"#bd3786\"],[0.5555555555555556,\"#d8576b\"],[0.6666666666666666,\"#ed7953\"],[0.7777777777777778,\"#fb9f3a\"],[0.8888888888888888,\"#fdca26\"],[1.0,\"#f0f921\"]],\"type\":\"histogram2d\"}],\"histogram\":[{\"marker\":{\"pattern\":{\"fillmode\":\"overlay\",\"size\":10,\"solidity\":0.2}},\"type\":\"histogram\"}],\"mesh3d\":[{\"colorbar\":{\"outlinewidth\":0,\"ticks\":\"\"},\"type\":\"mesh3d\"}],\"parcoords\":[{\"line\":{\"colorbar\":{\"outlinewidth\":0,\"ticks\":\"\"}},\"type\":\"parcoords\"}],\"pie\":[{\"automargin\":true,\"type\":\"pie\"}],\"scatter3d\":[{\"line\":{\"colorbar\":{\"outlinewidth\":0,\"ticks\":\"\"}},\"marker\":{\"colorbar\":{\"outlinewidth\":0,\"ticks\":\"\"}},\"type\":\"scatter3d\"}],\"scattercarpet\":[{\"marker\":{\"colorbar\":{\"outlinewidth\":0,\"ticks\":\"\"}},\"type\":\"scattercarpet\"}],\"scattergeo\":[{\"marker\":{\"colorbar\":{\"outlinewidth\":0,\"ticks\":\"\"}},\"type\":\"scattergeo\"}],\"scattergl\":[{\"marker\":{\"line\":{\"color\":\"#060606\"}},\"type\":\"scattergl\"}],\"scattermapbox\":[{\"marker\":{\"colorbar\":{\"outlinewidth\":0,\"ticks\":\"\"}},\"type\":\"scattermapbox\"}],\"scatterpolargl\":[{\"marker\":{\"colorbar\":{\"outlinewidth\":0,\"ticks\":\"\"}},\"type\":\"scatterpolargl\"}],\"scatterpolar\":[{\"marker\":{\"colorbar\":{\"outlinewidth\":0,\"ticks\":\"\"}},\"type\":\"scatterpolar\"}],\"scatter\":[{\"marker\":{\"line\":{\"color\":\"#060606\"}},\"type\":\"scatter\"}],\"scatterternary\":[{\"marker\":{\"colorbar\":{\"outlinewidth\":0,\"ticks\":\"\"}},\"type\":\"scatterternary\"}],\"surface\":[{\"colorbar\":{\"outlinewidth\":0,\"ticks\":\"\"},\"colorscale\":[[0.0,\"#0d0887\"],[0.1111111111111111,\"#46039f\"],[0.2222222222222222,\"#7201a8\"],[0.3333333333333333,\"#9c179e\"],[0.4444444444444444,\"#bd3786\"],[0.5555555555555556,\"#d8576b\"],[0.6666666666666666,\"#ed7953\"],[0.7777777777777778,\"#fb9f3a\"],[0.8888888888888888,\"#fdca26\"],[1.0,\"#f0f921\"]],\"type\":\"surface\"}],\"table\":[{\"cells\":{\"fill\":{\"color\":\"#506784\"},\"line\":{\"color\":\"rgb(17,17,17)\"}},\"header\":{\"fill\":{\"color\":\"#2a3f5f\"},\"line\":{\"color\":\"rgb(17,17,17)\"}},\"type\":\"table\"}]},\"layout\":{\"annotationdefaults\":{\"arrowcolor\":\"#f2f5fa\",\"arrowhead\":0,\"arrowwidth\":1,\"font\":{\"color\":\"#adafae\"}},\"autotypenumbers\":\"strict\",\"coloraxis\":{\"colorbar\":{\"outlinewidth\":0,\"ticks\":\"\"}},\"colorscale\":{\"diverging\":[[0,\"#8e0152\"],[0.1,\"#c51b7d\"],[0.2,\"#de77ae\"],[0.3,\"#f1b6da\"],[0.4,\"#fde0ef\"],[0.5,\"#f7f7f7\"],[0.6,\"#e6f5d0\"],[0.7,\"#b8e186\"],[0.8,\"#7fbc41\"],[0.9,\"#4d9221\"],[1,\"#276419\"]],\"sequential\":[[0.0,\"#2a9fd6\"],[0.1,\"#4098c6\"],[0.2,\"#5790b6\"],[0.30000000000000004,\"#6d89a6\"],[0.4,\"#838196\"],[0.5,\"#9a7a86\"],[0.6000000000000001,\"#b07276\"],[0.7000000000000001,\"#c66b66\"],[0.8,\"#dd6456\"],[0.9,\"#f35c46\"],[1.0,\"#ff5536\"]],\"sequentialminus\":[[0.0,\"#0d0887\"],[0.1111111111111111,\"#46039f\"],[0.2222222222222222,\"#7201a8\"],[0.3333333333333333,\"#9c179e\"],[0.4444444444444444,\"#bd3786\"],[0.5555555555555556,\"#d8576b\"],[0.6666666666666666,\"#ed7953\"],[0.7777777777777778,\"#fb9f3a\"],[0.8888888888888888,\"#fdca26\"],[1.0,\"#f0f921\"]]},\"colorway\":[\"#4b9ed6\",\"#c80004\",\"#58a200\",\"#ff9d24\",\"#a32acd\"],\"font\":{\"color\":\"#adafae\",\"family\":\"Roboto,-apple-system,BlinkMacSystemFont,\\\"Segoe UI\\\",\\\"Helvetica Neue\\\",Arial,sans-serif\"},\"geo\":{\"bgcolor\":\"#060606\",\"lakecolor\":\"#060606\",\"landcolor\":\"#060606\",\"showlakes\":true,\"showland\":true,\"subunitcolor\":\"#506784\"},\"hoverlabel\":{\"align\":\"left\",\"font\":{\"family\":\"Roboto,-apple-system,BlinkMacSystemFont,\\\"Segoe UI\\\",\\\"Helvetica Neue\\\",Arial,sans-serif\"}},\"hovermode\":\"closest\",\"mapbox\":{\"style\":\"dark\"},\"paper_bgcolor\":\"#282828\",\"piecolorway\":[\"#4b9ed6\",\"#c80004\",\"#58a200\",\"#ff9d24\",\"#a32acd\"],\"plot_bgcolor\":\"#060606\",\"polar\":{\"angularaxis\":{\"gridcolor\":\"#506784\",\"linecolor\":\"#506784\",\"ticks\":\"\"},\"bgcolor\":\"rgb(17,17,17)\",\"radialaxis\":{\"gridcolor\":\"#506784\",\"linecolor\":\"#506784\",\"ticks\":\"\"}},\"scene\":{\"xaxis\":{\"backgroundcolor\":\"rgb(17,17,17)\",\"gridcolor\":\"#506784\",\"gridwidth\":2,\"linecolor\":\"#506784\",\"showbackground\":true,\"ticks\":\"\",\"zerolinecolor\":\"#C8D4E3\"},\"yaxis\":{\"backgroundcolor\":\"rgb(17,17,17)\",\"gridcolor\":\"#506784\",\"gridwidth\":2,\"linecolor\":\"#506784\",\"showbackground\":true,\"ticks\":\"\",\"zerolinecolor\":\"#C8D4E3\"},\"zaxis\":{\"backgroundcolor\":\"rgb(17,17,17)\",\"gridcolor\":\"#506784\",\"gridwidth\":2,\"linecolor\":\"#506784\",\"showbackground\":true,\"ticks\":\"\",\"zerolinecolor\":\"#C8D4E3\"}},\"shapedefaults\":{\"line\":{\"color\":\"#f2f5fa\"}},\"sliderdefaults\":{\"bgcolor\":\"#C8D4E3\",\"bordercolor\":\"rgb(17,17,17)\",\"borderwidth\":1,\"tickwidth\":0},\"ternary\":{\"aaxis\":{\"gridcolor\":\"#506784\",\"linecolor\":\"#506784\",\"ticks\":\"\"},\"baxis\":{\"gridcolor\":\"#506784\",\"linecolor\":\"#506784\",\"ticks\":\"\"},\"bgcolor\":\"rgb(17,17,17)\",\"caxis\":{\"gridcolor\":\"#506784\",\"linecolor\":\"#506784\",\"ticks\":\"\"}},\"title\":{\"x\":0.05},\"updatemenudefaults\":{\"bgcolor\":\"#506784\",\"borderwidth\":0},\"xaxis\":{\"automargin\":true,\"gridcolor\":\"#131413\",\"gridwidth\":0.5,\"linecolor\":\"#506784\",\"ticks\":\"\",\"title\":{\"standoff\":15},\"zerolinecolor\":\"#131413\",\"zerolinewidth\":2},\"yaxis\":{\"automargin\":true,\"gridcolor\":\"#131413\",\"gridwidth\":0.5,\"linecolor\":\"#506784\",\"ticks\":\"\",\"title\":{\"standoff\":15},\"zerolinecolor\":\"#131413\",\"zerolinewidth\":2}}},\"xaxis\":{\"anchor\":\"y\",\"domain\":[0.0,1.0],\"title\":{\"text\":\"index\"}},\"yaxis\":{\"anchor\":\"x\",\"domain\":[0.0,1.0],\"title\":{\"text\":\"value\"},\"range\":[0,120000]},\"legend\":{\"title\":{\"text\":\"variable\"},\"tracegroupgap\":0},\"margin\":{\"t\":60},\"height\":600},                        {\"responsive\": true}                    ).then(function(){\n",
       "                            \n",
       "var gd = document.getElementById('9306564a-9e2d-4e8e-afa2-84d48e4f961f');\n",
       "var x = new MutationObserver(function (mutations, observer) {{\n",
       "        var display = window.getComputedStyle(gd).display;\n",
       "        if (!display || display === 'none') {{\n",
       "            console.log([gd, 'removed!']);\n",
       "            Plotly.purge(gd);\n",
       "            observer.disconnect();\n",
       "        }}\n",
       "}});\n",
       "\n",
       "// Listen for the removal of the full notebook cells\n",
       "var notebookContainer = gd.closest('#notebook-container');\n",
       "if (notebookContainer) {{\n",
       "    x.observe(notebookContainer, {childList: true});\n",
       "}}\n",
       "\n",
       "// Listen for the clearing of the current output cell\n",
       "var outputEl = gd.closest('.output');\n",
       "if (outputEl) {{\n",
       "    x.observe(outputEl, {childList: true});\n",
       "}}\n",
       "\n",
       "                        })                };                });            </script>        </div>"
      ]
     },
     "metadata": {},
     "output_type": "display_data"
    }
   ],
   "source": [
    "import plotly.express as px\n",
    "from dash_bootstrap_templates import load_figure_template\n",
    "load_figure_template([\"minty\",  \"minty_dark\", 'cyborg', 'cyborg_dark'])\n",
    "\n",
    "start_date = '2023-03-14'\n",
    "end_date = '2023-03-17'\n",
    "\n",
    "data = actual_predicted_df.loc[start_date:end_date]\n",
    "fig = px.line( data[['actual', 'predicted', 'before']], markers=True, template='cyborg', height=600)\n",
    "fig.update_layout(yaxis_range=[0, 120000])\n",
    "fig.show()"
   ]
  },
  {
   "cell_type": "code",
   "execution_count": null,
   "id": "f57b7bb9-f0be-427c-9d7d-5c7b39fe2c72",
   "metadata": {},
   "outputs": [],
   "source": []
  }
 ],
 "metadata": {
  "kernelspec": {
   "display_name": "Python 3 (ipykernel)",
   "language": "python",
   "name": "python3"
  },
  "language_info": {
   "codemirror_mode": {
    "name": "ipython",
    "version": 3
   },
   "file_extension": ".py",
   "mimetype": "text/x-python",
   "name": "python",
   "nbconvert_exporter": "python",
   "pygments_lexer": "ipython3",
   "version": "3.12.7"
  }
 },
 "nbformat": 4,
 "nbformat_minor": 5
}

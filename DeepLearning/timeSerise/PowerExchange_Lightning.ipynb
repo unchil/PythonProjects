{
 "cells": [
  {
   "cell_type": "code",
   "execution_count": 48,
   "id": "927b6197-d953-48d5-b3b5-0c6acf019e61",
   "metadata": {
    "scrolled": true
   },
   "outputs": [],
   "source": [
    "import pandas as pd\n",
    "import os\n",
    "import torch\n",
    "from torch.utils.data import Dataset\n",
    "from sklearn.preprocessing import MinMaxScaler\n",
    "from torch.utils.data import DataLoader\n",
    "from torch import nn\n",
    "import pytorch_lightning as L\n",
    "from pytorch_lightning import seed_everything, LightningModule, Trainer\n",
    "import numpy as np"
   ]
  },
  {
   "cell_type": "code",
   "execution_count": 145,
   "id": "53d39c0e-bb0e-4cb6-909b-d7afef69da53",
   "metadata": {
    "scrolled": true
   },
   "outputs": [
    {
     "data": {
      "text/html": [
       "<div>\n",
       "<style scoped>\n",
       "    .dataframe tbody tr th:only-of-type {\n",
       "        vertical-align: middle;\n",
       "    }\n",
       "\n",
       "    .dataframe tbody tr th {\n",
       "        vertical-align: top;\n",
       "    }\n",
       "\n",
       "    .dataframe thead th {\n",
       "        text-align: right;\n",
       "    }\n",
       "</style>\n",
       "<table border=\"1\" class=\"dataframe\">\n",
       "  <thead>\n",
       "    <tr style=\"text-align: right;\">\n",
       "      <th></th>\n",
       "      <th>demand</th>\n",
       "      <th>month_1</th>\n",
       "      <th>month_2</th>\n",
       "      <th>month_3</th>\n",
       "      <th>month_4</th>\n",
       "      <th>month_5</th>\n",
       "      <th>month_6</th>\n",
       "      <th>month_7</th>\n",
       "      <th>month_8</th>\n",
       "      <th>month_9</th>\n",
       "      <th>...</th>\n",
       "      <th>hr_14</th>\n",
       "      <th>hr_15</th>\n",
       "      <th>hr_16</th>\n",
       "      <th>hr_17</th>\n",
       "      <th>hr_18</th>\n",
       "      <th>hr_19</th>\n",
       "      <th>hr_20</th>\n",
       "      <th>hr_21</th>\n",
       "      <th>hr_22</th>\n",
       "      <th>hr_23</th>\n",
       "    </tr>\n",
       "    <tr>\n",
       "      <th>date_time</th>\n",
       "      <th></th>\n",
       "      <th></th>\n",
       "      <th></th>\n",
       "      <th></th>\n",
       "      <th></th>\n",
       "      <th></th>\n",
       "      <th></th>\n",
       "      <th></th>\n",
       "      <th></th>\n",
       "      <th></th>\n",
       "      <th></th>\n",
       "      <th></th>\n",
       "      <th></th>\n",
       "      <th></th>\n",
       "      <th></th>\n",
       "      <th></th>\n",
       "      <th></th>\n",
       "      <th></th>\n",
       "      <th></th>\n",
       "      <th></th>\n",
       "      <th></th>\n",
       "    </tr>\n",
       "  </thead>\n",
       "  <tbody>\n",
       "    <tr>\n",
       "      <th>2013-01-01 00:00:00</th>\n",
       "      <td>60178</td>\n",
       "      <td>True</td>\n",
       "      <td>False</td>\n",
       "      <td>False</td>\n",
       "      <td>False</td>\n",
       "      <td>False</td>\n",
       "      <td>False</td>\n",
       "      <td>False</td>\n",
       "      <td>False</td>\n",
       "      <td>False</td>\n",
       "      <td>...</td>\n",
       "      <td>False</td>\n",
       "      <td>False</td>\n",
       "      <td>False</td>\n",
       "      <td>False</td>\n",
       "      <td>False</td>\n",
       "      <td>False</td>\n",
       "      <td>False</td>\n",
       "      <td>False</td>\n",
       "      <td>False</td>\n",
       "      <td>False</td>\n",
       "    </tr>\n",
       "    <tr>\n",
       "      <th>2013-01-01 01:00:00</th>\n",
       "      <td>57862</td>\n",
       "      <td>True</td>\n",
       "      <td>False</td>\n",
       "      <td>False</td>\n",
       "      <td>False</td>\n",
       "      <td>False</td>\n",
       "      <td>False</td>\n",
       "      <td>False</td>\n",
       "      <td>False</td>\n",
       "      <td>False</td>\n",
       "      <td>...</td>\n",
       "      <td>False</td>\n",
       "      <td>False</td>\n",
       "      <td>False</td>\n",
       "      <td>False</td>\n",
       "      <td>False</td>\n",
       "      <td>False</td>\n",
       "      <td>False</td>\n",
       "      <td>False</td>\n",
       "      <td>False</td>\n",
       "      <td>False</td>\n",
       "    </tr>\n",
       "    <tr>\n",
       "      <th>2013-01-01 02:00:00</th>\n",
       "      <td>56165</td>\n",
       "      <td>True</td>\n",
       "      <td>False</td>\n",
       "      <td>False</td>\n",
       "      <td>False</td>\n",
       "      <td>False</td>\n",
       "      <td>False</td>\n",
       "      <td>False</td>\n",
       "      <td>False</td>\n",
       "      <td>False</td>\n",
       "      <td>...</td>\n",
       "      <td>False</td>\n",
       "      <td>False</td>\n",
       "      <td>False</td>\n",
       "      <td>False</td>\n",
       "      <td>False</td>\n",
       "      <td>False</td>\n",
       "      <td>False</td>\n",
       "      <td>False</td>\n",
       "      <td>False</td>\n",
       "      <td>False</td>\n",
       "    </tr>\n",
       "    <tr>\n",
       "      <th>2013-01-01 03:00:00</th>\n",
       "      <td>55135</td>\n",
       "      <td>True</td>\n",
       "      <td>False</td>\n",
       "      <td>False</td>\n",
       "      <td>False</td>\n",
       "      <td>False</td>\n",
       "      <td>False</td>\n",
       "      <td>False</td>\n",
       "      <td>False</td>\n",
       "      <td>False</td>\n",
       "      <td>...</td>\n",
       "      <td>False</td>\n",
       "      <td>False</td>\n",
       "      <td>False</td>\n",
       "      <td>False</td>\n",
       "      <td>False</td>\n",
       "      <td>False</td>\n",
       "      <td>False</td>\n",
       "      <td>False</td>\n",
       "      <td>False</td>\n",
       "      <td>False</td>\n",
       "    </tr>\n",
       "    <tr>\n",
       "      <th>2013-01-01 04:00:00</th>\n",
       "      <td>54450</td>\n",
       "      <td>True</td>\n",
       "      <td>False</td>\n",
       "      <td>False</td>\n",
       "      <td>False</td>\n",
       "      <td>False</td>\n",
       "      <td>False</td>\n",
       "      <td>False</td>\n",
       "      <td>False</td>\n",
       "      <td>False</td>\n",
       "      <td>...</td>\n",
       "      <td>False</td>\n",
       "      <td>False</td>\n",
       "      <td>False</td>\n",
       "      <td>False</td>\n",
       "      <td>False</td>\n",
       "      <td>False</td>\n",
       "      <td>False</td>\n",
       "      <td>False</td>\n",
       "      <td>False</td>\n",
       "      <td>False</td>\n",
       "    </tr>\n",
       "    <tr>\n",
       "      <th>...</th>\n",
       "      <td>...</td>\n",
       "      <td>...</td>\n",
       "      <td>...</td>\n",
       "      <td>...</td>\n",
       "      <td>...</td>\n",
       "      <td>...</td>\n",
       "      <td>...</td>\n",
       "      <td>...</td>\n",
       "      <td>...</td>\n",
       "      <td>...</td>\n",
       "      <td>...</td>\n",
       "      <td>...</td>\n",
       "      <td>...</td>\n",
       "      <td>...</td>\n",
       "      <td>...</td>\n",
       "      <td>...</td>\n",
       "      <td>...</td>\n",
       "      <td>...</td>\n",
       "      <td>...</td>\n",
       "      <td>...</td>\n",
       "      <td>...</td>\n",
       "    </tr>\n",
       "    <tr>\n",
       "      <th>2023-12-31 19:00:00</th>\n",
       "      <td>62902</td>\n",
       "      <td>False</td>\n",
       "      <td>False</td>\n",
       "      <td>False</td>\n",
       "      <td>False</td>\n",
       "      <td>False</td>\n",
       "      <td>False</td>\n",
       "      <td>False</td>\n",
       "      <td>False</td>\n",
       "      <td>False</td>\n",
       "      <td>...</td>\n",
       "      <td>False</td>\n",
       "      <td>False</td>\n",
       "      <td>False</td>\n",
       "      <td>False</td>\n",
       "      <td>False</td>\n",
       "      <td>True</td>\n",
       "      <td>False</td>\n",
       "      <td>False</td>\n",
       "      <td>False</td>\n",
       "      <td>False</td>\n",
       "    </tr>\n",
       "    <tr>\n",
       "      <th>2023-12-31 20:00:00</th>\n",
       "      <td>62061</td>\n",
       "      <td>False</td>\n",
       "      <td>False</td>\n",
       "      <td>False</td>\n",
       "      <td>False</td>\n",
       "      <td>False</td>\n",
       "      <td>False</td>\n",
       "      <td>False</td>\n",
       "      <td>False</td>\n",
       "      <td>False</td>\n",
       "      <td>...</td>\n",
       "      <td>False</td>\n",
       "      <td>False</td>\n",
       "      <td>False</td>\n",
       "      <td>False</td>\n",
       "      <td>False</td>\n",
       "      <td>False</td>\n",
       "      <td>True</td>\n",
       "      <td>False</td>\n",
       "      <td>False</td>\n",
       "      <td>False</td>\n",
       "    </tr>\n",
       "    <tr>\n",
       "      <th>2023-12-31 21:00:00</th>\n",
       "      <td>61403</td>\n",
       "      <td>False</td>\n",
       "      <td>False</td>\n",
       "      <td>False</td>\n",
       "      <td>False</td>\n",
       "      <td>False</td>\n",
       "      <td>False</td>\n",
       "      <td>False</td>\n",
       "      <td>False</td>\n",
       "      <td>False</td>\n",
       "      <td>...</td>\n",
       "      <td>False</td>\n",
       "      <td>False</td>\n",
       "      <td>False</td>\n",
       "      <td>False</td>\n",
       "      <td>False</td>\n",
       "      <td>False</td>\n",
       "      <td>False</td>\n",
       "      <td>True</td>\n",
       "      <td>False</td>\n",
       "      <td>False</td>\n",
       "    </tr>\n",
       "    <tr>\n",
       "      <th>2023-12-31 22:00:00</th>\n",
       "      <td>61891</td>\n",
       "      <td>False</td>\n",
       "      <td>False</td>\n",
       "      <td>False</td>\n",
       "      <td>False</td>\n",
       "      <td>False</td>\n",
       "      <td>False</td>\n",
       "      <td>False</td>\n",
       "      <td>False</td>\n",
       "      <td>False</td>\n",
       "      <td>...</td>\n",
       "      <td>False</td>\n",
       "      <td>False</td>\n",
       "      <td>False</td>\n",
       "      <td>False</td>\n",
       "      <td>False</td>\n",
       "      <td>False</td>\n",
       "      <td>False</td>\n",
       "      <td>False</td>\n",
       "      <td>True</td>\n",
       "      <td>False</td>\n",
       "    </tr>\n",
       "    <tr>\n",
       "      <th>2023-12-31 23:00:00</th>\n",
       "      <td>62125</td>\n",
       "      <td>False</td>\n",
       "      <td>False</td>\n",
       "      <td>False</td>\n",
       "      <td>False</td>\n",
       "      <td>False</td>\n",
       "      <td>False</td>\n",
       "      <td>False</td>\n",
       "      <td>False</td>\n",
       "      <td>False</td>\n",
       "      <td>...</td>\n",
       "      <td>False</td>\n",
       "      <td>False</td>\n",
       "      <td>False</td>\n",
       "      <td>False</td>\n",
       "      <td>False</td>\n",
       "      <td>False</td>\n",
       "      <td>False</td>\n",
       "      <td>False</td>\n",
       "      <td>False</td>\n",
       "      <td>True</td>\n",
       "    </tr>\n",
       "  </tbody>\n",
       "</table>\n",
       "<p>96408 rows × 44 columns</p>\n",
       "</div>"
      ],
      "text/plain": [
       "                     demand  month_1  month_2  month_3  month_4  month_5  \\\n",
       "date_time                                                                  \n",
       "2013-01-01 00:00:00   60178     True    False    False    False    False   \n",
       "2013-01-01 01:00:00   57862     True    False    False    False    False   \n",
       "2013-01-01 02:00:00   56165     True    False    False    False    False   \n",
       "2013-01-01 03:00:00   55135     True    False    False    False    False   \n",
       "2013-01-01 04:00:00   54450     True    False    False    False    False   \n",
       "...                     ...      ...      ...      ...      ...      ...   \n",
       "2023-12-31 19:00:00   62902    False    False    False    False    False   \n",
       "2023-12-31 20:00:00   62061    False    False    False    False    False   \n",
       "2023-12-31 21:00:00   61403    False    False    False    False    False   \n",
       "2023-12-31 22:00:00   61891    False    False    False    False    False   \n",
       "2023-12-31 23:00:00   62125    False    False    False    False    False   \n",
       "\n",
       "                     month_6  month_7  month_8  month_9  ...  hr_14  hr_15  \\\n",
       "date_time                                                ...                 \n",
       "2013-01-01 00:00:00    False    False    False    False  ...  False  False   \n",
       "2013-01-01 01:00:00    False    False    False    False  ...  False  False   \n",
       "2013-01-01 02:00:00    False    False    False    False  ...  False  False   \n",
       "2013-01-01 03:00:00    False    False    False    False  ...  False  False   \n",
       "2013-01-01 04:00:00    False    False    False    False  ...  False  False   \n",
       "...                      ...      ...      ...      ...  ...    ...    ...   \n",
       "2023-12-31 19:00:00    False    False    False    False  ...  False  False   \n",
       "2023-12-31 20:00:00    False    False    False    False  ...  False  False   \n",
       "2023-12-31 21:00:00    False    False    False    False  ...  False  False   \n",
       "2023-12-31 22:00:00    False    False    False    False  ...  False  False   \n",
       "2023-12-31 23:00:00    False    False    False    False  ...  False  False   \n",
       "\n",
       "                     hr_16  hr_17  hr_18  hr_19  hr_20  hr_21  hr_22  hr_23  \n",
       "date_time                                                                    \n",
       "2013-01-01 00:00:00  False  False  False  False  False  False  False  False  \n",
       "2013-01-01 01:00:00  False  False  False  False  False  False  False  False  \n",
       "2013-01-01 02:00:00  False  False  False  False  False  False  False  False  \n",
       "2013-01-01 03:00:00  False  False  False  False  False  False  False  False  \n",
       "2013-01-01 04:00:00  False  False  False  False  False  False  False  False  \n",
       "...                    ...    ...    ...    ...    ...    ...    ...    ...  \n",
       "2023-12-31 19:00:00  False  False  False   True  False  False  False  False  \n",
       "2023-12-31 20:00:00  False  False  False  False   True  False  False  False  \n",
       "2023-12-31 21:00:00  False  False  False  False  False   True  False  False  \n",
       "2023-12-31 22:00:00  False  False  False  False  False  False   True  False  \n",
       "2023-12-31 23:00:00  False  False  False  False  False  False  False   True  \n",
       "\n",
       "[96408 rows x 44 columns]"
      ]
     },
     "execution_count": 145,
     "metadata": {},
     "output_type": "execute_result"
    }
   ],
   "source": [
    "data_dir = '/Volumes/Data/Row_Data'\n",
    "file_name_modify = 'kpx_powerDemand_2013_2023_v1.csv'\n",
    "url = f'{data_dir}/{file_name_modify}'\n",
    "df_data = pd.read_csv(url, parse_dates=['date_time'], index_col=\"date_time\", encoding='euc-kr')  \n",
    "df_data"
   ]
  },
  {
   "cell_type": "code",
   "execution_count": 146,
   "id": "3b0925f5-7d33-4692-b053-3f0eb27bcb1f",
   "metadata": {},
   "outputs": [
    {
     "data": {
      "text/html": [
       "<style>#sk-container-id-6 {\n",
       "  /* Definition of color scheme common for light and dark mode */\n",
       "  --sklearn-color-text: black;\n",
       "  --sklearn-color-line: gray;\n",
       "  /* Definition of color scheme for unfitted estimators */\n",
       "  --sklearn-color-unfitted-level-0: #fff5e6;\n",
       "  --sklearn-color-unfitted-level-1: #f6e4d2;\n",
       "  --sklearn-color-unfitted-level-2: #ffe0b3;\n",
       "  --sklearn-color-unfitted-level-3: chocolate;\n",
       "  /* Definition of color scheme for fitted estimators */\n",
       "  --sklearn-color-fitted-level-0: #f0f8ff;\n",
       "  --sklearn-color-fitted-level-1: #d4ebff;\n",
       "  --sklearn-color-fitted-level-2: #b3dbfd;\n",
       "  --sklearn-color-fitted-level-3: cornflowerblue;\n",
       "\n",
       "  /* Specific color for light theme */\n",
       "  --sklearn-color-text-on-default-background: var(--sg-text-color, var(--theme-code-foreground, var(--jp-content-font-color1, black)));\n",
       "  --sklearn-color-background: var(--sg-background-color, var(--theme-background, var(--jp-layout-color0, white)));\n",
       "  --sklearn-color-border-box: var(--sg-text-color, var(--theme-code-foreground, var(--jp-content-font-color1, black)));\n",
       "  --sklearn-color-icon: #696969;\n",
       "\n",
       "  @media (prefers-color-scheme: dark) {\n",
       "    /* Redefinition of color scheme for dark theme */\n",
       "    --sklearn-color-text-on-default-background: var(--sg-text-color, var(--theme-code-foreground, var(--jp-content-font-color1, white)));\n",
       "    --sklearn-color-background: var(--sg-background-color, var(--theme-background, var(--jp-layout-color0, #111)));\n",
       "    --sklearn-color-border-box: var(--sg-text-color, var(--theme-code-foreground, var(--jp-content-font-color1, white)));\n",
       "    --sklearn-color-icon: #878787;\n",
       "  }\n",
       "}\n",
       "\n",
       "#sk-container-id-6 {\n",
       "  color: var(--sklearn-color-text);\n",
       "}\n",
       "\n",
       "#sk-container-id-6 pre {\n",
       "  padding: 0;\n",
       "}\n",
       "\n",
       "#sk-container-id-6 input.sk-hidden--visually {\n",
       "  border: 0;\n",
       "  clip: rect(1px 1px 1px 1px);\n",
       "  clip: rect(1px, 1px, 1px, 1px);\n",
       "  height: 1px;\n",
       "  margin: -1px;\n",
       "  overflow: hidden;\n",
       "  padding: 0;\n",
       "  position: absolute;\n",
       "  width: 1px;\n",
       "}\n",
       "\n",
       "#sk-container-id-6 div.sk-dashed-wrapped {\n",
       "  border: 1px dashed var(--sklearn-color-line);\n",
       "  margin: 0 0.4em 0.5em 0.4em;\n",
       "  box-sizing: border-box;\n",
       "  padding-bottom: 0.4em;\n",
       "  background-color: var(--sklearn-color-background);\n",
       "}\n",
       "\n",
       "#sk-container-id-6 div.sk-container {\n",
       "  /* jupyter's `normalize.less` sets `[hidden] { display: none; }`\n",
       "     but bootstrap.min.css set `[hidden] { display: none !important; }`\n",
       "     so we also need the `!important` here to be able to override the\n",
       "     default hidden behavior on the sphinx rendered scikit-learn.org.\n",
       "     See: https://github.com/scikit-learn/scikit-learn/issues/21755 */\n",
       "  display: inline-block !important;\n",
       "  position: relative;\n",
       "}\n",
       "\n",
       "#sk-container-id-6 div.sk-text-repr-fallback {\n",
       "  display: none;\n",
       "}\n",
       "\n",
       "div.sk-parallel-item,\n",
       "div.sk-serial,\n",
       "div.sk-item {\n",
       "  /* draw centered vertical line to link estimators */\n",
       "  background-image: linear-gradient(var(--sklearn-color-text-on-default-background), var(--sklearn-color-text-on-default-background));\n",
       "  background-size: 2px 100%;\n",
       "  background-repeat: no-repeat;\n",
       "  background-position: center center;\n",
       "}\n",
       "\n",
       "/* Parallel-specific style estimator block */\n",
       "\n",
       "#sk-container-id-6 div.sk-parallel-item::after {\n",
       "  content: \"\";\n",
       "  width: 100%;\n",
       "  border-bottom: 2px solid var(--sklearn-color-text-on-default-background);\n",
       "  flex-grow: 1;\n",
       "}\n",
       "\n",
       "#sk-container-id-6 div.sk-parallel {\n",
       "  display: flex;\n",
       "  align-items: stretch;\n",
       "  justify-content: center;\n",
       "  background-color: var(--sklearn-color-background);\n",
       "  position: relative;\n",
       "}\n",
       "\n",
       "#sk-container-id-6 div.sk-parallel-item {\n",
       "  display: flex;\n",
       "  flex-direction: column;\n",
       "}\n",
       "\n",
       "#sk-container-id-6 div.sk-parallel-item:first-child::after {\n",
       "  align-self: flex-end;\n",
       "  width: 50%;\n",
       "}\n",
       "\n",
       "#sk-container-id-6 div.sk-parallel-item:last-child::after {\n",
       "  align-self: flex-start;\n",
       "  width: 50%;\n",
       "}\n",
       "\n",
       "#sk-container-id-6 div.sk-parallel-item:only-child::after {\n",
       "  width: 0;\n",
       "}\n",
       "\n",
       "/* Serial-specific style estimator block */\n",
       "\n",
       "#sk-container-id-6 div.sk-serial {\n",
       "  display: flex;\n",
       "  flex-direction: column;\n",
       "  align-items: center;\n",
       "  background-color: var(--sklearn-color-background);\n",
       "  padding-right: 1em;\n",
       "  padding-left: 1em;\n",
       "}\n",
       "\n",
       "\n",
       "/* Toggleable style: style used for estimator/Pipeline/ColumnTransformer box that is\n",
       "clickable and can be expanded/collapsed.\n",
       "- Pipeline and ColumnTransformer use this feature and define the default style\n",
       "- Estimators will overwrite some part of the style using the `sk-estimator` class\n",
       "*/\n",
       "\n",
       "/* Pipeline and ColumnTransformer style (default) */\n",
       "\n",
       "#sk-container-id-6 div.sk-toggleable {\n",
       "  /* Default theme specific background. It is overwritten whether we have a\n",
       "  specific estimator or a Pipeline/ColumnTransformer */\n",
       "  background-color: var(--sklearn-color-background);\n",
       "}\n",
       "\n",
       "/* Toggleable label */\n",
       "#sk-container-id-6 label.sk-toggleable__label {\n",
       "  cursor: pointer;\n",
       "  display: block;\n",
       "  width: 100%;\n",
       "  margin-bottom: 0;\n",
       "  padding: 0.5em;\n",
       "  box-sizing: border-box;\n",
       "  text-align: center;\n",
       "}\n",
       "\n",
       "#sk-container-id-6 label.sk-toggleable__label-arrow:before {\n",
       "  /* Arrow on the left of the label */\n",
       "  content: \"▸\";\n",
       "  float: left;\n",
       "  margin-right: 0.25em;\n",
       "  color: var(--sklearn-color-icon);\n",
       "}\n",
       "\n",
       "#sk-container-id-6 label.sk-toggleable__label-arrow:hover:before {\n",
       "  color: var(--sklearn-color-text);\n",
       "}\n",
       "\n",
       "/* Toggleable content - dropdown */\n",
       "\n",
       "#sk-container-id-6 div.sk-toggleable__content {\n",
       "  max-height: 0;\n",
       "  max-width: 0;\n",
       "  overflow: hidden;\n",
       "  text-align: left;\n",
       "  /* unfitted */\n",
       "  background-color: var(--sklearn-color-unfitted-level-0);\n",
       "}\n",
       "\n",
       "#sk-container-id-6 div.sk-toggleable__content.fitted {\n",
       "  /* fitted */\n",
       "  background-color: var(--sklearn-color-fitted-level-0);\n",
       "}\n",
       "\n",
       "#sk-container-id-6 div.sk-toggleable__content pre {\n",
       "  margin: 0.2em;\n",
       "  border-radius: 0.25em;\n",
       "  color: var(--sklearn-color-text);\n",
       "  /* unfitted */\n",
       "  background-color: var(--sklearn-color-unfitted-level-0);\n",
       "}\n",
       "\n",
       "#sk-container-id-6 div.sk-toggleable__content.fitted pre {\n",
       "  /* unfitted */\n",
       "  background-color: var(--sklearn-color-fitted-level-0);\n",
       "}\n",
       "\n",
       "#sk-container-id-6 input.sk-toggleable__control:checked~div.sk-toggleable__content {\n",
       "  /* Expand drop-down */\n",
       "  max-height: 200px;\n",
       "  max-width: 100%;\n",
       "  overflow: auto;\n",
       "}\n",
       "\n",
       "#sk-container-id-6 input.sk-toggleable__control:checked~label.sk-toggleable__label-arrow:before {\n",
       "  content: \"▾\";\n",
       "}\n",
       "\n",
       "/* Pipeline/ColumnTransformer-specific style */\n",
       "\n",
       "#sk-container-id-6 div.sk-label input.sk-toggleable__control:checked~label.sk-toggleable__label {\n",
       "  color: var(--sklearn-color-text);\n",
       "  background-color: var(--sklearn-color-unfitted-level-2);\n",
       "}\n",
       "\n",
       "#sk-container-id-6 div.sk-label.fitted input.sk-toggleable__control:checked~label.sk-toggleable__label {\n",
       "  background-color: var(--sklearn-color-fitted-level-2);\n",
       "}\n",
       "\n",
       "/* Estimator-specific style */\n",
       "\n",
       "/* Colorize estimator box */\n",
       "#sk-container-id-6 div.sk-estimator input.sk-toggleable__control:checked~label.sk-toggleable__label {\n",
       "  /* unfitted */\n",
       "  background-color: var(--sklearn-color-unfitted-level-2);\n",
       "}\n",
       "\n",
       "#sk-container-id-6 div.sk-estimator.fitted input.sk-toggleable__control:checked~label.sk-toggleable__label {\n",
       "  /* fitted */\n",
       "  background-color: var(--sklearn-color-fitted-level-2);\n",
       "}\n",
       "\n",
       "#sk-container-id-6 div.sk-label label.sk-toggleable__label,\n",
       "#sk-container-id-6 div.sk-label label {\n",
       "  /* The background is the default theme color */\n",
       "  color: var(--sklearn-color-text-on-default-background);\n",
       "}\n",
       "\n",
       "/* On hover, darken the color of the background */\n",
       "#sk-container-id-6 div.sk-label:hover label.sk-toggleable__label {\n",
       "  color: var(--sklearn-color-text);\n",
       "  background-color: var(--sklearn-color-unfitted-level-2);\n",
       "}\n",
       "\n",
       "/* Label box, darken color on hover, fitted */\n",
       "#sk-container-id-6 div.sk-label.fitted:hover label.sk-toggleable__label.fitted {\n",
       "  color: var(--sklearn-color-text);\n",
       "  background-color: var(--sklearn-color-fitted-level-2);\n",
       "}\n",
       "\n",
       "/* Estimator label */\n",
       "\n",
       "#sk-container-id-6 div.sk-label label {\n",
       "  font-family: monospace;\n",
       "  font-weight: bold;\n",
       "  display: inline-block;\n",
       "  line-height: 1.2em;\n",
       "}\n",
       "\n",
       "#sk-container-id-6 div.sk-label-container {\n",
       "  text-align: center;\n",
       "}\n",
       "\n",
       "/* Estimator-specific */\n",
       "#sk-container-id-6 div.sk-estimator {\n",
       "  font-family: monospace;\n",
       "  border: 1px dotted var(--sklearn-color-border-box);\n",
       "  border-radius: 0.25em;\n",
       "  box-sizing: border-box;\n",
       "  margin-bottom: 0.5em;\n",
       "  /* unfitted */\n",
       "  background-color: var(--sklearn-color-unfitted-level-0);\n",
       "}\n",
       "\n",
       "#sk-container-id-6 div.sk-estimator.fitted {\n",
       "  /* fitted */\n",
       "  background-color: var(--sklearn-color-fitted-level-0);\n",
       "}\n",
       "\n",
       "/* on hover */\n",
       "#sk-container-id-6 div.sk-estimator:hover {\n",
       "  /* unfitted */\n",
       "  background-color: var(--sklearn-color-unfitted-level-2);\n",
       "}\n",
       "\n",
       "#sk-container-id-6 div.sk-estimator.fitted:hover {\n",
       "  /* fitted */\n",
       "  background-color: var(--sklearn-color-fitted-level-2);\n",
       "}\n",
       "\n",
       "/* Specification for estimator info (e.g. \"i\" and \"?\") */\n",
       "\n",
       "/* Common style for \"i\" and \"?\" */\n",
       "\n",
       ".sk-estimator-doc-link,\n",
       "a:link.sk-estimator-doc-link,\n",
       "a:visited.sk-estimator-doc-link {\n",
       "  float: right;\n",
       "  font-size: smaller;\n",
       "  line-height: 1em;\n",
       "  font-family: monospace;\n",
       "  background-color: var(--sklearn-color-background);\n",
       "  border-radius: 1em;\n",
       "  height: 1em;\n",
       "  width: 1em;\n",
       "  text-decoration: none !important;\n",
       "  margin-left: 1ex;\n",
       "  /* unfitted */\n",
       "  border: var(--sklearn-color-unfitted-level-1) 1pt solid;\n",
       "  color: var(--sklearn-color-unfitted-level-1);\n",
       "}\n",
       "\n",
       ".sk-estimator-doc-link.fitted,\n",
       "a:link.sk-estimator-doc-link.fitted,\n",
       "a:visited.sk-estimator-doc-link.fitted {\n",
       "  /* fitted */\n",
       "  border: var(--sklearn-color-fitted-level-1) 1pt solid;\n",
       "  color: var(--sklearn-color-fitted-level-1);\n",
       "}\n",
       "\n",
       "/* On hover */\n",
       "div.sk-estimator:hover .sk-estimator-doc-link:hover,\n",
       ".sk-estimator-doc-link:hover,\n",
       "div.sk-label-container:hover .sk-estimator-doc-link:hover,\n",
       ".sk-estimator-doc-link:hover {\n",
       "  /* unfitted */\n",
       "  background-color: var(--sklearn-color-unfitted-level-3);\n",
       "  color: var(--sklearn-color-background);\n",
       "  text-decoration: none;\n",
       "}\n",
       "\n",
       "div.sk-estimator.fitted:hover .sk-estimator-doc-link.fitted:hover,\n",
       ".sk-estimator-doc-link.fitted:hover,\n",
       "div.sk-label-container:hover .sk-estimator-doc-link.fitted:hover,\n",
       ".sk-estimator-doc-link.fitted:hover {\n",
       "  /* fitted */\n",
       "  background-color: var(--sklearn-color-fitted-level-3);\n",
       "  color: var(--sklearn-color-background);\n",
       "  text-decoration: none;\n",
       "}\n",
       "\n",
       "/* Span, style for the box shown on hovering the info icon */\n",
       ".sk-estimator-doc-link span {\n",
       "  display: none;\n",
       "  z-index: 9999;\n",
       "  position: relative;\n",
       "  font-weight: normal;\n",
       "  right: .2ex;\n",
       "  padding: .5ex;\n",
       "  margin: .5ex;\n",
       "  width: min-content;\n",
       "  min-width: 20ex;\n",
       "  max-width: 50ex;\n",
       "  color: var(--sklearn-color-text);\n",
       "  box-shadow: 2pt 2pt 4pt #999;\n",
       "  /* unfitted */\n",
       "  background: var(--sklearn-color-unfitted-level-0);\n",
       "  border: .5pt solid var(--sklearn-color-unfitted-level-3);\n",
       "}\n",
       "\n",
       ".sk-estimator-doc-link.fitted span {\n",
       "  /* fitted */\n",
       "  background: var(--sklearn-color-fitted-level-0);\n",
       "  border: var(--sklearn-color-fitted-level-3);\n",
       "}\n",
       "\n",
       ".sk-estimator-doc-link:hover span {\n",
       "  display: block;\n",
       "}\n",
       "\n",
       "/* \"?\"-specific style due to the `<a>` HTML tag */\n",
       "\n",
       "#sk-container-id-6 a.estimator_doc_link {\n",
       "  float: right;\n",
       "  font-size: 1rem;\n",
       "  line-height: 1em;\n",
       "  font-family: monospace;\n",
       "  background-color: var(--sklearn-color-background);\n",
       "  border-radius: 1rem;\n",
       "  height: 1rem;\n",
       "  width: 1rem;\n",
       "  text-decoration: none;\n",
       "  /* unfitted */\n",
       "  color: var(--sklearn-color-unfitted-level-1);\n",
       "  border: var(--sklearn-color-unfitted-level-1) 1pt solid;\n",
       "}\n",
       "\n",
       "#sk-container-id-6 a.estimator_doc_link.fitted {\n",
       "  /* fitted */\n",
       "  border: var(--sklearn-color-fitted-level-1) 1pt solid;\n",
       "  color: var(--sklearn-color-fitted-level-1);\n",
       "}\n",
       "\n",
       "/* On hover */\n",
       "#sk-container-id-6 a.estimator_doc_link:hover {\n",
       "  /* unfitted */\n",
       "  background-color: var(--sklearn-color-unfitted-level-3);\n",
       "  color: var(--sklearn-color-background);\n",
       "  text-decoration: none;\n",
       "}\n",
       "\n",
       "#sk-container-id-6 a.estimator_doc_link.fitted:hover {\n",
       "  /* fitted */\n",
       "  background-color: var(--sklearn-color-fitted-level-3);\n",
       "}\n",
       "</style><div id=\"sk-container-id-6\" class=\"sk-top-container\"><div class=\"sk-text-repr-fallback\"><pre>MinMaxScaler()</pre><b>In a Jupyter environment, please rerun this cell to show the HTML representation or trust the notebook. <br />On GitHub, the HTML representation is unable to render, please try loading this page with nbviewer.org.</b></div><div class=\"sk-container\" hidden><div class=\"sk-item\"><div class=\"sk-estimator fitted sk-toggleable\"><input class=\"sk-toggleable__control sk-hidden--visually\" id=\"sk-estimator-id-6\" type=\"checkbox\" checked><label for=\"sk-estimator-id-6\" class=\"sk-toggleable__label fitted sk-toggleable__label-arrow fitted\">&nbsp;&nbsp;MinMaxScaler<a class=\"sk-estimator-doc-link fitted\" rel=\"noreferrer\" target=\"_blank\" href=\"https://scikit-learn.org/1.5/modules/generated/sklearn.preprocessing.MinMaxScaler.html\">?<span>Documentation for MinMaxScaler</span></a><span class=\"sk-estimator-doc-link fitted\">i<span>Fitted</span></span></label><div class=\"sk-toggleable__content fitted\"><pre>MinMaxScaler()</pre></div> </div></div></div></div>"
      ],
      "text/plain": [
       "MinMaxScaler()"
      ]
     },
     "execution_count": 146,
     "metadata": {},
     "output_type": "execute_result"
    }
   ],
   "source": [
    "scaler = MinMaxScaler()\n",
    "scaler.fit( df_data[['demand']] )"
   ]
  },
  {
   "cell_type": "code",
   "execution_count": 147,
   "id": "e6fa7b0d-847e-484c-80e5-7be707a18f13",
   "metadata": {},
   "outputs": [],
   "source": [
    "#(24 Hour * 30 Day)\n",
    "window_size = 720"
   ]
  },
  {
   "cell_type": "code",
   "execution_count": 149,
   "id": "9c0f6a47-5800-4fcd-a223-000fc2b3cbdb",
   "metadata": {},
   "outputs": [],
   "source": [
    "\n",
    "class PowerDemandVolumeDataset(Dataset):\n",
    "    \n",
    "    def __init__(self, df_data, data_type , transformer, window_size=window_size):\n",
    "\n",
    "        self.type = data_type\n",
    "        self.transformer = transformer\n",
    "        # window_size= 720 #(24 Hour  * 30Day)\n",
    "        self.window_size = window_size\n",
    "        self.df_data = df_data\n",
    "\n",
    "        self.data = self.getData()\n",
    "        \n",
    "        features = self.data\n",
    "        target = self.data.demand\n",
    "        \n",
    "        self.x, self.y = [], []\n",
    "\n",
    "\n",
    "        # 각 시간간격별 예측시  1시간뒤: x = 0 , 2시간뒤: x = 1, 3시간뒤: x = 2 ...\n",
    "        #\n",
    "        # for i in range(len(features) - self.window_size - X):\n",
    "        #     v = features.iloc[ i: (i + window_size) ].values\n",
    "        #     self.x.append(v)\n",
    "        #     self.y.append( target.iloc[ i + window_size + x] )\n",
    "\n",
    "        \n",
    "        for i in range(len(features) - self.window_size ):\n",
    "            v = features.iloc[ i: (i + window_size) ].values\n",
    "            self.x.append(v)\n",
    "            self.y.append( features.iloc[ i + window_size ]['demand'] )\n",
    "            #self.y.append( target[ i + window_size ] )\n",
    "\n",
    "\n",
    "        # Many to Many output_size = 6\n",
    "       # for i in range(len(features) - self.window_size - 6 + 1):\n",
    "       #     self.x.append( features.iloc[ i: (i + window_size) ].values )\n",
    "       #     a = target[  i + window_size :  i + window_size + 6].values.reshape(-1, 1)\n",
    "       #     self.y.append( a)\n",
    "    \n",
    "\n",
    "    def getData(self):\n",
    "\n",
    "        if self.type == 'train':\n",
    "            df_data = self.df_data.loc['2013-01-01':'2019-12-31']\n",
    "            df_data.demand =  self.transformer.transform(df_data[['demand']])\n",
    "            return df_data\n",
    "        elif self.type == 'valid':\n",
    "            df_data = self.df_data.loc['2020-01-01':'2022-12-31']\n",
    "            df_data.demand =  self.transformer.transform(df_data[['demand']])\n",
    "            return df_data\n",
    "        elif self.type == 'test': \n",
    "            df_data = self.df_data.loc['2023-01-01':'2023-12-31']\n",
    "            df_data.demand =  self.transformer.transform(df_data[['demand']])\n",
    "            return df_data\n",
    "        else:\n",
    "            df_data = self.df_data\n",
    "            df_data.demand =  self.transformer.transform(df_data[['demand']])\n",
    "            return df_data\n",
    "    \n",
    "    \n",
    "    def __getitem__(self, index):\n",
    "        \n",
    "        x = self.x[index].astype(np.float32)\n",
    "        y = self.y[index].astype(np.float32)\n",
    "        return x, y\n",
    "    \n",
    "        \n",
    "        \n",
    "    \n",
    "    def __len__(self):\n",
    "        \n",
    "        return len(self.x)"
   ]
  },
  {
   "cell_type": "code",
   "execution_count": 205,
   "id": "49e207fc-2fc4-469d-b3a8-f6f7f01a15a4",
   "metadata": {},
   "outputs": [
    {
     "name": "stdout",
     "output_type": "stream",
     "text": [
      "Device:mps, Number of workers:8\n",
      "Current Dir:/Volumes/WorkSpace/PythonProjects/timeSerise\n"
     ]
    }
   ],
   "source": [
    "input_size =44\n",
    "batch_size=100\n",
    "learning_rate=0.0001\n",
    "log_path = os.getcwd()\n",
    "device = torch.device(\"mps\") if torch.backends.mps.is_available() else  torch.device(\"cpu\")\n",
    "NUM_WORKERS = os.cpu_count()\n",
    "print(f'Device:{device}, Number of workers:{NUM_WORKERS}\\nCurrent Dir:{log_path}')"
   ]
  },
  {
   "cell_type": "code",
   "execution_count": 152,
   "id": "5f1a6ee6-8e5c-426e-a1e1-c9484e52d107",
   "metadata": {
    "collapsed": true,
    "jupyter": {
     "outputs_hidden": true
    }
   },
   "outputs": [
    {
     "name": "stderr",
     "output_type": "stream",
     "text": [
      "/var/folders/r5/124yntwj1n7_xfgvd8f6pzv40000gn/T/ipykernel_73995/600022375.py:53: SettingWithCopyWarning:\n",
      "\n",
      "\n",
      "A value is trying to be set on a copy of a slice from a DataFrame.\n",
      "Try using .loc[row_indexer,col_indexer] = value instead\n",
      "\n",
      "See the caveats in the documentation: https://pandas.pydata.org/pandas-docs/stable/user_guide/indexing.html#returning-a-view-versus-a-copy\n",
      "\n"
     ]
    },
    {
     "name": "stdout",
     "output_type": "stream",
     "text": [
      "Size of the features (720, 44)\n",
      "Printing features:\n",
      " [[0.48199946 1.         0.         ... 0.         0.         0.        ]\n",
      " [0.44007826 1.         0.         ... 0.         0.         0.        ]\n",
      " [0.41011736 1.         0.         ... 0.         0.         0.        ]\n",
      " ...\n",
      " [0.67333037 1.         0.         ... 1.         0.         0.        ]\n",
      " [0.6700014  1.         0.         ... 0.         1.         0.        ]\n",
      " [0.66288006 1.         0.         ... 0.         0.         1.        ]]\n",
      "Size of the targets ()\n",
      "Printing targets:\n",
      " 0.5984796\n"
     ]
    }
   ],
   "source": [
    "test_data = PowerDemandVolumeDataset(df_data=df_data, data_type='test', transformer=scaler,  window_size=window_size)\n",
    "#let's loop it over single iteration and print the shape and also data\n",
    "for i, (features,targets) in enumerate(test_data):\n",
    "    print(\"Size of the features\",features.shape)\n",
    "    print(\"Printing features:\\n\", features)\n",
    "    print(\"Size of the targets\",targets.shape)\n",
    "    print(\"Printing targets:\\n\", targets)\n",
    "    break"
   ]
  },
  {
   "cell_type": "code",
   "execution_count": 153,
   "id": "ee156799-c09a-4485-b229-64f6097789e0",
   "metadata": {
    "scrolled": true
   },
   "outputs": [
    {
     "name": "stderr",
     "output_type": "stream",
     "text": [
      "/var/folders/r5/124yntwj1n7_xfgvd8f6pzv40000gn/T/ipykernel_73995/600022375.py:45: SettingWithCopyWarning:\n",
      "\n",
      "\n",
      "A value is trying to be set on a copy of a slice from a DataFrame.\n",
      "Try using .loc[row_indexer,col_indexer] = value instead\n",
      "\n",
      "See the caveats in the documentation: https://pandas.pydata.org/pandas-docs/stable/user_guide/indexing.html#returning-a-view-versus-a-copy\n",
      "\n",
      "/var/folders/r5/124yntwj1n7_xfgvd8f6pzv40000gn/T/ipykernel_73995/600022375.py:49: SettingWithCopyWarning:\n",
      "\n",
      "\n",
      "A value is trying to be set on a copy of a slice from a DataFrame.\n",
      "Try using .loc[row_indexer,col_indexer] = value instead\n",
      "\n",
      "See the caveats in the documentation: https://pandas.pydata.org/pandas-docs/stable/user_guide/indexing.html#returning-a-view-versus-a-copy\n",
      "\n",
      "/var/folders/r5/124yntwj1n7_xfgvd8f6pzv40000gn/T/ipykernel_73995/600022375.py:53: SettingWithCopyWarning:\n",
      "\n",
      "\n",
      "A value is trying to be set on a copy of a slice from a DataFrame.\n",
      "Try using .loc[row_indexer,col_indexer] = value instead\n",
      "\n",
      "See the caveats in the documentation: https://pandas.pydata.org/pandas-docs/stable/user_guide/indexing.html#returning-a-view-versus-a-copy\n",
      "\n"
     ]
    }
   ],
   "source": [
    "#num_worker = 1\n",
    "train_loader = DataLoader( PowerDemandVolumeDataset(df_data=df_data, data_type='train', transformer=scaler), batch_size=batch_size)\n",
    "valid_loader = DataLoader( PowerDemandVolumeDataset(df_data=df_data, data_type='valid', transformer=scaler), batch_size=batch_size)\n",
    "test_loader = DataLoader( PowerDemandVolumeDataset(df_data=df_data, data_type='test', transformer=scaler), batch_size=batch_size)\n"
   ]
  },
  {
   "cell_type": "code",
   "execution_count": 206,
   "id": "f407aa3e-cb83-4095-aea2-2914565c8f6d",
   "metadata": {},
   "outputs": [],
   "source": [
    "class PowerDemandPrediction(L.LightningModule):\n",
    "    def __init__(self, input_size=input_size, output_size=1, hidden_dim=10, n_layers=2, lr=learning_rate, window_size=window_size):\n",
    " \n",
    "        super(PowerDemandPrediction, self).__init__()\n",
    "        \n",
    "        self.hidden_dim = hidden_dim\n",
    "        self.n_layers = n_layers\n",
    "        self.lstm = nn.LSTM(input_size, hidden_dim, n_layers, bidirectional=False, batch_first=True)\n",
    "        self.fc = nn.Linear(hidden_dim * window_size, output_size)\n",
    "        self.loss = nn.MSELoss()\n",
    "        self.flatten = nn.Flatten()\n",
    "        self.learning_rate = lr\n",
    "\n",
    "    \n",
    "\n",
    "    def forward(self, x):\n",
    "        \n",
    "        batch_size = x.size(0)\n",
    "        hidden = self.init_hidden(batch_size)    \n",
    "        lstm_out, (hidden, cell) = self.lstm(x, hidden)\n",
    "        out = self.flatten(lstm_out)\n",
    "        out = self.fc(out)\n",
    "\n",
    "        return out\n",
    "\n",
    "    \n",
    "    \n",
    "    def init_hidden(self, batch_size):   \n",
    "        hidden_state = torch.zeros(self.n_layers, batch_size, self.hidden_dim).to(device)\n",
    "        cell_state = torch.zeros(self.n_layers, batch_size, self.hidden_dim).to(device)\n",
    "        hidden = (hidden_state, cell_state)\n",
    "        return hidden\n",
    "\n",
    "    \n",
    "    \n",
    "    def configure_optimizers(self):\n",
    "        return {'optimizer': torch.optim.Adam(params=self.parameters(), lr = self.learning_rate) }\n",
    "\n",
    "    def training_step(self, train_batch, batch_idx):\n",
    "        features, targets = train_batch\n",
    "        output = self(features) \n",
    "        output = output.view(-1)\n",
    "        loss = self.loss(output, targets)\n",
    "        self.log('train_loss', loss, prog_bar=True)\n",
    "        return {\"loss\": loss}\n",
    "        \n",
    "    \n",
    "    def validation_step(self, val_batch, batch_idx):\n",
    "        features, targets = val_batch\n",
    "        output = self(features) \n",
    "        output = output.view(-1)\n",
    "        loss = self.loss(output, targets)\n",
    "        self.log('val_loss', loss, prog_bar=True)\n",
    "\n",
    "\n"
   ]
  },
  {
   "cell_type": "code",
   "execution_count": 207,
   "id": "74b626cb-b6f7-44e7-be84-599266d791cf",
   "metadata": {
    "scrolled": true
   },
   "outputs": [
    {
     "data": {
      "text/plain": [
       "PowerDemandPrediction(\n",
       "  (lstm): LSTM(44, 10, num_layers=2, batch_first=True)\n",
       "  (fc): Linear(in_features=7200, out_features=1, bias=True)\n",
       "  (loss): MSELoss()\n",
       "  (flatten): Flatten(start_dim=1, end_dim=-1)\n",
       ")"
      ]
     },
     "execution_count": 207,
     "metadata": {},
     "output_type": "execute_result"
    }
   ],
   "source": [
    "model = PowerDemandPrediction().to(device)\n",
    "model"
   ]
  },
  {
   "cell_type": "code",
   "execution_count": 156,
   "id": "6d589804-dd73-4c6b-829c-7c219e2b6d3c",
   "metadata": {},
   "outputs": [
    {
     "name": "stderr",
     "output_type": "stream",
     "text": [
      "GPU available: True (mps), used: True\n",
      "TPU available: False, using: 0 TPU cores\n",
      "HPU available: False, using: 0 HPUs\n",
      "Running in `fast_dev_run` mode: will run the requested loop using 1 batch(es). Logging and checkpointing is suppressed.\n"
     ]
    }
   ],
   "source": [
    "trainer = L.Trainer( fast_dev_run=True, accelerator='mps', devices=1)"
   ]
  },
  {
   "cell_type": "code",
   "execution_count": 208,
   "id": "ffdbd879-14b2-440b-ac72-a6a80bcc8be8",
   "metadata": {},
   "outputs": [
    {
     "name": "stderr",
     "output_type": "stream",
     "text": [
      "/Library/Frameworks/Python.framework/Versions/3.12/lib/python3.12/site-packages/lightning_fabric/connector.py:571: UserWarning:\n",
      "\n",
      "`precision=16` is supported for historical reasons but its usage is discouraged. Please set your precision to 16-mixed instead!\n",
      "\n",
      "Using 16bit Automatic Mixed Precision (AMP)\n",
      "/Library/Frameworks/Python.framework/Versions/3.12/lib/python3.12/site-packages/torch/amp/grad_scaler.py:132: UserWarning:\n",
      "\n",
      "torch.cuda.amp.GradScaler is enabled, but CUDA is not available.  Disabling.\n",
      "\n",
      "GPU available: True (mps), used: True\n",
      "TPU available: False, using: 0 TPU cores\n",
      "HPU available: False, using: 0 HPUs\n"
     ]
    }
   ],
   "source": [
    "trainer = L.Trainer( default_root_dir=log_path, precision=\"16\", max_epochs=40, accelerator='mps', devices=1)"
   ]
  },
  {
   "cell_type": "code",
   "execution_count": null,
   "id": "3eee0cd2-264a-4a1a-bbd4-9e452607a543",
   "metadata": {
    "scrolled": true
   },
   "outputs": [
    {
     "name": "stderr",
     "output_type": "stream",
     "text": [
      "\n",
      "  | Name    | Type    | Params | Mode \n",
      "--------------------------------------------\n",
      "0 | lstm    | LSTM    | 3.1 K  | train\n",
      "1 | fc      | Linear  | 7.2 K  | train\n",
      "2 | loss    | MSELoss | 0      | train\n",
      "3 | flatten | Flatten | 0      | train\n",
      "--------------------------------------------\n",
      "10.3 K    Trainable params\n",
      "0         Non-trainable params\n",
      "10.3 K    Total params\n",
      "0.041     Total estimated model params size (MB)\n",
      "4         Modules in train mode\n",
      "0         Modules in eval mode\n"
     ]
    },
    {
     "name": "stdout",
     "output_type": "stream",
     "text": [
      "Sanity Checking: |                                                            | 0/? [00:00<?, ?it/s]"
     ]
    },
    {
     "name": "stderr",
     "output_type": "stream",
     "text": [
      "/Library/Frameworks/Python.framework/Versions/3.12/lib/python3.12/site-packages/pytorch_lightning/trainer/connectors/data_connector.py:424: PossibleUserWarning:\n",
      "\n",
      "The 'val_dataloader' does not have many workers which may be a bottleneck. Consider increasing the value of the `num_workers` argument` to `num_workers=7` in the `DataLoader` to improve performance.\n",
      "\n"
     ]
    },
    {
     "name": "stdout",
     "output_type": "stream",
     "text": [
      "Sanity Checking DataLoader 0:  50%|█████████████████▌                 | 1/2 [00:00<00:00,  9.37it/s]"
     ]
    },
    {
     "name": "stderr",
     "output_type": "stream",
     "text": [
      "/Library/Frameworks/Python.framework/Versions/3.12/lib/python3.12/site-packages/torch/amp/autocast_mode.py:266: UserWarning:\n",
      "\n",
      "User provided device_type of 'cuda', but CUDA is not available. Disabling\n",
      "\n"
     ]
    },
    {
     "name": "stdout",
     "output_type": "stream",
     "text": [
      "                                                                                                    "
     ]
    },
    {
     "name": "stderr",
     "output_type": "stream",
     "text": [
      "/Library/Frameworks/Python.framework/Versions/3.12/lib/python3.12/site-packages/pytorch_lightning/trainer/connectors/data_connector.py:424: PossibleUserWarning:\n",
      "\n",
      "The 'train_dataloader' does not have many workers which may be a bottleneck. Consider increasing the value of the `num_workers` argument` to `num_workers=7` in the `DataLoader` to improve performance.\n",
      "\n"
     ]
    },
    {
     "name": "stdout",
     "output_type": "stream",
     "text": [
      "Epoch 0:  81%|███████████████████▍    | 491/607 [01:22<00:19,  5.95it/s, v_num=3, train_loss=0.0313]"
     ]
    }
   ],
   "source": [
    "trainer.fit( model, train_loader,  valid_loader)"
   ]
  },
  {
   "cell_type": "code",
   "execution_count": 196,
   "id": "9f3e5fa3-23ac-49ab-b355-bf0d30b71ac1",
   "metadata": {},
   "outputs": [
    {
     "data": {
      "text/plain": [
       "PowerDemandPrediction(\n",
       "  (lstm): LSTM(44, 10, num_layers=2, batch_first=True)\n",
       "  (fc): Linear(in_features=7200, out_features=1, bias=True)\n",
       "  (loss): MSELoss()\n",
       "  (flatten): Flatten(start_dim=1, end_dim=-1)\n",
       ")"
      ]
     },
     "execution_count": 196,
     "metadata": {},
     "output_type": "execute_result"
    }
   ],
   "source": [
    "PATH = '/Volumes/WorkSpace/PythonProjects/timeSerise/lightning_logs/version_2/checkpoints/epoch=49-step=30350.ckpt'\n",
    "model = PowerDemandPrediction.load_from_checkpoint(PATH).to(device)\n",
    "model.eval()"
   ]
  },
  {
   "cell_type": "code",
   "execution_count": null,
   "id": "c6bed137-b7cf-4bc4-be43-2e747d1ce8fa",
   "metadata": {},
   "outputs": [],
   "source": []
  },
  {
   "cell_type": "code",
   "execution_count": 197,
   "id": "a43965b0-9cda-4b07-8ded-e855df8e902d",
   "metadata": {
    "scrolled": true
   },
   "outputs": [],
   "source": [
    "predicted_result, actual_result = [], []\n",
    "\n",
    "for i, (features,targets) in enumerate(test_loader):\n",
    "\n",
    "    features = features.to(device)\n",
    "    targets = targets.to(device)\n",
    "\n",
    "    result = model(features)\n",
    "    predicted_result.extend(result.view(-1).tolist())\n",
    "    actual_result.extend(targets.view(-1).tolist())\n",
    "   "
   ]
  },
  {
   "cell_type": "code",
   "execution_count": null,
   "id": "139d39d7-f22b-43a9-9730-3e0ff91aafa8",
   "metadata": {},
   "outputs": [],
   "source": []
  },
  {
   "cell_type": "code",
   "execution_count": 198,
   "id": "86588f6e-b6e3-4e91-bbbe-11ebc792004c",
   "metadata": {},
   "outputs": [
    {
     "data": {
      "text/plain": [
       "2023-01-31 00:00:00    65069\n",
       "2023-01-31 01:00:00    62933\n",
       "2023-01-31 02:00:00    61792\n",
       "2023-01-31 03:00:00    61302\n",
       "2023-01-31 04:00:00    62034\n",
       "                       ...  \n",
       "2023-12-31 19:00:00    64934\n",
       "2023-12-31 20:00:00    63817\n",
       "2023-12-31 21:00:00    62436\n",
       "2023-12-31 22:00:00    63010\n",
       "2023-12-31 23:00:00    62981\n",
       "Freq: h, Name: demand, Length: 8040, dtype: int64"
      ]
     },
     "execution_count": 198,
     "metadata": {},
     "output_type": "execute_result"
    }
   ],
   "source": [
    "df_before = df_data.loc['2023-01-30':'2023-12-30']['demand']\n",
    "df_before.index = pd.date_range('2023-01-31 00:00:00', '2023-12-31 23:00:00', freq='1h')\n",
    "df_before"
   ]
  },
  {
   "cell_type": "code",
   "execution_count": 199,
   "id": "d2dd08b3-17c9-48a7-936f-81d540397c78",
   "metadata": {},
   "outputs": [
    {
     "data": {
      "text/html": [
       "<div>\n",
       "<style scoped>\n",
       "    .dataframe tbody tr th:only-of-type {\n",
       "        vertical-align: middle;\n",
       "    }\n",
       "\n",
       "    .dataframe tbody tr th {\n",
       "        vertical-align: top;\n",
       "    }\n",
       "\n",
       "    .dataframe thead th {\n",
       "        text-align: right;\n",
       "    }\n",
       "</style>\n",
       "<table border=\"1\" class=\"dataframe\">\n",
       "  <thead>\n",
       "    <tr style=\"text-align: right;\">\n",
       "      <th></th>\n",
       "      <th>actual</th>\n",
       "      <th>predicted</th>\n",
       "      <th>before</th>\n",
       "    </tr>\n",
       "  </thead>\n",
       "  <tbody>\n",
       "    <tr>\n",
       "      <th>2023-01-31 00:00:00</th>\n",
       "      <td>71109.998834</td>\n",
       "      <td>67169.206713</td>\n",
       "      <td>65069</td>\n",
       "    </tr>\n",
       "    <tr>\n",
       "      <th>2023-01-31 01:00:00</th>\n",
       "      <td>68704.999390</td>\n",
       "      <td>63988.823758</td>\n",
       "      <td>62933</td>\n",
       "    </tr>\n",
       "    <tr>\n",
       "      <th>2023-01-31 02:00:00</th>\n",
       "      <td>67449.999146</td>\n",
       "      <td>61922.417860</td>\n",
       "      <td>61792</td>\n",
       "    </tr>\n",
       "    <tr>\n",
       "      <th>2023-01-31 03:00:00</th>\n",
       "      <td>66689.999856</td>\n",
       "      <td>61054.718600</td>\n",
       "      <td>61302</td>\n",
       "    </tr>\n",
       "    <tr>\n",
       "      <th>2023-01-31 04:00:00</th>\n",
       "      <td>66998.000372</td>\n",
       "      <td>61699.301495</td>\n",
       "      <td>62034</td>\n",
       "    </tr>\n",
       "    <tr>\n",
       "      <th>...</th>\n",
       "      <td>...</td>\n",
       "      <td>...</td>\n",
       "      <td>...</td>\n",
       "    </tr>\n",
       "    <tr>\n",
       "      <th>2023-12-31 19:00:00</th>\n",
       "      <td>62901.999208</td>\n",
       "      <td>59629.986524</td>\n",
       "      <td>64934</td>\n",
       "    </tr>\n",
       "    <tr>\n",
       "      <th>2023-12-31 20:00:00</th>\n",
       "      <td>62060.999162</td>\n",
       "      <td>58542.753836</td>\n",
       "      <td>63817</td>\n",
       "    </tr>\n",
       "    <tr>\n",
       "      <th>2023-12-31 21:00:00</th>\n",
       "      <td>61402.999795</td>\n",
       "      <td>57771.250247</td>\n",
       "      <td>62436</td>\n",
       "    </tr>\n",
       "    <tr>\n",
       "      <th>2023-12-31 22:00:00</th>\n",
       "      <td>61890.999869</td>\n",
       "      <td>58192.213116</td>\n",
       "      <td>63010</td>\n",
       "    </tr>\n",
       "    <tr>\n",
       "      <th>2023-12-31 23:00:00</th>\n",
       "      <td>62125.000510</td>\n",
       "      <td>58945.626612</td>\n",
       "      <td>62981</td>\n",
       "    </tr>\n",
       "  </tbody>\n",
       "</table>\n",
       "<p>8040 rows × 3 columns</p>\n",
       "</div>"
      ],
      "text/plain": [
       "                           actual     predicted  before\n",
       "2023-01-31 00:00:00  71109.998834  67169.206713   65069\n",
       "2023-01-31 01:00:00  68704.999390  63988.823758   62933\n",
       "2023-01-31 02:00:00  67449.999146  61922.417860   61792\n",
       "2023-01-31 03:00:00  66689.999856  61054.718600   61302\n",
       "2023-01-31 04:00:00  66998.000372  61699.301495   62034\n",
       "...                           ...           ...     ...\n",
       "2023-12-31 19:00:00  62901.999208  59629.986524   64934\n",
       "2023-12-31 20:00:00  62060.999162  58542.753836   63817\n",
       "2023-12-31 21:00:00  61402.999795  57771.250247   62436\n",
       "2023-12-31 22:00:00  61890.999869  58192.213116   63010\n",
       "2023-12-31 23:00:00  62125.000510  58945.626612   62981\n",
       "\n",
       "[8040 rows x 3 columns]"
      ]
     },
     "execution_count": 199,
     "metadata": {},
     "output_type": "execute_result"
    }
   ],
   "source": [
    "actual_predicted_df = pd.DataFrame(data={\"actual\":actual_result, \"predicted\": predicted_result})\n",
    "inverse_transformed_values = scaler.inverse_transform(actual_predicted_df)\n",
    "actual_predicted_df[\"actual\"] = inverse_transformed_values[:,[0]]\n",
    "actual_predicted_df[\"predicted\"] = inverse_transformed_values[:,[1]]\n",
    "\n",
    "# window_size= 720 #(24 Hour  * 30Day) 을 뺀 일수 \n",
    "actual_predicted_df.index = pd.date_range('2023-01-31 00:00:00', '2023-12-31 23:00:00', freq='1h')\n",
    "\n",
    "actual_predicted_df['before'] = df_before\n",
    "actual_predicted_df"
   ]
  },
  {
   "cell_type": "code",
   "execution_count": null,
   "id": "93456d63-6b57-400b-a1c9-3d033386404e",
   "metadata": {},
   "outputs": [],
   "source": []
  },
  {
   "cell_type": "code",
   "execution_count": 210,
   "id": "a3dc86c6-1dbc-4a2d-b86a-efefce1782a3",
   "metadata": {},
   "outputs": [
    {
     "data": {
      "application/vnd.plotly.v1+json": {
       "config": {
        "plotlyServerURL": "https://plot.ly"
       },
       "data": [
        {
         "hovertemplate": "variable=actual<br>index=%{x}<br>value=%{y}<extra></extra>",
         "legendgroup": "actual",
         "line": {
          "color": "#4b9ed6",
          "dash": "solid"
         },
         "marker": {
          "symbol": "circle"
         },
         "mode": "lines+markers",
         "name": "actual",
         "orientation": "v",
         "showlegend": true,
         "type": "scatter",
         "x": [
          "2023-02-01T00:00:00",
          "2023-02-01T01:00:00",
          "2023-02-01T02:00:00",
          "2023-02-01T03:00:00",
          "2023-02-01T04:00:00",
          "2023-02-01T05:00:00",
          "2023-02-01T06:00:00",
          "2023-02-01T07:00:00",
          "2023-02-01T08:00:00",
          "2023-02-01T09:00:00",
          "2023-02-01T10:00:00",
          "2023-02-01T11:00:00",
          "2023-02-01T12:00:00",
          "2023-02-01T13:00:00",
          "2023-02-01T14:00:00",
          "2023-02-01T15:00:00",
          "2023-02-01T16:00:00",
          "2023-02-01T17:00:00",
          "2023-02-01T18:00:00",
          "2023-02-01T19:00:00",
          "2023-02-01T20:00:00",
          "2023-02-01T21:00:00",
          "2023-02-01T22:00:00",
          "2023-02-01T23:00:00",
          "2023-02-02T00:00:00",
          "2023-02-02T01:00:00",
          "2023-02-02T02:00:00",
          "2023-02-02T03:00:00",
          "2023-02-02T04:00:00",
          "2023-02-02T05:00:00",
          "2023-02-02T06:00:00",
          "2023-02-02T07:00:00",
          "2023-02-02T08:00:00",
          "2023-02-02T09:00:00",
          "2023-02-02T10:00:00",
          "2023-02-02T11:00:00",
          "2023-02-02T12:00:00",
          "2023-02-02T13:00:00",
          "2023-02-02T14:00:00",
          "2023-02-02T15:00:00",
          "2023-02-02T16:00:00",
          "2023-02-02T17:00:00",
          "2023-02-02T18:00:00",
          "2023-02-02T19:00:00",
          "2023-02-02T20:00:00",
          "2023-02-02T21:00:00",
          "2023-02-02T22:00:00",
          "2023-02-02T23:00:00",
          "2023-02-03T00:00:00",
          "2023-02-03T01:00:00",
          "2023-02-03T02:00:00",
          "2023-02-03T03:00:00",
          "2023-02-03T04:00:00",
          "2023-02-03T05:00:00",
          "2023-02-03T06:00:00",
          "2023-02-03T07:00:00",
          "2023-02-03T08:00:00",
          "2023-02-03T09:00:00",
          "2023-02-03T10:00:00",
          "2023-02-03T11:00:00",
          "2023-02-03T12:00:00",
          "2023-02-03T13:00:00",
          "2023-02-03T14:00:00",
          "2023-02-03T15:00:00",
          "2023-02-03T16:00:00",
          "2023-02-03T17:00:00",
          "2023-02-03T18:00:00",
          "2023-02-03T19:00:00",
          "2023-02-03T20:00:00",
          "2023-02-03T21:00:00",
          "2023-02-03T22:00:00",
          "2023-02-03T23:00:00",
          "2023-02-04T00:00:00",
          "2023-02-04T01:00:00",
          "2023-02-04T02:00:00",
          "2023-02-04T03:00:00",
          "2023-02-04T04:00:00",
          "2023-02-04T05:00:00",
          "2023-02-04T06:00:00",
          "2023-02-04T07:00:00",
          "2023-02-04T08:00:00",
          "2023-02-04T09:00:00",
          "2023-02-04T10:00:00",
          "2023-02-04T11:00:00",
          "2023-02-04T12:00:00",
          "2023-02-04T13:00:00",
          "2023-02-04T14:00:00",
          "2023-02-04T15:00:00",
          "2023-02-04T16:00:00",
          "2023-02-04T17:00:00",
          "2023-02-04T18:00:00",
          "2023-02-04T19:00:00",
          "2023-02-04T20:00:00",
          "2023-02-04T21:00:00",
          "2023-02-04T22:00:00",
          "2023-02-04T23:00:00",
          "2023-02-05T00:00:00",
          "2023-02-05T01:00:00",
          "2023-02-05T02:00:00",
          "2023-02-05T03:00:00",
          "2023-02-05T04:00:00",
          "2023-02-05T05:00:00",
          "2023-02-05T06:00:00",
          "2023-02-05T07:00:00",
          "2023-02-05T08:00:00",
          "2023-02-05T09:00:00",
          "2023-02-05T10:00:00",
          "2023-02-05T11:00:00",
          "2023-02-05T12:00:00",
          "2023-02-05T13:00:00",
          "2023-02-05T14:00:00",
          "2023-02-05T15:00:00",
          "2023-02-05T16:00:00",
          "2023-02-05T17:00:00",
          "2023-02-05T18:00:00",
          "2023-02-05T19:00:00",
          "2023-02-05T20:00:00",
          "2023-02-05T21:00:00",
          "2023-02-05T22:00:00",
          "2023-02-05T23:00:00"
         ],
         "xaxis": "x",
         "y": [
          68476.00061845778,
          65927.99981784819,
          64412.99963355064,
          63750.00013411044,
          64202.999281287186,
          65805.99936509131,
          69165.00115394591,
          74561.00028109549,
          81167.00019741057,
          81652.0008869171,
          78858.99880695342,
          74705.99891161917,
          70152.99884152411,
          72669.99847364424,
          74304.99836301802,
          76179.00076222418,
          78967.0009729862,
          79917.99872255324,
          79748.0011665821,
          78591.99972367285,
          76255.00138592719,
          74314.99862790106,
          74000.99934172629,
          73570.0014719963,
          69832.00041198729,
          67342.00045299529,
          65932.00131320952,
          65363.000482797615,
          65939.00045657156,
          67763.99843168257,
          71258.99896001814,
          76934.99855685233,
          83227.99956083296,
          83180.99935793875,
          81131.00063323973,
          78176.00051450728,
          74463.99875378607,
          77163.00042796133,
          78206.0013091564,
          79360.99890470503,
          81335.00047922133,
          81980.9988336563,
          81745.00091886519,
          80066.99884843825,
          77389.99845170973,
          75113.00170326231,
          74730.00093674658,
          74256.00088596343,
          70411.9984076023,
          67818.0012514591,
          66274.00064635275,
          65505.00146532058,
          65830.99829053877,
          67230.00026512145,
          70559.00125932692,
          76129.99981164931,
          83383.99883008002,
          84290.00059795378,
          81524.0016646385,
          78192.99992275237,
          72566.00127649306,
          73920.0003223419,
          74263.00002932547,
          75531.00166010855,
          78458.00173187254,
          79394.00082087515,
          79129.9993855953,
          77922.9997179508,
          75791.99850034712,
          73985.00030732153,
          73962.99902987479,
          73628.99921393393,
          70004.99908947943,
          67379.00039100646,
          65692.99880337714,
          64941.00076735019,
          64926.00037002563,
          65837.00053358077,
          67344.00120067595,
          68417.9997768402,
          68496.00114822386,
          66026.00171899794,
          64408.99987494945,
          61767.00040531158,
          58307.99944114684,
          58465.99945807456,
          59106.99941682815,
          60978.999331593506,
          64326.0001078844,
          67146.00012421607,
          69272.99984645842,
          69132.99961161612,
          68528.9995908737,
          67806.0002388954,
          68506.0014131069,
          68683.00158596037,
          65565.99995493887,
          62972.999699115746,
          61355.999591827385,
          60651.0000219345,
          60924.99998533725,
          61605.99926686286,
          62498.99964833259,
          62996.99998748302,
          61472.999912142746,
          57814.00059735775,
          56106.99984288216,
          53447.99922823906,
          51913.000250935555,
          52078.99978506565,
          52914.999698758125,
          55385.99950182438,
          59537.00038623809,
          63714.000569939606,
          66810.99993443488,
          67195.00107479094,
          66927.9985179901,
          66286.00165891646,
          66275.00102019309,
          66251.999368906
         ],
         "yaxis": "y"
        },
        {
         "hovertemplate": "variable=predicted<br>index=%{x}<br>value=%{y}<extra></extra>",
         "legendgroup": "predicted",
         "line": {
          "color": "#c80004",
          "dash": "solid"
         },
         "marker": {
          "symbol": "circle"
         },
         "mode": "lines+markers",
         "name": "predicted",
         "orientation": "v",
         "showlegend": true,
         "type": "scatter",
         "x": [
          "2023-02-01T00:00:00",
          "2023-02-01T01:00:00",
          "2023-02-01T02:00:00",
          "2023-02-01T03:00:00",
          "2023-02-01T04:00:00",
          "2023-02-01T05:00:00",
          "2023-02-01T06:00:00",
          "2023-02-01T07:00:00",
          "2023-02-01T08:00:00",
          "2023-02-01T09:00:00",
          "2023-02-01T10:00:00",
          "2023-02-01T11:00:00",
          "2023-02-01T12:00:00",
          "2023-02-01T13:00:00",
          "2023-02-01T14:00:00",
          "2023-02-01T15:00:00",
          "2023-02-01T16:00:00",
          "2023-02-01T17:00:00",
          "2023-02-01T18:00:00",
          "2023-02-01T19:00:00",
          "2023-02-01T20:00:00",
          "2023-02-01T21:00:00",
          "2023-02-01T22:00:00",
          "2023-02-01T23:00:00",
          "2023-02-02T00:00:00",
          "2023-02-02T01:00:00",
          "2023-02-02T02:00:00",
          "2023-02-02T03:00:00",
          "2023-02-02T04:00:00",
          "2023-02-02T05:00:00",
          "2023-02-02T06:00:00",
          "2023-02-02T07:00:00",
          "2023-02-02T08:00:00",
          "2023-02-02T09:00:00",
          "2023-02-02T10:00:00",
          "2023-02-02T11:00:00",
          "2023-02-02T12:00:00",
          "2023-02-02T13:00:00",
          "2023-02-02T14:00:00",
          "2023-02-02T15:00:00",
          "2023-02-02T16:00:00",
          "2023-02-02T17:00:00",
          "2023-02-02T18:00:00",
          "2023-02-02T19:00:00",
          "2023-02-02T20:00:00",
          "2023-02-02T21:00:00",
          "2023-02-02T22:00:00",
          "2023-02-02T23:00:00",
          "2023-02-03T00:00:00",
          "2023-02-03T01:00:00",
          "2023-02-03T02:00:00",
          "2023-02-03T03:00:00",
          "2023-02-03T04:00:00",
          "2023-02-03T05:00:00",
          "2023-02-03T06:00:00",
          "2023-02-03T07:00:00",
          "2023-02-03T08:00:00",
          "2023-02-03T09:00:00",
          "2023-02-03T10:00:00",
          "2023-02-03T11:00:00",
          "2023-02-03T12:00:00",
          "2023-02-03T13:00:00",
          "2023-02-03T14:00:00",
          "2023-02-03T15:00:00",
          "2023-02-03T16:00:00",
          "2023-02-03T17:00:00",
          "2023-02-03T18:00:00",
          "2023-02-03T19:00:00",
          "2023-02-03T20:00:00",
          "2023-02-03T21:00:00",
          "2023-02-03T22:00:00",
          "2023-02-03T23:00:00",
          "2023-02-04T00:00:00",
          "2023-02-04T01:00:00",
          "2023-02-04T02:00:00",
          "2023-02-04T03:00:00",
          "2023-02-04T04:00:00",
          "2023-02-04T05:00:00",
          "2023-02-04T06:00:00",
          "2023-02-04T07:00:00",
          "2023-02-04T08:00:00",
          "2023-02-04T09:00:00",
          "2023-02-04T10:00:00",
          "2023-02-04T11:00:00",
          "2023-02-04T12:00:00",
          "2023-02-04T13:00:00",
          "2023-02-04T14:00:00",
          "2023-02-04T15:00:00",
          "2023-02-04T16:00:00",
          "2023-02-04T17:00:00",
          "2023-02-04T18:00:00",
          "2023-02-04T19:00:00",
          "2023-02-04T20:00:00",
          "2023-02-04T21:00:00",
          "2023-02-04T22:00:00",
          "2023-02-04T23:00:00",
          "2023-02-05T00:00:00",
          "2023-02-05T01:00:00",
          "2023-02-05T02:00:00",
          "2023-02-05T03:00:00",
          "2023-02-05T04:00:00",
          "2023-02-05T05:00:00",
          "2023-02-05T06:00:00",
          "2023-02-05T07:00:00",
          "2023-02-05T08:00:00",
          "2023-02-05T09:00:00",
          "2023-02-05T10:00:00",
          "2023-02-05T11:00:00",
          "2023-02-05T12:00:00",
          "2023-02-05T13:00:00",
          "2023-02-05T14:00:00",
          "2023-02-05T15:00:00",
          "2023-02-05T16:00:00",
          "2023-02-05T17:00:00",
          "2023-02-05T18:00:00",
          "2023-02-05T19:00:00",
          "2023-02-05T20:00:00",
          "2023-02-05T21:00:00",
          "2023-02-05T22:00:00",
          "2023-02-05T23:00:00"
         ],
         "xaxis": "x",
         "y": [
          65753.53184127806,
          63218.900620222084,
          61700.04482841491,
          61086.56383407115,
          61834.68542146682,
          63810.37512683868,
          67370.70215106009,
          72612.36582517622,
          79383.78519773482,
          81576.51434421538,
          81308.56698989867,
          79478.96660041808,
          75547.38972878455,
          77113.17277956007,
          76930.0071082115,
          76456.96227550505,
          76860.59922599791,
          77109.86598825453,
          77036.36629915236,
          74900.68972325324,
          72667.28912782668,
          70110.71567916869,
          69819.9472966194,
          70828.97714948653,
          67661.57821273802,
          64567.83353674411,
          62671.71697068214,
          61861.07201826572,
          62330.98199892043,
          64204.76730310916,
          67557.59143614768,
          72946.16765046118,
          80284.22585964201,
          83237.10713100432,
          83223.1470530033,
          81397.50995016097,
          77431.39586639403,
          79182.75173807143,
          79433.7899956703,
          79297.47516584395,
          79815.75217962264,
          79476.59765958785,
          78986.95634698866,
          76674.60610914229,
          74289.19384574889,
          71780.22846603392,
          71266.09188842772,
          72049.47491693495,
          68530.37510490416,
          65439.62286663055,
          63668.464455842965,
          62856.93375575542,
          63321.12979555129,
          65157.00857293605,
          68340.11303162573,
          72786.01405096053,
          79295.81482315062,
          81462.52382922171,
          81031.7586853504,
          79220.11986923216,
          75504.76616144179,
          77197.60016345976,
          77187.28380823134,
          77198.01698589323,
          77853.60225629805,
          77569.01673984526,
          76834.23520708083,
          74119.286601305,
          71902.82636427878,
          69908.39006996153,
          70038.0253202915,
          71574.45017766951,
          68509.79797077177,
          65345.50957143306,
          62862.54175424575,
          61233.20543968677,
          61030.04271209239,
          61616.47366726398,
          62944.56198859214,
          64575.093194127076,
          67935.13877582549,
          67947.0390563011,
          66738.2088434696,
          65031.29145348071,
          61370.8836262226,
          61889.51146554946,
          61298.731662988655,
          60999.5417305231,
          61564.315286755555,
          62091.58698129653,
          63280.69107246398,
          63190.55843150615,
          63031.72650647163,
          62941.331614732735,
          64407.388161540024,
          66482.3284986019,
          64203.57762241363,
          61110.40434050559,
          58368.98751020431,
          56570.41260385513,
          56173.29545092583,
          56533.56550073624,
          57315.21871614456,
          58198.293513417244,
          59231.123927235596,
          57838.89010691643,
          56520.12992429733,
          55382.62324011326,
          52683.366262197495,
          53832.08373308182,
          53649.64576423168,
          54051.65189695358,
          56117.656603097916,
          57911.403316259384,
          60448.15164792537,
          61905.156200885765,
          61840.42888724803,
          61880.148591637604,
          62896.182798147194,
          63787.68261885642
         ],
         "yaxis": "y"
        },
        {
         "hovertemplate": "variable=before<br>index=%{x}<br>value=%{y}<extra></extra>",
         "legendgroup": "before",
         "line": {
          "color": "#58a200",
          "dash": "solid"
         },
         "marker": {
          "symbol": "circle"
         },
         "mode": "lines+markers",
         "name": "before",
         "orientation": "v",
         "showlegend": true,
         "type": "scatter",
         "x": [
          "2023-02-01T00:00:00",
          "2023-02-01T01:00:00",
          "2023-02-01T02:00:00",
          "2023-02-01T03:00:00",
          "2023-02-01T04:00:00",
          "2023-02-01T05:00:00",
          "2023-02-01T06:00:00",
          "2023-02-01T07:00:00",
          "2023-02-01T08:00:00",
          "2023-02-01T09:00:00",
          "2023-02-01T10:00:00",
          "2023-02-01T11:00:00",
          "2023-02-01T12:00:00",
          "2023-02-01T13:00:00",
          "2023-02-01T14:00:00",
          "2023-02-01T15:00:00",
          "2023-02-01T16:00:00",
          "2023-02-01T17:00:00",
          "2023-02-01T18:00:00",
          "2023-02-01T19:00:00",
          "2023-02-01T20:00:00",
          "2023-02-01T21:00:00",
          "2023-02-01T22:00:00",
          "2023-02-01T23:00:00",
          "2023-02-02T00:00:00",
          "2023-02-02T01:00:00",
          "2023-02-02T02:00:00",
          "2023-02-02T03:00:00",
          "2023-02-02T04:00:00",
          "2023-02-02T05:00:00",
          "2023-02-02T06:00:00",
          "2023-02-02T07:00:00",
          "2023-02-02T08:00:00",
          "2023-02-02T09:00:00",
          "2023-02-02T10:00:00",
          "2023-02-02T11:00:00",
          "2023-02-02T12:00:00",
          "2023-02-02T13:00:00",
          "2023-02-02T14:00:00",
          "2023-02-02T15:00:00",
          "2023-02-02T16:00:00",
          "2023-02-02T17:00:00",
          "2023-02-02T18:00:00",
          "2023-02-02T19:00:00",
          "2023-02-02T20:00:00",
          "2023-02-02T21:00:00",
          "2023-02-02T22:00:00",
          "2023-02-02T23:00:00",
          "2023-02-03T00:00:00",
          "2023-02-03T01:00:00",
          "2023-02-03T02:00:00",
          "2023-02-03T03:00:00",
          "2023-02-03T04:00:00",
          "2023-02-03T05:00:00",
          "2023-02-03T06:00:00",
          "2023-02-03T07:00:00",
          "2023-02-03T08:00:00",
          "2023-02-03T09:00:00",
          "2023-02-03T10:00:00",
          "2023-02-03T11:00:00",
          "2023-02-03T12:00:00",
          "2023-02-03T13:00:00",
          "2023-02-03T14:00:00",
          "2023-02-03T15:00:00",
          "2023-02-03T16:00:00",
          "2023-02-03T17:00:00",
          "2023-02-03T18:00:00",
          "2023-02-03T19:00:00",
          "2023-02-03T20:00:00",
          "2023-02-03T21:00:00",
          "2023-02-03T22:00:00",
          "2023-02-03T23:00:00",
          "2023-02-04T00:00:00",
          "2023-02-04T01:00:00",
          "2023-02-04T02:00:00",
          "2023-02-04T03:00:00",
          "2023-02-04T04:00:00",
          "2023-02-04T05:00:00",
          "2023-02-04T06:00:00",
          "2023-02-04T07:00:00",
          "2023-02-04T08:00:00",
          "2023-02-04T09:00:00",
          "2023-02-04T10:00:00",
          "2023-02-04T11:00:00",
          "2023-02-04T12:00:00",
          "2023-02-04T13:00:00",
          "2023-02-04T14:00:00",
          "2023-02-04T15:00:00",
          "2023-02-04T16:00:00",
          "2023-02-04T17:00:00",
          "2023-02-04T18:00:00",
          "2023-02-04T19:00:00",
          "2023-02-04T20:00:00",
          "2023-02-04T21:00:00",
          "2023-02-04T22:00:00",
          "2023-02-04T23:00:00",
          "2023-02-05T00:00:00",
          "2023-02-05T01:00:00",
          "2023-02-05T02:00:00",
          "2023-02-05T03:00:00",
          "2023-02-05T04:00:00",
          "2023-02-05T05:00:00",
          "2023-02-05T06:00:00",
          "2023-02-05T07:00:00",
          "2023-02-05T08:00:00",
          "2023-02-05T09:00:00",
          "2023-02-05T10:00:00",
          "2023-02-05T11:00:00",
          "2023-02-05T12:00:00",
          "2023-02-05T13:00:00",
          "2023-02-05T14:00:00",
          "2023-02-05T15:00:00",
          "2023-02-05T16:00:00",
          "2023-02-05T17:00:00",
          "2023-02-05T18:00:00",
          "2023-02-05T19:00:00",
          "2023-02-05T20:00:00",
          "2023-02-05T21:00:00",
          "2023-02-05T22:00:00",
          "2023-02-05T23:00:00"
         ],
         "xaxis": "x",
         "y": [
          71110,
          68705,
          67450,
          66690,
          66998,
          68599,
          72251,
          77872,
          84058,
          83384,
          81127,
          77964,
          73019,
          75121,
          76065,
          77585,
          80236,
          80500,
          79806,
          78038,
          75417,
          73268,
          72858,
          72304,
          68476,
          65928,
          64413,
          63750,
          64203,
          65806,
          69165,
          74561,
          81167,
          81652,
          78859,
          74706,
          70153,
          72670,
          74305,
          76179,
          78967,
          79918,
          79748,
          78592,
          76255,
          74315,
          74001,
          73570,
          69832,
          67342,
          65932,
          65363,
          65939,
          67764,
          71259,
          76935,
          83228,
          83181,
          81131,
          78176,
          74464,
          77163,
          78206,
          79361,
          81335,
          81981,
          81745,
          80067,
          77390,
          75113,
          74730,
          74256,
          70412,
          67818,
          66274,
          65505,
          65831,
          67230,
          70559,
          76130,
          83384,
          84290,
          81524,
          78193,
          72566,
          73920,
          74263,
          75531,
          78458,
          79394,
          79130,
          77923,
          75792,
          73985,
          73963,
          73629,
          70005,
          67379,
          65693,
          64941,
          64926,
          65837,
          67344,
          68418,
          68496,
          66026,
          64409,
          61767,
          58308,
          58466,
          59107,
          60979,
          64326,
          67146,
          69273,
          69133,
          68529,
          67806,
          68506,
          68683
         ],
         "yaxis": "y"
        }
       ],
       "layout": {
        "legend": {
         "title": {
          "text": "variable"
         },
         "tracegroupgap": 0
        },
        "margin": {
         "t": 60
        },
        "template": {
         "data": {
          "bar": [
           {
            "error_x": {
             "color": "#f2f5fa"
            },
            "error_y": {
             "color": "#f2f5fa"
            },
            "marker": {
             "line": {
              "color": "rgb(17,17,17)",
              "width": 0.5
             },
             "pattern": {
              "fillmode": "overlay",
              "size": 10,
              "solidity": 0.2
             }
            },
            "type": "bar"
           }
          ],
          "barpolar": [
           {
            "marker": {
             "line": {
              "color": "rgb(17,17,17)",
              "width": 0.5
             },
             "pattern": {
              "fillmode": "overlay",
              "size": 10,
              "solidity": 0.2
             }
            },
            "type": "barpolar"
           }
          ],
          "carpet": [
           {
            "aaxis": {
             "endlinecolor": "#A2B1C6",
             "gridcolor": "#506784",
             "linecolor": "#506784",
             "minorgridcolor": "#506784",
             "startlinecolor": "#A2B1C6"
            },
            "baxis": {
             "endlinecolor": "#A2B1C6",
             "gridcolor": "#506784",
             "linecolor": "#506784",
             "minorgridcolor": "#506784",
             "startlinecolor": "#A2B1C6"
            },
            "type": "carpet"
           }
          ],
          "choropleth": [
           {
            "colorbar": {
             "outlinewidth": 0,
             "ticks": ""
            },
            "type": "choropleth"
           }
          ],
          "contour": [
           {
            "colorbar": {
             "outlinewidth": 0,
             "ticks": ""
            },
            "colorscale": [
             [
              0,
              "#0d0887"
             ],
             [
              0.1111111111111111,
              "#46039f"
             ],
             [
              0.2222222222222222,
              "#7201a8"
             ],
             [
              0.3333333333333333,
              "#9c179e"
             ],
             [
              0.4444444444444444,
              "#bd3786"
             ],
             [
              0.5555555555555556,
              "#d8576b"
             ],
             [
              0.6666666666666666,
              "#ed7953"
             ],
             [
              0.7777777777777778,
              "#fb9f3a"
             ],
             [
              0.8888888888888888,
              "#fdca26"
             ],
             [
              1,
              "#f0f921"
             ]
            ],
            "type": "contour"
           }
          ],
          "contourcarpet": [
           {
            "colorbar": {
             "outlinewidth": 0,
             "ticks": ""
            },
            "type": "contourcarpet"
           }
          ],
          "heatmap": [
           {
            "colorbar": {
             "outlinewidth": 0,
             "ticks": ""
            },
            "colorscale": [
             [
              0,
              "#0d0887"
             ],
             [
              0.1111111111111111,
              "#46039f"
             ],
             [
              0.2222222222222222,
              "#7201a8"
             ],
             [
              0.3333333333333333,
              "#9c179e"
             ],
             [
              0.4444444444444444,
              "#bd3786"
             ],
             [
              0.5555555555555556,
              "#d8576b"
             ],
             [
              0.6666666666666666,
              "#ed7953"
             ],
             [
              0.7777777777777778,
              "#fb9f3a"
             ],
             [
              0.8888888888888888,
              "#fdca26"
             ],
             [
              1,
              "#f0f921"
             ]
            ],
            "type": "heatmap"
           }
          ],
          "heatmapgl": [
           {
            "colorbar": {
             "outlinewidth": 0,
             "ticks": ""
            },
            "colorscale": [
             [
              0,
              "#0d0887"
             ],
             [
              0.1111111111111111,
              "#46039f"
             ],
             [
              0.2222222222222222,
              "#7201a8"
             ],
             [
              0.3333333333333333,
              "#9c179e"
             ],
             [
              0.4444444444444444,
              "#bd3786"
             ],
             [
              0.5555555555555556,
              "#d8576b"
             ],
             [
              0.6666666666666666,
              "#ed7953"
             ],
             [
              0.7777777777777778,
              "#fb9f3a"
             ],
             [
              0.8888888888888888,
              "#fdca26"
             ],
             [
              1,
              "#f0f921"
             ]
            ],
            "type": "heatmapgl"
           }
          ],
          "histogram": [
           {
            "marker": {
             "pattern": {
              "fillmode": "overlay",
              "size": 10,
              "solidity": 0.2
             }
            },
            "type": "histogram"
           }
          ],
          "histogram2d": [
           {
            "colorbar": {
             "outlinewidth": 0,
             "ticks": ""
            },
            "colorscale": [
             [
              0,
              "#0d0887"
             ],
             [
              0.1111111111111111,
              "#46039f"
             ],
             [
              0.2222222222222222,
              "#7201a8"
             ],
             [
              0.3333333333333333,
              "#9c179e"
             ],
             [
              0.4444444444444444,
              "#bd3786"
             ],
             [
              0.5555555555555556,
              "#d8576b"
             ],
             [
              0.6666666666666666,
              "#ed7953"
             ],
             [
              0.7777777777777778,
              "#fb9f3a"
             ],
             [
              0.8888888888888888,
              "#fdca26"
             ],
             [
              1,
              "#f0f921"
             ]
            ],
            "type": "histogram2d"
           }
          ],
          "histogram2dcontour": [
           {
            "colorbar": {
             "outlinewidth": 0,
             "ticks": ""
            },
            "colorscale": [
             [
              0,
              "#0d0887"
             ],
             [
              0.1111111111111111,
              "#46039f"
             ],
             [
              0.2222222222222222,
              "#7201a8"
             ],
             [
              0.3333333333333333,
              "#9c179e"
             ],
             [
              0.4444444444444444,
              "#bd3786"
             ],
             [
              0.5555555555555556,
              "#d8576b"
             ],
             [
              0.6666666666666666,
              "#ed7953"
             ],
             [
              0.7777777777777778,
              "#fb9f3a"
             ],
             [
              0.8888888888888888,
              "#fdca26"
             ],
             [
              1,
              "#f0f921"
             ]
            ],
            "type": "histogram2dcontour"
           }
          ],
          "mesh3d": [
           {
            "colorbar": {
             "outlinewidth": 0,
             "ticks": ""
            },
            "type": "mesh3d"
           }
          ],
          "parcoords": [
           {
            "line": {
             "colorbar": {
              "outlinewidth": 0,
              "ticks": ""
             }
            },
            "type": "parcoords"
           }
          ],
          "pie": [
           {
            "automargin": true,
            "type": "pie"
           }
          ],
          "scatter": [
           {
            "marker": {
             "line": {
              "color": "#212529"
             }
            },
            "type": "scatter"
           }
          ],
          "scatter3d": [
           {
            "line": {
             "colorbar": {
              "outlinewidth": 0,
              "ticks": ""
             }
            },
            "marker": {
             "colorbar": {
              "outlinewidth": 0,
              "ticks": ""
             }
            },
            "type": "scatter3d"
           }
          ],
          "scattercarpet": [
           {
            "marker": {
             "colorbar": {
              "outlinewidth": 0,
              "ticks": ""
             }
            },
            "type": "scattercarpet"
           }
          ],
          "scattergeo": [
           {
            "marker": {
             "colorbar": {
              "outlinewidth": 0,
              "ticks": ""
             }
            },
            "type": "scattergeo"
           }
          ],
          "scattergl": [
           {
            "marker": {
             "line": {
              "color": "#212529"
             }
            },
            "type": "scattergl"
           }
          ],
          "scattermapbox": [
           {
            "marker": {
             "colorbar": {
              "outlinewidth": 0,
              "ticks": ""
             }
            },
            "type": "scattermapbox"
           }
          ],
          "scatterpolar": [
           {
            "marker": {
             "colorbar": {
              "outlinewidth": 0,
              "ticks": ""
             }
            },
            "type": "scatterpolar"
           }
          ],
          "scatterpolargl": [
           {
            "marker": {
             "colorbar": {
              "outlinewidth": 0,
              "ticks": ""
             }
            },
            "type": "scatterpolargl"
           }
          ],
          "scatterternary": [
           {
            "marker": {
             "colorbar": {
              "outlinewidth": 0,
              "ticks": ""
             }
            },
            "type": "scatterternary"
           }
          ],
          "surface": [
           {
            "colorbar": {
             "outlinewidth": 0,
             "ticks": ""
            },
            "colorscale": [
             [
              0,
              "#0d0887"
             ],
             [
              0.1111111111111111,
              "#46039f"
             ],
             [
              0.2222222222222222,
              "#7201a8"
             ],
             [
              0.3333333333333333,
              "#9c179e"
             ],
             [
              0.4444444444444444,
              "#bd3786"
             ],
             [
              0.5555555555555556,
              "#d8576b"
             ],
             [
              0.6666666666666666,
              "#ed7953"
             ],
             [
              0.7777777777777778,
              "#fb9f3a"
             ],
             [
              0.8888888888888888,
              "#fdca26"
             ],
             [
              1,
              "#f0f921"
             ]
            ],
            "type": "surface"
           }
          ],
          "table": [
           {
            "cells": {
             "fill": {
              "color": "#506784"
             },
             "line": {
              "color": "rgb(17,17,17)"
             }
            },
            "header": {
             "fill": {
              "color": "#2a3f5f"
             },
             "line": {
              "color": "rgb(17,17,17)"
             }
            },
            "type": "table"
           }
          ]
         },
         "layout": {
          "annotationdefaults": {
           "arrowcolor": "#f2f5fa",
           "arrowhead": 0,
           "arrowwidth": 1,
           "font": {
            "color": "#dee2e6"
           }
          },
          "autotypenumbers": "strict",
          "coloraxis": {
           "colorbar": {
            "outlinewidth": 0,
            "ticks": ""
           }
          },
          "colorscale": {
           "diverging": [
            [
             0,
             "#8e0152"
            ],
            [
             0.1,
             "#c51b7d"
            ],
            [
             0.2,
             "#de77ae"
            ],
            [
             0.3,
             "#f1b6da"
            ],
            [
             0.4,
             "#fde0ef"
            ],
            [
             0.5,
             "#f7f7f7"
            ],
            [
             0.6,
             "#e6f5d0"
            ],
            [
             0.7,
             "#b8e186"
            ],
            [
             0.8,
             "#7fbc41"
            ],
            [
             0.9,
             "#4d9221"
            ],
            [
             1,
             "#276419"
            ]
           ],
           "sequential": [
            [
             0,
             "#2a9fd6"
            ],
            [
             0.1,
             "#4098c6"
            ],
            [
             0.2,
             "#5790b6"
            ],
            [
             0.30000000000000004,
             "#6d89a6"
            ],
            [
             0.4,
             "#838196"
            ],
            [
             0.5,
             "#9a7a86"
            ],
            [
             0.6000000000000001,
             "#b07276"
            ],
            [
             0.7000000000000001,
             "#c66b66"
            ],
            [
             0.8,
             "#dd6456"
            ],
            [
             0.9,
             "#f35c46"
            ],
            [
             1,
             "#ff5536"
            ]
           ],
           "sequentialminus": [
            [
             0,
             "#0d0887"
            ],
            [
             0.1111111111111111,
             "#46039f"
            ],
            [
             0.2222222222222222,
             "#7201a8"
            ],
            [
             0.3333333333333333,
             "#9c179e"
            ],
            [
             0.4444444444444444,
             "#bd3786"
            ],
            [
             0.5555555555555556,
             "#d8576b"
            ],
            [
             0.6666666666666666,
             "#ed7953"
            ],
            [
             0.7777777777777778,
             "#fb9f3a"
            ],
            [
             0.8888888888888888,
             "#fdca26"
            ],
            [
             1,
             "#f0f921"
            ]
           ]
          },
          "colorway": [
           "#4b9ed6",
           "#c80004",
           "#58a200",
           "#ff9d24",
           "#a32acd"
          ],
          "font": {
           "color": "#dee2e6",
           "family": "Roboto,-apple-system,BlinkMacSystemFont,\"Segoe UI\",\"Helvetica Neue\",Arial,sans-serif"
          },
          "geo": {
           "bgcolor": "#212529",
           "lakecolor": "#212529",
           "landcolor": "#212529",
           "showlakes": true,
           "showland": true,
           "subunitcolor": "#506784"
          },
          "hoverlabel": {
           "align": "left",
           "font": {
            "family": "Roboto,-apple-system,BlinkMacSystemFont,\"Segoe UI\",\"Helvetica Neue\",Arial,sans-serif"
           }
          },
          "hovermode": "closest",
          "mapbox": {
           "style": "dark"
          },
          "paper_bgcolor": "#282828",
          "piecolorway": [
           "#4b9ed6",
           "#c80004",
           "#58a200",
           "#ff9d24",
           "#a32acd"
          ],
          "plot_bgcolor": "#212529",
          "polar": {
           "angularaxis": {
            "gridcolor": "#506784",
            "linecolor": "#506784",
            "ticks": ""
           },
           "bgcolor": "rgb(17,17,17)",
           "radialaxis": {
            "gridcolor": "#506784",
            "linecolor": "#506784",
            "ticks": ""
           }
          },
          "scene": {
           "xaxis": {
            "backgroundcolor": "rgb(17,17,17)",
            "gridcolor": "#506784",
            "gridwidth": 2,
            "linecolor": "#506784",
            "showbackground": true,
            "ticks": "",
            "zerolinecolor": "#C8D4E3"
           },
           "yaxis": {
            "backgroundcolor": "rgb(17,17,17)",
            "gridcolor": "#506784",
            "gridwidth": 2,
            "linecolor": "#506784",
            "showbackground": true,
            "ticks": "",
            "zerolinecolor": "#C8D4E3"
           },
           "zaxis": {
            "backgroundcolor": "rgb(17,17,17)",
            "gridcolor": "#506784",
            "gridwidth": 2,
            "linecolor": "#506784",
            "showbackground": true,
            "ticks": "",
            "zerolinecolor": "#C8D4E3"
           }
          },
          "shapedefaults": {
           "line": {
            "color": "#f2f5fa"
           }
          },
          "sliderdefaults": {
           "bgcolor": "#C8D4E3",
           "bordercolor": "rgb(17,17,17)",
           "borderwidth": 1,
           "tickwidth": 0
          },
          "ternary": {
           "aaxis": {
            "gridcolor": "#506784",
            "linecolor": "#506784",
            "ticks": ""
           },
           "baxis": {
            "gridcolor": "#506784",
            "linecolor": "#506784",
            "ticks": ""
           },
           "bgcolor": "rgb(17,17,17)",
           "caxis": {
            "gridcolor": "#506784",
            "linecolor": "#506784",
            "ticks": ""
           }
          },
          "title": {
           "x": 0.05
          },
          "updatemenudefaults": {
           "bgcolor": "#506784",
           "borderwidth": 0
          },
          "xaxis": {
           "automargin": true,
           "gridcolor": "#303438",
           "gridwidth": 0.5,
           "linecolor": "#506784",
           "ticks": "",
           "title": {
            "standoff": 15
           },
           "zerolinecolor": "#303438",
           "zerolinewidth": 2
          },
          "yaxis": {
           "automargin": true,
           "gridcolor": "#303438",
           "gridwidth": 0.5,
           "linecolor": "#506784",
           "ticks": "",
           "title": {
            "standoff": 15
           },
           "zerolinecolor": "#303438",
           "zerolinewidth": 2
          }
         }
        },
        "xaxis": {
         "anchor": "y",
         "domain": [
          0,
          1
         ],
         "title": {
          "text": "index"
         }
        },
        "yaxis": {
         "anchor": "x",
         "domain": [
          0,
          1
         ],
         "title": {
          "text": "value"
         }
        }
       }
      },
      "image/png": "[encoded data removed]",
      "text/html": [
       "<div>                            <div id=\"1d64db5e-c5f1-4e03-8918-1707e4589bca\" class=\"plotly-graph-div\" style=\"height:525px; width:100%;\"></div>            <script type=\"text/javascript\">                require([\"plotly\"], function(Plotly) {                    window.PLOTLYENV=window.PLOTLYENV || {};                                    if (document.getElementById(\"1d64db5e-c5f1-4e03-8918-1707e4589bca\")) {                    Plotly.newPlot(                        \"1d64db5e-c5f1-4e03-8918-1707e4589bca\",                        [{\"hovertemplate\":\"variable=actual\\u003cbr\\u003eindex=%{x}\\u003cbr\\u003evalue=%{y}\\u003cextra\\u003e\\u003c\\u002fextra\\u003e\",\"legendgroup\":\"actual\",\"line\":{\"color\":\"#4b9ed6\",\"dash\":\"solid\"},\"marker\":{\"symbol\":\"circle\"},\"mode\":\"lines+markers\",\"name\":\"actual\",\"orientation\":\"v\",\"showlegend\":true,\"x\":[\"2023-02-01T00:00:00\",\"2023-02-01T01:00:00\",\"2023-02-01T02:00:00\",\"2023-02-01T03:00:00\",\"2023-02-01T04:00:00\",\"2023-02-01T05:00:00\",\"2023-02-01T06:00:00\",\"2023-02-01T07:00:00\",\"2023-02-01T08:00:00\",\"2023-02-01T09:00:00\",\"2023-02-01T10:00:00\",\"2023-02-01T11:00:00\",\"2023-02-01T12:00:00\",\"2023-02-01T13:00:00\",\"2023-02-01T14:00:00\",\"2023-02-01T15:00:00\",\"2023-02-01T16:00:00\",\"2023-02-01T17:00:00\",\"2023-02-01T18:00:00\",\"2023-02-01T19:00:00\",\"2023-02-01T20:00:00\",\"2023-02-01T21:00:00\",\"2023-02-01T22:00:00\",\"2023-02-01T23:00:00\",\"2023-02-02T00:00:00\",\"2023-02-02T01:00:00\",\"2023-02-02T02:00:00\",\"2023-02-02T03:00:00\",\"2023-02-02T04:00:00\",\"2023-02-02T05:00:00\",\"2023-02-02T06:00:00\",\"2023-02-02T07:00:00\",\"2023-02-02T08:00:00\",\"2023-02-02T09:00:00\",\"2023-02-02T10:00:00\",\"2023-02-02T11:00:00\",\"2023-02-02T12:00:00\",\"2023-02-02T13:00:00\",\"2023-02-02T14:00:00\",\"2023-02-02T15:00:00\",\"2023-02-02T16:00:00\",\"2023-02-02T17:00:00\",\"2023-02-02T18:00:00\",\"2023-02-02T19:00:00\",\"2023-02-02T20:00:00\",\"2023-02-02T21:00:00\",\"2023-02-02T22:00:00\",\"2023-02-02T23:00:00\",\"2023-02-03T00:00:00\",\"2023-02-03T01:00:00\",\"2023-02-03T02:00:00\",\"2023-02-03T03:00:00\",\"2023-02-03T04:00:00\",\"2023-02-03T05:00:00\",\"2023-02-03T06:00:00\",\"2023-02-03T07:00:00\",\"2023-02-03T08:00:00\",\"2023-02-03T09:00:00\",\"2023-02-03T10:00:00\",\"2023-02-03T11:00:00\",\"2023-02-03T12:00:00\",\"2023-02-03T13:00:00\",\"2023-02-03T14:00:00\",\"2023-02-03T15:00:00\",\"2023-02-03T16:00:00\",\"2023-02-03T17:00:00\",\"2023-02-03T18:00:00\",\"2023-02-03T19:00:00\",\"2023-02-03T20:00:00\",\"2023-02-03T21:00:00\",\"2023-02-03T22:00:00\",\"2023-02-03T23:00:00\",\"2023-02-04T00:00:00\",\"2023-02-04T01:00:00\",\"2023-02-04T02:00:00\",\"2023-02-04T03:00:00\",\"2023-02-04T04:00:00\",\"2023-02-04T05:00:00\",\"2023-02-04T06:00:00\",\"2023-02-04T07:00:00\",\"2023-02-04T08:00:00\",\"2023-02-04T09:00:00\",\"2023-02-04T10:00:00\",\"2023-02-04T11:00:00\",\"2023-02-04T12:00:00\",\"2023-02-04T13:00:00\",\"2023-02-04T14:00:00\",\"2023-02-04T15:00:00\",\"2023-02-04T16:00:00\",\"2023-02-04T17:00:00\",\"2023-02-04T18:00:00\",\"2023-02-04T19:00:00\",\"2023-02-04T20:00:00\",\"2023-02-04T21:00:00\",\"2023-02-04T22:00:00\",\"2023-02-04T23:00:00\",\"2023-02-05T00:00:00\",\"2023-02-05T01:00:00\",\"2023-02-05T02:00:00\",\"2023-02-05T03:00:00\",\"2023-02-05T04:00:00\",\"2023-02-05T05:00:00\",\"2023-02-05T06:00:00\",\"2023-02-05T07:00:00\",\"2023-02-05T08:00:00\",\"2023-02-05T09:00:00\",\"2023-02-05T10:00:00\",\"2023-02-05T11:00:00\",\"2023-02-05T12:00:00\",\"2023-02-05T13:00:00\",\"2023-02-05T14:00:00\",\"2023-02-05T15:00:00\",\"2023-02-05T16:00:00\",\"2023-02-05T17:00:00\",\"2023-02-05T18:00:00\",\"2023-02-05T19:00:00\",\"2023-02-05T20:00:00\",\"2023-02-05T21:00:00\",\"2023-02-05T22:00:00\",\"2023-02-05T23:00:00\"],\"xaxis\":\"x\",\"y\":[68476.00061845778,65927.99981784819,64412.99963355064,63750.00013411044,64202.999281287186,65805.99936509131,69165.00115394591,74561.00028109549,81167.00019741057,81652.0008869171,78858.99880695342,74705.99891161917,70152.99884152411,72669.99847364424,74304.99836301802,76179.00076222418,78967.0009729862,79917.99872255324,79748.0011665821,78591.99972367285,76255.00138592719,74314.99862790106,74000.99934172629,73570.0014719963,69832.00041198729,67342.00045299529,65932.00131320952,65363.000482797615,65939.00045657156,67763.99843168257,71258.99896001814,76934.99855685233,83227.99956083296,83180.99935793875,81131.00063323973,78176.00051450728,74463.99875378607,77163.00042796133,78206.0013091564,79360.99890470503,81335.00047922133,81980.9988336563,81745.00091886519,80066.99884843825,77389.99845170973,75113.00170326231,74730.00093674658,74256.00088596343,70411.9984076023,67818.0012514591,66274.00064635275,65505.00146532058,65830.99829053877,67230.00026512145,70559.00125932692,76129.99981164931,83383.99883008002,84290.00059795378,81524.0016646385,78192.99992275237,72566.00127649306,73920.0003223419,74263.00002932547,75531.00166010855,78458.00173187254,79394.00082087515,79129.9993855953,77922.9997179508,75791.99850034712,73985.00030732153,73962.99902987479,73628.99921393393,70004.99908947943,67379.00039100646,65692.99880337714,64941.00076735019,64926.00037002563,65837.00053358077,67344.00120067595,68417.9997768402,68496.00114822386,66026.00171899794,64408.99987494945,61767.00040531158,58307.99944114684,58465.99945807456,59106.99941682815,60978.999331593506,64326.0001078844,67146.00012421607,69272.99984645842,69132.99961161612,68528.9995908737,67806.0002388954,68506.0014131069,68683.00158596037,65565.99995493887,62972.999699115746,61355.999591827385,60651.0000219345,60924.99998533725,61605.99926686286,62498.99964833259,62996.99998748302,61472.999912142746,57814.00059735775,56106.99984288216,53447.99922823906,51913.000250935555,52078.99978506565,52914.999698758125,55385.99950182438,59537.00038623809,63714.000569939606,66810.99993443488,67195.00107479094,66927.9985179901,66286.00165891646,66275.00102019309,66251.999368906],\"yaxis\":\"y\",\"type\":\"scatter\"},{\"hovertemplate\":\"variable=predicted\\u003cbr\\u003eindex=%{x}\\u003cbr\\u003evalue=%{y}\\u003cextra\\u003e\\u003c\\u002fextra\\u003e\",\"legendgroup\":\"predicted\",\"line\":{\"color\":\"#c80004\",\"dash\":\"solid\"},\"marker\":{\"symbol\":\"circle\"},\"mode\":\"lines+markers\",\"name\":\"predicted\",\"orientation\":\"v\",\"showlegend\":true,\"x\":[\"2023-02-01T00:00:00\",\"2023-02-01T01:00:00\",\"2023-02-01T02:00:00\",\"2023-02-01T03:00:00\",\"2023-02-01T04:00:00\",\"2023-02-01T05:00:00\",\"2023-02-01T06:00:00\",\"2023-02-01T07:00:00\",\"2023-02-01T08:00:00\",\"2023-02-01T09:00:00\",\"2023-02-01T10:00:00\",\"2023-02-01T11:00:00\",\"2023-02-01T12:00:00\",\"2023-02-01T13:00:00\",\"2023-02-01T14:00:00\",\"2023-02-01T15:00:00\",\"2023-02-01T16:00:00\",\"2023-02-01T17:00:00\",\"2023-02-01T18:00:00\",\"2023-02-01T19:00:00\",\"2023-02-01T20:00:00\",\"2023-02-01T21:00:00\",\"2023-02-01T22:00:00\",\"2023-02-01T23:00:00\",\"2023-02-02T00:00:00\",\"2023-02-02T01:00:00\",\"2023-02-02T02:00:00\",\"2023-02-02T03:00:00\",\"2023-02-02T04:00:00\",\"2023-02-02T05:00:00\",\"2023-02-02T06:00:00\",\"2023-02-02T07:00:00\",\"2023-02-02T08:00:00\",\"2023-02-02T09:00:00\",\"2023-02-02T10:00:00\",\"2023-02-02T11:00:00\",\"2023-02-02T12:00:00\",\"2023-02-02T13:00:00\",\"2023-02-02T14:00:00\",\"2023-02-02T15:00:00\",\"2023-02-02T16:00:00\",\"2023-02-02T17:00:00\",\"2023-02-02T18:00:00\",\"2023-02-02T19:00:00\",\"2023-02-02T20:00:00\",\"2023-02-02T21:00:00\",\"2023-02-02T22:00:00\",\"2023-02-02T23:00:00\",\"2023-02-03T00:00:00\",\"2023-02-03T01:00:00\",\"2023-02-03T02:00:00\",\"2023-02-03T03:00:00\",\"2023-02-03T04:00:00\",\"2023-02-03T05:00:00\",\"2023-02-03T06:00:00\",\"2023-02-03T07:00:00\",\"2023-02-03T08:00:00\",\"2023-02-03T09:00:00\",\"2023-02-03T10:00:00\",\"2023-02-03T11:00:00\",\"2023-02-03T12:00:00\",\"2023-02-03T13:00:00\",\"2023-02-03T14:00:00\",\"2023-02-03T15:00:00\",\"2023-02-03T16:00:00\",\"2023-02-03T17:00:00\",\"2023-02-03T18:00:00\",\"2023-02-03T19:00:00\",\"2023-02-03T20:00:00\",\"2023-02-03T21:00:00\",\"2023-02-03T22:00:00\",\"2023-02-03T23:00:00\",\"2023-02-04T00:00:00\",\"2023-02-04T01:00:00\",\"2023-02-04T02:00:00\",\"2023-02-04T03:00:00\",\"2023-02-04T04:00:00\",\"2023-02-04T05:00:00\",\"2023-02-04T06:00:00\",\"2023-02-04T07:00:00\",\"2023-02-04T08:00:00\",\"2023-02-04T09:00:00\",\"2023-02-04T10:00:00\",\"2023-02-04T11:00:00\",\"2023-02-04T12:00:00\",\"2023-02-04T13:00:00\",\"2023-02-04T14:00:00\",\"2023-02-04T15:00:00\",\"2023-02-04T16:00:00\",\"2023-02-04T17:00:00\",\"2023-02-04T18:00:00\",\"2023-02-04T19:00:00\",\"2023-02-04T20:00:00\",\"2023-02-04T21:00:00\",\"2023-02-04T22:00:00\",\"2023-02-04T23:00:00\",\"2023-02-05T00:00:00\",\"2023-02-05T01:00:00\",\"2023-02-05T02:00:00\",\"2023-02-05T03:00:00\",\"2023-02-05T04:00:00\",\"2023-02-05T05:00:00\",\"2023-02-05T06:00:00\",\"2023-02-05T07:00:00\",\"2023-02-05T08:00:00\",\"2023-02-05T09:00:00\",\"2023-02-05T10:00:00\",\"2023-02-05T11:00:00\",\"2023-02-05T12:00:00\",\"2023-02-05T13:00:00\",\"2023-02-05T14:00:00\",\"2023-02-05T15:00:00\",\"2023-02-05T16:00:00\",\"2023-02-05T17:00:00\",\"2023-02-05T18:00:00\",\"2023-02-05T19:00:00\",\"2023-02-05T20:00:00\",\"2023-02-05T21:00:00\",\"2023-02-05T22:00:00\",\"2023-02-05T23:00:00\"],\"xaxis\":\"x\",\"y\":[65753.53184127806,63218.900620222084,61700.04482841491,61086.56383407115,61834.68542146682,63810.37512683868,67370.70215106009,72612.36582517622,79383.78519773482,81576.51434421538,81308.56698989867,79478.96660041808,75547.38972878455,77113.17277956007,76930.0071082115,76456.96227550505,76860.59922599791,77109.86598825453,77036.36629915236,74900.68972325324,72667.28912782668,70110.71567916869,69819.9472966194,70828.97714948653,67661.57821273802,64567.83353674411,62671.71697068214,61861.07201826572,62330.98199892043,64204.76730310916,67557.59143614768,72946.16765046118,80284.22585964201,83237.10713100432,83223.1470530033,81397.50995016097,77431.39586639403,79182.75173807143,79433.7899956703,79297.47516584395,79815.75217962264,79476.59765958785,78986.95634698866,76674.60610914229,74289.19384574889,71780.22846603392,71266.09188842772,72049.47491693495,68530.37510490416,65439.62286663055,63668.464455842965,62856.93375575542,63321.12979555129,65157.00857293605,68340.11303162573,72786.01405096053,79295.81482315062,81462.52382922171,81031.7586853504,79220.11986923216,75504.76616144179,77197.60016345976,77187.28380823134,77198.01698589323,77853.60225629805,77569.01673984526,76834.23520708083,74119.286601305,71902.82636427878,69908.39006996153,70038.0253202915,71574.45017766951,68509.79797077177,65345.50957143306,62862.54175424575,61233.20543968677,61030.04271209239,61616.47366726398,62944.56198859214,64575.093194127076,67935.13877582549,67947.0390563011,66738.2088434696,65031.29145348071,61370.8836262226,61889.51146554946,61298.731662988655,60999.5417305231,61564.315286755555,62091.58698129653,63280.69107246398,63190.55843150615,63031.72650647163,62941.331614732735,64407.388161540024,66482.3284986019,64203.57762241363,61110.40434050559,58368.98751020431,56570.41260385513,56173.29545092583,56533.56550073624,57315.21871614456,58198.293513417244,59231.123927235596,57838.89010691643,56520.12992429733,55382.62324011326,52683.366262197495,53832.08373308182,53649.64576423168,54051.65189695358,56117.656603097916,57911.403316259384,60448.15164792537,61905.156200885765,61840.42888724803,61880.148591637604,62896.182798147194,63787.68261885642],\"yaxis\":\"y\",\"type\":\"scatter\"},{\"hovertemplate\":\"variable=before\\u003cbr\\u003eindex=%{x}\\u003cbr\\u003evalue=%{y}\\u003cextra\\u003e\\u003c\\u002fextra\\u003e\",\"legendgroup\":\"before\",\"line\":{\"color\":\"#58a200\",\"dash\":\"solid\"},\"marker\":{\"symbol\":\"circle\"},\"mode\":\"lines+markers\",\"name\":\"before\",\"orientation\":\"v\",\"showlegend\":true,\"x\":[\"2023-02-01T00:00:00\",\"2023-02-01T01:00:00\",\"2023-02-01T02:00:00\",\"2023-02-01T03:00:00\",\"2023-02-01T04:00:00\",\"2023-02-01T05:00:00\",\"2023-02-01T06:00:00\",\"2023-02-01T07:00:00\",\"2023-02-01T08:00:00\",\"2023-02-01T09:00:00\",\"2023-02-01T10:00:00\",\"2023-02-01T11:00:00\",\"2023-02-01T12:00:00\",\"2023-02-01T13:00:00\",\"2023-02-01T14:00:00\",\"2023-02-01T15:00:00\",\"2023-02-01T16:00:00\",\"2023-02-01T17:00:00\",\"2023-02-01T18:00:00\",\"2023-02-01T19:00:00\",\"2023-02-01T20:00:00\",\"2023-02-01T21:00:00\",\"2023-02-01T22:00:00\",\"2023-02-01T23:00:00\",\"2023-02-02T00:00:00\",\"2023-02-02T01:00:00\",\"2023-02-02T02:00:00\",\"2023-02-02T03:00:00\",\"2023-02-02T04:00:00\",\"2023-02-02T05:00:00\",\"2023-02-02T06:00:00\",\"2023-02-02T07:00:00\",\"2023-02-02T08:00:00\",\"2023-02-02T09:00:00\",\"2023-02-02T10:00:00\",\"2023-02-02T11:00:00\",\"2023-02-02T12:00:00\",\"2023-02-02T13:00:00\",\"2023-02-02T14:00:00\",\"2023-02-02T15:00:00\",\"2023-02-02T16:00:00\",\"2023-02-02T17:00:00\",\"2023-02-02T18:00:00\",\"2023-02-02T19:00:00\",\"2023-02-02T20:00:00\",\"2023-02-02T21:00:00\",\"2023-02-02T22:00:00\",\"2023-02-02T23:00:00\",\"2023-02-03T00:00:00\",\"2023-02-03T01:00:00\",\"2023-02-03T02:00:00\",\"2023-02-03T03:00:00\",\"2023-02-03T04:00:00\",\"2023-02-03T05:00:00\",\"2023-02-03T06:00:00\",\"2023-02-03T07:00:00\",\"2023-02-03T08:00:00\",\"2023-02-03T09:00:00\",\"2023-02-03T10:00:00\",\"2023-02-03T11:00:00\",\"2023-02-03T12:00:00\",\"2023-02-03T13:00:00\",\"2023-02-03T14:00:00\",\"2023-02-03T15:00:00\",\"2023-02-03T16:00:00\",\"2023-02-03T17:00:00\",\"2023-02-03T18:00:00\",\"2023-02-03T19:00:00\",\"2023-02-03T20:00:00\",\"2023-02-03T21:00:00\",\"2023-02-03T22:00:00\",\"2023-02-03T23:00:00\",\"2023-02-04T00:00:00\",\"2023-02-04T01:00:00\",\"2023-02-04T02:00:00\",\"2023-02-04T03:00:00\",\"2023-02-04T04:00:00\",\"2023-02-04T05:00:00\",\"2023-02-04T06:00:00\",\"2023-02-04T07:00:00\",\"2023-02-04T08:00:00\",\"2023-02-04T09:00:00\",\"2023-02-04T10:00:00\",\"2023-02-04T11:00:00\",\"2023-02-04T12:00:00\",\"2023-02-04T13:00:00\",\"2023-02-04T14:00:00\",\"2023-02-04T15:00:00\",\"2023-02-04T16:00:00\",\"2023-02-04T17:00:00\",\"2023-02-04T18:00:00\",\"2023-02-04T19:00:00\",\"2023-02-04T20:00:00\",\"2023-02-04T21:00:00\",\"2023-02-04T22:00:00\",\"2023-02-04T23:00:00\",\"2023-02-05T00:00:00\",\"2023-02-05T01:00:00\",\"2023-02-05T02:00:00\",\"2023-02-05T03:00:00\",\"2023-02-05T04:00:00\",\"2023-02-05T05:00:00\",\"2023-02-05T06:00:00\",\"2023-02-05T07:00:00\",\"2023-02-05T08:00:00\",\"2023-02-05T09:00:00\",\"2023-02-05T10:00:00\",\"2023-02-05T11:00:00\",\"2023-02-05T12:00:00\",\"2023-02-05T13:00:00\",\"2023-02-05T14:00:00\",\"2023-02-05T15:00:00\",\"2023-02-05T16:00:00\",\"2023-02-05T17:00:00\",\"2023-02-05T18:00:00\",\"2023-02-05T19:00:00\",\"2023-02-05T20:00:00\",\"2023-02-05T21:00:00\",\"2023-02-05T22:00:00\",\"2023-02-05T23:00:00\"],\"xaxis\":\"x\",\"y\":[71110.0,68705.0,67450.0,66690.0,66998.0,68599.0,72251.0,77872.0,84058.0,83384.0,81127.0,77964.0,73019.0,75121.0,76065.0,77585.0,80236.0,80500.0,79806.0,78038.0,75417.0,73268.0,72858.0,72304.0,68476.0,65928.0,64413.0,63750.0,64203.0,65806.0,69165.0,74561.0,81167.0,81652.0,78859.0,74706.0,70153.0,72670.0,74305.0,76179.0,78967.0,79918.0,79748.0,78592.0,76255.0,74315.0,74001.0,73570.0,69832.0,67342.0,65932.0,65363.0,65939.0,67764.0,71259.0,76935.0,83228.0,83181.0,81131.0,78176.0,74464.0,77163.0,78206.0,79361.0,81335.0,81981.0,81745.0,80067.0,77390.0,75113.0,74730.0,74256.0,70412.0,67818.0,66274.0,65505.0,65831.0,67230.0,70559.0,76130.0,83384.0,84290.0,81524.0,78193.0,72566.0,73920.0,74263.0,75531.0,78458.0,79394.0,79130.0,77923.0,75792.0,73985.0,73963.0,73629.0,70005.0,67379.0,65693.0,64941.0,64926.0,65837.0,67344.0,68418.0,68496.0,66026.0,64409.0,61767.0,58308.0,58466.0,59107.0,60979.0,64326.0,67146.0,69273.0,69133.0,68529.0,67806.0,68506.0,68683.0],\"yaxis\":\"y\",\"type\":\"scatter\"}],                        {\"template\":{\"data\":{\"barpolar\":[{\"marker\":{\"line\":{\"color\":\"rgb(17,17,17)\",\"width\":0.5},\"pattern\":{\"fillmode\":\"overlay\",\"size\":10,\"solidity\":0.2}},\"type\":\"barpolar\"}],\"bar\":[{\"error_x\":{\"color\":\"#f2f5fa\"},\"error_y\":{\"color\":\"#f2f5fa\"},\"marker\":{\"line\":{\"color\":\"rgb(17,17,17)\",\"width\":0.5},\"pattern\":{\"fillmode\":\"overlay\",\"size\":10,\"solidity\":0.2}},\"type\":\"bar\"}],\"carpet\":[{\"aaxis\":{\"endlinecolor\":\"#A2B1C6\",\"gridcolor\":\"#506784\",\"linecolor\":\"#506784\",\"minorgridcolor\":\"#506784\",\"startlinecolor\":\"#A2B1C6\"},\"baxis\":{\"endlinecolor\":\"#A2B1C6\",\"gridcolor\":\"#506784\",\"linecolor\":\"#506784\",\"minorgridcolor\":\"#506784\",\"startlinecolor\":\"#A2B1C6\"},\"type\":\"carpet\"}],\"choropleth\":[{\"colorbar\":{\"outlinewidth\":0,\"ticks\":\"\"},\"type\":\"choropleth\"}],\"contourcarpet\":[{\"colorbar\":{\"outlinewidth\":0,\"ticks\":\"\"},\"type\":\"contourcarpet\"}],\"contour\":[{\"colorbar\":{\"outlinewidth\":0,\"ticks\":\"\"},\"colorscale\":[[0.0,\"#0d0887\"],[0.1111111111111111,\"#46039f\"],[0.2222222222222222,\"#7201a8\"],[0.3333333333333333,\"#9c179e\"],[0.4444444444444444,\"#bd3786\"],[0.5555555555555556,\"#d8576b\"],[0.6666666666666666,\"#ed7953\"],[0.7777777777777778,\"#fb9f3a\"],[0.8888888888888888,\"#fdca26\"],[1.0,\"#f0f921\"]],\"type\":\"contour\"}],\"heatmapgl\":[{\"colorbar\":{\"outlinewidth\":0,\"ticks\":\"\"},\"colorscale\":[[0.0,\"#0d0887\"],[0.1111111111111111,\"#46039f\"],[0.2222222222222222,\"#7201a8\"],[0.3333333333333333,\"#9c179e\"],[0.4444444444444444,\"#bd3786\"],[0.5555555555555556,\"#d8576b\"],[0.6666666666666666,\"#ed7953\"],[0.7777777777777778,\"#fb9f3a\"],[0.8888888888888888,\"#fdca26\"],[1.0,\"#f0f921\"]],\"type\":\"heatmapgl\"}],\"heatmap\":[{\"colorbar\":{\"outlinewidth\":0,\"ticks\":\"\"},\"colorscale\":[[0.0,\"#0d0887\"],[0.1111111111111111,\"#46039f\"],[0.2222222222222222,\"#7201a8\"],[0.3333333333333333,\"#9c179e\"],[0.4444444444444444,\"#bd3786\"],[0.5555555555555556,\"#d8576b\"],[0.6666666666666666,\"#ed7953\"],[0.7777777777777778,\"#fb9f3a\"],[0.8888888888888888,\"#fdca26\"],[1.0,\"#f0f921\"]],\"type\":\"heatmap\"}],\"histogram2dcontour\":[{\"colorbar\":{\"outlinewidth\":0,\"ticks\":\"\"},\"colorscale\":[[0.0,\"#0d0887\"],[0.1111111111111111,\"#46039f\"],[0.2222222222222222,\"#7201a8\"],[0.3333333333333333,\"#9c179e\"],[0.4444444444444444,\"#bd3786\"],[0.5555555555555556,\"#d8576b\"],[0.6666666666666666,\"#ed7953\"],[0.7777777777777778,\"#fb9f3a\"],[0.8888888888888888,\"#fdca26\"],[1.0,\"#f0f921\"]],\"type\":\"histogram2dcontour\"}],\"histogram2d\":[{\"colorbar\":{\"outlinewidth\":0,\"ticks\":\"\"},\"colorscale\":[[0.0,\"#0d0887\"],[0.1111111111111111,\"#46039f\"],[0.2222222222222222,\"#7201a8\"],[0.3333333333333333,\"#9c179e\"],[0.4444444444444444,\"#bd3786\"],[0.5555555555555556,\"#d8576b\"],[0.6666666666666666,\"#ed7953\"],[0.7777777777777778,\"#fb9f3a\"],[0.8888888888888888,\"#fdca26\"],[1.0,\"#f0f921\"]],\"type\":\"histogram2d\"}],\"histogram\":[{\"marker\":{\"pattern\":{\"fillmode\":\"overlay\",\"size\":10,\"solidity\":0.2}},\"type\":\"histogram\"}],\"mesh3d\":[{\"colorbar\":{\"outlinewidth\":0,\"ticks\":\"\"},\"type\":\"mesh3d\"}],\"parcoords\":[{\"line\":{\"colorbar\":{\"outlinewidth\":0,\"ticks\":\"\"}},\"type\":\"parcoords\"}],\"pie\":[{\"automargin\":true,\"type\":\"pie\"}],\"scatter3d\":[{\"line\":{\"colorbar\":{\"outlinewidth\":0,\"ticks\":\"\"}},\"marker\":{\"colorbar\":{\"outlinewidth\":0,\"ticks\":\"\"}},\"type\":\"scatter3d\"}],\"scattercarpet\":[{\"marker\":{\"colorbar\":{\"outlinewidth\":0,\"ticks\":\"\"}},\"type\":\"scattercarpet\"}],\"scattergeo\":[{\"marker\":{\"colorbar\":{\"outlinewidth\":0,\"ticks\":\"\"}},\"type\":\"scattergeo\"}],\"scattergl\":[{\"marker\":{\"line\":{\"color\":\"#212529\"}},\"type\":\"scattergl\"}],\"scattermapbox\":[{\"marker\":{\"colorbar\":{\"outlinewidth\":0,\"ticks\":\"\"}},\"type\":\"scattermapbox\"}],\"scatterpolargl\":[{\"marker\":{\"colorbar\":{\"outlinewidth\":0,\"ticks\":\"\"}},\"type\":\"scatterpolargl\"}],\"scatterpolar\":[{\"marker\":{\"colorbar\":{\"outlinewidth\":0,\"ticks\":\"\"}},\"type\":\"scatterpolar\"}],\"scatter\":[{\"marker\":{\"line\":{\"color\":\"#212529\"}},\"type\":\"scatter\"}],\"scatterternary\":[{\"marker\":{\"colorbar\":{\"outlinewidth\":0,\"ticks\":\"\"}},\"type\":\"scatterternary\"}],\"surface\":[{\"colorbar\":{\"outlinewidth\":0,\"ticks\":\"\"},\"colorscale\":[[0.0,\"#0d0887\"],[0.1111111111111111,\"#46039f\"],[0.2222222222222222,\"#7201a8\"],[0.3333333333333333,\"#9c179e\"],[0.4444444444444444,\"#bd3786\"],[0.5555555555555556,\"#d8576b\"],[0.6666666666666666,\"#ed7953\"],[0.7777777777777778,\"#fb9f3a\"],[0.8888888888888888,\"#fdca26\"],[1.0,\"#f0f921\"]],\"type\":\"surface\"}],\"table\":[{\"cells\":{\"fill\":{\"color\":\"#506784\"},\"line\":{\"color\":\"rgb(17,17,17)\"}},\"header\":{\"fill\":{\"color\":\"#2a3f5f\"},\"line\":{\"color\":\"rgb(17,17,17)\"}},\"type\":\"table\"}]},\"layout\":{\"annotationdefaults\":{\"arrowcolor\":\"#f2f5fa\",\"arrowhead\":0,\"arrowwidth\":1,\"font\":{\"color\":\"#dee2e6\"}},\"autotypenumbers\":\"strict\",\"coloraxis\":{\"colorbar\":{\"outlinewidth\":0,\"ticks\":\"\"}},\"colorscale\":{\"diverging\":[[0,\"#8e0152\"],[0.1,\"#c51b7d\"],[0.2,\"#de77ae\"],[0.3,\"#f1b6da\"],[0.4,\"#fde0ef\"],[0.5,\"#f7f7f7\"],[0.6,\"#e6f5d0\"],[0.7,\"#b8e186\"],[0.8,\"#7fbc41\"],[0.9,\"#4d9221\"],[1,\"#276419\"]],\"sequential\":[[0.0,\"#2a9fd6\"],[0.1,\"#4098c6\"],[0.2,\"#5790b6\"],[0.30000000000000004,\"#6d89a6\"],[0.4,\"#838196\"],[0.5,\"#9a7a86\"],[0.6000000000000001,\"#b07276\"],[0.7000000000000001,\"#c66b66\"],[0.8,\"#dd6456\"],[0.9,\"#f35c46\"],[1.0,\"#ff5536\"]],\"sequentialminus\":[[0.0,\"#0d0887\"],[0.1111111111111111,\"#46039f\"],[0.2222222222222222,\"#7201a8\"],[0.3333333333333333,\"#9c179e\"],[0.4444444444444444,\"#bd3786\"],[0.5555555555555556,\"#d8576b\"],[0.6666666666666666,\"#ed7953\"],[0.7777777777777778,\"#fb9f3a\"],[0.8888888888888888,\"#fdca26\"],[1.0,\"#f0f921\"]]},\"colorway\":[\"#4b9ed6\",\"#c80004\",\"#58a200\",\"#ff9d24\",\"#a32acd\"],\"font\":{\"color\":\"#dee2e6\",\"family\":\"Roboto,-apple-system,BlinkMacSystemFont,\\\"Segoe UI\\\",\\\"Helvetica Neue\\\",Arial,sans-serif\"},\"geo\":{\"bgcolor\":\"#212529\",\"lakecolor\":\"#212529\",\"landcolor\":\"#212529\",\"showlakes\":true,\"showland\":true,\"subunitcolor\":\"#506784\"},\"hoverlabel\":{\"align\":\"left\",\"font\":{\"family\":\"Roboto,-apple-system,BlinkMacSystemFont,\\\"Segoe UI\\\",\\\"Helvetica Neue\\\",Arial,sans-serif\"}},\"hovermode\":\"closest\",\"mapbox\":{\"style\":\"dark\"},\"paper_bgcolor\":\"#282828\",\"piecolorway\":[\"#4b9ed6\",\"#c80004\",\"#58a200\",\"#ff9d24\",\"#a32acd\"],\"plot_bgcolor\":\"#212529\",\"polar\":{\"angularaxis\":{\"gridcolor\":\"#506784\",\"linecolor\":\"#506784\",\"ticks\":\"\"},\"bgcolor\":\"rgb(17,17,17)\",\"radialaxis\":{\"gridcolor\":\"#506784\",\"linecolor\":\"#506784\",\"ticks\":\"\"}},\"scene\":{\"xaxis\":{\"backgroundcolor\":\"rgb(17,17,17)\",\"gridcolor\":\"#506784\",\"gridwidth\":2,\"linecolor\":\"#506784\",\"showbackground\":true,\"ticks\":\"\",\"zerolinecolor\":\"#C8D4E3\"},\"yaxis\":{\"backgroundcolor\":\"rgb(17,17,17)\",\"gridcolor\":\"#506784\",\"gridwidth\":2,\"linecolor\":\"#506784\",\"showbackground\":true,\"ticks\":\"\",\"zerolinecolor\":\"#C8D4E3\"},\"zaxis\":{\"backgroundcolor\":\"rgb(17,17,17)\",\"gridcolor\":\"#506784\",\"gridwidth\":2,\"linecolor\":\"#506784\",\"showbackground\":true,\"ticks\":\"\",\"zerolinecolor\":\"#C8D4E3\"}},\"shapedefaults\":{\"line\":{\"color\":\"#f2f5fa\"}},\"sliderdefaults\":{\"bgcolor\":\"#C8D4E3\",\"bordercolor\":\"rgb(17,17,17)\",\"borderwidth\":1,\"tickwidth\":0},\"ternary\":{\"aaxis\":{\"gridcolor\":\"#506784\",\"linecolor\":\"#506784\",\"ticks\":\"\"},\"baxis\":{\"gridcolor\":\"#506784\",\"linecolor\":\"#506784\",\"ticks\":\"\"},\"bgcolor\":\"rgb(17,17,17)\",\"caxis\":{\"gridcolor\":\"#506784\",\"linecolor\":\"#506784\",\"ticks\":\"\"}},\"title\":{\"x\":0.05},\"updatemenudefaults\":{\"bgcolor\":\"#506784\",\"borderwidth\":0},\"xaxis\":{\"automargin\":true,\"gridcolor\":\"#303438\",\"gridwidth\":0.5,\"linecolor\":\"#506784\",\"ticks\":\"\",\"title\":{\"standoff\":15},\"zerolinecolor\":\"#303438\",\"zerolinewidth\":2},\"yaxis\":{\"automargin\":true,\"gridcolor\":\"#303438\",\"gridwidth\":0.5,\"linecolor\":\"#506784\",\"ticks\":\"\",\"title\":{\"standoff\":15},\"zerolinecolor\":\"#303438\",\"zerolinewidth\":2}}},\"xaxis\":{\"anchor\":\"y\",\"domain\":[0.0,1.0],\"title\":{\"text\":\"index\"}},\"yaxis\":{\"anchor\":\"x\",\"domain\":[0.0,1.0],\"title\":{\"text\":\"value\"}},\"legend\":{\"title\":{\"text\":\"variable\"},\"tracegroupgap\":0},\"margin\":{\"t\":60}},                        {\"responsive\": true}                    ).then(function(){\n",
       "                            \n",
       "var gd = document.getElementById('1d64db5e-c5f1-4e03-8918-1707e4589bca');\n",
       "var x = new MutationObserver(function (mutations, observer) {{\n",
       "        var display = window.getComputedStyle(gd).display;\n",
       "        if (!display || display === 'none') {{\n",
       "            console.log([gd, 'removed!']);\n",
       "            Plotly.purge(gd);\n",
       "            observer.disconnect();\n",
       "        }}\n",
       "}});\n",
       "\n",
       "// Listen for the removal of the full notebook cells\n",
       "var notebookContainer = gd.closest('#notebook-container');\n",
       "if (notebookContainer) {{\n",
       "    x.observe(notebookContainer, {childList: true});\n",
       "}}\n",
       "\n",
       "// Listen for the clearing of the current output cell\n",
       "var outputEl = gd.closest('.output');\n",
       "if (outputEl) {{\n",
       "    x.observe(outputEl, {childList: true});\n",
       "}}\n",
       "\n",
       "                        })                };                });            </script>        </div>"
      ]
     },
     "metadata": {},
     "output_type": "display_data"
    }
   ],
   "source": [
    "import plotly.express as px\n",
    "from dash_bootstrap_templates import load_figure_template\n",
    "load_figure_template([\"minty\",  \"minty_dark\", 'cyborg', 'cyborg_dark'])\n",
    "\n",
    "data = actual_predicted_df.loc['2023-02-01':'2023-02-05']\n",
    "fig = px.line( data[['actual', 'predicted', 'before']], markers=True, template='cyborg_dark')\n",
    "fig.show()"
   ]
  },
  {
   "cell_type": "code",
   "execution_count": null,
   "id": "599fac88-9c63-434c-9c4c-c17dc2905d57",
   "metadata": {},
   "outputs": [],
   "source": []
  }
 ],
 "metadata": {
  "kernelspec": {
   "display_name": "Python 3 (ipykernel)",
   "language": "python",
   "name": "python3"
  },
  "language_info": {
   "codemirror_mode": {
    "name": "ipython",
    "version": 3
   },
   "file_extension": ".py",
   "mimetype": "text/x-python",
   "name": "python",
   "nbconvert_exporter": "python",
   "pygments_lexer": "ipython3",
   "version": "3.12.7"
  }
 },
 "nbformat": 4,
 "nbformat_minor": 5
}

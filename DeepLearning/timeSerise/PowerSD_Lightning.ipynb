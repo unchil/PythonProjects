{
 "cells": [
  {
   "cell_type": "code",
   "execution_count": 1,
   "id": "4f2a30fd-210a-416e-920b-7579acc1a447",
   "metadata": {},
   "outputs": [],
   "source": [
    "import os\n",
    "import pandas as pd\n",
    "import torch\n",
    "from torch.utils.data import Dataset\n",
    "from sklearn.preprocessing import MinMaxScaler\n",
    "from torch.utils.data import DataLoader\n",
    "from torch import nn\n",
    "import lightning as L\n",
    "import numpy as np"
   ]
  },
  {
   "cell_type": "code",
   "execution_count": 2,
   "id": "b2f0262f-e220-494a-88dc-831978266a26",
   "metadata": {},
   "outputs": [
    {
     "name": "stdout",
     "output_type": "stream",
     "text": [
      "Device:mps, Number of workers:8\n"
     ]
    }
   ],
   "source": [
    "INPUT_SIZE =50\n",
    "BATCH_SIZE=100\n",
    "LEARNING_RATE=0.0001\n",
    "WINDOW_SIZE = 720\n",
    "\n",
    "DEVICE = torch.device(\"mps\") if torch.backends.mps.is_available() else  torch.device(\"cpu\")\n",
    "NUM_WORKERS = os.cpu_count()\n",
    "print(f'Device:{DEVICE}, Number of workers:{NUM_WORKERS}')"
   ]
  },
  {
   "cell_type": "code",
   "execution_count": 3,
   "id": "9657a085-da74-45a8-b3d7-e0320ec14e2b",
   "metadata": {},
   "outputs": [],
   "source": [
    "DATA_DIR = '/Volumes/Data/Row_Data'\n",
    "LOAD_FILE = 'kpx_powerDemand_2013_2023_v4.csv'\n",
    "URL = f'{DATA_DIR}/{LOAD_FILE}'"
   ]
  },
  {
   "cell_type": "code",
   "execution_count": 70,
   "id": "81338332-78be-4e09-906d-75be85ccf99b",
   "metadata": {
    "scrolled": true
   },
   "outputs": [
    {
     "data": {
      "text/html": [
       "<div>\n",
       "<style scoped>\n",
       "    .dataframe tbody tr th:only-of-type {\n",
       "        vertical-align: middle;\n",
       "    }\n",
       "\n",
       "    .dataframe tbody tr th {\n",
       "        vertical-align: top;\n",
       "    }\n",
       "\n",
       "    .dataframe thead th {\n",
       "        text-align: right;\n",
       "    }\n",
       "</style>\n",
       "<table border=\"1\" class=\"dataframe\">\n",
       "  <thead>\n",
       "    <tr style=\"text-align: right;\">\n",
       "      <th></th>\n",
       "      <th>demand</th>\n",
       "      <th>month_1</th>\n",
       "      <th>month_2</th>\n",
       "      <th>month_3</th>\n",
       "      <th>month_4</th>\n",
       "      <th>month_5</th>\n",
       "      <th>month_6</th>\n",
       "      <th>month_7</th>\n",
       "      <th>month_8</th>\n",
       "      <th>month_9</th>\n",
       "      <th>...</th>\n",
       "      <th>hr_20</th>\n",
       "      <th>hr_21</th>\n",
       "      <th>hr_22</th>\n",
       "      <th>hr_23</th>\n",
       "      <th>temp_1</th>\n",
       "      <th>temp_2</th>\n",
       "      <th>temp_3</th>\n",
       "      <th>temp_4</th>\n",
       "      <th>temp_5</th>\n",
       "      <th>temp_6</th>\n",
       "    </tr>\n",
       "    <tr>\n",
       "      <th>date_time</th>\n",
       "      <th></th>\n",
       "      <th></th>\n",
       "      <th></th>\n",
       "      <th></th>\n",
       "      <th></th>\n",
       "      <th></th>\n",
       "      <th></th>\n",
       "      <th></th>\n",
       "      <th></th>\n",
       "      <th></th>\n",
       "      <th></th>\n",
       "      <th></th>\n",
       "      <th></th>\n",
       "      <th></th>\n",
       "      <th></th>\n",
       "      <th></th>\n",
       "      <th></th>\n",
       "      <th></th>\n",
       "      <th></th>\n",
       "      <th></th>\n",
       "      <th></th>\n",
       "    </tr>\n",
       "  </thead>\n",
       "  <tbody>\n",
       "    <tr>\n",
       "      <th>2013-01-01 00:00:00</th>\n",
       "      <td>60178</td>\n",
       "      <td>True</td>\n",
       "      <td>False</td>\n",
       "      <td>False</td>\n",
       "      <td>False</td>\n",
       "      <td>False</td>\n",
       "      <td>False</td>\n",
       "      <td>False</td>\n",
       "      <td>False</td>\n",
       "      <td>False</td>\n",
       "      <td>...</td>\n",
       "      <td>False</td>\n",
       "      <td>False</td>\n",
       "      <td>False</td>\n",
       "      <td>False</td>\n",
       "      <td>True</td>\n",
       "      <td>False</td>\n",
       "      <td>False</td>\n",
       "      <td>False</td>\n",
       "      <td>False</td>\n",
       "      <td>False</td>\n",
       "    </tr>\n",
       "    <tr>\n",
       "      <th>2013-01-01 01:00:00</th>\n",
       "      <td>57862</td>\n",
       "      <td>True</td>\n",
       "      <td>False</td>\n",
       "      <td>False</td>\n",
       "      <td>False</td>\n",
       "      <td>False</td>\n",
       "      <td>False</td>\n",
       "      <td>False</td>\n",
       "      <td>False</td>\n",
       "      <td>False</td>\n",
       "      <td>...</td>\n",
       "      <td>False</td>\n",
       "      <td>False</td>\n",
       "      <td>False</td>\n",
       "      <td>False</td>\n",
       "      <td>True</td>\n",
       "      <td>False</td>\n",
       "      <td>False</td>\n",
       "      <td>False</td>\n",
       "      <td>False</td>\n",
       "      <td>False</td>\n",
       "    </tr>\n",
       "    <tr>\n",
       "      <th>2013-01-01 02:00:00</th>\n",
       "      <td>56165</td>\n",
       "      <td>True</td>\n",
       "      <td>False</td>\n",
       "      <td>False</td>\n",
       "      <td>False</td>\n",
       "      <td>False</td>\n",
       "      <td>False</td>\n",
       "      <td>False</td>\n",
       "      <td>False</td>\n",
       "      <td>False</td>\n",
       "      <td>...</td>\n",
       "      <td>False</td>\n",
       "      <td>False</td>\n",
       "      <td>False</td>\n",
       "      <td>False</td>\n",
       "      <td>True</td>\n",
       "      <td>False</td>\n",
       "      <td>False</td>\n",
       "      <td>False</td>\n",
       "      <td>False</td>\n",
       "      <td>False</td>\n",
       "    </tr>\n",
       "    <tr>\n",
       "      <th>2013-01-01 03:00:00</th>\n",
       "      <td>55135</td>\n",
       "      <td>True</td>\n",
       "      <td>False</td>\n",
       "      <td>False</td>\n",
       "      <td>False</td>\n",
       "      <td>False</td>\n",
       "      <td>False</td>\n",
       "      <td>False</td>\n",
       "      <td>False</td>\n",
       "      <td>False</td>\n",
       "      <td>...</td>\n",
       "      <td>False</td>\n",
       "      <td>False</td>\n",
       "      <td>False</td>\n",
       "      <td>False</td>\n",
       "      <td>True</td>\n",
       "      <td>False</td>\n",
       "      <td>False</td>\n",
       "      <td>False</td>\n",
       "      <td>False</td>\n",
       "      <td>False</td>\n",
       "    </tr>\n",
       "    <tr>\n",
       "      <th>2013-01-01 04:00:00</th>\n",
       "      <td>54450</td>\n",
       "      <td>True</td>\n",
       "      <td>False</td>\n",
       "      <td>False</td>\n",
       "      <td>False</td>\n",
       "      <td>False</td>\n",
       "      <td>False</td>\n",
       "      <td>False</td>\n",
       "      <td>False</td>\n",
       "      <td>False</td>\n",
       "      <td>...</td>\n",
       "      <td>False</td>\n",
       "      <td>False</td>\n",
       "      <td>False</td>\n",
       "      <td>False</td>\n",
       "      <td>True</td>\n",
       "      <td>False</td>\n",
       "      <td>False</td>\n",
       "      <td>False</td>\n",
       "      <td>False</td>\n",
       "      <td>False</td>\n",
       "    </tr>\n",
       "    <tr>\n",
       "      <th>...</th>\n",
       "      <td>...</td>\n",
       "      <td>...</td>\n",
       "      <td>...</td>\n",
       "      <td>...</td>\n",
       "      <td>...</td>\n",
       "      <td>...</td>\n",
       "      <td>...</td>\n",
       "      <td>...</td>\n",
       "      <td>...</td>\n",
       "      <td>...</td>\n",
       "      <td>...</td>\n",
       "      <td>...</td>\n",
       "      <td>...</td>\n",
       "      <td>...</td>\n",
       "      <td>...</td>\n",
       "      <td>...</td>\n",
       "      <td>...</td>\n",
       "      <td>...</td>\n",
       "      <td>...</td>\n",
       "      <td>...</td>\n",
       "      <td>...</td>\n",
       "    </tr>\n",
       "    <tr>\n",
       "      <th>2023-12-31 19:00:00</th>\n",
       "      <td>62902</td>\n",
       "      <td>False</td>\n",
       "      <td>False</td>\n",
       "      <td>False</td>\n",
       "      <td>False</td>\n",
       "      <td>False</td>\n",
       "      <td>False</td>\n",
       "      <td>False</td>\n",
       "      <td>False</td>\n",
       "      <td>False</td>\n",
       "      <td>...</td>\n",
       "      <td>False</td>\n",
       "      <td>False</td>\n",
       "      <td>False</td>\n",
       "      <td>False</td>\n",
       "      <td>True</td>\n",
       "      <td>False</td>\n",
       "      <td>False</td>\n",
       "      <td>False</td>\n",
       "      <td>False</td>\n",
       "      <td>False</td>\n",
       "    </tr>\n",
       "    <tr>\n",
       "      <th>2023-12-31 20:00:00</th>\n",
       "      <td>62061</td>\n",
       "      <td>False</td>\n",
       "      <td>False</td>\n",
       "      <td>False</td>\n",
       "      <td>False</td>\n",
       "      <td>False</td>\n",
       "      <td>False</td>\n",
       "      <td>False</td>\n",
       "      <td>False</td>\n",
       "      <td>False</td>\n",
       "      <td>...</td>\n",
       "      <td>True</td>\n",
       "      <td>False</td>\n",
       "      <td>False</td>\n",
       "      <td>False</td>\n",
       "      <td>True</td>\n",
       "      <td>False</td>\n",
       "      <td>False</td>\n",
       "      <td>False</td>\n",
       "      <td>False</td>\n",
       "      <td>False</td>\n",
       "    </tr>\n",
       "    <tr>\n",
       "      <th>2023-12-31 21:00:00</th>\n",
       "      <td>61403</td>\n",
       "      <td>False</td>\n",
       "      <td>False</td>\n",
       "      <td>False</td>\n",
       "      <td>False</td>\n",
       "      <td>False</td>\n",
       "      <td>False</td>\n",
       "      <td>False</td>\n",
       "      <td>False</td>\n",
       "      <td>False</td>\n",
       "      <td>...</td>\n",
       "      <td>False</td>\n",
       "      <td>True</td>\n",
       "      <td>False</td>\n",
       "      <td>False</td>\n",
       "      <td>True</td>\n",
       "      <td>False</td>\n",
       "      <td>False</td>\n",
       "      <td>False</td>\n",
       "      <td>False</td>\n",
       "      <td>False</td>\n",
       "    </tr>\n",
       "    <tr>\n",
       "      <th>2023-12-31 22:00:00</th>\n",
       "      <td>61891</td>\n",
       "      <td>False</td>\n",
       "      <td>False</td>\n",
       "      <td>False</td>\n",
       "      <td>False</td>\n",
       "      <td>False</td>\n",
       "      <td>False</td>\n",
       "      <td>False</td>\n",
       "      <td>False</td>\n",
       "      <td>False</td>\n",
       "      <td>...</td>\n",
       "      <td>False</td>\n",
       "      <td>False</td>\n",
       "      <td>True</td>\n",
       "      <td>False</td>\n",
       "      <td>True</td>\n",
       "      <td>False</td>\n",
       "      <td>False</td>\n",
       "      <td>False</td>\n",
       "      <td>False</td>\n",
       "      <td>False</td>\n",
       "    </tr>\n",
       "    <tr>\n",
       "      <th>2023-12-31 23:00:00</th>\n",
       "      <td>62125</td>\n",
       "      <td>False</td>\n",
       "      <td>False</td>\n",
       "      <td>False</td>\n",
       "      <td>False</td>\n",
       "      <td>False</td>\n",
       "      <td>False</td>\n",
       "      <td>False</td>\n",
       "      <td>False</td>\n",
       "      <td>False</td>\n",
       "      <td>...</td>\n",
       "      <td>False</td>\n",
       "      <td>False</td>\n",
       "      <td>False</td>\n",
       "      <td>True</td>\n",
       "      <td>True</td>\n",
       "      <td>False</td>\n",
       "      <td>False</td>\n",
       "      <td>False</td>\n",
       "      <td>False</td>\n",
       "      <td>False</td>\n",
       "    </tr>\n",
       "  </tbody>\n",
       "</table>\n",
       "<p>96408 rows × 50 columns</p>\n",
       "</div>"
      ],
      "text/plain": [
       "                     demand  month_1  month_2  month_3  month_4  month_5  \\\n",
       "date_time                                                                  \n",
       "2013-01-01 00:00:00   60178     True    False    False    False    False   \n",
       "2013-01-01 01:00:00   57862     True    False    False    False    False   \n",
       "2013-01-01 02:00:00   56165     True    False    False    False    False   \n",
       "2013-01-01 03:00:00   55135     True    False    False    False    False   \n",
       "2013-01-01 04:00:00   54450     True    False    False    False    False   \n",
       "...                     ...      ...      ...      ...      ...      ...   \n",
       "2023-12-31 19:00:00   62902    False    False    False    False    False   \n",
       "2023-12-31 20:00:00   62061    False    False    False    False    False   \n",
       "2023-12-31 21:00:00   61403    False    False    False    False    False   \n",
       "2023-12-31 22:00:00   61891    False    False    False    False    False   \n",
       "2023-12-31 23:00:00   62125    False    False    False    False    False   \n",
       "\n",
       "                     month_6  month_7  month_8  month_9  ...  hr_20  hr_21  \\\n",
       "date_time                                                ...                 \n",
       "2013-01-01 00:00:00    False    False    False    False  ...  False  False   \n",
       "2013-01-01 01:00:00    False    False    False    False  ...  False  False   \n",
       "2013-01-01 02:00:00    False    False    False    False  ...  False  False   \n",
       "2013-01-01 03:00:00    False    False    False    False  ...  False  False   \n",
       "2013-01-01 04:00:00    False    False    False    False  ...  False  False   \n",
       "...                      ...      ...      ...      ...  ...    ...    ...   \n",
       "2023-12-31 19:00:00    False    False    False    False  ...  False  False   \n",
       "2023-12-31 20:00:00    False    False    False    False  ...   True  False   \n",
       "2023-12-31 21:00:00    False    False    False    False  ...  False   True   \n",
       "2023-12-31 22:00:00    False    False    False    False  ...  False  False   \n",
       "2023-12-31 23:00:00    False    False    False    False  ...  False  False   \n",
       "\n",
       "                     hr_22  hr_23  temp_1  temp_2  temp_3  temp_4  temp_5  \\\n",
       "date_time                                                                   \n",
       "2013-01-01 00:00:00  False  False    True   False   False   False   False   \n",
       "2013-01-01 01:00:00  False  False    True   False   False   False   False   \n",
       "2013-01-01 02:00:00  False  False    True   False   False   False   False   \n",
       "2013-01-01 03:00:00  False  False    True   False   False   False   False   \n",
       "2013-01-01 04:00:00  False  False    True   False   False   False   False   \n",
       "...                    ...    ...     ...     ...     ...     ...     ...   \n",
       "2023-12-31 19:00:00  False  False    True   False   False   False   False   \n",
       "2023-12-31 20:00:00  False  False    True   False   False   False   False   \n",
       "2023-12-31 21:00:00  False  False    True   False   False   False   False   \n",
       "2023-12-31 22:00:00   True  False    True   False   False   False   False   \n",
       "2023-12-31 23:00:00  False   True    True   False   False   False   False   \n",
       "\n",
       "                     temp_6  \n",
       "date_time                    \n",
       "2013-01-01 00:00:00   False  \n",
       "2013-01-01 01:00:00   False  \n",
       "2013-01-01 02:00:00   False  \n",
       "2013-01-01 03:00:00   False  \n",
       "2013-01-01 04:00:00   False  \n",
       "...                     ...  \n",
       "2023-12-31 19:00:00   False  \n",
       "2023-12-31 20:00:00   False  \n",
       "2023-12-31 21:00:00   False  \n",
       "2023-12-31 22:00:00   False  \n",
       "2023-12-31 23:00:00   False  \n",
       "\n",
       "[96408 rows x 50 columns]"
      ]
     },
     "execution_count": 70,
     "metadata": {},
     "output_type": "execute_result"
    }
   ],
   "source": [
    "df_data = pd.read_csv(URL, parse_dates=['date_time'], index_col='date_time')\n",
    "df_data"
   ]
  },
  {
   "cell_type": "code",
   "execution_count": 71,
   "id": "13774775-61d8-4224-a48b-ea3ea940ce74",
   "metadata": {},
   "outputs": [
    {
     "data": {
      "text/html": [
       "<style>#sk-container-id-2 {\n",
       "  /* Definition of color scheme common for light and dark mode */\n",
       "  --sklearn-color-text: black;\n",
       "  --sklearn-color-line: gray;\n",
       "  /* Definition of color scheme for unfitted estimators */\n",
       "  --sklearn-color-unfitted-level-0: #fff5e6;\n",
       "  --sklearn-color-unfitted-level-1: #f6e4d2;\n",
       "  --sklearn-color-unfitted-level-2: #ffe0b3;\n",
       "  --sklearn-color-unfitted-level-3: chocolate;\n",
       "  /* Definition of color scheme for fitted estimators */\n",
       "  --sklearn-color-fitted-level-0: #f0f8ff;\n",
       "  --sklearn-color-fitted-level-1: #d4ebff;\n",
       "  --sklearn-color-fitted-level-2: #b3dbfd;\n",
       "  --sklearn-color-fitted-level-3: cornflowerblue;\n",
       "\n",
       "  /* Specific color for light theme */\n",
       "  --sklearn-color-text-on-default-background: var(--sg-text-color, var(--theme-code-foreground, var(--jp-content-font-color1, black)));\n",
       "  --sklearn-color-background: var(--sg-background-color, var(--theme-background, var(--jp-layout-color0, white)));\n",
       "  --sklearn-color-border-box: var(--sg-text-color, var(--theme-code-foreground, var(--jp-content-font-color1, black)));\n",
       "  --sklearn-color-icon: #696969;\n",
       "\n",
       "  @media (prefers-color-scheme: dark) {\n",
       "    /* Redefinition of color scheme for dark theme */\n",
       "    --sklearn-color-text-on-default-background: var(--sg-text-color, var(--theme-code-foreground, var(--jp-content-font-color1, white)));\n",
       "    --sklearn-color-background: var(--sg-background-color, var(--theme-background, var(--jp-layout-color0, #111)));\n",
       "    --sklearn-color-border-box: var(--sg-text-color, var(--theme-code-foreground, var(--jp-content-font-color1, white)));\n",
       "    --sklearn-color-icon: #878787;\n",
       "  }\n",
       "}\n",
       "\n",
       "#sk-container-id-2 {\n",
       "  color: var(--sklearn-color-text);\n",
       "}\n",
       "\n",
       "#sk-container-id-2 pre {\n",
       "  padding: 0;\n",
       "}\n",
       "\n",
       "#sk-container-id-2 input.sk-hidden--visually {\n",
       "  border: 0;\n",
       "  clip: rect(1px 1px 1px 1px);\n",
       "  clip: rect(1px, 1px, 1px, 1px);\n",
       "  height: 1px;\n",
       "  margin: -1px;\n",
       "  overflow: hidden;\n",
       "  padding: 0;\n",
       "  position: absolute;\n",
       "  width: 1px;\n",
       "}\n",
       "\n",
       "#sk-container-id-2 div.sk-dashed-wrapped {\n",
       "  border: 1px dashed var(--sklearn-color-line);\n",
       "  margin: 0 0.4em 0.5em 0.4em;\n",
       "  box-sizing: border-box;\n",
       "  padding-bottom: 0.4em;\n",
       "  background-color: var(--sklearn-color-background);\n",
       "}\n",
       "\n",
       "#sk-container-id-2 div.sk-container {\n",
       "  /* jupyter's `normalize.less` sets `[hidden] { display: none; }`\n",
       "     but bootstrap.min.css set `[hidden] { display: none !important; }`\n",
       "     so we also need the `!important` here to be able to override the\n",
       "     default hidden behavior on the sphinx rendered scikit-learn.org.\n",
       "     See: https://github.com/scikit-learn/scikit-learn/issues/21755 */\n",
       "  display: inline-block !important;\n",
       "  position: relative;\n",
       "}\n",
       "\n",
       "#sk-container-id-2 div.sk-text-repr-fallback {\n",
       "  display: none;\n",
       "}\n",
       "\n",
       "div.sk-parallel-item,\n",
       "div.sk-serial,\n",
       "div.sk-item {\n",
       "  /* draw centered vertical line to link estimators */\n",
       "  background-image: linear-gradient(var(--sklearn-color-text-on-default-background), var(--sklearn-color-text-on-default-background));\n",
       "  background-size: 2px 100%;\n",
       "  background-repeat: no-repeat;\n",
       "  background-position: center center;\n",
       "}\n",
       "\n",
       "/* Parallel-specific style estimator block */\n",
       "\n",
       "#sk-container-id-2 div.sk-parallel-item::after {\n",
       "  content: \"\";\n",
       "  width: 100%;\n",
       "  border-bottom: 2px solid var(--sklearn-color-text-on-default-background);\n",
       "  flex-grow: 1;\n",
       "}\n",
       "\n",
       "#sk-container-id-2 div.sk-parallel {\n",
       "  display: flex;\n",
       "  align-items: stretch;\n",
       "  justify-content: center;\n",
       "  background-color: var(--sklearn-color-background);\n",
       "  position: relative;\n",
       "}\n",
       "\n",
       "#sk-container-id-2 div.sk-parallel-item {\n",
       "  display: flex;\n",
       "  flex-direction: column;\n",
       "}\n",
       "\n",
       "#sk-container-id-2 div.sk-parallel-item:first-child::after {\n",
       "  align-self: flex-end;\n",
       "  width: 50%;\n",
       "}\n",
       "\n",
       "#sk-container-id-2 div.sk-parallel-item:last-child::after {\n",
       "  align-self: flex-start;\n",
       "  width: 50%;\n",
       "}\n",
       "\n",
       "#sk-container-id-2 div.sk-parallel-item:only-child::after {\n",
       "  width: 0;\n",
       "}\n",
       "\n",
       "/* Serial-specific style estimator block */\n",
       "\n",
       "#sk-container-id-2 div.sk-serial {\n",
       "  display: flex;\n",
       "  flex-direction: column;\n",
       "  align-items: center;\n",
       "  background-color: var(--sklearn-color-background);\n",
       "  padding-right: 1em;\n",
       "  padding-left: 1em;\n",
       "}\n",
       "\n",
       "\n",
       "/* Toggleable style: style used for estimator/Pipeline/ColumnTransformer box that is\n",
       "clickable and can be expanded/collapsed.\n",
       "- Pipeline and ColumnTransformer use this feature and define the default style\n",
       "- Estimators will overwrite some part of the style using the `sk-estimator` class\n",
       "*/\n",
       "\n",
       "/* Pipeline and ColumnTransformer style (default) */\n",
       "\n",
       "#sk-container-id-2 div.sk-toggleable {\n",
       "  /* Default theme specific background. It is overwritten whether we have a\n",
       "  specific estimator or a Pipeline/ColumnTransformer */\n",
       "  background-color: var(--sklearn-color-background);\n",
       "}\n",
       "\n",
       "/* Toggleable label */\n",
       "#sk-container-id-2 label.sk-toggleable__label {\n",
       "  cursor: pointer;\n",
       "  display: block;\n",
       "  width: 100%;\n",
       "  margin-bottom: 0;\n",
       "  padding: 0.5em;\n",
       "  box-sizing: border-box;\n",
       "  text-align: center;\n",
       "}\n",
       "\n",
       "#sk-container-id-2 label.sk-toggleable__label-arrow:before {\n",
       "  /* Arrow on the left of the label */\n",
       "  content: \"▸\";\n",
       "  float: left;\n",
       "  margin-right: 0.25em;\n",
       "  color: var(--sklearn-color-icon);\n",
       "}\n",
       "\n",
       "#sk-container-id-2 label.sk-toggleable__label-arrow:hover:before {\n",
       "  color: var(--sklearn-color-text);\n",
       "}\n",
       "\n",
       "/* Toggleable content - dropdown */\n",
       "\n",
       "#sk-container-id-2 div.sk-toggleable__content {\n",
       "  max-height: 0;\n",
       "  max-width: 0;\n",
       "  overflow: hidden;\n",
       "  text-align: left;\n",
       "  /* unfitted */\n",
       "  background-color: var(--sklearn-color-unfitted-level-0);\n",
       "}\n",
       "\n",
       "#sk-container-id-2 div.sk-toggleable__content.fitted {\n",
       "  /* fitted */\n",
       "  background-color: var(--sklearn-color-fitted-level-0);\n",
       "}\n",
       "\n",
       "#sk-container-id-2 div.sk-toggleable__content pre {\n",
       "  margin: 0.2em;\n",
       "  border-radius: 0.25em;\n",
       "  color: var(--sklearn-color-text);\n",
       "  /* unfitted */\n",
       "  background-color: var(--sklearn-color-unfitted-level-0);\n",
       "}\n",
       "\n",
       "#sk-container-id-2 div.sk-toggleable__content.fitted pre {\n",
       "  /* unfitted */\n",
       "  background-color: var(--sklearn-color-fitted-level-0);\n",
       "}\n",
       "\n",
       "#sk-container-id-2 input.sk-toggleable__control:checked~div.sk-toggleable__content {\n",
       "  /* Expand drop-down */\n",
       "  max-height: 200px;\n",
       "  max-width: 100%;\n",
       "  overflow: auto;\n",
       "}\n",
       "\n",
       "#sk-container-id-2 input.sk-toggleable__control:checked~label.sk-toggleable__label-arrow:before {\n",
       "  content: \"▾\";\n",
       "}\n",
       "\n",
       "/* Pipeline/ColumnTransformer-specific style */\n",
       "\n",
       "#sk-container-id-2 div.sk-label input.sk-toggleable__control:checked~label.sk-toggleable__label {\n",
       "  color: var(--sklearn-color-text);\n",
       "  background-color: var(--sklearn-color-unfitted-level-2);\n",
       "}\n",
       "\n",
       "#sk-container-id-2 div.sk-label.fitted input.sk-toggleable__control:checked~label.sk-toggleable__label {\n",
       "  background-color: var(--sklearn-color-fitted-level-2);\n",
       "}\n",
       "\n",
       "/* Estimator-specific style */\n",
       "\n",
       "/* Colorize estimator box */\n",
       "#sk-container-id-2 div.sk-estimator input.sk-toggleable__control:checked~label.sk-toggleable__label {\n",
       "  /* unfitted */\n",
       "  background-color: var(--sklearn-color-unfitted-level-2);\n",
       "}\n",
       "\n",
       "#sk-container-id-2 div.sk-estimator.fitted input.sk-toggleable__control:checked~label.sk-toggleable__label {\n",
       "  /* fitted */\n",
       "  background-color: var(--sklearn-color-fitted-level-2);\n",
       "}\n",
       "\n",
       "#sk-container-id-2 div.sk-label label.sk-toggleable__label,\n",
       "#sk-container-id-2 div.sk-label label {\n",
       "  /* The background is the default theme color */\n",
       "  color: var(--sklearn-color-text-on-default-background);\n",
       "}\n",
       "\n",
       "/* On hover, darken the color of the background */\n",
       "#sk-container-id-2 div.sk-label:hover label.sk-toggleable__label {\n",
       "  color: var(--sklearn-color-text);\n",
       "  background-color: var(--sklearn-color-unfitted-level-2);\n",
       "}\n",
       "\n",
       "/* Label box, darken color on hover, fitted */\n",
       "#sk-container-id-2 div.sk-label.fitted:hover label.sk-toggleable__label.fitted {\n",
       "  color: var(--sklearn-color-text);\n",
       "  background-color: var(--sklearn-color-fitted-level-2);\n",
       "}\n",
       "\n",
       "/* Estimator label */\n",
       "\n",
       "#sk-container-id-2 div.sk-label label {\n",
       "  font-family: monospace;\n",
       "  font-weight: bold;\n",
       "  display: inline-block;\n",
       "  line-height: 1.2em;\n",
       "}\n",
       "\n",
       "#sk-container-id-2 div.sk-label-container {\n",
       "  text-align: center;\n",
       "}\n",
       "\n",
       "/* Estimator-specific */\n",
       "#sk-container-id-2 div.sk-estimator {\n",
       "  font-family: monospace;\n",
       "  border: 1px dotted var(--sklearn-color-border-box);\n",
       "  border-radius: 0.25em;\n",
       "  box-sizing: border-box;\n",
       "  margin-bottom: 0.5em;\n",
       "  /* unfitted */\n",
       "  background-color: var(--sklearn-color-unfitted-level-0);\n",
       "}\n",
       "\n",
       "#sk-container-id-2 div.sk-estimator.fitted {\n",
       "  /* fitted */\n",
       "  background-color: var(--sklearn-color-fitted-level-0);\n",
       "}\n",
       "\n",
       "/* on hover */\n",
       "#sk-container-id-2 div.sk-estimator:hover {\n",
       "  /* unfitted */\n",
       "  background-color: var(--sklearn-color-unfitted-level-2);\n",
       "}\n",
       "\n",
       "#sk-container-id-2 div.sk-estimator.fitted:hover {\n",
       "  /* fitted */\n",
       "  background-color: var(--sklearn-color-fitted-level-2);\n",
       "}\n",
       "\n",
       "/* Specification for estimator info (e.g. \"i\" and \"?\") */\n",
       "\n",
       "/* Common style for \"i\" and \"?\" */\n",
       "\n",
       ".sk-estimator-doc-link,\n",
       "a:link.sk-estimator-doc-link,\n",
       "a:visited.sk-estimator-doc-link {\n",
       "  float: right;\n",
       "  font-size: smaller;\n",
       "  line-height: 1em;\n",
       "  font-family: monospace;\n",
       "  background-color: var(--sklearn-color-background);\n",
       "  border-radius: 1em;\n",
       "  height: 1em;\n",
       "  width: 1em;\n",
       "  text-decoration: none !important;\n",
       "  margin-left: 1ex;\n",
       "  /* unfitted */\n",
       "  border: var(--sklearn-color-unfitted-level-1) 1pt solid;\n",
       "  color: var(--sklearn-color-unfitted-level-1);\n",
       "}\n",
       "\n",
       ".sk-estimator-doc-link.fitted,\n",
       "a:link.sk-estimator-doc-link.fitted,\n",
       "a:visited.sk-estimator-doc-link.fitted {\n",
       "  /* fitted */\n",
       "  border: var(--sklearn-color-fitted-level-1) 1pt solid;\n",
       "  color: var(--sklearn-color-fitted-level-1);\n",
       "}\n",
       "\n",
       "/* On hover */\n",
       "div.sk-estimator:hover .sk-estimator-doc-link:hover,\n",
       ".sk-estimator-doc-link:hover,\n",
       "div.sk-label-container:hover .sk-estimator-doc-link:hover,\n",
       ".sk-estimator-doc-link:hover {\n",
       "  /* unfitted */\n",
       "  background-color: var(--sklearn-color-unfitted-level-3);\n",
       "  color: var(--sklearn-color-background);\n",
       "  text-decoration: none;\n",
       "}\n",
       "\n",
       "div.sk-estimator.fitted:hover .sk-estimator-doc-link.fitted:hover,\n",
       ".sk-estimator-doc-link.fitted:hover,\n",
       "div.sk-label-container:hover .sk-estimator-doc-link.fitted:hover,\n",
       ".sk-estimator-doc-link.fitted:hover {\n",
       "  /* fitted */\n",
       "  background-color: var(--sklearn-color-fitted-level-3);\n",
       "  color: var(--sklearn-color-background);\n",
       "  text-decoration: none;\n",
       "}\n",
       "\n",
       "/* Span, style for the box shown on hovering the info icon */\n",
       ".sk-estimator-doc-link span {\n",
       "  display: none;\n",
       "  z-index: 9999;\n",
       "  position: relative;\n",
       "  font-weight: normal;\n",
       "  right: .2ex;\n",
       "  padding: .5ex;\n",
       "  margin: .5ex;\n",
       "  width: min-content;\n",
       "  min-width: 20ex;\n",
       "  max-width: 50ex;\n",
       "  color: var(--sklearn-color-text);\n",
       "  box-shadow: 2pt 2pt 4pt #999;\n",
       "  /* unfitted */\n",
       "  background: var(--sklearn-color-unfitted-level-0);\n",
       "  border: .5pt solid var(--sklearn-color-unfitted-level-3);\n",
       "}\n",
       "\n",
       ".sk-estimator-doc-link.fitted span {\n",
       "  /* fitted */\n",
       "  background: var(--sklearn-color-fitted-level-0);\n",
       "  border: var(--sklearn-color-fitted-level-3);\n",
       "}\n",
       "\n",
       ".sk-estimator-doc-link:hover span {\n",
       "  display: block;\n",
       "}\n",
       "\n",
       "/* \"?\"-specific style due to the `<a>` HTML tag */\n",
       "\n",
       "#sk-container-id-2 a.estimator_doc_link {\n",
       "  float: right;\n",
       "  font-size: 1rem;\n",
       "  line-height: 1em;\n",
       "  font-family: monospace;\n",
       "  background-color: var(--sklearn-color-background);\n",
       "  border-radius: 1rem;\n",
       "  height: 1rem;\n",
       "  width: 1rem;\n",
       "  text-decoration: none;\n",
       "  /* unfitted */\n",
       "  color: var(--sklearn-color-unfitted-level-1);\n",
       "  border: var(--sklearn-color-unfitted-level-1) 1pt solid;\n",
       "}\n",
       "\n",
       "#sk-container-id-2 a.estimator_doc_link.fitted {\n",
       "  /* fitted */\n",
       "  border: var(--sklearn-color-fitted-level-1) 1pt solid;\n",
       "  color: var(--sklearn-color-fitted-level-1);\n",
       "}\n",
       "\n",
       "/* On hover */\n",
       "#sk-container-id-2 a.estimator_doc_link:hover {\n",
       "  /* unfitted */\n",
       "  background-color: var(--sklearn-color-unfitted-level-3);\n",
       "  color: var(--sklearn-color-background);\n",
       "  text-decoration: none;\n",
       "}\n",
       "\n",
       "#sk-container-id-2 a.estimator_doc_link.fitted:hover {\n",
       "  /* fitted */\n",
       "  background-color: var(--sklearn-color-fitted-level-3);\n",
       "}\n",
       "</style><div id=\"sk-container-id-2\" class=\"sk-top-container\"><div class=\"sk-text-repr-fallback\"><pre>MinMaxScaler()</pre><b>In a Jupyter environment, please rerun this cell to show the HTML representation or trust the notebook. <br />On GitHub, the HTML representation is unable to render, please try loading this page with nbviewer.org.</b></div><div class=\"sk-container\" hidden><div class=\"sk-item\"><div class=\"sk-estimator fitted sk-toggleable\"><input class=\"sk-toggleable__control sk-hidden--visually\" id=\"sk-estimator-id-2\" type=\"checkbox\" checked><label for=\"sk-estimator-id-2\" class=\"sk-toggleable__label fitted sk-toggleable__label-arrow fitted\">&nbsp;&nbsp;MinMaxScaler<a class=\"sk-estimator-doc-link fitted\" rel=\"noreferrer\" target=\"_blank\" href=\"https://scikit-learn.org/1.5/modules/generated/sklearn.preprocessing.MinMaxScaler.html\">?<span>Documentation for MinMaxScaler</span></a><span class=\"sk-estimator-doc-link fitted\">i<span>Fitted</span></span></label><div class=\"sk-toggleable__content fitted\"><pre>MinMaxScaler()</pre></div> </div></div></div></div>"
      ],
      "text/plain": [
       "MinMaxScaler()"
      ]
     },
     "execution_count": 71,
     "metadata": {},
     "output_type": "execute_result"
    }
   ],
   "source": [
    "transformer_demand = MinMaxScaler()\n",
    "transformer_demand.fit( df_data[['demand']] )"
   ]
  },
  {
   "cell_type": "code",
   "execution_count": 4,
   "id": "78413037-4446-4dd5-a5f6-e49bacdd16de",
   "metadata": {},
   "outputs": [],
   "source": [
    "class PowerDemandDataset(Dataset):\n",
    "\n",
    "    def __init__(self, features, targets=[], window_size=WINDOW_SIZE):\n",
    "        self.features = features\n",
    "        self.targets = targets\n",
    "        self.window_size= window_size\n",
    "        self.x, self.y = [], []\n",
    "        # 각 시간간격별 예측시  1시간뒤: x = 0 , 2시간뒤: x = 1, 3시간뒤: x = 2 ...\n",
    "        #\n",
    "        # for i in range(len(features) - self.window_size - X):\n",
    "        #     v = features.iloc[ i: (i + window_size) ].values\n",
    "        #     self.x.append(v)\n",
    "        #     self.y.append( target.iloc[ i + window_size + x] )\n",
    "\n",
    "        \n",
    "        for i in range(len(features) - self.window_size ):\n",
    "            v = features.iloc[ i: (i + window_size) ].values\n",
    "            self.x.append(v)\n",
    "            self.y.append( features.iloc[ i + window_size ]['demand'] )\n",
    "            #self.y.append( target[ i + window_size ] )\n",
    "\n",
    "        # Many to Many output_size = 6\n",
    "       # for i in range(len(features) - self.window_size - 6 + 1):\n",
    "       #     self.x.append( features.iloc[ i: (i + window_size) ].values )\n",
    "       #     a = target[  i + window_size :  i + window_size + 6].values.reshape(-1, 1)\n",
    "       #     self.y.append( a)\n",
    "\n",
    "    \n",
    "    def __getitem__(self, index):\n",
    "        x = self.x[index].astype(np.float32)\n",
    "        y = self.y[index].astype(np.float32)\n",
    "        return x, y\n",
    "\n",
    "    def __len__(self):\n",
    "        return len(self.x) \n"
   ]
  },
  {
   "cell_type": "code",
   "execution_count": null,
   "id": "7de6e6d3-c0b2-44ff-b83c-cedc19b48f4c",
   "metadata": {},
   "outputs": [],
   "source": []
  },
  {
   "cell_type": "code",
   "execution_count": 5,
   "id": "bfdc593d-38cc-4b4e-ac76-a5e98f8c1ee1",
   "metadata": {},
   "outputs": [],
   "source": [
    "class PowerDemandDataModule(L.LightningDataModule):\n",
    "    def __init__(self, data_dir:str, file_name:str):\n",
    "        super().__init__()\n",
    "        self.data_dir = data_dir\n",
    "        self.file_name = file_name\n",
    "        self.transformer_demand = MinMaxScaler()\n",
    "        self.batch_size = BATCH_SIZE\n",
    "        #URL = f'{self.data_dir}/{self.file_name}'\n",
    "        #self.df_data = pd.read_csv(URL, parse_dates=['date_time'], index_col='date_time')\n",
    "       # self.transformer_demand.fit( self.df_data[['demand']] )\n",
    "\n",
    "    def prepare_data(self):\n",
    "        URL = f'{self.data_dir}/{self.file_name}'\n",
    "        self.df_data = pd.read_csv(URL, parse_dates=['date_time'], index_col='date_time')\n",
    "        self.transformer_demand.fit( self.df_data[['demand']] )\n",
    "        \n",
    "\n",
    "    def setup(self, stage: str):\n",
    "        match stage:\n",
    "            case 'fit':\n",
    "                self.train_data = self.df_data.loc['2013-01-01':'2020-12-31']\n",
    "                self.val_data = self.df_data.loc['2020-01-01':'2022-12-31']\n",
    "            case 'test':\n",
    "                self.test_data = self.df_data.loc['2023-01-01':'2023-12-31']\n",
    "            case 'predict':\n",
    "                self.predict_data = self.df_data.loc['2023-01-01':'2023-12-31']\n",
    "            case _:\n",
    "                self.train_data = self.df_data.loc['2013-01-01':'2020-12-31']\n",
    "                self.val_data = self.df_data.loc['2020-01-01':'2022-12-31']\n",
    "                self.test_data = self.df_data.loc['2023-01-01':'2023-12-31']\n",
    "                \n",
    "    def get_dataset(self, stage:str):\n",
    "        match stage:\n",
    "            case 'train':\n",
    "                self.train_data.demand = self.transformer_demand.transform(self.train_data[['demand']])\n",
    "                return PowerDemandDataset(features=self.train_data , targets=self.train_data.demand) \n",
    "            case 'val':\n",
    "                self.val_data.demand = self.transformer_demand.transform(self.val_data[['demand']])\n",
    "                return PowerDemandDataset(features=self.val_data , targets=self.val_data.demand) \n",
    "            case 'test':\n",
    "                self.test_data.demand = self.transformer_demand.transform(self.test_data[['demand']])\n",
    "                return PowerDemandDataset(features=self.test_data , targets=self.test_data.demand) \n",
    "            case 'predict':\n",
    "                self.predict_data.demand = self.transformer_demand.transform(self.predict_data[['demand']])\n",
    "                return PowerDemandDataset(features=self.predict_data , targets=self.predict_data.demand)\n",
    "            case _:\n",
    "                self.train_data.demand = self.transformer_demand.transform(self.train_data[['demand']])\n",
    "                return PowerDemandDataset(features=self.train_data , targets=self.train_data.demand) \n",
    "\n",
    "    \n",
    "    def train_dataloader(self):\n",
    "        return DataLoader( self.get_dataset('train'), batch_size=self.batch_size )\n",
    "\n",
    "    def val_dataloader(self):\n",
    "        return DataLoader( self.get_dataset('val'), batch_size=self.batch_size )\n",
    "\n",
    "    def test_dataloader(self):\n",
    "        return DataLoader( self.get_dataset('test'), batch_size=self.batch_size )\n",
    "\n",
    "    def predict_dataloader(self):\n",
    "        return DataLoader( self.get_dataset('predict'), batch_size=self.batch_size )\n",
    "\n",
    "\n",
    "    def teardown(self, stage: str):\n",
    "        import gc\n",
    "        \n",
    "        match stage:\n",
    "            case 'fit':\n",
    "                del self.train_data\n",
    "                del self.val_data\n",
    "            case 'test':\n",
    "                del self.test_data\n",
    "            case 'predict':\n",
    "                del self.predict_data\n",
    "            case _:\n",
    "                del self.train_data\n",
    "                del self.val_data\n",
    "                del self.test_data\n",
    "                \n",
    "        gc.collect()\n",
    "\n"
   ]
  },
  {
   "cell_type": "code",
   "execution_count": 6,
   "id": "fb99b950-c02e-47a2-ace8-dda52c303b53",
   "metadata": {},
   "outputs": [],
   "source": [
    "class PowerDemandPrediction(L.LightningModule):\n",
    "    def __init__(self, input_size=INPUT_SIZE, output_size=1, hidden_dim=10, n_layers=2, lr=LEARNING_RATE, window_size=WINDOW_SIZE):\n",
    "        super(PowerDemandPrediction, self).__init__()\n",
    "        self.hidden_dim = hidden_dim\n",
    "        self.n_layers = n_layers\n",
    "        self.lstm = nn.LSTM(input_size, hidden_dim, n_layers, bidirectional=False, batch_first=True)\n",
    "        self.fc = nn.Linear(hidden_dim * window_size, output_size)\n",
    "        self.loss = nn.MSELoss()\n",
    "        self.flatten = nn.Flatten()\n",
    "        self.learning_rate = lr\n",
    "    \n",
    "    def forward(self, x):\n",
    "        batch_size = x.size(0)\n",
    "        hidden = self.init_hidden(batch_size)    \n",
    "        lstm_out, (hidden, cell) = self.lstm(x, hidden)\n",
    "        out = self.flatten(lstm_out)\n",
    "        out = self.fc(out)\n",
    "        return out\n",
    "\n",
    "    def init_hidden(self, batch_size):   \n",
    "        hidden_state = torch.zeros(self.n_layers, batch_size, self.hidden_dim).to(DEVICE)\n",
    "        cell_state = torch.zeros(self.n_layers, batch_size, self.hidden_dim).to(DEVICE)\n",
    "        hidden = (hidden_state, cell_state)\n",
    "        return hidden\n",
    "\n",
    "    def configure_optimizers(self):\n",
    "        return {'optimizer': torch.optim.Adam(params=self.parameters(), lr = self.learning_rate) }\n",
    "\n",
    "    def training_step(self, train_batch, batch_idx):\n",
    "        features, targets = train_batch\n",
    "        output = self(features) \n",
    "        output = output.view(-1)\n",
    "        loss = self.loss(output, targets)\n",
    "        self.log('train_loss', loss, prog_bar=True)\n",
    "        return {\"loss\": loss}\n",
    "            \n",
    "    def validation_step(self, val_batch, batch_idx):\n",
    "        features, targets = val_batch\n",
    "        output = self(features) \n",
    "        output = output.view(-1)\n",
    "        loss = self.loss(output, targets)\n",
    "        self.log('val_loss', loss, prog_bar=True)\n",
    "        \n",
    "\n",
    "    def test_step(self, test_batch, batch_idx):\n",
    "        features, targets = test_batch\n",
    "        output = self(features) \n",
    "        output = output.view(-1)\n",
    "        loss = self.loss(output, targets)\n",
    "        self.log('test_loss', loss, prog_bar=True)   \n",
    "\n",
    "    \n",
    "    def predict_step(self, batch, batch_idx):\n",
    "        features, targets = batch\n",
    "        result = self(features)\n",
    "        return result.view(-1).tolist()\n",
    "        "
   ]
  },
  {
   "cell_type": "code",
   "execution_count": 7,
   "id": "a96f1f19-5ec0-4366-8084-708fe737c9d5",
   "metadata": {},
   "outputs": [],
   "source": [
    "from lightning.pytorch.loggers import TensorBoardLogger\n",
    "from lightning.pytorch.callbacks.early_stopping import EarlyStopping\n",
    "#from lightning.pytorch.callbacks import DeviceStatsMonitor\n",
    "\n",
    "LOG_PATH = os.getcwd()\n",
    "logger = TensorBoardLogger(save_dir=LOG_PATH, name='lightning_logs')\n",
    "\n",
    "early_stop_callback = EarlyStopping(monitor=\"val_loss\", mode=\"min\", patience=3)\n",
    "#device_states_monitor = DeviceStatsMonitor()"
   ]
  },
  {
   "cell_type": "code",
   "execution_count": 7,
   "id": "e8c198e1-134e-4fa2-bb02-979326bf6b1b",
   "metadata": {},
   "outputs": [
    {
     "name": "stderr",
     "output_type": "stream",
     "text": [
      "GPU available: True (mps), used: True\n",
      "TPU available: False, using: 0 TPU cores\n",
      "HPU available: False, using: 0 HPUs\n",
      "Running in `fast_dev_run` mode: will run the requested loop using 1 batch(es). Logging and checkpointing is suppressed.\n"
     ]
    }
   ],
   "source": [
    "trainer = L.Trainer( fast_dev_run=True, accelerator='mps', devices=1)"
   ]
  },
  {
   "cell_type": "code",
   "execution_count": 8,
   "id": "5e9007e7-2237-40f0-ab58-b21a9f247ec8",
   "metadata": {
    "scrolled": true
   },
   "outputs": [
    {
     "name": "stderr",
     "output_type": "stream",
     "text": [
      "/Library/Frameworks/Python.framework/Versions/3.12/lib/python3.12/site-packages/lightning/fabric/connector.py:571: `precision=16` is supported for historical reasons but its usage is discouraged. Please set your precision to 16-mixed instead!\n",
      "Using 16bit Automatic Mixed Precision (AMP)\n",
      "/Library/Frameworks/Python.framework/Versions/3.12/lib/python3.12/site-packages/torch/amp/grad_scaler.py:132: UserWarning: torch.cuda.amp.GradScaler is enabled, but CUDA is not available.  Disabling.\n",
      "  warnings.warn(\n",
      "GPU available: True (mps), used: True\n",
      "TPU available: False, using: 0 TPU cores\n",
      "HPU available: False, using: 0 HPUs\n"
     ]
    }
   ],
   "source": [
    "trainer = L.Trainer( callbacks=[early_stop_callback], logger=logger, precision=\"16\", max_epochs=10, accelerator='mps', devices=1)"
   ]
  },
  {
   "cell_type": "code",
   "execution_count": 9,
   "id": "e16563a1-4603-49ae-81a2-91cc7cbdd2b6",
   "metadata": {},
   "outputs": [
    {
     "data": {
      "text/plain": [
       "PowerDemandPrediction(\n",
       "  (lstm): LSTM(50, 10, num_layers=2, batch_first=True)\n",
       "  (fc): Linear(in_features=7200, out_features=1, bias=True)\n",
       "  (loss): MSELoss()\n",
       "  (flatten): Flatten(start_dim=1, end_dim=-1)\n",
       ")"
      ]
     },
     "execution_count": 9,
     "metadata": {},
     "output_type": "execute_result"
    }
   ],
   "source": [
    "model = PowerDemandPrediction().to(DEVICE)\n",
    "model"
   ]
  },
  {
   "cell_type": "code",
   "execution_count": 10,
   "id": "9d92eac8-fd09-42dd-987b-d022e90d4836",
   "metadata": {},
   "outputs": [],
   "source": [
    "dm = PowerDemandDataModule(DATA_DIR, LOAD_FILE)\n",
    "#dm.prepare_data()"
   ]
  },
  {
   "cell_type": "code",
   "execution_count": 48,
   "id": "a4ef8053-3174-47d0-88a8-28137bc4e11c",
   "metadata": {},
   "outputs": [
    {
     "name": "stderr",
     "output_type": "stream",
     "text": [
      "/var/folders/r5/124yntwj1n7_xfgvd8f6pzv40000gn/T/ipykernel_7676/1707019476.py:40: SettingWithCopyWarning:\n",
      "\n",
      "\n",
      "A value is trying to be set on a copy of a slice from a DataFrame.\n",
      "Try using .loc[row_indexer,col_indexer] = value instead\n",
      "\n",
      "See the caveats in the documentation: https://pandas.pydata.org/pandas-docs/stable/user_guide/indexing.html#returning-a-view-versus-a-copy\n",
      "\n"
     ]
    },
    {
     "name": "stdout",
     "output_type": "stream",
     "text": [
      "Size of the features (720, 50)\n",
      "Printing features:\n",
      " [[0.48199946 1.         0.         ... 0.         0.         0.        ]\n",
      " [0.44007826 1.         0.         ... 0.         0.         0.        ]\n",
      " [0.41011736 1.         0.         ... 0.         0.         0.        ]\n",
      " ...\n",
      " [0.67333037 1.         0.         ... 0.         0.         0.        ]\n",
      " [0.6700014  1.         0.         ... 0.         0.         0.        ]\n",
      " [0.66288006 1.         0.         ... 0.         0.         0.        ]]\n",
      "Size of the targets ()\n",
      "Printing targets:\n",
      " 0.5984796\n"
     ]
    }
   ],
   "source": [
    "dm.setup('test')\n",
    "#let's loop it over single iteration and print the shape and also data\n",
    "for i, (features,targets) in enumerate(dm.get_dataset('test')):\n",
    "    print(\"Size of the features\",features.shape)\n",
    "    print(\"Printing features:\\n\", features)\n",
    "    print(\"Size of the targets\",targets.shape)\n",
    "    print(\"Printing targets:\\n\", targets)\n",
    "    break\n",
    "dm.teardown('test')    "
   ]
  },
  {
   "cell_type": "code",
   "execution_count": 11,
   "id": "e56aacc9-b322-4570-9d3d-a7f428372db4",
   "metadata": {
    "scrolled": true
   },
   "outputs": [
    {
     "name": "stderr",
     "output_type": "stream",
     "text": [
      "\n",
      "  | Name    | Type    | Params | Mode \n",
      "--------------------------------------------\n",
      "0 | lstm    | LSTM    | 3.4 K  | train\n",
      "1 | fc      | Linear  | 7.2 K  | train\n",
      "2 | loss    | MSELoss | 0      | train\n",
      "3 | flatten | Flatten | 0      | train\n",
      "--------------------------------------------\n",
      "10.6 K    Trainable params\n",
      "0         Non-trainable params\n",
      "10.6 K    Total params\n",
      "0.042     Total estimated model params size (MB)\n",
      "4         Modules in train mode\n",
      "0         Modules in eval mode\n"
     ]
    },
    {
     "data": {
      "application/vnd.jupyter.widget-view+json": {
       "model_id": "",
       "version_major": 2,
       "version_minor": 0
      },
      "text/plain": [
       "Sanity Checking: |                                                            | 0/? [00:00<?, ?it/s]"
      ]
     },
     "metadata": {},
     "output_type": "display_data"
    },
    {
     "name": "stderr",
     "output_type": "stream",
     "text": [
      "/var/folders/r5/124yntwj1n7_xfgvd8f6pzv40000gn/T/ipykernel_2282/4177544575.py:38: SettingWithCopyWarning: \n",
      "A value is trying to be set on a copy of a slice from a DataFrame.\n",
      "Try using .loc[row_indexer,col_indexer] = value instead\n",
      "\n",
      "See the caveats in the documentation: https://pandas.pydata.org/pandas-docs/stable/user_guide/indexing.html#returning-a-view-versus-a-copy\n",
      "  self.val_data.demand = self.transformer_demand.transform(self.val_data[['demand']])\n",
      "/Library/Frameworks/Python.framework/Versions/3.12/lib/python3.12/site-packages/lightning/pytorch/trainer/connectors/data_connector.py:424: The 'val_dataloader' does not have many workers which may be a bottleneck. Consider increasing the value of the `num_workers` argument` to `num_workers=7` in the `DataLoader` to improve performance.\n",
      "/Library/Frameworks/Python.framework/Versions/3.12/lib/python3.12/site-packages/torch/amp/autocast_mode.py:266: UserWarning: User provided device_type of 'cuda', but CUDA is not available. Disabling\n",
      "  warnings.warn(\n",
      "/var/folders/r5/124yntwj1n7_xfgvd8f6pzv40000gn/T/ipykernel_2282/4177544575.py:35: SettingWithCopyWarning: \n",
      "A value is trying to be set on a copy of a slice from a DataFrame.\n",
      "Try using .loc[row_indexer,col_indexer] = value instead\n",
      "\n",
      "See the caveats in the documentation: https://pandas.pydata.org/pandas-docs/stable/user_guide/indexing.html#returning-a-view-versus-a-copy\n",
      "  self.train_data.demand = self.transformer_demand.transform(self.train_data[['demand']])\n",
      "/Library/Frameworks/Python.framework/Versions/3.12/lib/python3.12/site-packages/lightning/pytorch/trainer/connectors/data_connector.py:424: The 'train_dataloader' does not have many workers which may be a bottleneck. Consider increasing the value of the `num_workers` argument` to `num_workers=7` in the `DataLoader` to improve performance.\n"
     ]
    },
    {
     "data": {
      "application/vnd.jupyter.widget-view+json": {
       "model_id": "a47f9f453a6e4252bc989ca1ad4ccbc0",
       "version_major": 2,
       "version_minor": 0
      },
      "text/plain": [
       "Training: |                                                                   | 0/? [00:00<?, ?it/s]"
      ]
     },
     "metadata": {},
     "output_type": "display_data"
    },
    {
     "name": "stderr",
     "output_type": "stream",
     "text": [
      "/Library/Frameworks/Python.framework/Versions/3.12/lib/python3.12/site-packages/torch/amp/autocast_mode.py:266: UserWarning: User provided device_type of 'cuda', but CUDA is not available. Disabling\n",
      "  warnings.warn(\n"
     ]
    },
    {
     "data": {
      "application/vnd.jupyter.widget-view+json": {
       "model_id": "",
       "version_major": 2,
       "version_minor": 0
      },
      "text/plain": [
       "Validation: |                                                                 | 0/? [00:00<?, ?it/s]"
      ]
     },
     "metadata": {},
     "output_type": "display_data"
    },
    {
     "data": {
      "application/vnd.jupyter.widget-view+json": {
       "model_id": "",
       "version_major": 2,
       "version_minor": 0
      },
      "text/plain": [
       "Validation: |                                                                 | 0/? [00:00<?, ?it/s]"
      ]
     },
     "metadata": {},
     "output_type": "display_data"
    },
    {
     "data": {
      "application/vnd.jupyter.widget-view+json": {
       "model_id": "",
       "version_major": 2,
       "version_minor": 0
      },
      "text/plain": [
       "Validation: |                                                                 | 0/? [00:00<?, ?it/s]"
      ]
     },
     "metadata": {},
     "output_type": "display_data"
    },
    {
     "data": {
      "application/vnd.jupyter.widget-view+json": {
       "model_id": "",
       "version_major": 2,
       "version_minor": 0
      },
      "text/plain": [
       "Validation: |                                                                 | 0/? [00:00<?, ?it/s]"
      ]
     },
     "metadata": {},
     "output_type": "display_data"
    },
    {
     "data": {
      "application/vnd.jupyter.widget-view+json": {
       "model_id": "",
       "version_major": 2,
       "version_minor": 0
      },
      "text/plain": [
       "Validation: |                                                                 | 0/? [00:00<?, ?it/s]"
      ]
     },
     "metadata": {},
     "output_type": "display_data"
    },
    {
     "data": {
      "application/vnd.jupyter.widget-view+json": {
       "model_id": "",
       "version_major": 2,
       "version_minor": 0
      },
      "text/plain": [
       "Validation: |                                                                 | 0/? [00:00<?, ?it/s]"
      ]
     },
     "metadata": {},
     "output_type": "display_data"
    },
    {
     "data": {
      "application/vnd.jupyter.widget-view+json": {
       "model_id": "",
       "version_major": 2,
       "version_minor": 0
      },
      "text/plain": [
       "Validation: |                                                                 | 0/? [00:00<?, ?it/s]"
      ]
     },
     "metadata": {},
     "output_type": "display_data"
    },
    {
     "data": {
      "application/vnd.jupyter.widget-view+json": {
       "model_id": "",
       "version_major": 2,
       "version_minor": 0
      },
      "text/plain": [
       "Validation: |                                                                 | 0/? [00:00<?, ?it/s]"
      ]
     },
     "metadata": {},
     "output_type": "display_data"
    },
    {
     "data": {
      "application/vnd.jupyter.widget-view+json": {
       "model_id": "",
       "version_major": 2,
       "version_minor": 0
      },
      "text/plain": [
       "Validation: |                                                                 | 0/? [00:00<?, ?it/s]"
      ]
     },
     "metadata": {},
     "output_type": "display_data"
    },
    {
     "data": {
      "application/vnd.jupyter.widget-view+json": {
       "model_id": "",
       "version_major": 2,
       "version_minor": 0
      },
      "text/plain": [
       "Validation: |                                                                 | 0/? [00:00<?, ?it/s]"
      ]
     },
     "metadata": {},
     "output_type": "display_data"
    },
    {
     "name": "stderr",
     "output_type": "stream",
     "text": [
      "`Trainer.fit` stopped: `max_epochs=10` reached.\n"
     ]
    }
   ],
   "source": [
    "trainer.fit( model, dm)"
   ]
  },
  {
   "cell_type": "code",
   "execution_count": 12,
   "id": "89ba20ee-fa7b-4ce5-bb60-c8b1f2f9939f",
   "metadata": {},
   "outputs": [
    {
     "data": {
      "text/plain": [
       "PowerDemandPrediction(\n",
       "  (lstm): LSTM(50, 10, num_layers=2, batch_first=True)\n",
       "  (fc): Linear(in_features=7200, out_features=1, bias=True)\n",
       "  (loss): MSELoss()\n",
       "  (flatten): Flatten(start_dim=1, end_dim=-1)\n",
       ")"
      ]
     },
     "execution_count": 12,
     "metadata": {},
     "output_type": "execute_result"
    }
   ],
   "source": [
    "PATH = '/Volumes/WorkSpace/PythonProjects/timeSerise/lightning_logs/version_0/checkpoints/epoch=9-step=6950.ckpt'\n",
    "model = PowerDemandPrediction.load_from_checkpoint(PATH).to(DEVICE)\n",
    "\n",
    "# disable randomness, dropout, etc...\n",
    "model.eval()"
   ]
  },
  {
   "cell_type": "code",
   "execution_count": 13,
   "id": "76eb12fa-f842-41c7-8350-77e99207b0e8",
   "metadata": {},
   "outputs": [
    {
     "name": "stderr",
     "output_type": "stream",
     "text": [
      "/var/folders/r5/124yntwj1n7_xfgvd8f6pzv40000gn/T/ipykernel_2282/4177544575.py:44: SettingWithCopyWarning: \n",
      "A value is trying to be set on a copy of a slice from a DataFrame.\n",
      "Try using .loc[row_indexer,col_indexer] = value instead\n",
      "\n",
      "See the caveats in the documentation: https://pandas.pydata.org/pandas-docs/stable/user_guide/indexing.html#returning-a-view-versus-a-copy\n",
      "  self.predict_data.demand = self.transformer_demand.transform(self.predict_data[['demand']])\n",
      "/Library/Frameworks/Python.framework/Versions/3.12/lib/python3.12/site-packages/lightning/pytorch/trainer/connectors/data_connector.py:424: The 'predict_dataloader' does not have many workers which may be a bottleneck. Consider increasing the value of the `num_workers` argument` to `num_workers=7` in the `DataLoader` to improve performance.\n"
     ]
    },
    {
     "data": {
      "application/vnd.jupyter.widget-view+json": {
       "model_id": "1c2e439f4ee2445b952dcbdf9ad17775",
       "version_major": 2,
       "version_minor": 0
      },
      "text/plain": [
       "Predicting: |                                                                 | 0/? [00:00<?, ?it/s]"
      ]
     },
     "metadata": {},
     "output_type": "display_data"
    },
    {
     "name": "stderr",
     "output_type": "stream",
     "text": [
      "/Library/Frameworks/Python.framework/Versions/3.12/lib/python3.12/site-packages/torch/amp/autocast_mode.py:266: UserWarning: User provided device_type of 'cuda', but CUDA is not available. Disabling\n",
      "  warnings.warn(\n"
     ]
    }
   ],
   "source": [
    "dm.setup('predict')\n",
    "predictions = trainer.predict(model, dm.predict_dataloader())\n"
   ]
  },
  {
   "cell_type": "code",
   "execution_count": 14,
   "id": "4f35fb89-b5b2-4198-98c3-51e927bd4415",
   "metadata": {},
   "outputs": [],
   "source": [
    "predicted_result = sum(predictions, [])"
   ]
  },
  {
   "cell_type": "code",
   "execution_count": null,
   "id": "d3dc63bc-891c-4ccc-abdc-d40ccd70fe85",
   "metadata": {},
   "outputs": [],
   "source": [
    "dm.setup('predict')\n",
    "actual_result = []\n",
    "\n",
    "for i, (features,targets) in enumerate(dm.predict_dataloader()):\n",
    "    targets = targets.to(DEVICE)\n",
    "    actual_result.extend(targets.view(-1).tolist())\n",
    "\n",
    "actual_result"
   ]
  },
  {
   "cell_type": "code",
   "execution_count": 17,
   "id": "3a2bccd6-10a0-484e-b619-b70d9eeccb00",
   "metadata": {},
   "outputs": [
    {
     "data": {
      "text/plain": [
       "2023-01-31 00:00:00    65069\n",
       "2023-01-31 01:00:00    62933\n",
       "2023-01-31 02:00:00    61792\n",
       "2023-01-31 03:00:00    61302\n",
       "2023-01-31 04:00:00    62034\n",
       "                       ...  \n",
       "2023-12-31 19:00:00    64934\n",
       "2023-12-31 20:00:00    63817\n",
       "2023-12-31 21:00:00    62436\n",
       "2023-12-31 22:00:00    63010\n",
       "2023-12-31 23:00:00    62981\n",
       "Freq: h, Name: demand, Length: 8040, dtype: int64"
      ]
     },
     "execution_count": 17,
     "metadata": {},
     "output_type": "execute_result"
    }
   ],
   "source": [
    "dm.setup('predict')\n",
    "df_before = dm.predict_data.loc['2023-01-30':'2023-12-30']['demand']\n",
    "df_before.index = pd.date_range('2023-01-31 00:00:00', '2023-12-31 23:00:00', freq='1h')\n",
    "df_before"
   ]
  },
  {
   "cell_type": "code",
   "execution_count": 18,
   "id": "2acc25b5-335e-456e-ab63-80f684541173",
   "metadata": {},
   "outputs": [
    {
     "data": {
      "text/html": [
       "<div>\n",
       "<style scoped>\n",
       "    .dataframe tbody tr th:only-of-type {\n",
       "        vertical-align: middle;\n",
       "    }\n",
       "\n",
       "    .dataframe tbody tr th {\n",
       "        vertical-align: top;\n",
       "    }\n",
       "\n",
       "    .dataframe thead th {\n",
       "        text-align: right;\n",
       "    }\n",
       "</style>\n",
       "<table border=\"1\" class=\"dataframe\">\n",
       "  <thead>\n",
       "    <tr style=\"text-align: right;\">\n",
       "      <th></th>\n",
       "      <th>actual</th>\n",
       "      <th>predicted</th>\n",
       "      <th>before</th>\n",
       "    </tr>\n",
       "  </thead>\n",
       "  <tbody>\n",
       "    <tr>\n",
       "      <th>2023-01-31 00:00:00</th>\n",
       "      <td>71109.998834</td>\n",
       "      <td>75384.606674</td>\n",
       "      <td>65069</td>\n",
       "    </tr>\n",
       "    <tr>\n",
       "      <th>2023-01-31 01:00:00</th>\n",
       "      <td>68704.999390</td>\n",
       "      <td>73790.323390</td>\n",
       "      <td>62933</td>\n",
       "    </tr>\n",
       "    <tr>\n",
       "      <th>2023-01-31 02:00:00</th>\n",
       "      <td>67449.999146</td>\n",
       "      <td>73342.565785</td>\n",
       "      <td>61792</td>\n",
       "    </tr>\n",
       "    <tr>\n",
       "      <th>2023-01-31 03:00:00</th>\n",
       "      <td>66689.999856</td>\n",
       "      <td>73509.562219</td>\n",
       "      <td>61302</td>\n",
       "    </tr>\n",
       "    <tr>\n",
       "      <th>2023-01-31 04:00:00</th>\n",
       "      <td>66998.000372</td>\n",
       "      <td>74042.236974</td>\n",
       "      <td>62034</td>\n",
       "    </tr>\n",
       "    <tr>\n",
       "      <th>...</th>\n",
       "      <td>...</td>\n",
       "      <td>...</td>\n",
       "      <td>...</td>\n",
       "    </tr>\n",
       "    <tr>\n",
       "      <th>2023-12-31 19:00:00</th>\n",
       "      <td>62901.999208</td>\n",
       "      <td>66524.629029</td>\n",
       "      <td>64934</td>\n",
       "    </tr>\n",
       "    <tr>\n",
       "      <th>2023-12-31 20:00:00</th>\n",
       "      <td>62060.999162</td>\n",
       "      <td>66593.435992</td>\n",
       "      <td>63817</td>\n",
       "    </tr>\n",
       "    <tr>\n",
       "      <th>2023-12-31 21:00:00</th>\n",
       "      <td>61402.999795</td>\n",
       "      <td>65805.426234</td>\n",
       "      <td>62436</td>\n",
       "    </tr>\n",
       "    <tr>\n",
       "      <th>2023-12-31 22:00:00</th>\n",
       "      <td>61890.999869</td>\n",
       "      <td>65278.965607</td>\n",
       "      <td>63010</td>\n",
       "    </tr>\n",
       "    <tr>\n",
       "      <th>2023-12-31 23:00:00</th>\n",
       "      <td>62125.000510</td>\n",
       "      <td>64947.737660</td>\n",
       "      <td>62981</td>\n",
       "    </tr>\n",
       "  </tbody>\n",
       "</table>\n",
       "<p>8040 rows × 3 columns</p>\n",
       "</div>"
      ],
      "text/plain": [
       "                           actual     predicted  before\n",
       "2023-01-31 00:00:00  71109.998834  75384.606674   65069\n",
       "2023-01-31 01:00:00  68704.999390  73790.323390   62933\n",
       "2023-01-31 02:00:00  67449.999146  73342.565785   61792\n",
       "2023-01-31 03:00:00  66689.999856  73509.562219   61302\n",
       "2023-01-31 04:00:00  66998.000372  74042.236974   62034\n",
       "...                           ...           ...     ...\n",
       "2023-12-31 19:00:00  62901.999208  66524.629029   64934\n",
       "2023-12-31 20:00:00  62060.999162  66593.435992   63817\n",
       "2023-12-31 21:00:00  61402.999795  65805.426234   62436\n",
       "2023-12-31 22:00:00  61890.999869  65278.965607   63010\n",
       "2023-12-31 23:00:00  62125.000510  64947.737660   62981\n",
       "\n",
       "[8040 rows x 3 columns]"
      ]
     },
     "execution_count": 18,
     "metadata": {},
     "output_type": "execute_result"
    }
   ],
   "source": [
    "actual_predicted_df = pd.DataFrame(data={\"actual\":actual_result, \"predicted\": predicted_result})\n",
    "inverse_transformed_values = dm.transformer_demand.inverse_transform(actual_predicted_df)\n",
    "actual_predicted_df[\"actual\"] = inverse_transformed_values[:,[0]]\n",
    "actual_predicted_df[\"predicted\"] = inverse_transformed_values[:,[1]]\n",
    "\n",
    "# window_size= 720 #(24 Hour  * 30Day) 을 뺀 일수 \n",
    "actual_predicted_df.index = pd.date_range('2023-01-31 00:00:00', '2023-12-31 23:00:00', freq='1h')\n",
    "\n",
    "actual_predicted_df['before'] = df_before\n",
    "actual_predicted_df"
   ]
  },
  {
   "cell_type": "code",
   "execution_count": 32,
   "id": "8e3d671d-02f6-47d6-a8f0-f28298fb7b36",
   "metadata": {},
   "outputs": [
    {
     "data": {
      "application/vnd.plotly.v1+json": {
       "config": {
        "plotlyServerURL": "https://plot.ly"
       },
       "data": [
        {
         "hovertemplate": "variable=actual<br>index=%{x}<br>value=%{y}<extra></extra>",
         "legendgroup": "actual",
         "line": {
          "color": "#4b9ed6",
          "dash": "solid"
         },
         "marker": {
          "symbol": "circle"
         },
         "mode": "lines",
         "name": "actual",
         "orientation": "v",
         "showlegend": true,
         "type": "scatter",
         "x": [
          "2023-12-07T00:00:00",
          "2023-12-07T01:00:00",
          "2023-12-07T02:00:00",
          "2023-12-07T03:00:00",
          "2023-12-07T04:00:00",
          "2023-12-07T05:00:00",
          "2023-12-07T06:00:00",
          "2023-12-07T07:00:00",
          "2023-12-07T08:00:00",
          "2023-12-07T09:00:00",
          "2023-12-07T10:00:00",
          "2023-12-07T11:00:00",
          "2023-12-07T12:00:00",
          "2023-12-07T13:00:00",
          "2023-12-07T14:00:00",
          "2023-12-07T15:00:00",
          "2023-12-07T16:00:00",
          "2023-12-07T17:00:00",
          "2023-12-07T18:00:00",
          "2023-12-07T19:00:00",
          "2023-12-07T20:00:00",
          "2023-12-07T21:00:00",
          "2023-12-07T22:00:00",
          "2023-12-07T23:00:00",
          "2023-12-08T00:00:00",
          "2023-12-08T01:00:00",
          "2023-12-08T02:00:00",
          "2023-12-08T03:00:00",
          "2023-12-08T04:00:00",
          "2023-12-08T05:00:00",
          "2023-12-08T06:00:00",
          "2023-12-08T07:00:00",
          "2023-12-08T08:00:00",
          "2023-12-08T09:00:00",
          "2023-12-08T10:00:00",
          "2023-12-08T11:00:00",
          "2023-12-08T12:00:00",
          "2023-12-08T13:00:00",
          "2023-12-08T14:00:00",
          "2023-12-08T15:00:00",
          "2023-12-08T16:00:00",
          "2023-12-08T17:00:00",
          "2023-12-08T18:00:00",
          "2023-12-08T19:00:00",
          "2023-12-08T20:00:00",
          "2023-12-08T21:00:00",
          "2023-12-08T22:00:00",
          "2023-12-08T23:00:00",
          "2023-12-09T00:00:00",
          "2023-12-09T01:00:00",
          "2023-12-09T02:00:00",
          "2023-12-09T03:00:00",
          "2023-12-09T04:00:00",
          "2023-12-09T05:00:00",
          "2023-12-09T06:00:00",
          "2023-12-09T07:00:00",
          "2023-12-09T08:00:00",
          "2023-12-09T09:00:00",
          "2023-12-09T10:00:00",
          "2023-12-09T11:00:00",
          "2023-12-09T12:00:00",
          "2023-12-09T13:00:00",
          "2023-12-09T14:00:00",
          "2023-12-09T15:00:00",
          "2023-12-09T16:00:00",
          "2023-12-09T17:00:00",
          "2023-12-09T18:00:00",
          "2023-12-09T19:00:00",
          "2023-12-09T20:00:00",
          "2023-12-09T21:00:00",
          "2023-12-09T22:00:00",
          "2023-12-09T23:00:00"
         ],
         "xaxis": "x",
         "y": [
          64601.00044512748,
          62224.99968492984,
          60936.00062406062,
          60403.99973165988,
          61024.00052356719,
          63026.00040829181,
          66639.00163078307,
          72030.99926257132,
          77237.00030398367,
          75893.99842333792,
          72662.9993302822,
          69201.00071811675,
          64835.999722838395,
          67860.99995899199,
          70494.00127434729,
          73156.99991083144,
          75627.99971389769,
          76628.99878787993,
          75676.00029063223,
          74210.00105690955,
          71653.00036525725,
          69472.00129675864,
          69703.00081586836,
          69045.99834918974,
          65057.99935090541,
          62339.000620484345,
          60905.9998294115,
          60270.000003099434,
          60867.99951756,
          62530.99945390224,
          66047.99952292441,
          70836.00060749052,
          75244.99894738196,
          73484.00058341025,
          69889.00087976454,
          66684.00108599661,
          62496.00026357173,
          65117.99920344352,
          67190.99957942961,
          69632.99896168707,
          71470.00142288207,
          71788.99910473822,
          70431.99893736838,
          69246.00017333029,
          67614.99830579756,
          65755.00114035605,
          66070.00080037116,
          65414.99908137321,
          61600.00049734115,
          59095.00014102458,
          57632.00029206276,
          56970.99980354309,
          57044.99967956543,
          57834.999764204025,
          59180.99929285049,
          60013.999821782105,
          60509.99941325187,
          59680.00000584125,
          58409.99936413764,
          56847.000339865685,
          55008.00060451031,
          55852.00003540516,
          56459.999814748764,
          57982.9995162487,
          59877.99934554099,
          61982.99952709674,
          62483.000613927834,
          62025.99997138976,
          61267.99969232082,
          60238.000197529786,
          60996.00047659873,
          60314.99945831298
         ],
         "yaxis": "y"
        },
        {
         "hovertemplate": "variable=predicted<br>index=%{x}<br>value=%{y}<extra></extra>",
         "legendgroup": "predicted",
         "line": {
          "color": "#c80004",
          "dash": "solid"
         },
         "marker": {
          "symbol": "circle"
         },
         "mode": "lines",
         "name": "predicted",
         "orientation": "v",
         "showlegend": true,
         "type": "scatter",
         "x": [
          "2023-12-07T00:00:00",
          "2023-12-07T01:00:00",
          "2023-12-07T02:00:00",
          "2023-12-07T03:00:00",
          "2023-12-07T04:00:00",
          "2023-12-07T05:00:00",
          "2023-12-07T06:00:00",
          "2023-12-07T07:00:00",
          "2023-12-07T08:00:00",
          "2023-12-07T09:00:00",
          "2023-12-07T10:00:00",
          "2023-12-07T11:00:00",
          "2023-12-07T12:00:00",
          "2023-12-07T13:00:00",
          "2023-12-07T14:00:00",
          "2023-12-07T15:00:00",
          "2023-12-07T16:00:00",
          "2023-12-07T17:00:00",
          "2023-12-07T18:00:00",
          "2023-12-07T19:00:00",
          "2023-12-07T20:00:00",
          "2023-12-07T21:00:00",
          "2023-12-07T22:00:00",
          "2023-12-07T23:00:00",
          "2023-12-08T00:00:00",
          "2023-12-08T01:00:00",
          "2023-12-08T02:00:00",
          "2023-12-08T03:00:00",
          "2023-12-08T04:00:00",
          "2023-12-08T05:00:00",
          "2023-12-08T06:00:00",
          "2023-12-08T07:00:00",
          "2023-12-08T08:00:00",
          "2023-12-08T09:00:00",
          "2023-12-08T10:00:00",
          "2023-12-08T11:00:00",
          "2023-12-08T12:00:00",
          "2023-12-08T13:00:00",
          "2023-12-08T14:00:00",
          "2023-12-08T15:00:00",
          "2023-12-08T16:00:00",
          "2023-12-08T17:00:00",
          "2023-12-08T18:00:00",
          "2023-12-08T19:00:00",
          "2023-12-08T20:00:00",
          "2023-12-08T21:00:00",
          "2023-12-08T22:00:00",
          "2023-12-08T23:00:00",
          "2023-12-09T00:00:00",
          "2023-12-09T01:00:00",
          "2023-12-09T02:00:00",
          "2023-12-09T03:00:00",
          "2023-12-09T04:00:00",
          "2023-12-09T05:00:00",
          "2023-12-09T06:00:00",
          "2023-12-09T07:00:00",
          "2023-12-09T08:00:00",
          "2023-12-09T09:00:00",
          "2023-12-09T10:00:00",
          "2023-12-09T11:00:00",
          "2023-12-09T12:00:00",
          "2023-12-09T13:00:00",
          "2023-12-09T14:00:00",
          "2023-12-09T15:00:00",
          "2023-12-09T16:00:00",
          "2023-12-09T17:00:00",
          "2023-12-09T18:00:00",
          "2023-12-09T19:00:00",
          "2023-12-09T20:00:00",
          "2023-12-09T21:00:00",
          "2023-12-09T22:00:00",
          "2023-12-09T23:00:00"
         ],
         "xaxis": "x",
         "y": [
          65066.83772325515,
          62874.320461511605,
          61906.99021959304,
          61708.42643284797,
          62378.7151145935,
          63584.688356995575,
          65748.38755774497,
          68920.77446961401,
          72271.71421790122,
          74218.44171118735,
          74371.65869069098,
          72804.94126296042,
          70957.38277363776,
          71728.16734409331,
          72817.92528176306,
          72954.82366299628,
          73290.40393066405,
          73454.23946166037,
          73384.24108099936,
          72560.07197737692,
          70865.68531179427,
          68835.78784894942,
          67340.72567105292,
          66018.91226410864,
          63190.42470097541,
          60962.88567101955,
          59950.02799880504,
          59969.90521860122,
          60885.78567814826,
          62294.40583038329,
          64676.46093642711,
          67870.54866623877,
          71358.95645308493,
          73142.48406958579,
          73002.68529891966,
          71428.12813591956,
          69516.11500430106,
          70130.7613646984,
          70892.44183850287,
          71143.24389672278,
          71760.87748456,
          71864.84342002867,
          71632.84352707861,
          71005.12978339194,
          69581.58391451834,
          67823.92707705496,
          66878.62937426566,
          66135.20919656752,
          63249.498860359185,
          60949.28857588767,
          59635.995714187615,
          58788.382085442536,
          58598.04533147811,
          58862.604266762726,
          59969.398084640496,
          61581.29211711883,
          63738.428101301186,
          64733.8018091917,
          63948.28430247306,
          61795.007399320595,
          59471.29180312156,
          60044.471278429024,
          61094.75265812873,
          61590.981501936905,
          62370.444662809365,
          62599.47469592094,
          63134.90221607684,
          63272.458829402916,
          62854.15320277213,
          62257.96860265731,
          62185.67248833179,
          62102.8602913618
         ],
         "yaxis": "y"
        },
        {
         "hovertemplate": "variable=before<br>index=%{x}<br>value=%{y}<extra></extra>",
         "legendgroup": "before",
         "line": {
          "color": "#58a200",
          "dash": "solid"
         },
         "marker": {
          "symbol": "circle"
         },
         "mode": "lines",
         "name": "before",
         "orientation": "v",
         "showlegend": true,
         "type": "scatter",
         "x": [
          "2023-12-07T00:00:00",
          "2023-12-07T01:00:00",
          "2023-12-07T02:00:00",
          "2023-12-07T03:00:00",
          "2023-12-07T04:00:00",
          "2023-12-07T05:00:00",
          "2023-12-07T06:00:00",
          "2023-12-07T07:00:00",
          "2023-12-07T08:00:00",
          "2023-12-07T09:00:00",
          "2023-12-07T10:00:00",
          "2023-12-07T11:00:00",
          "2023-12-07T12:00:00",
          "2023-12-07T13:00:00",
          "2023-12-07T14:00:00",
          "2023-12-07T15:00:00",
          "2023-12-07T16:00:00",
          "2023-12-07T17:00:00",
          "2023-12-07T18:00:00",
          "2023-12-07T19:00:00",
          "2023-12-07T20:00:00",
          "2023-12-07T21:00:00",
          "2023-12-07T22:00:00",
          "2023-12-07T23:00:00",
          "2023-12-08T00:00:00",
          "2023-12-08T01:00:00",
          "2023-12-08T02:00:00",
          "2023-12-08T03:00:00",
          "2023-12-08T04:00:00",
          "2023-12-08T05:00:00",
          "2023-12-08T06:00:00",
          "2023-12-08T07:00:00",
          "2023-12-08T08:00:00",
          "2023-12-08T09:00:00",
          "2023-12-08T10:00:00",
          "2023-12-08T11:00:00",
          "2023-12-08T12:00:00",
          "2023-12-08T13:00:00",
          "2023-12-08T14:00:00",
          "2023-12-08T15:00:00",
          "2023-12-08T16:00:00",
          "2023-12-08T17:00:00",
          "2023-12-08T18:00:00",
          "2023-12-08T19:00:00",
          "2023-12-08T20:00:00",
          "2023-12-08T21:00:00",
          "2023-12-08T22:00:00",
          "2023-12-08T23:00:00",
          "2023-12-09T00:00:00",
          "2023-12-09T01:00:00",
          "2023-12-09T02:00:00",
          "2023-12-09T03:00:00",
          "2023-12-09T04:00:00",
          "2023-12-09T05:00:00",
          "2023-12-09T06:00:00",
          "2023-12-09T07:00:00",
          "2023-12-09T08:00:00",
          "2023-12-09T09:00:00",
          "2023-12-09T10:00:00",
          "2023-12-09T11:00:00",
          "2023-12-09T12:00:00",
          "2023-12-09T13:00:00",
          "2023-12-09T14:00:00",
          "2023-12-09T15:00:00",
          "2023-12-09T16:00:00",
          "2023-12-09T17:00:00",
          "2023-12-09T18:00:00",
          "2023-12-09T19:00:00",
          "2023-12-09T20:00:00",
          "2023-12-09T21:00:00",
          "2023-12-09T22:00:00",
          "2023-12-09T23:00:00"
         ],
         "xaxis": "x",
         "y": [
          65258,
          62896,
          61574,
          60846,
          61401,
          63110,
          66771,
          72352,
          78321,
          79102,
          78035,
          76932,
          73935,
          77542,
          78654,
          78458,
          77183,
          76318,
          75086,
          73795,
          71537,
          69344,
          69064,
          68276,
          64601,
          62225,
          60936,
          60404,
          61024,
          63026,
          66639,
          72031,
          77237,
          75894,
          72663,
          69201,
          64836,
          67861,
          70494,
          73157,
          75628,
          76629,
          75676,
          74210,
          71653,
          69472,
          69703,
          69046,
          65058,
          62339,
          60906,
          60270,
          60868,
          62531,
          66048,
          70836,
          75245,
          73484,
          69889,
          66684,
          62496,
          65118,
          67191,
          69633,
          71470,
          71789,
          70432,
          69246,
          67615,
          65755,
          66070,
          65415
         ],
         "yaxis": "y"
        }
       ],
       "layout": {
        "autosize": true,
        "legend": {
         "title": {
          "text": "variable"
         },
         "tracegroupgap": 0
        },
        "margin": {
         "t": 60
        },
        "template": {
         "data": {
          "bar": [
           {
            "error_x": {
             "color": "#f2f5fa"
            },
            "error_y": {
             "color": "#f2f5fa"
            },
            "marker": {
             "line": {
              "color": "rgb(17,17,17)",
              "width": 0.5
             },
             "pattern": {
              "fillmode": "overlay",
              "size": 10,
              "solidity": 0.2
             }
            },
            "type": "bar"
           }
          ],
          "barpolar": [
           {
            "marker": {
             "line": {
              "color": "rgb(17,17,17)",
              "width": 0.5
             },
             "pattern": {
              "fillmode": "overlay",
              "size": 10,
              "solidity": 0.2
             }
            },
            "type": "barpolar"
           }
          ],
          "carpet": [
           {
            "aaxis": {
             "endlinecolor": "#A2B1C6",
             "gridcolor": "#506784",
             "linecolor": "#506784",
             "minorgridcolor": "#506784",
             "startlinecolor": "#A2B1C6"
            },
            "baxis": {
             "endlinecolor": "#A2B1C6",
             "gridcolor": "#506784",
             "linecolor": "#506784",
             "minorgridcolor": "#506784",
             "startlinecolor": "#A2B1C6"
            },
            "type": "carpet"
           }
          ],
          "choropleth": [
           {
            "colorbar": {
             "outlinewidth": 0,
             "ticks": ""
            },
            "type": "choropleth"
           }
          ],
          "contour": [
           {
            "colorbar": {
             "outlinewidth": 0,
             "ticks": ""
            },
            "colorscale": [
             [
              0,
              "#0d0887"
             ],
             [
              0.1111111111111111,
              "#46039f"
             ],
             [
              0.2222222222222222,
              "#7201a8"
             ],
             [
              0.3333333333333333,
              "#9c179e"
             ],
             [
              0.4444444444444444,
              "#bd3786"
             ],
             [
              0.5555555555555556,
              "#d8576b"
             ],
             [
              0.6666666666666666,
              "#ed7953"
             ],
             [
              0.7777777777777778,
              "#fb9f3a"
             ],
             [
              0.8888888888888888,
              "#fdca26"
             ],
             [
              1,
              "#f0f921"
             ]
            ],
            "type": "contour"
           }
          ],
          "contourcarpet": [
           {
            "colorbar": {
             "outlinewidth": 0,
             "ticks": ""
            },
            "type": "contourcarpet"
           }
          ],
          "heatmap": [
           {
            "colorbar": {
             "outlinewidth": 0,
             "ticks": ""
            },
            "colorscale": [
             [
              0,
              "#0d0887"
             ],
             [
              0.1111111111111111,
              "#46039f"
             ],
             [
              0.2222222222222222,
              "#7201a8"
             ],
             [
              0.3333333333333333,
              "#9c179e"
             ],
             [
              0.4444444444444444,
              "#bd3786"
             ],
             [
              0.5555555555555556,
              "#d8576b"
             ],
             [
              0.6666666666666666,
              "#ed7953"
             ],
             [
              0.7777777777777778,
              "#fb9f3a"
             ],
             [
              0.8888888888888888,
              "#fdca26"
             ],
             [
              1,
              "#f0f921"
             ]
            ],
            "type": "heatmap"
           }
          ],
          "heatmapgl": [
           {
            "colorbar": {
             "outlinewidth": 0,
             "ticks": ""
            },
            "colorscale": [
             [
              0,
              "#0d0887"
             ],
             [
              0.1111111111111111,
              "#46039f"
             ],
             [
              0.2222222222222222,
              "#7201a8"
             ],
             [
              0.3333333333333333,
              "#9c179e"
             ],
             [
              0.4444444444444444,
              "#bd3786"
             ],
             [
              0.5555555555555556,
              "#d8576b"
             ],
             [
              0.6666666666666666,
              "#ed7953"
             ],
             [
              0.7777777777777778,
              "#fb9f3a"
             ],
             [
              0.8888888888888888,
              "#fdca26"
             ],
             [
              1,
              "#f0f921"
             ]
            ],
            "type": "heatmapgl"
           }
          ],
          "histogram": [
           {
            "marker": {
             "pattern": {
              "fillmode": "overlay",
              "size": 10,
              "solidity": 0.2
             }
            },
            "type": "histogram"
           }
          ],
          "histogram2d": [
           {
            "colorbar": {
             "outlinewidth": 0,
             "ticks": ""
            },
            "colorscale": [
             [
              0,
              "#0d0887"
             ],
             [
              0.1111111111111111,
              "#46039f"
             ],
             [
              0.2222222222222222,
              "#7201a8"
             ],
             [
              0.3333333333333333,
              "#9c179e"
             ],
             [
              0.4444444444444444,
              "#bd3786"
             ],
             [
              0.5555555555555556,
              "#d8576b"
             ],
             [
              0.6666666666666666,
              "#ed7953"
             ],
             [
              0.7777777777777778,
              "#fb9f3a"
             ],
             [
              0.8888888888888888,
              "#fdca26"
             ],
             [
              1,
              "#f0f921"
             ]
            ],
            "type": "histogram2d"
           }
          ],
          "histogram2dcontour": [
           {
            "colorbar": {
             "outlinewidth": 0,
             "ticks": ""
            },
            "colorscale": [
             [
              0,
              "#0d0887"
             ],
             [
              0.1111111111111111,
              "#46039f"
             ],
             [
              0.2222222222222222,
              "#7201a8"
             ],
             [
              0.3333333333333333,
              "#9c179e"
             ],
             [
              0.4444444444444444,
              "#bd3786"
             ],
             [
              0.5555555555555556,
              "#d8576b"
             ],
             [
              0.6666666666666666,
              "#ed7953"
             ],
             [
              0.7777777777777778,
              "#fb9f3a"
             ],
             [
              0.8888888888888888,
              "#fdca26"
             ],
             [
              1,
              "#f0f921"
             ]
            ],
            "type": "histogram2dcontour"
           }
          ],
          "mesh3d": [
           {
            "colorbar": {
             "outlinewidth": 0,
             "ticks": ""
            },
            "type": "mesh3d"
           }
          ],
          "parcoords": [
           {
            "line": {
             "colorbar": {
              "outlinewidth": 0,
              "ticks": ""
             }
            },
            "type": "parcoords"
           }
          ],
          "pie": [
           {
            "automargin": true,
            "type": "pie"
           }
          ],
          "scatter": [
           {
            "marker": {
             "line": {
              "color": "#060606"
             }
            },
            "type": "scatter"
           }
          ],
          "scatter3d": [
           {
            "line": {
             "colorbar": {
              "outlinewidth": 0,
              "ticks": ""
             }
            },
            "marker": {
             "colorbar": {
              "outlinewidth": 0,
              "ticks": ""
             }
            },
            "type": "scatter3d"
           }
          ],
          "scattercarpet": [
           {
            "marker": {
             "colorbar": {
              "outlinewidth": 0,
              "ticks": ""
             }
            },
            "type": "scattercarpet"
           }
          ],
          "scattergeo": [
           {
            "marker": {
             "colorbar": {
              "outlinewidth": 0,
              "ticks": ""
             }
            },
            "type": "scattergeo"
           }
          ],
          "scattergl": [
           {
            "marker": {
             "line": {
              "color": "#060606"
             }
            },
            "type": "scattergl"
           }
          ],
          "scattermapbox": [
           {
            "marker": {
             "colorbar": {
              "outlinewidth": 0,
              "ticks": ""
             }
            },
            "type": "scattermapbox"
           }
          ],
          "scatterpolar": [
           {
            "marker": {
             "colorbar": {
              "outlinewidth": 0,
              "ticks": ""
             }
            },
            "type": "scatterpolar"
           }
          ],
          "scatterpolargl": [
           {
            "marker": {
             "colorbar": {
              "outlinewidth": 0,
              "ticks": ""
             }
            },
            "type": "scatterpolargl"
           }
          ],
          "scatterternary": [
           {
            "marker": {
             "colorbar": {
              "outlinewidth": 0,
              "ticks": ""
             }
            },
            "type": "scatterternary"
           }
          ],
          "surface": [
           {
            "colorbar": {
             "outlinewidth": 0,
             "ticks": ""
            },
            "colorscale": [
             [
              0,
              "#0d0887"
             ],
             [
              0.1111111111111111,
              "#46039f"
             ],
             [
              0.2222222222222222,
              "#7201a8"
             ],
             [
              0.3333333333333333,
              "#9c179e"
             ],
             [
              0.4444444444444444,
              "#bd3786"
             ],
             [
              0.5555555555555556,
              "#d8576b"
             ],
             [
              0.6666666666666666,
              "#ed7953"
             ],
             [
              0.7777777777777778,
              "#fb9f3a"
             ],
             [
              0.8888888888888888,
              "#fdca26"
             ],
             [
              1,
              "#f0f921"
             ]
            ],
            "type": "surface"
           }
          ],
          "table": [
           {
            "cells": {
             "fill": {
              "color": "#506784"
             },
             "line": {
              "color": "rgb(17,17,17)"
             }
            },
            "header": {
             "fill": {
              "color": "#2a3f5f"
             },
             "line": {
              "color": "rgb(17,17,17)"
             }
            },
            "type": "table"
           }
          ]
         },
         "layout": {
          "annotationdefaults": {
           "arrowcolor": "#f2f5fa",
           "arrowhead": 0,
           "arrowwidth": 1,
           "font": {
            "color": "#adafae"
           }
          },
          "autotypenumbers": "strict",
          "coloraxis": {
           "colorbar": {
            "outlinewidth": 0,
            "ticks": ""
           }
          },
          "colorscale": {
           "diverging": [
            [
             0,
             "#8e0152"
            ],
            [
             0.1,
             "#c51b7d"
            ],
            [
             0.2,
             "#de77ae"
            ],
            [
             0.3,
             "#f1b6da"
            ],
            [
             0.4,
             "#fde0ef"
            ],
            [
             0.5,
             "#f7f7f7"
            ],
            [
             0.6,
             "#e6f5d0"
            ],
            [
             0.7,
             "#b8e186"
            ],
            [
             0.8,
             "#7fbc41"
            ],
            [
             0.9,
             "#4d9221"
            ],
            [
             1,
             "#276419"
            ]
           ],
           "sequential": [
            [
             0,
             "#2a9fd6"
            ],
            [
             0.1,
             "#4098c6"
            ],
            [
             0.2,
             "#5790b6"
            ],
            [
             0.30000000000000004,
             "#6d89a6"
            ],
            [
             0.4,
             "#838196"
            ],
            [
             0.5,
             "#9a7a86"
            ],
            [
             0.6000000000000001,
             "#b07276"
            ],
            [
             0.7000000000000001,
             "#c66b66"
            ],
            [
             0.8,
             "#dd6456"
            ],
            [
             0.9,
             "#f35c46"
            ],
            [
             1,
             "#ff5536"
            ]
           ],
           "sequentialminus": [
            [
             0,
             "#0d0887"
            ],
            [
             0.1111111111111111,
             "#46039f"
            ],
            [
             0.2222222222222222,
             "#7201a8"
            ],
            [
             0.3333333333333333,
             "#9c179e"
            ],
            [
             0.4444444444444444,
             "#bd3786"
            ],
            [
             0.5555555555555556,
             "#d8576b"
            ],
            [
             0.6666666666666666,
             "#ed7953"
            ],
            [
             0.7777777777777778,
             "#fb9f3a"
            ],
            [
             0.8888888888888888,
             "#fdca26"
            ],
            [
             1,
             "#f0f921"
            ]
           ]
          },
          "colorway": [
           "#4b9ed6",
           "#c80004",
           "#58a200",
           "#ff9d24",
           "#a32acd"
          ],
          "font": {
           "color": "#adafae",
           "family": "Roboto,-apple-system,BlinkMacSystemFont,\"Segoe UI\",\"Helvetica Neue\",Arial,sans-serif"
          },
          "geo": {
           "bgcolor": "#060606",
           "lakecolor": "#060606",
           "landcolor": "#060606",
           "showlakes": true,
           "showland": true,
           "subunitcolor": "#506784"
          },
          "hoverlabel": {
           "align": "left",
           "font": {
            "family": "Roboto,-apple-system,BlinkMacSystemFont,\"Segoe UI\",\"Helvetica Neue\",Arial,sans-serif"
           }
          },
          "hovermode": "closest",
          "mapbox": {
           "style": "dark"
          },
          "paper_bgcolor": "#282828",
          "piecolorway": [
           "#4b9ed6",
           "#c80004",
           "#58a200",
           "#ff9d24",
           "#a32acd"
          ],
          "plot_bgcolor": "#060606",
          "polar": {
           "angularaxis": {
            "gridcolor": "#506784",
            "linecolor": "#506784",
            "ticks": ""
           },
           "bgcolor": "rgb(17,17,17)",
           "radialaxis": {
            "gridcolor": "#506784",
            "linecolor": "#506784",
            "ticks": ""
           }
          },
          "scene": {
           "xaxis": {
            "backgroundcolor": "rgb(17,17,17)",
            "gridcolor": "#506784",
            "gridwidth": 2,
            "linecolor": "#506784",
            "showbackground": true,
            "ticks": "",
            "zerolinecolor": "#C8D4E3"
           },
           "yaxis": {
            "backgroundcolor": "rgb(17,17,17)",
            "gridcolor": "#506784",
            "gridwidth": 2,
            "linecolor": "#506784",
            "showbackground": true,
            "ticks": "",
            "zerolinecolor": "#C8D4E3"
           },
           "zaxis": {
            "backgroundcolor": "rgb(17,17,17)",
            "gridcolor": "#506784",
            "gridwidth": 2,
            "linecolor": "#506784",
            "showbackground": true,
            "ticks": "",
            "zerolinecolor": "#C8D4E3"
           }
          },
          "shapedefaults": {
           "line": {
            "color": "#f2f5fa"
           }
          },
          "sliderdefaults": {
           "bgcolor": "#C8D4E3",
           "bordercolor": "rgb(17,17,17)",
           "borderwidth": 1,
           "tickwidth": 0
          },
          "ternary": {
           "aaxis": {
            "gridcolor": "#506784",
            "linecolor": "#506784",
            "ticks": ""
           },
           "baxis": {
            "gridcolor": "#506784",
            "linecolor": "#506784",
            "ticks": ""
           },
           "bgcolor": "rgb(17,17,17)",
           "caxis": {
            "gridcolor": "#506784",
            "linecolor": "#506784",
            "ticks": ""
           }
          },
          "title": {
           "x": 0.05
          },
          "updatemenudefaults": {
           "bgcolor": "#506784",
           "borderwidth": 0
          },
          "xaxis": {
           "automargin": true,
           "gridcolor": "#131413",
           "gridwidth": 0.5,
           "linecolor": "#506784",
           "ticks": "",
           "title": {
            "standoff": 15
           },
           "zerolinecolor": "#131413",
           "zerolinewidth": 2
          },
          "yaxis": {
           "automargin": true,
           "gridcolor": "#131413",
           "gridwidth": 0.5,
           "linecolor": "#506784",
           "ticks": "",
           "title": {
            "standoff": 15
           },
           "zerolinecolor": "#131413",
           "zerolinewidth": 2
          }
         }
        },
        "xaxis": {
         "anchor": "y",
         "autorange": true,
         "domain": [
          0,
          1
         ],
         "range": [
          "2023-12-07",
          "2023-12-09 23:00"
         ],
         "title": {
          "text": "index"
         },
         "type": "date"
        },
        "yaxis": {
         "anchor": "x",
         "domain": [
          0,
          1
         ],
         "range": [
          0,
          120000
         ],
         "title": {
          "text": "value"
         },
         "type": "linear"
        }
       }
      },
      "image/png": "[encoded data removed]",
      "text/html": [
       "<div>                            <div id=\"5115a3aa-41f5-4837-8946-dabe48b8f8c7\" class=\"plotly-graph-div\" style=\"height:600px; width:100%;\"></div>            <script type=\"text/javascript\">                require([\"plotly\"], function(Plotly) {                    window.PLOTLYENV=window.PLOTLYENV || {};                                    if (document.getElementById(\"5115a3aa-41f5-4837-8946-dabe48b8f8c7\")) {                    Plotly.newPlot(                        \"5115a3aa-41f5-4837-8946-dabe48b8f8c7\",                        [{\"hovertemplate\":\"variable=actual\\u003cbr\\u003eindex=%{x}\\u003cbr\\u003evalue=%{y}\\u003cextra\\u003e\\u003c\\u002fextra\\u003e\",\"legendgroup\":\"actual\",\"line\":{\"color\":\"#4b9ed6\",\"dash\":\"solid\"},\"marker\":{\"symbol\":\"circle\"},\"mode\":\"lines\",\"name\":\"actual\",\"orientation\":\"v\",\"showlegend\":true,\"x\":[\"2023-12-07T00:00:00\",\"2023-12-07T01:00:00\",\"2023-12-07T02:00:00\",\"2023-12-07T03:00:00\",\"2023-12-07T04:00:00\",\"2023-12-07T05:00:00\",\"2023-12-07T06:00:00\",\"2023-12-07T07:00:00\",\"2023-12-07T08:00:00\",\"2023-12-07T09:00:00\",\"2023-12-07T10:00:00\",\"2023-12-07T11:00:00\",\"2023-12-07T12:00:00\",\"2023-12-07T13:00:00\",\"2023-12-07T14:00:00\",\"2023-12-07T15:00:00\",\"2023-12-07T16:00:00\",\"2023-12-07T17:00:00\",\"2023-12-07T18:00:00\",\"2023-12-07T19:00:00\",\"2023-12-07T20:00:00\",\"2023-12-07T21:00:00\",\"2023-12-07T22:00:00\",\"2023-12-07T23:00:00\",\"2023-12-08T00:00:00\",\"2023-12-08T01:00:00\",\"2023-12-08T02:00:00\",\"2023-12-08T03:00:00\",\"2023-12-08T04:00:00\",\"2023-12-08T05:00:00\",\"2023-12-08T06:00:00\",\"2023-12-08T07:00:00\",\"2023-12-08T08:00:00\",\"2023-12-08T09:00:00\",\"2023-12-08T10:00:00\",\"2023-12-08T11:00:00\",\"2023-12-08T12:00:00\",\"2023-12-08T13:00:00\",\"2023-12-08T14:00:00\",\"2023-12-08T15:00:00\",\"2023-12-08T16:00:00\",\"2023-12-08T17:00:00\",\"2023-12-08T18:00:00\",\"2023-12-08T19:00:00\",\"2023-12-08T20:00:00\",\"2023-12-08T21:00:00\",\"2023-12-08T22:00:00\",\"2023-12-08T23:00:00\",\"2023-12-09T00:00:00\",\"2023-12-09T01:00:00\",\"2023-12-09T02:00:00\",\"2023-12-09T03:00:00\",\"2023-12-09T04:00:00\",\"2023-12-09T05:00:00\",\"2023-12-09T06:00:00\",\"2023-12-09T07:00:00\",\"2023-12-09T08:00:00\",\"2023-12-09T09:00:00\",\"2023-12-09T10:00:00\",\"2023-12-09T11:00:00\",\"2023-12-09T12:00:00\",\"2023-12-09T13:00:00\",\"2023-12-09T14:00:00\",\"2023-12-09T15:00:00\",\"2023-12-09T16:00:00\",\"2023-12-09T17:00:00\",\"2023-12-09T18:00:00\",\"2023-12-09T19:00:00\",\"2023-12-09T20:00:00\",\"2023-12-09T21:00:00\",\"2023-12-09T22:00:00\",\"2023-12-09T23:00:00\"],\"xaxis\":\"x\",\"y\":[64601.00044512748,62224.99968492984,60936.00062406062,60403.99973165988,61024.00052356719,63026.00040829181,66639.00163078307,72030.99926257132,77237.00030398367,75893.99842333792,72662.9993302822,69201.00071811675,64835.999722838395,67860.99995899199,70494.00127434729,73156.99991083144,75627.99971389769,76628.99878787993,75676.00029063223,74210.00105690955,71653.00036525725,69472.00129675864,69703.00081586836,69045.99834918974,65057.99935090541,62339.000620484345,60905.9998294115,60270.000003099434,60867.99951756,62530.99945390224,66047.99952292441,70836.00060749052,75244.99894738196,73484.00058341025,69889.00087976454,66684.00108599661,62496.00026357173,65117.99920344352,67190.99957942961,69632.99896168707,71470.00142288207,71788.99910473822,70431.99893736838,69246.00017333029,67614.99830579756,65755.00114035605,66070.00080037116,65414.99908137321,61600.00049734115,59095.00014102458,57632.00029206276,56970.99980354309,57044.99967956543,57834.999764204025,59180.99929285049,60013.999821782105,60509.99941325187,59680.00000584125,58409.99936413764,56847.000339865685,55008.00060451031,55852.00003540516,56459.999814748764,57982.9995162487,59877.99934554099,61982.99952709674,62483.000613927834,62025.99997138976,61267.99969232082,60238.000197529786,60996.00047659873,60314.99945831298],\"yaxis\":\"y\",\"type\":\"scatter\"},{\"hovertemplate\":\"variable=predicted\\u003cbr\\u003eindex=%{x}\\u003cbr\\u003evalue=%{y}\\u003cextra\\u003e\\u003c\\u002fextra\\u003e\",\"legendgroup\":\"predicted\",\"line\":{\"color\":\"#c80004\",\"dash\":\"solid\"},\"marker\":{\"symbol\":\"circle\"},\"mode\":\"lines\",\"name\":\"predicted\",\"orientation\":\"v\",\"showlegend\":true,\"x\":[\"2023-12-07T00:00:00\",\"2023-12-07T01:00:00\",\"2023-12-07T02:00:00\",\"2023-12-07T03:00:00\",\"2023-12-07T04:00:00\",\"2023-12-07T05:00:00\",\"2023-12-07T06:00:00\",\"2023-12-07T07:00:00\",\"2023-12-07T08:00:00\",\"2023-12-07T09:00:00\",\"2023-12-07T10:00:00\",\"2023-12-07T11:00:00\",\"2023-12-07T12:00:00\",\"2023-12-07T13:00:00\",\"2023-12-07T14:00:00\",\"2023-12-07T15:00:00\",\"2023-12-07T16:00:00\",\"2023-12-07T17:00:00\",\"2023-12-07T18:00:00\",\"2023-12-07T19:00:00\",\"2023-12-07T20:00:00\",\"2023-12-07T21:00:00\",\"2023-12-07T22:00:00\",\"2023-12-07T23:00:00\",\"2023-12-08T00:00:00\",\"2023-12-08T01:00:00\",\"2023-12-08T02:00:00\",\"2023-12-08T03:00:00\",\"2023-12-08T04:00:00\",\"2023-12-08T05:00:00\",\"2023-12-08T06:00:00\",\"2023-12-08T07:00:00\",\"2023-12-08T08:00:00\",\"2023-12-08T09:00:00\",\"2023-12-08T10:00:00\",\"2023-12-08T11:00:00\",\"2023-12-08T12:00:00\",\"2023-12-08T13:00:00\",\"2023-12-08T14:00:00\",\"2023-12-08T15:00:00\",\"2023-12-08T16:00:00\",\"2023-12-08T17:00:00\",\"2023-12-08T18:00:00\",\"2023-12-08T19:00:00\",\"2023-12-08T20:00:00\",\"2023-12-08T21:00:00\",\"2023-12-08T22:00:00\",\"2023-12-08T23:00:00\",\"2023-12-09T00:00:00\",\"2023-12-09T01:00:00\",\"2023-12-09T02:00:00\",\"2023-12-09T03:00:00\",\"2023-12-09T04:00:00\",\"2023-12-09T05:00:00\",\"2023-12-09T06:00:00\",\"2023-12-09T07:00:00\",\"2023-12-09T08:00:00\",\"2023-12-09T09:00:00\",\"2023-12-09T10:00:00\",\"2023-12-09T11:00:00\",\"2023-12-09T12:00:00\",\"2023-12-09T13:00:00\",\"2023-12-09T14:00:00\",\"2023-12-09T15:00:00\",\"2023-12-09T16:00:00\",\"2023-12-09T17:00:00\",\"2023-12-09T18:00:00\",\"2023-12-09T19:00:00\",\"2023-12-09T20:00:00\",\"2023-12-09T21:00:00\",\"2023-12-09T22:00:00\",\"2023-12-09T23:00:00\"],\"xaxis\":\"x\",\"y\":[65066.83772325515,62874.320461511605,61906.99021959304,61708.42643284797,62378.7151145935,63584.688356995575,65748.38755774497,68920.77446961401,72271.71421790122,74218.44171118735,74371.65869069098,72804.94126296042,70957.38277363776,71728.16734409331,72817.92528176306,72954.82366299628,73290.40393066405,73454.23946166037,73384.24108099936,72560.07197737692,70865.68531179427,68835.78784894942,67340.72567105292,66018.91226410864,63190.42470097541,60962.88567101955,59950.02799880504,59969.90521860122,60885.78567814826,62294.40583038329,64676.46093642711,67870.54866623877,71358.95645308493,73142.48406958579,73002.68529891966,71428.12813591956,69516.11500430106,70130.7613646984,70892.44183850287,71143.24389672278,71760.87748456,71864.84342002867,71632.84352707861,71005.12978339194,69581.58391451834,67823.92707705496,66878.62937426566,66135.20919656752,63249.498860359185,60949.28857588767,59635.995714187615,58788.382085442536,58598.04533147811,58862.604266762726,59969.398084640496,61581.29211711883,63738.428101301186,64733.8018091917,63948.28430247306,61795.007399320595,59471.29180312156,60044.471278429024,61094.75265812873,61590.981501936905,62370.444662809365,62599.47469592094,63134.90221607684,63272.458829402916,62854.15320277213,62257.96860265731,62185.67248833179,62102.8602913618],\"yaxis\":\"y\",\"type\":\"scatter\"},{\"hovertemplate\":\"variable=before\\u003cbr\\u003eindex=%{x}\\u003cbr\\u003evalue=%{y}\\u003cextra\\u003e\\u003c\\u002fextra\\u003e\",\"legendgroup\":\"before\",\"line\":{\"color\":\"#58a200\",\"dash\":\"solid\"},\"marker\":{\"symbol\":\"circle\"},\"mode\":\"lines\",\"name\":\"before\",\"orientation\":\"v\",\"showlegend\":true,\"x\":[\"2023-12-07T00:00:00\",\"2023-12-07T01:00:00\",\"2023-12-07T02:00:00\",\"2023-12-07T03:00:00\",\"2023-12-07T04:00:00\",\"2023-12-07T05:00:00\",\"2023-12-07T06:00:00\",\"2023-12-07T07:00:00\",\"2023-12-07T08:00:00\",\"2023-12-07T09:00:00\",\"2023-12-07T10:00:00\",\"2023-12-07T11:00:00\",\"2023-12-07T12:00:00\",\"2023-12-07T13:00:00\",\"2023-12-07T14:00:00\",\"2023-12-07T15:00:00\",\"2023-12-07T16:00:00\",\"2023-12-07T17:00:00\",\"2023-12-07T18:00:00\",\"2023-12-07T19:00:00\",\"2023-12-07T20:00:00\",\"2023-12-07T21:00:00\",\"2023-12-07T22:00:00\",\"2023-12-07T23:00:00\",\"2023-12-08T00:00:00\",\"2023-12-08T01:00:00\",\"2023-12-08T02:00:00\",\"2023-12-08T03:00:00\",\"2023-12-08T04:00:00\",\"2023-12-08T05:00:00\",\"2023-12-08T06:00:00\",\"2023-12-08T07:00:00\",\"2023-12-08T08:00:00\",\"2023-12-08T09:00:00\",\"2023-12-08T10:00:00\",\"2023-12-08T11:00:00\",\"2023-12-08T12:00:00\",\"2023-12-08T13:00:00\",\"2023-12-08T14:00:00\",\"2023-12-08T15:00:00\",\"2023-12-08T16:00:00\",\"2023-12-08T17:00:00\",\"2023-12-08T18:00:00\",\"2023-12-08T19:00:00\",\"2023-12-08T20:00:00\",\"2023-12-08T21:00:00\",\"2023-12-08T22:00:00\",\"2023-12-08T23:00:00\",\"2023-12-09T00:00:00\",\"2023-12-09T01:00:00\",\"2023-12-09T02:00:00\",\"2023-12-09T03:00:00\",\"2023-12-09T04:00:00\",\"2023-12-09T05:00:00\",\"2023-12-09T06:00:00\",\"2023-12-09T07:00:00\",\"2023-12-09T08:00:00\",\"2023-12-09T09:00:00\",\"2023-12-09T10:00:00\",\"2023-12-09T11:00:00\",\"2023-12-09T12:00:00\",\"2023-12-09T13:00:00\",\"2023-12-09T14:00:00\",\"2023-12-09T15:00:00\",\"2023-12-09T16:00:00\",\"2023-12-09T17:00:00\",\"2023-12-09T18:00:00\",\"2023-12-09T19:00:00\",\"2023-12-09T20:00:00\",\"2023-12-09T21:00:00\",\"2023-12-09T22:00:00\",\"2023-12-09T23:00:00\"],\"xaxis\":\"x\",\"y\":[65258.0,62896.0,61574.0,60846.0,61401.0,63110.0,66771.0,72352.0,78321.0,79102.0,78035.0,76932.0,73935.0,77542.0,78654.0,78458.0,77183.0,76318.0,75086.0,73795.0,71537.0,69344.0,69064.0,68276.0,64601.0,62225.0,60936.0,60404.0,61024.0,63026.0,66639.0,72031.0,77237.0,75894.0,72663.0,69201.0,64836.0,67861.0,70494.0,73157.0,75628.0,76629.0,75676.0,74210.0,71653.0,69472.0,69703.0,69046.0,65058.0,62339.0,60906.0,60270.0,60868.0,62531.0,66048.0,70836.0,75245.0,73484.0,69889.0,66684.0,62496.0,65118.0,67191.0,69633.0,71470.0,71789.0,70432.0,69246.0,67615.0,65755.0,66070.0,65415.0],\"yaxis\":\"y\",\"type\":\"scatter\"}],                        {\"template\":{\"data\":{\"barpolar\":[{\"marker\":{\"line\":{\"color\":\"rgb(17,17,17)\",\"width\":0.5},\"pattern\":{\"fillmode\":\"overlay\",\"size\":10,\"solidity\":0.2}},\"type\":\"barpolar\"}],\"bar\":[{\"error_x\":{\"color\":\"#f2f5fa\"},\"error_y\":{\"color\":\"#f2f5fa\"},\"marker\":{\"line\":{\"color\":\"rgb(17,17,17)\",\"width\":0.5},\"pattern\":{\"fillmode\":\"overlay\",\"size\":10,\"solidity\":0.2}},\"type\":\"bar\"}],\"carpet\":[{\"aaxis\":{\"endlinecolor\":\"#A2B1C6\",\"gridcolor\":\"#506784\",\"linecolor\":\"#506784\",\"minorgridcolor\":\"#506784\",\"startlinecolor\":\"#A2B1C6\"},\"baxis\":{\"endlinecolor\":\"#A2B1C6\",\"gridcolor\":\"#506784\",\"linecolor\":\"#506784\",\"minorgridcolor\":\"#506784\",\"startlinecolor\":\"#A2B1C6\"},\"type\":\"carpet\"}],\"choropleth\":[{\"colorbar\":{\"outlinewidth\":0,\"ticks\":\"\"},\"type\":\"choropleth\"}],\"contourcarpet\":[{\"colorbar\":{\"outlinewidth\":0,\"ticks\":\"\"},\"type\":\"contourcarpet\"}],\"contour\":[{\"colorbar\":{\"outlinewidth\":0,\"ticks\":\"\"},\"colorscale\":[[0.0,\"#0d0887\"],[0.1111111111111111,\"#46039f\"],[0.2222222222222222,\"#7201a8\"],[0.3333333333333333,\"#9c179e\"],[0.4444444444444444,\"#bd3786\"],[0.5555555555555556,\"#d8576b\"],[0.6666666666666666,\"#ed7953\"],[0.7777777777777778,\"#fb9f3a\"],[0.8888888888888888,\"#fdca26\"],[1.0,\"#f0f921\"]],\"type\":\"contour\"}],\"heatmapgl\":[{\"colorbar\":{\"outlinewidth\":0,\"ticks\":\"\"},\"colorscale\":[[0.0,\"#0d0887\"],[0.1111111111111111,\"#46039f\"],[0.2222222222222222,\"#7201a8\"],[0.3333333333333333,\"#9c179e\"],[0.4444444444444444,\"#bd3786\"],[0.5555555555555556,\"#d8576b\"],[0.6666666666666666,\"#ed7953\"],[0.7777777777777778,\"#fb9f3a\"],[0.8888888888888888,\"#fdca26\"],[1.0,\"#f0f921\"]],\"type\":\"heatmapgl\"}],\"heatmap\":[{\"colorbar\":{\"outlinewidth\":0,\"ticks\":\"\"},\"colorscale\":[[0.0,\"#0d0887\"],[0.1111111111111111,\"#46039f\"],[0.2222222222222222,\"#7201a8\"],[0.3333333333333333,\"#9c179e\"],[0.4444444444444444,\"#bd3786\"],[0.5555555555555556,\"#d8576b\"],[0.6666666666666666,\"#ed7953\"],[0.7777777777777778,\"#fb9f3a\"],[0.8888888888888888,\"#fdca26\"],[1.0,\"#f0f921\"]],\"type\":\"heatmap\"}],\"histogram2dcontour\":[{\"colorbar\":{\"outlinewidth\":0,\"ticks\":\"\"},\"colorscale\":[[0.0,\"#0d0887\"],[0.1111111111111111,\"#46039f\"],[0.2222222222222222,\"#7201a8\"],[0.3333333333333333,\"#9c179e\"],[0.4444444444444444,\"#bd3786\"],[0.5555555555555556,\"#d8576b\"],[0.6666666666666666,\"#ed7953\"],[0.7777777777777778,\"#fb9f3a\"],[0.8888888888888888,\"#fdca26\"],[1.0,\"#f0f921\"]],\"type\":\"histogram2dcontour\"}],\"histogram2d\":[{\"colorbar\":{\"outlinewidth\":0,\"ticks\":\"\"},\"colorscale\":[[0.0,\"#0d0887\"],[0.1111111111111111,\"#46039f\"],[0.2222222222222222,\"#7201a8\"],[0.3333333333333333,\"#9c179e\"],[0.4444444444444444,\"#bd3786\"],[0.5555555555555556,\"#d8576b\"],[0.6666666666666666,\"#ed7953\"],[0.7777777777777778,\"#fb9f3a\"],[0.8888888888888888,\"#fdca26\"],[1.0,\"#f0f921\"]],\"type\":\"histogram2d\"}],\"histogram\":[{\"marker\":{\"pattern\":{\"fillmode\":\"overlay\",\"size\":10,\"solidity\":0.2}},\"type\":\"histogram\"}],\"mesh3d\":[{\"colorbar\":{\"outlinewidth\":0,\"ticks\":\"\"},\"type\":\"mesh3d\"}],\"parcoords\":[{\"line\":{\"colorbar\":{\"outlinewidth\":0,\"ticks\":\"\"}},\"type\":\"parcoords\"}],\"pie\":[{\"automargin\":true,\"type\":\"pie\"}],\"scatter3d\":[{\"line\":{\"colorbar\":{\"outlinewidth\":0,\"ticks\":\"\"}},\"marker\":{\"colorbar\":{\"outlinewidth\":0,\"ticks\":\"\"}},\"type\":\"scatter3d\"}],\"scattercarpet\":[{\"marker\":{\"colorbar\":{\"outlinewidth\":0,\"ticks\":\"\"}},\"type\":\"scattercarpet\"}],\"scattergeo\":[{\"marker\":{\"colorbar\":{\"outlinewidth\":0,\"ticks\":\"\"}},\"type\":\"scattergeo\"}],\"scattergl\":[{\"marker\":{\"line\":{\"color\":\"#060606\"}},\"type\":\"scattergl\"}],\"scattermapbox\":[{\"marker\":{\"colorbar\":{\"outlinewidth\":0,\"ticks\":\"\"}},\"type\":\"scattermapbox\"}],\"scatterpolargl\":[{\"marker\":{\"colorbar\":{\"outlinewidth\":0,\"ticks\":\"\"}},\"type\":\"scatterpolargl\"}],\"scatterpolar\":[{\"marker\":{\"colorbar\":{\"outlinewidth\":0,\"ticks\":\"\"}},\"type\":\"scatterpolar\"}],\"scatter\":[{\"marker\":{\"line\":{\"color\":\"#060606\"}},\"type\":\"scatter\"}],\"scatterternary\":[{\"marker\":{\"colorbar\":{\"outlinewidth\":0,\"ticks\":\"\"}},\"type\":\"scatterternary\"}],\"surface\":[{\"colorbar\":{\"outlinewidth\":0,\"ticks\":\"\"},\"colorscale\":[[0.0,\"#0d0887\"],[0.1111111111111111,\"#46039f\"],[0.2222222222222222,\"#7201a8\"],[0.3333333333333333,\"#9c179e\"],[0.4444444444444444,\"#bd3786\"],[0.5555555555555556,\"#d8576b\"],[0.6666666666666666,\"#ed7953\"],[0.7777777777777778,\"#fb9f3a\"],[0.8888888888888888,\"#fdca26\"],[1.0,\"#f0f921\"]],\"type\":\"surface\"}],\"table\":[{\"cells\":{\"fill\":{\"color\":\"#506784\"},\"line\":{\"color\":\"rgb(17,17,17)\"}},\"header\":{\"fill\":{\"color\":\"#2a3f5f\"},\"line\":{\"color\":\"rgb(17,17,17)\"}},\"type\":\"table\"}]},\"layout\":{\"annotationdefaults\":{\"arrowcolor\":\"#f2f5fa\",\"arrowhead\":0,\"arrowwidth\":1,\"font\":{\"color\":\"#adafae\"}},\"autotypenumbers\":\"strict\",\"coloraxis\":{\"colorbar\":{\"outlinewidth\":0,\"ticks\":\"\"}},\"colorscale\":{\"diverging\":[[0,\"#8e0152\"],[0.1,\"#c51b7d\"],[0.2,\"#de77ae\"],[0.3,\"#f1b6da\"],[0.4,\"#fde0ef\"],[0.5,\"#f7f7f7\"],[0.6,\"#e6f5d0\"],[0.7,\"#b8e186\"],[0.8,\"#7fbc41\"],[0.9,\"#4d9221\"],[1,\"#276419\"]],\"sequential\":[[0.0,\"#2a9fd6\"],[0.1,\"#4098c6\"],[0.2,\"#5790b6\"],[0.30000000000000004,\"#6d89a6\"],[0.4,\"#838196\"],[0.5,\"#9a7a86\"],[0.6000000000000001,\"#b07276\"],[0.7000000000000001,\"#c66b66\"],[0.8,\"#dd6456\"],[0.9,\"#f35c46\"],[1.0,\"#ff5536\"]],\"sequentialminus\":[[0.0,\"#0d0887\"],[0.1111111111111111,\"#46039f\"],[0.2222222222222222,\"#7201a8\"],[0.3333333333333333,\"#9c179e\"],[0.4444444444444444,\"#bd3786\"],[0.5555555555555556,\"#d8576b\"],[0.6666666666666666,\"#ed7953\"],[0.7777777777777778,\"#fb9f3a\"],[0.8888888888888888,\"#fdca26\"],[1.0,\"#f0f921\"]]},\"colorway\":[\"#4b9ed6\",\"#c80004\",\"#58a200\",\"#ff9d24\",\"#a32acd\"],\"font\":{\"color\":\"#adafae\",\"family\":\"Roboto,-apple-system,BlinkMacSystemFont,\\\"Segoe UI\\\",\\\"Helvetica Neue\\\",Arial,sans-serif\"},\"geo\":{\"bgcolor\":\"#060606\",\"lakecolor\":\"#060606\",\"landcolor\":\"#060606\",\"showlakes\":true,\"showland\":true,\"subunitcolor\":\"#506784\"},\"hoverlabel\":{\"align\":\"left\",\"font\":{\"family\":\"Roboto,-apple-system,BlinkMacSystemFont,\\\"Segoe UI\\\",\\\"Helvetica Neue\\\",Arial,sans-serif\"}},\"hovermode\":\"closest\",\"mapbox\":{\"style\":\"dark\"},\"paper_bgcolor\":\"#282828\",\"piecolorway\":[\"#4b9ed6\",\"#c80004\",\"#58a200\",\"#ff9d24\",\"#a32acd\"],\"plot_bgcolor\":\"#060606\",\"polar\":{\"angularaxis\":{\"gridcolor\":\"#506784\",\"linecolor\":\"#506784\",\"ticks\":\"\"},\"bgcolor\":\"rgb(17,17,17)\",\"radialaxis\":{\"gridcolor\":\"#506784\",\"linecolor\":\"#506784\",\"ticks\":\"\"}},\"scene\":{\"xaxis\":{\"backgroundcolor\":\"rgb(17,17,17)\",\"gridcolor\":\"#506784\",\"gridwidth\":2,\"linecolor\":\"#506784\",\"showbackground\":true,\"ticks\":\"\",\"zerolinecolor\":\"#C8D4E3\"},\"yaxis\":{\"backgroundcolor\":\"rgb(17,17,17)\",\"gridcolor\":\"#506784\",\"gridwidth\":2,\"linecolor\":\"#506784\",\"showbackground\":true,\"ticks\":\"\",\"zerolinecolor\":\"#C8D4E3\"},\"zaxis\":{\"backgroundcolor\":\"rgb(17,17,17)\",\"gridcolor\":\"#506784\",\"gridwidth\":2,\"linecolor\":\"#506784\",\"showbackground\":true,\"ticks\":\"\",\"zerolinecolor\":\"#C8D4E3\"}},\"shapedefaults\":{\"line\":{\"color\":\"#f2f5fa\"}},\"sliderdefaults\":{\"bgcolor\":\"#C8D4E3\",\"bordercolor\":\"rgb(17,17,17)\",\"borderwidth\":1,\"tickwidth\":0},\"ternary\":{\"aaxis\":{\"gridcolor\":\"#506784\",\"linecolor\":\"#506784\",\"ticks\":\"\"},\"baxis\":{\"gridcolor\":\"#506784\",\"linecolor\":\"#506784\",\"ticks\":\"\"},\"bgcolor\":\"rgb(17,17,17)\",\"caxis\":{\"gridcolor\":\"#506784\",\"linecolor\":\"#506784\",\"ticks\":\"\"}},\"title\":{\"x\":0.05},\"updatemenudefaults\":{\"bgcolor\":\"#506784\",\"borderwidth\":0},\"xaxis\":{\"automargin\":true,\"gridcolor\":\"#131413\",\"gridwidth\":0.5,\"linecolor\":\"#506784\",\"ticks\":\"\",\"title\":{\"standoff\":15},\"zerolinecolor\":\"#131413\",\"zerolinewidth\":2},\"yaxis\":{\"automargin\":true,\"gridcolor\":\"#131413\",\"gridwidth\":0.5,\"linecolor\":\"#506784\",\"ticks\":\"\",\"title\":{\"standoff\":15},\"zerolinecolor\":\"#131413\",\"zerolinewidth\":2}}},\"xaxis\":{\"anchor\":\"y\",\"domain\":[0.0,1.0],\"title\":{\"text\":\"index\"}},\"yaxis\":{\"anchor\":\"x\",\"domain\":[0.0,1.0],\"title\":{\"text\":\"value\"},\"range\":[0,120000]},\"legend\":{\"title\":{\"text\":\"variable\"},\"tracegroupgap\":0},\"margin\":{\"t\":60},\"height\":600},                        {\"responsive\": true}                    ).then(function(){\n",
       "                            \n",
       "var gd = document.getElementById('5115a3aa-41f5-4837-8946-dabe48b8f8c7');\n",
       "var x = new MutationObserver(function (mutations, observer) {{\n",
       "        var display = window.getComputedStyle(gd).display;\n",
       "        if (!display || display === 'none') {{\n",
       "            console.log([gd, 'removed!']);\n",
       "            Plotly.purge(gd);\n",
       "            observer.disconnect();\n",
       "        }}\n",
       "}});\n",
       "\n",
       "// Listen for the removal of the full notebook cells\n",
       "var notebookContainer = gd.closest('#notebook-container');\n",
       "if (notebookContainer) {{\n",
       "    x.observe(notebookContainer, {childList: true});\n",
       "}}\n",
       "\n",
       "// Listen for the clearing of the current output cell\n",
       "var outputEl = gd.closest('.output');\n",
       "if (outputEl) {{\n",
       "    x.observe(outputEl, {childList: true});\n",
       "}}\n",
       "\n",
       "                        })                };                });            </script>        </div>"
      ]
     },
     "metadata": {},
     "output_type": "display_data"
    }
   ],
   "source": [
    "import plotly.express as px\n",
    "from dash_bootstrap_templates import load_figure_template\n",
    "load_figure_template([\"minty\",  \"minty_dark\", 'cyborg', 'cyborg_dark'])\n",
    "\n",
    "start_date = '2023-12-07'\n",
    "end_date = '2023-12-09'\n",
    "\n",
    "data = actual_predicted_df.loc[start_date:end_date]\n",
    "fig = px.line( data[['actual', 'predicted', 'before']], markers=False, template='cyborg', height=600)\n",
    "fig.update_layout(yaxis_range=[0, 120000])\n",
    "fig.show()"
   ]
  },
  {
   "cell_type": "code",
   "execution_count": null,
   "id": "a5bd0c58-2e24-4169-80fb-9320a95c7c61",
   "metadata": {},
   "outputs": [],
   "source": []
  },
  {
   "cell_type": "code",
   "execution_count": null,
   "id": "6544df2e-105d-4674-8215-705235186457",
   "metadata": {},
   "outputs": [],
   "source": []
  },
  {
   "cell_type": "code",
   "execution_count": 16,
   "id": "6b50d579-c9a2-44ce-9686-e4fcba5c91fc",
   "metadata": {
    "scrolled": true
   },
   "outputs": [
    {
     "name": "stderr",
     "output_type": "stream",
     "text": [
      "GPU available: True (mps), used: True\n",
      "TPU available: False, using: 0 TPU cores\n",
      "HPU available: False, using: 0 HPUs\n",
      "/Library/Frameworks/Python.framework/Versions/3.12/lib/python3.12/site-packages/lightning/pytorch/loops/utilities.py:72: `max_epochs` was not set. Setting it to 1000 epochs. To train without an epoch limit, set `max_epochs=-1`.\n",
      "/var/folders/r5/124yntwj1n7_xfgvd8f6pzv40000gn/T/ipykernel_1575/4177544575.py:35: SettingWithCopyWarning: \n",
      "A value is trying to be set on a copy of a slice from a DataFrame.\n",
      "Try using .loc[row_indexer,col_indexer] = value instead\n",
      "\n",
      "See the caveats in the documentation: https://pandas.pydata.org/pandas-docs/stable/user_guide/indexing.html#returning-a-view-versus-a-copy\n",
      "  self.train_data.demand = self.transformer_demand.transform(self.train_data[['demand']])\n",
      "/Library/Frameworks/Python.framework/Versions/3.12/lib/python3.12/site-packages/lightning/pytorch/trainer/connectors/data_connector.py:424: The 'train_dataloader' does not have many workers which may be a bottleneck. Consider increasing the value of the `num_workers` argument` to `num_workers=7` in the `DataLoader` to improve performance.\n",
      "/var/folders/r5/124yntwj1n7_xfgvd8f6pzv40000gn/T/ipykernel_1575/4177544575.py:38: SettingWithCopyWarning: \n",
      "A value is trying to be set on a copy of a slice from a DataFrame.\n",
      "Try using .loc[row_indexer,col_indexer] = value instead\n",
      "\n",
      "See the caveats in the documentation: https://pandas.pydata.org/pandas-docs/stable/user_guide/indexing.html#returning-a-view-versus-a-copy\n",
      "  self.val_data.demand = self.transformer_demand.transform(self.val_data[['demand']])\n",
      "/Library/Frameworks/Python.framework/Versions/3.12/lib/python3.12/site-packages/lightning/pytorch/trainer/connectors/data_connector.py:424: The 'val_dataloader' does not have many workers which may be a bottleneck. Consider increasing the value of the `num_workers` argument` to `num_workers=7` in the `DataLoader` to improve performance.\n"
     ]
    },
    {
     "data": {
      "application/vnd.jupyter.widget-view+json": {
       "model_id": "86fdb191acbb4379a9b5e63f9f054e90",
       "version_major": 2,
       "version_minor": 0
      },
      "text/plain": [
       "Finding best initial lr:   0%|          | 0/100 [00:00<?, ?it/s]"
      ]
     },
     "metadata": {},
     "output_type": "display_data"
    },
    {
     "name": "stderr",
     "output_type": "stream",
     "text": [
      "LR finder stopped early after 93 steps due to diverging loss.\n",
      "Learning rate set to 5.75439937337157e-07\n",
      "Restoring states from the checkpoint path at /Volumes/WorkSpace/PythonProjects/timeSerise/.lr_find_08c518dc-fdc9-4080-a3e8-5bfb14b513ac.ckpt\n",
      "Restored all states from the checkpoint at /Volumes/WorkSpace/PythonProjects/timeSerise/.lr_find_08c518dc-fdc9-4080-a3e8-5bfb14b513ac.ckpt\n"
     ]
    },
    {
     "name": "stdout",
     "output_type": "stream",
     "text": [
      "{'lr': [1e-08, 1.4454397707459274e-08, 1.7378008287493753e-08, 2.0892961308540398e-08, 2.51188643150958e-08, 3.019951720402016e-08, 3.630780547701014e-08, 4.36515832240166e-08, 5.248074602497726e-08, 6.309573444801934e-08, 7.585775750291837e-08, 9.120108393559096e-08, 1.0964781961431852e-07, 1.3182567385564074e-07, 1.5848931924611133e-07, 1.9054607179632475e-07, 2.2908676527677735e-07, 2.7542287033381663e-07, 3.311311214825911e-07, 3.9810717055349735e-07, 4.786300923226383e-07, 5.75439937337157e-07, 6.918309709189366e-07, 8.317637711026709e-07, 1e-06, 1.2022644346174132e-06, 1.445439770745928e-06, 1.7378008287493761e-06, 2.089296130854039e-06, 2.5118864315095797e-06, 3.0199517204020163e-06, 3.630780547701014e-06, 4.365158322401661e-06, 5.248074602497728e-06, 6.3095734448019305e-06, 7.585775750291836e-06, 9.120108393559096e-06, 1.0964781961431852e-05, 1.3182567385564076e-05, 1.584893192461114e-05, 1.9054607179632464e-05, 2.2908676527677725e-05, 2.7542287033381663e-05, 3.311311214825911e-05, 3.9810717055349735e-05, 4.786300923226385e-05, 5.7543993733715664e-05, 6.918309709189363e-05, 8.317637711026709e-05, 0.0001, 0.00012022644346174131, 0.0001445439770745928, 0.00017378008287493763, 0.0002089296130854041, 0.0002511886431509582, 0.0003019951720402019, 0.000363078054770101, 0.0004365158322401656, 0.0005248074602497723, 0.000630957344480193, 0.0007585775750291836, 0.0009120108393559097, 0.0010964781961431851, 0.0013182567385564075, 0.001584893192461114, 0.0019054607179632484, 0.0022908676527677745, 0.002754228703338169, 0.003311311214825908, 0.003981071705534969, 0.00478630092322638, 0.005754399373371567, 0.006918309709189364, 0.008317637711026709, 0.01, 0.012022644346174132, 0.01445439770745928, 0.017378008287493765, 0.02089296130854041, 0.025118864315095822, 0.030199517204020192, 0.036307805477010104, 0.04365158322401657, 0.05248074602497723, 0.0630957344480193, 0.07585775750291836, 0.09120108393559097, 0.10964781961431852, 0.13182567385564073, 0.15848931924611143, 0.19054607179632482, 0.2290867652767775, 0.2754228703338169], 'loss': [0.057218039427140675, 0.10500055259019393, 0.0934930977217496, 0.10762291971694904, 0.11577492846967184, 0.12011965813421895, 0.12410354728885223, 0.12145395827185622, 0.12273921488738344, 0.12013551072586025, 0.11802691478116202, 0.11805773005047426, 0.11557715025918792, 0.11494296161675342, 0.11277837910108576, 0.11060250526879403, 0.11089849550872925, 0.10932858487791411, 0.10839829380253567, 0.10643882358253655, 0.10464501851256901, 0.1022675640977021, 0.09944913311088846, 0.0979106325478556, 0.09550597261848984, 0.09336454798103848, 0.09176542681916995, 0.09038904634630589, 0.09022554692662914, 0.08909815177566009, 0.08873035384525768, 0.08864035928180476, 0.0881883020153587, 0.08920938800850631, 0.08878620522094849, 0.08895736207692555, 0.088734138037866, 0.08798993324804402, 0.08898636440038085, 0.08880670189086265, 0.08951615046658233, 0.08916507372832089, 0.08803727392475882, 0.08704167247025493, 0.08539883510748694, 0.08546757547013073, 0.08475101691349901, 0.08320007487080562, 0.08214503015670124, 0.08014898083422332, 0.07818387971678706, 0.07703038292856079, 0.07658605950187432, 0.07607200824937196, 0.07674497430923508, 0.0820909632403287, 0.08347025720185652, 0.08312170562782255, 0.08169381342469248, 0.07995807246528712, 0.0780266035769371, 0.07644171103665656, 0.07602323830330797, 0.07597273982116237, 0.07479459037968317, 0.07299580674271616, 0.07230522448131657, 0.07143795819492102, 0.06976309344142681, 0.0686521362832824, 0.06865139584641355, 0.06712821502890588, 0.06668787920262537, 0.06534944431729905, 0.06477056103292562, 0.06449917934913145, 0.06332567125123068, 0.06301433018773758, 0.06175529770248548, 0.06230259102889093, 0.061238284946655466, 0.05992098432630842, 0.05925152259385752, 0.05810152137231625, 0.05809699264397414, 0.06439657590728853, 0.06411602820607888, 0.06468310365056303, 0.06423062815325742, 0.06479303570622909, 0.09674152306169685, 0.12103366588375364, 4.054712587495632]}\n"
     ]
    }
   ],
   "source": [
    "from lightning.pytorch.tuner import Tuner\n",
    "\n",
    "trainer = L.Trainer( accelerator='mps', devices=1)\n",
    "tuner = Tuner(trainer)\n",
    "lr_finder = tuner.lr_find(model, dm)\n",
    "print(lr_finder.results)"
   ]
  },
  {
   "cell_type": "code",
   "execution_count": 17,
   "id": "e25e087f-51ee-4b49-a698-fa88d15b2eeb",
   "metadata": {},
   "outputs": [
    {
     "name": "stdout",
     "output_type": "stream",
     "text": [
      "5.75439937337157e-07\n"
     ]
    }
   ],
   "source": [
    "new_lr = lr_finder.suggestion()\n",
    "print(new_lr)"
   ]
  },
  {
   "cell_type": "code",
   "execution_count": 18,
   "id": "7398a00f-d919-479f-bbcf-83226e136750",
   "metadata": {},
   "outputs": [
    {
     "name": "stderr",
     "output_type": "stream",
     "text": [
      "/var/folders/r5/124yntwj1n7_xfgvd8f6pzv40000gn/T/ipykernel_1575/1529364680.py:2: UserWarning: FigureCanvasAgg is non-interactive, and thus cannot be shown\n",
      "  fig.show()\n"
     ]
    },
    {
     "data": {
      "image/png": "[encoded data removed]",
      "text/plain": [
       "<Figure size 640x480 with 1 Axes>"
      ]
     },
     "metadata": {},
     "output_type": "display_data"
    }
   ],
   "source": [
    "fig = lr_finder.plot(suggest=True)\n",
    "fig.show()"
   ]
  },
  {
   "cell_type": "code",
   "execution_count": null,
   "id": "2dcf8131-8ce4-49ab-83d9-908c2a955b28",
   "metadata": {},
   "outputs": [],
   "source": []
  },
  {
   "cell_type": "code",
   "execution_count": null,
   "id": "0b8338b5-316e-4cd8-b1ad-e7090b2f6c54",
   "metadata": {},
   "outputs": [],
   "source": []
  }
 ],
 "metadata": {
  "kernelspec": {
   "display_name": "Python 3 (ipykernel)",
   "language": "python",
   "name": "python3"
  },
  "language_info": {
   "codemirror_mode": {
    "name": "ipython",
    "version": 3
   },
   "file_extension": ".py",
   "mimetype": "text/x-python",
   "name": "python",
   "nbconvert_exporter": "python",
   "pygments_lexer": "ipython3",
   "version": "3.12.7"
  }
 },
 "nbformat": 4,
 "nbformat_minor": 5
}

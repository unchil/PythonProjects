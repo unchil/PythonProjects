{
 "cells": [
  {
   "cell_type": "code",
   "execution_count": 6,
   "id": "e9366638-10b2-481a-9781-c4ad53d050a4",
   "metadata": {},
   "outputs": [],
   "source": [
    "import pandas as pd\n",
    "import numpy as np\n",
    "import gc"
   ]
  },
  {
   "cell_type": "code",
   "execution_count": 7,
   "id": "2d9861a2-467a-420a-8550-e85b4491e6d0",
   "metadata": {},
   "outputs": [],
   "source": [
    "file_dir = '/Volumes/Data/Row_Data/AWS시간별관측정보'\n",
    "file_2203_2209 = 'AWS시간별관측정보_202203-202209.xlsx'\n",
    "file_2210_2301 = 'AWS시간별관측정보_202210-202301.xlsx'\n",
    "file_2302_2307 = 'AWS시간별관측정보_202302-202307.csv'\n",
    "file_2308_2401 = 'AWS시간별관측정보_202308-202401.csv'\n",
    "\n",
    "\n",
    "url_2203_2209 = f'{file_dir}/{file_2203_2209}'\n",
    "url_2210_2301 = f'{file_dir}/{file_2210_2301}'\n",
    "url_2302_2307 = f'{file_dir}/{file_2302_2307}'\n",
    "url_2308_2401 = f'{file_dir}/{file_2308_2401}'\n",
    "\n",
    "url_list = [url_2203_2209, url_2210_2301, url_2302_2307, url_2308_2401]\n"
   ]
  },
  {
   "cell_type": "code",
   "execution_count": 8,
   "id": "f45be4b6-3675-49e4-8850-5c4cee87bbc8",
   "metadata": {},
   "outputs": [],
   "source": [
    "columns = ['번호', '시군명', '시군코드', '지점번호', '지점명', '법정동명', '관측일자', '관측시간', 'WGS84위도',\n",
    "       'WGS84경도', '고도', '풍향', '풍속', '기온', '습도', '현지기압', '해면기압', '강수감지',\n",
    "       '시간누적강우량', '일누적강우량', '데이터수집일자']\n",
    "\n",
    "columns_new = ['관측일자', '관측시간', '기온']"
   ]
  },
  {
   "cell_type": "code",
   "execution_count": 9,
   "id": "63fa601c-c384-474d-a7bb-32170dc26cf6",
   "metadata": {},
   "outputs": [
    {
     "name": "stderr",
     "output_type": "stream",
     "text": [
      "/Library/Frameworks/Python.framework/Versions/3.12/lib/python3.12/site-packages/openpyxl/styles/stylesheet.py:237: UserWarning: Workbook contains no default style, apply openpyxl's default\n",
      "  warn(\"Workbook contains no default style, apply openpyxl's default\")\n"
     ]
    }
   ],
   "source": [
    "df1 = pd.read_excel(url_2203_2209)\n",
    "df2 = pd.read_excel(url_2210_2301)\n",
    "df2.columns=columns\n",
    "df3 = pd.read_csv(url_2302_2307, encoding='euc-kr')\n",
    "df4 = pd.read_csv(url_2308_2401, encoding='euc-kr')"
   ]
  },
  {
   "cell_type": "code",
   "execution_count": 10,
   "id": "395fd478-740c-4c5a-90a8-528fd17984ed",
   "metadata": {
    "scrolled": true
   },
   "outputs": [
    {
     "data": {
      "text/plain": [
       "2229824"
      ]
     },
     "execution_count": 10,
     "metadata": {},
     "output_type": "execute_result"
    }
   ],
   "source": [
    "sum([df1.shape[0], df2.shape[0], df3.shape[0], df4.shape[0]])"
   ]
  },
  {
   "cell_type": "code",
   "execution_count": 35,
   "id": "8e58617b-c750-4883-8445-55c87acbca60",
   "metadata": {},
   "outputs": [
    {
     "name": "stdout",
     "output_type": "stream",
     "text": [
      "<class 'pandas.core.frame.DataFrame'>\n",
      "RangeIndex: 2229824 entries, 0 to 2229823\n",
      "Data columns (total 3 columns):\n",
      " #   Column  Dtype  \n",
      "---  ------  -----  \n",
      " 0   관측일자    int64  \n",
      " 1   관측시간    int64  \n",
      " 2   기온      float64\n",
      "dtypes: float64(1), int64(2)\n",
      "memory usage: 51.0 MB\n"
     ]
    }
   ],
   "source": [
    "df = pd.concat([df1[columns_new], df2[columns_new], df3[columns_new], df4[columns_new]], ignore_index=True)\n",
    "df.info()"
   ]
  },
  {
   "cell_type": "code",
   "execution_count": 36,
   "id": "4fcb78cf-10db-4b97-b686-6215cb80d93b",
   "metadata": {},
   "outputs": [
    {
     "name": "stdout",
     "output_type": "stream",
     "text": [
      "<class 'pandas.core.series.Series'>\n",
      "RangeIndex: 2229824 entries, 0 to 2229823\n",
      "Series name: 기온\n",
      "Non-Null Count    Dtype  \n",
      "--------------    -----  \n",
      "2229824 non-null  float64\n",
      "dtypes: float64(1)\n",
      "memory usage: 17.0 MB\n"
     ]
    }
   ],
   "source": [
    "df.기온.info()"
   ]
  },
  {
   "cell_type": "code",
   "execution_count": 37,
   "id": "5d648680-6d10-4207-a6f8-399f9f177c0a",
   "metadata": {},
   "outputs": [
    {
     "name": "stdout",
     "output_type": "stream",
     "text": [
      "-999.0 39.3\n"
     ]
    }
   ],
   "source": [
    "print( df.기온.min(), df.기온.max() )"
   ]
  },
  {
   "cell_type": "code",
   "execution_count": 38,
   "id": "9f59da28-24e3-43a7-aa6f-545ded789c75",
   "metadata": {},
   "outputs": [
    {
     "data": {
      "text/plain": [
       "9         -999.0\n",
       "10        -999.0\n",
       "11        -999.0\n",
       "12        -999.0\n",
       "14        -999.0\n",
       "           ...  \n",
       "2211793   -996.0\n",
       "2214829   -992.0\n",
       "2214965   -992.0\n",
       "2215093   -992.0\n",
       "2215221   -992.0\n",
       "Name: 기온, Length: 97131, dtype: float64"
      ]
     },
     "execution_count": 38,
     "metadata": {},
     "output_type": "execute_result"
    }
   ],
   "source": [
    "df.loc[df.기온 < -23, '기온']"
   ]
  },
  {
   "cell_type": "code",
   "execution_count": 39,
   "id": "bfea9620-4771-429d-a2a2-ab268867a4ea",
   "metadata": {},
   "outputs": [
    {
     "data": {
      "text/html": [
       "<div>\n",
       "<style scoped>\n",
       "    .dataframe tbody tr th:only-of-type {\n",
       "        vertical-align: middle;\n",
       "    }\n",
       "\n",
       "    .dataframe tbody tr th {\n",
       "        vertical-align: top;\n",
       "    }\n",
       "\n",
       "    .dataframe thead th {\n",
       "        text-align: right;\n",
       "    }\n",
       "</style>\n",
       "<table border=\"1\" class=\"dataframe\">\n",
       "  <thead>\n",
       "    <tr style=\"text-align: right;\">\n",
       "      <th></th>\n",
       "      <th>관측일자</th>\n",
       "      <th>관측시간</th>\n",
       "      <th>기온</th>\n",
       "    </tr>\n",
       "  </thead>\n",
       "  <tbody>\n",
       "    <tr>\n",
       "      <th>0</th>\n",
       "      <td>20220301</td>\n",
       "      <td>0</td>\n",
       "      <td>1.3</td>\n",
       "    </tr>\n",
       "    <tr>\n",
       "      <th>1</th>\n",
       "      <td>20220301</td>\n",
       "      <td>0</td>\n",
       "      <td>-1.7</td>\n",
       "    </tr>\n",
       "    <tr>\n",
       "      <th>2</th>\n",
       "      <td>20220301</td>\n",
       "      <td>0</td>\n",
       "      <td>2.5</td>\n",
       "    </tr>\n",
       "    <tr>\n",
       "      <th>3</th>\n",
       "      <td>20220301</td>\n",
       "      <td>0</td>\n",
       "      <td>1.1</td>\n",
       "    </tr>\n",
       "    <tr>\n",
       "      <th>4</th>\n",
       "      <td>20220301</td>\n",
       "      <td>0</td>\n",
       "      <td>3.1</td>\n",
       "    </tr>\n",
       "    <tr>\n",
       "      <th>...</th>\n",
       "      <td>...</td>\n",
       "      <td>...</td>\n",
       "      <td>...</td>\n",
       "    </tr>\n",
       "    <tr>\n",
       "      <th>2229819</th>\n",
       "      <td>20230801</td>\n",
       "      <td>0</td>\n",
       "      <td>24.2</td>\n",
       "    </tr>\n",
       "    <tr>\n",
       "      <th>2229820</th>\n",
       "      <td>20230801</td>\n",
       "      <td>0</td>\n",
       "      <td>24.9</td>\n",
       "    </tr>\n",
       "    <tr>\n",
       "      <th>2229821</th>\n",
       "      <td>20230801</td>\n",
       "      <td>0</td>\n",
       "      <td>26.2</td>\n",
       "    </tr>\n",
       "    <tr>\n",
       "      <th>2229822</th>\n",
       "      <td>20230801</td>\n",
       "      <td>0</td>\n",
       "      <td>25.4</td>\n",
       "    </tr>\n",
       "    <tr>\n",
       "      <th>2229823</th>\n",
       "      <td>20230801</td>\n",
       "      <td>0</td>\n",
       "      <td>25.2</td>\n",
       "    </tr>\n",
       "  </tbody>\n",
       "</table>\n",
       "<p>2229824 rows × 3 columns</p>\n",
       "</div>"
      ],
      "text/plain": [
       "             관측일자  관측시간    기온\n",
       "0        20220301     0   1.3\n",
       "1        20220301     0  -1.7\n",
       "2        20220301     0   2.5\n",
       "3        20220301     0   1.1\n",
       "4        20220301     0   3.1\n",
       "...           ...   ...   ...\n",
       "2229819  20230801     0  24.2\n",
       "2229820  20230801     0  24.9\n",
       "2229821  20230801     0  26.2\n",
       "2229822  20230801     0  25.4\n",
       "2229823  20230801     0  25.2\n",
       "\n",
       "[2229824 rows x 3 columns]"
      ]
     },
     "execution_count": 39,
     "metadata": {},
     "output_type": "execute_result"
    }
   ],
   "source": [
    "df.loc[df.기온 < -23, '기온'] = pd.NA\n",
    "df"
   ]
  },
  {
   "cell_type": "code",
   "execution_count": 40,
   "id": "487534f3-afc7-4d6a-a89b-1a3b77ed7973",
   "metadata": {},
   "outputs": [
    {
     "name": "stdout",
     "output_type": "stream",
     "text": [
      "-22.8 39.3\n",
      "<class 'pandas.core.series.Series'>\n",
      "RangeIndex: 2229824 entries, 0 to 2229823\n",
      "Series name: 기온\n",
      "Non-Null Count    Dtype  \n",
      "--------------    -----  \n",
      "2132693 non-null  float64\n",
      "dtypes: float64(1)\n",
      "memory usage: 17.0 MB\n"
     ]
    }
   ],
   "source": [
    "print( df.기온.min(), df.기온.max() )\n",
    "df.기온.info()"
   ]
  },
  {
   "cell_type": "code",
   "execution_count": 45,
   "id": "3335883f-8375-4771-b33e-886f8df7573d",
   "metadata": {},
   "outputs": [
    {
     "data": {
      "text/html": [
       "<div>\n",
       "<style scoped>\n",
       "    .dataframe tbody tr th:only-of-type {\n",
       "        vertical-align: middle;\n",
       "    }\n",
       "\n",
       "    .dataframe tbody tr th {\n",
       "        vertical-align: top;\n",
       "    }\n",
       "\n",
       "    .dataframe thead th {\n",
       "        text-align: right;\n",
       "    }\n",
       "</style>\n",
       "<table border=\"1\" class=\"dataframe\">\n",
       "  <thead>\n",
       "    <tr style=\"text-align: right;\">\n",
       "      <th></th>\n",
       "      <th>관측일자</th>\n",
       "      <th>관측시간</th>\n",
       "      <th>기온</th>\n",
       "    </tr>\n",
       "  </thead>\n",
       "  <tbody>\n",
       "  </tbody>\n",
       "</table>\n",
       "</div>"
      ],
      "text/plain": [
       "Empty DataFrame\n",
       "Columns: [관측일자, 관측시간, 기온]\n",
       "Index: []"
      ]
     },
     "execution_count": 45,
     "metadata": {},
     "output_type": "execute_result"
    }
   ],
   "source": [
    "df.loc[df.기온.isna()]"
   ]
  },
  {
   "cell_type": "code",
   "execution_count": 44,
   "id": "b53c2ebf-9e2e-42b2-982e-892285ee8145",
   "metadata": {},
   "outputs": [
    {
     "name": "stdout",
     "output_type": "stream",
     "text": [
      "<class 'pandas.core.frame.DataFrame'>\n",
      "Index: 2132693 entries, 0 to 2229823\n",
      "Data columns (total 3 columns):\n",
      " #   Column  Dtype  \n",
      "---  ------  -----  \n",
      " 0   관측일자    int64  \n",
      " 1   관측시간    int64  \n",
      " 2   기온      float64\n",
      "dtypes: float64(1), int64(2)\n",
      "memory usage: 65.1 MB\n"
     ]
    }
   ],
   "source": [
    "df.dropna(axis=0, inplace=True)\n",
    "df.info()"
   ]
  },
  {
   "cell_type": "code",
   "execution_count": 46,
   "id": "d60e9118-7b62-4c3c-a657-5a4726e9b025",
   "metadata": {},
   "outputs": [
    {
     "data": {
      "text/html": [
       "<div>\n",
       "<style scoped>\n",
       "    .dataframe tbody tr th:only-of-type {\n",
       "        vertical-align: middle;\n",
       "    }\n",
       "\n",
       "    .dataframe tbody tr th {\n",
       "        vertical-align: top;\n",
       "    }\n",
       "\n",
       "    .dataframe thead th {\n",
       "        text-align: right;\n",
       "    }\n",
       "</style>\n",
       "<table border=\"1\" class=\"dataframe\">\n",
       "  <thead>\n",
       "    <tr style=\"text-align: right;\">\n",
       "      <th></th>\n",
       "      <th>관측일자</th>\n",
       "      <th>관측시간</th>\n",
       "      <th>기온</th>\n",
       "    </tr>\n",
       "  </thead>\n",
       "  <tbody>\n",
       "    <tr>\n",
       "      <th>0</th>\n",
       "      <td>20220301</td>\n",
       "      <td>0</td>\n",
       "      <td>1.3</td>\n",
       "    </tr>\n",
       "    <tr>\n",
       "      <th>1</th>\n",
       "      <td>20220301</td>\n",
       "      <td>0</td>\n",
       "      <td>-1.7</td>\n",
       "    </tr>\n",
       "    <tr>\n",
       "      <th>2</th>\n",
       "      <td>20220301</td>\n",
       "      <td>0</td>\n",
       "      <td>2.5</td>\n",
       "    </tr>\n",
       "    <tr>\n",
       "      <th>3</th>\n",
       "      <td>20220301</td>\n",
       "      <td>0</td>\n",
       "      <td>1.1</td>\n",
       "    </tr>\n",
       "    <tr>\n",
       "      <th>4</th>\n",
       "      <td>20220301</td>\n",
       "      <td>0</td>\n",
       "      <td>3.1</td>\n",
       "    </tr>\n",
       "    <tr>\n",
       "      <th>...</th>\n",
       "      <td>...</td>\n",
       "      <td>...</td>\n",
       "      <td>...</td>\n",
       "    </tr>\n",
       "    <tr>\n",
       "      <th>2132688</th>\n",
       "      <td>20240131</td>\n",
       "      <td>23</td>\n",
       "      <td>3.3</td>\n",
       "    </tr>\n",
       "    <tr>\n",
       "      <th>2132689</th>\n",
       "      <td>20240131</td>\n",
       "      <td>23</td>\n",
       "      <td>0.6</td>\n",
       "    </tr>\n",
       "    <tr>\n",
       "      <th>2132690</th>\n",
       "      <td>20240131</td>\n",
       "      <td>23</td>\n",
       "      <td>-0.3</td>\n",
       "    </tr>\n",
       "    <tr>\n",
       "      <th>2132691</th>\n",
       "      <td>20240131</td>\n",
       "      <td>23</td>\n",
       "      <td>-2.4</td>\n",
       "    </tr>\n",
       "    <tr>\n",
       "      <th>2132692</th>\n",
       "      <td>20240131</td>\n",
       "      <td>23</td>\n",
       "      <td>3.5</td>\n",
       "    </tr>\n",
       "  </tbody>\n",
       "</table>\n",
       "<p>2132693 rows × 3 columns</p>\n",
       "</div>"
      ],
      "text/plain": [
       "             관측일자  관측시간   기온\n",
       "0        20220301     0  1.3\n",
       "1        20220301     0 -1.7\n",
       "2        20220301     0  2.5\n",
       "3        20220301     0  1.1\n",
       "4        20220301     0  3.1\n",
       "...           ...   ...  ...\n",
       "2132688  20240131    23  3.3\n",
       "2132689  20240131    23  0.6\n",
       "2132690  20240131    23 -0.3\n",
       "2132691  20240131    23 -2.4\n",
       "2132692  20240131    23  3.5\n",
       "\n",
       "[2132693 rows x 3 columns]"
      ]
     },
     "execution_count": 46,
     "metadata": {},
     "output_type": "execute_result"
    }
   ],
   "source": [
    "df = df.sort_values(by=['관측일자', '관측시간'], ascending=True)\n",
    "df.reset_index(inplace=True)\n",
    "df = df.drop([\"index\"], axis=1)\n",
    "df"
   ]
  },
  {
   "cell_type": "code",
   "execution_count": 47,
   "id": "17865f90-0b9b-4a53-9bd1-a3a5192fbeee",
   "metadata": {
    "scrolled": true
   },
   "outputs": [
    {
     "data": {
      "text/plain": [
       "120"
      ]
     },
     "execution_count": 47,
     "metadata": {},
     "output_type": "execute_result"
    }
   ],
   "source": [
    "del df1\n",
    "del df2\n",
    "del df3\n",
    "del df4\n",
    "gc.collect()"
   ]
  },
  {
   "cell_type": "code",
   "execution_count": 48,
   "id": "f21d275c-2eda-40b7-80b1-aa023898d49d",
   "metadata": {},
   "outputs": [
    {
     "name": "stderr",
     "output_type": "stream",
     "text": [
      "/var/folders/r5/124yntwj1n7_xfgvd8f6pzv40000gn/T/ipykernel_2400/2765408327.py:1: FutureWarning: Series.__getitem__ treating keys as positions is deprecated. In a future version, integer keys will always be treated as labels (consistent with DataFrame behavior). To access a value by position, use `ser.iloc[pos]`\n",
      "  df['date_time'] = df.loc[ :, ['관측일자', '관측시간'] ].apply( lambda x: pd.to_datetime(  '%s %02d:00:00'%(x[0], x[1]),  format='%Y%m%d %H:%M:%S' ), axis=1)\n"
     ]
    },
    {
     "data": {
      "text/html": [
       "<div>\n",
       "<style scoped>\n",
       "    .dataframe tbody tr th:only-of-type {\n",
       "        vertical-align: middle;\n",
       "    }\n",
       "\n",
       "    .dataframe tbody tr th {\n",
       "        vertical-align: top;\n",
       "    }\n",
       "\n",
       "    .dataframe thead th {\n",
       "        text-align: right;\n",
       "    }\n",
       "</style>\n",
       "<table border=\"1\" class=\"dataframe\">\n",
       "  <thead>\n",
       "    <tr style=\"text-align: right;\">\n",
       "      <th></th>\n",
       "      <th>관측일자</th>\n",
       "      <th>관측시간</th>\n",
       "      <th>기온</th>\n",
       "      <th>date_time</th>\n",
       "    </tr>\n",
       "  </thead>\n",
       "  <tbody>\n",
       "    <tr>\n",
       "      <th>0</th>\n",
       "      <td>20220301</td>\n",
       "      <td>0</td>\n",
       "      <td>1.3</td>\n",
       "      <td>2022-03-01 00:00:00</td>\n",
       "    </tr>\n",
       "    <tr>\n",
       "      <th>1</th>\n",
       "      <td>20220301</td>\n",
       "      <td>0</td>\n",
       "      <td>-1.7</td>\n",
       "      <td>2022-03-01 00:00:00</td>\n",
       "    </tr>\n",
       "    <tr>\n",
       "      <th>2</th>\n",
       "      <td>20220301</td>\n",
       "      <td>0</td>\n",
       "      <td>2.5</td>\n",
       "      <td>2022-03-01 00:00:00</td>\n",
       "    </tr>\n",
       "    <tr>\n",
       "      <th>3</th>\n",
       "      <td>20220301</td>\n",
       "      <td>0</td>\n",
       "      <td>1.1</td>\n",
       "      <td>2022-03-01 00:00:00</td>\n",
       "    </tr>\n",
       "    <tr>\n",
       "      <th>4</th>\n",
       "      <td>20220301</td>\n",
       "      <td>0</td>\n",
       "      <td>3.1</td>\n",
       "      <td>2022-03-01 00:00:00</td>\n",
       "    </tr>\n",
       "    <tr>\n",
       "      <th>...</th>\n",
       "      <td>...</td>\n",
       "      <td>...</td>\n",
       "      <td>...</td>\n",
       "      <td>...</td>\n",
       "    </tr>\n",
       "    <tr>\n",
       "      <th>2132688</th>\n",
       "      <td>20240131</td>\n",
       "      <td>23</td>\n",
       "      <td>3.3</td>\n",
       "      <td>2024-01-31 23:00:00</td>\n",
       "    </tr>\n",
       "    <tr>\n",
       "      <th>2132689</th>\n",
       "      <td>20240131</td>\n",
       "      <td>23</td>\n",
       "      <td>0.6</td>\n",
       "      <td>2024-01-31 23:00:00</td>\n",
       "    </tr>\n",
       "    <tr>\n",
       "      <th>2132690</th>\n",
       "      <td>20240131</td>\n",
       "      <td>23</td>\n",
       "      <td>-0.3</td>\n",
       "      <td>2024-01-31 23:00:00</td>\n",
       "    </tr>\n",
       "    <tr>\n",
       "      <th>2132691</th>\n",
       "      <td>20240131</td>\n",
       "      <td>23</td>\n",
       "      <td>-2.4</td>\n",
       "      <td>2024-01-31 23:00:00</td>\n",
       "    </tr>\n",
       "    <tr>\n",
       "      <th>2132692</th>\n",
       "      <td>20240131</td>\n",
       "      <td>23</td>\n",
       "      <td>3.5</td>\n",
       "      <td>2024-01-31 23:00:00</td>\n",
       "    </tr>\n",
       "  </tbody>\n",
       "</table>\n",
       "<p>2132693 rows × 4 columns</p>\n",
       "</div>"
      ],
      "text/plain": [
       "             관측일자  관측시간   기온           date_time\n",
       "0        20220301     0  1.3 2022-03-01 00:00:00\n",
       "1        20220301     0 -1.7 2022-03-01 00:00:00\n",
       "2        20220301     0  2.5 2022-03-01 00:00:00\n",
       "3        20220301     0  1.1 2022-03-01 00:00:00\n",
       "4        20220301     0  3.1 2022-03-01 00:00:00\n",
       "...           ...   ...  ...                 ...\n",
       "2132688  20240131    23  3.3 2024-01-31 23:00:00\n",
       "2132689  20240131    23  0.6 2024-01-31 23:00:00\n",
       "2132690  20240131    23 -0.3 2024-01-31 23:00:00\n",
       "2132691  20240131    23 -2.4 2024-01-31 23:00:00\n",
       "2132692  20240131    23  3.5 2024-01-31 23:00:00\n",
       "\n",
       "[2132693 rows x 4 columns]"
      ]
     },
     "execution_count": 48,
     "metadata": {},
     "output_type": "execute_result"
    }
   ],
   "source": [
    "df['date_time'] = df.loc[ :, ['관측일자', '관측시간'] ].apply( lambda x: pd.to_datetime(  '%s %02d:00:00'%(x[0], x[1]),  format='%Y%m%d %H:%M:%S' ), axis=1) \n",
    "df"
   ]
  },
  {
   "cell_type": "code",
   "execution_count": 56,
   "id": "45a320e6-5662-41fe-b913-16e450786e4e",
   "metadata": {},
   "outputs": [
    {
     "data": {
      "text/html": [
       "<div>\n",
       "<style scoped>\n",
       "    .dataframe tbody tr th:only-of-type {\n",
       "        vertical-align: middle;\n",
       "    }\n",
       "\n",
       "    .dataframe tbody tr th {\n",
       "        vertical-align: top;\n",
       "    }\n",
       "\n",
       "    .dataframe thead th {\n",
       "        text-align: right;\n",
       "    }\n",
       "</style>\n",
       "<table border=\"1\" class=\"dataframe\">\n",
       "  <thead>\n",
       "    <tr style=\"text-align: right;\">\n",
       "      <th></th>\n",
       "      <th>date_time</th>\n",
       "      <th>관측일자</th>\n",
       "      <th>기온</th>\n",
       "    </tr>\n",
       "  </thead>\n",
       "  <tbody>\n",
       "    <tr>\n",
       "      <th>0</th>\n",
       "      <td>2022-03-01 00:00:00</td>\n",
       "      <td>20220301</td>\n",
       "      <td>2.474286</td>\n",
       "    </tr>\n",
       "    <tr>\n",
       "      <th>1</th>\n",
       "      <td>2022-03-01 01:00:00</td>\n",
       "      <td>20220301</td>\n",
       "      <td>2.652308</td>\n",
       "    </tr>\n",
       "    <tr>\n",
       "      <th>2</th>\n",
       "      <td>2022-03-01 02:00:00</td>\n",
       "      <td>20220301</td>\n",
       "      <td>2.974419</td>\n",
       "    </tr>\n",
       "    <tr>\n",
       "      <th>3</th>\n",
       "      <td>2022-03-01 03:00:00</td>\n",
       "      <td>20220301</td>\n",
       "      <td>2.895349</td>\n",
       "    </tr>\n",
       "    <tr>\n",
       "      <th>4</th>\n",
       "      <td>2022-03-01 04:00:00</td>\n",
       "      <td>20220301</td>\n",
       "      <td>2.535659</td>\n",
       "    </tr>\n",
       "    <tr>\n",
       "      <th>...</th>\n",
       "      <td>...</td>\n",
       "      <td>...</td>\n",
       "      <td>...</td>\n",
       "    </tr>\n",
       "    <tr>\n",
       "      <th>16411</th>\n",
       "      <td>2024-01-31 19:00:00</td>\n",
       "      <td>20240131</td>\n",
       "      <td>4.294615</td>\n",
       "    </tr>\n",
       "    <tr>\n",
       "      <th>16412</th>\n",
       "      <td>2024-01-31 20:00:00</td>\n",
       "      <td>20240131</td>\n",
       "      <td>3.028462</td>\n",
       "    </tr>\n",
       "    <tr>\n",
       "      <th>16413</th>\n",
       "      <td>2024-01-31 21:00:00</td>\n",
       "      <td>20240131</td>\n",
       "      <td>1.810769</td>\n",
       "    </tr>\n",
       "    <tr>\n",
       "      <th>16414</th>\n",
       "      <td>2024-01-31 22:00:00</td>\n",
       "      <td>20240131</td>\n",
       "      <td>0.812308</td>\n",
       "    </tr>\n",
       "    <tr>\n",
       "      <th>16415</th>\n",
       "      <td>2024-01-31 23:00:00</td>\n",
       "      <td>20240131</td>\n",
       "      <td>-0.045385</td>\n",
       "    </tr>\n",
       "  </tbody>\n",
       "</table>\n",
       "<p>16416 rows × 3 columns</p>\n",
       "</div>"
      ],
      "text/plain": [
       "                date_time      관측일자        기온\n",
       "0     2022-03-01 00:00:00  20220301  2.474286\n",
       "1     2022-03-01 01:00:00  20220301  2.652308\n",
       "2     2022-03-01 02:00:00  20220301  2.974419\n",
       "3     2022-03-01 03:00:00  20220301  2.895349\n",
       "4     2022-03-01 04:00:00  20220301  2.535659\n",
       "...                   ...       ...       ...\n",
       "16411 2024-01-31 19:00:00  20240131  4.294615\n",
       "16412 2024-01-31 20:00:00  20240131  3.028462\n",
       "16413 2024-01-31 21:00:00  20240131  1.810769\n",
       "16414 2024-01-31 22:00:00  20240131  0.812308\n",
       "16415 2024-01-31 23:00:00  20240131 -0.045385\n",
       "\n",
       "[16416 rows x 3 columns]"
      ]
     },
     "execution_count": 56,
     "metadata": {},
     "output_type": "execute_result"
    }
   ],
   "source": [
    "df_data = df.groupby(['date_time']).agg({'관측일자':'max', '기온':'mean'})\n",
    "df_data.reset_index(inplace=True)\n",
    "df_data"
   ]
  },
  {
   "cell_type": "code",
   "execution_count": 58,
   "id": "31c4559f-11af-410f-b7d5-9c2221301781",
   "metadata": {},
   "outputs": [
    {
     "name": "stdout",
     "output_type": "stream",
     "text": [
      "20220301 20240131\n"
     ]
    },
    {
     "data": {
      "text/plain": [
       "(690,)"
      ]
     },
     "execution_count": 58,
     "metadata": {},
     "output_type": "execute_result"
    }
   ],
   "source": [
    "print(df_data.관측일자.min(), df_data.관측일자.max())\n",
    "df_data.관측일자.unique().shape"
   ]
  },
  {
   "cell_type": "code",
   "execution_count": 75,
   "id": "4126dee7-c936-40bf-9cbf-28a808c36771",
   "metadata": {},
   "outputs": [
    {
     "data": {
      "text/html": [
       "<div>\n",
       "<style scoped>\n",
       "    .dataframe tbody tr th:only-of-type {\n",
       "        vertical-align: middle;\n",
       "    }\n",
       "\n",
       "    .dataframe tbody tr th {\n",
       "        vertical-align: top;\n",
       "    }\n",
       "\n",
       "    .dataframe thead th {\n",
       "        text-align: right;\n",
       "    }\n",
       "</style>\n",
       "<table border=\"1\" class=\"dataframe\">\n",
       "  <thead>\n",
       "    <tr style=\"text-align: right;\">\n",
       "      <th></th>\n",
       "      <th>date</th>\n",
       "    </tr>\n",
       "  </thead>\n",
       "  <tbody>\n",
       "    <tr>\n",
       "      <th>0</th>\n",
       "      <td>2022-03-01</td>\n",
       "    </tr>\n",
       "    <tr>\n",
       "      <th>1</th>\n",
       "      <td>2022-03-02</td>\n",
       "    </tr>\n",
       "    <tr>\n",
       "      <th>2</th>\n",
       "      <td>2022-03-03</td>\n",
       "    </tr>\n",
       "    <tr>\n",
       "      <th>3</th>\n",
       "      <td>2022-03-04</td>\n",
       "    </tr>\n",
       "    <tr>\n",
       "      <th>4</th>\n",
       "      <td>2022-03-05</td>\n",
       "    </tr>\n",
       "    <tr>\n",
       "      <th>...</th>\n",
       "      <td>...</td>\n",
       "    </tr>\n",
       "    <tr>\n",
       "      <th>697</th>\n",
       "      <td>2024-01-27</td>\n",
       "    </tr>\n",
       "    <tr>\n",
       "      <th>698</th>\n",
       "      <td>2024-01-28</td>\n",
       "    </tr>\n",
       "    <tr>\n",
       "      <th>699</th>\n",
       "      <td>2024-01-29</td>\n",
       "    </tr>\n",
       "    <tr>\n",
       "      <th>700</th>\n",
       "      <td>2024-01-30</td>\n",
       "    </tr>\n",
       "    <tr>\n",
       "      <th>701</th>\n",
       "      <td>2024-01-31</td>\n",
       "    </tr>\n",
       "  </tbody>\n",
       "</table>\n",
       "<p>702 rows × 1 columns</p>\n",
       "</div>"
      ],
      "text/plain": [
       "          date\n",
       "0   2022-03-01\n",
       "1   2022-03-02\n",
       "2   2022-03-03\n",
       "3   2022-03-04\n",
       "4   2022-03-05\n",
       "..         ...\n",
       "697 2024-01-27\n",
       "698 2024-01-28\n",
       "699 2024-01-29\n",
       "700 2024-01-30\n",
       "701 2024-01-31\n",
       "\n",
       "[702 rows x 1 columns]"
      ]
     },
     "execution_count": 75,
     "metadata": {},
     "output_type": "execute_result"
    }
   ],
   "source": [
    "df_date_range = pd.DataFrame(pd.date_range('20220301', '20240131', freq='D'))\n",
    "df_date_range.columns = ['date']\n",
    "df_date_range"
   ]
  },
  {
   "cell_type": "code",
   "execution_count": 76,
   "id": "935d4e73-c094-4798-aaa7-f75568371cda",
   "metadata": {
    "scrolled": true
   },
   "outputs": [
    {
     "data": {
      "text/html": [
       "<div>\n",
       "<style scoped>\n",
       "    .dataframe tbody tr th:only-of-type {\n",
       "        vertical-align: middle;\n",
       "    }\n",
       "\n",
       "    .dataframe tbody tr th {\n",
       "        vertical-align: top;\n",
       "    }\n",
       "\n",
       "    .dataframe thead th {\n",
       "        text-align: right;\n",
       "    }\n",
       "</style>\n",
       "<table border=\"1\" class=\"dataframe\">\n",
       "  <thead>\n",
       "    <tr style=\"text-align: right;\">\n",
       "      <th></th>\n",
       "      <th>date_time</th>\n",
       "      <th>관측일자</th>\n",
       "      <th>기온</th>\n",
       "    </tr>\n",
       "  </thead>\n",
       "  <tbody>\n",
       "    <tr>\n",
       "      <th>0</th>\n",
       "      <td>2022-03-01 00:00:00</td>\n",
       "      <td>2022-03-01</td>\n",
       "      <td>2.474286</td>\n",
       "    </tr>\n",
       "    <tr>\n",
       "      <th>1</th>\n",
       "      <td>2022-03-01 01:00:00</td>\n",
       "      <td>2022-03-01</td>\n",
       "      <td>2.652308</td>\n",
       "    </tr>\n",
       "    <tr>\n",
       "      <th>2</th>\n",
       "      <td>2022-03-01 02:00:00</td>\n",
       "      <td>2022-03-01</td>\n",
       "      <td>2.974419</td>\n",
       "    </tr>\n",
       "    <tr>\n",
       "      <th>3</th>\n",
       "      <td>2022-03-01 03:00:00</td>\n",
       "      <td>2022-03-01</td>\n",
       "      <td>2.895349</td>\n",
       "    </tr>\n",
       "    <tr>\n",
       "      <th>4</th>\n",
       "      <td>2022-03-01 04:00:00</td>\n",
       "      <td>2022-03-01</td>\n",
       "      <td>2.535659</td>\n",
       "    </tr>\n",
       "    <tr>\n",
       "      <th>...</th>\n",
       "      <td>...</td>\n",
       "      <td>...</td>\n",
       "      <td>...</td>\n",
       "    </tr>\n",
       "    <tr>\n",
       "      <th>16411</th>\n",
       "      <td>2024-01-31 19:00:00</td>\n",
       "      <td>2024-01-31</td>\n",
       "      <td>4.294615</td>\n",
       "    </tr>\n",
       "    <tr>\n",
       "      <th>16412</th>\n",
       "      <td>2024-01-31 20:00:00</td>\n",
       "      <td>2024-01-31</td>\n",
       "      <td>3.028462</td>\n",
       "    </tr>\n",
       "    <tr>\n",
       "      <th>16413</th>\n",
       "      <td>2024-01-31 21:00:00</td>\n",
       "      <td>2024-01-31</td>\n",
       "      <td>1.810769</td>\n",
       "    </tr>\n",
       "    <tr>\n",
       "      <th>16414</th>\n",
       "      <td>2024-01-31 22:00:00</td>\n",
       "      <td>2024-01-31</td>\n",
       "      <td>0.812308</td>\n",
       "    </tr>\n",
       "    <tr>\n",
       "      <th>16415</th>\n",
       "      <td>2024-01-31 23:00:00</td>\n",
       "      <td>2024-01-31</td>\n",
       "      <td>-0.045385</td>\n",
       "    </tr>\n",
       "  </tbody>\n",
       "</table>\n",
       "<p>16416 rows × 3 columns</p>\n",
       "</div>"
      ],
      "text/plain": [
       "                date_time       관측일자        기온\n",
       "0     2022-03-01 00:00:00 2022-03-01  2.474286\n",
       "1     2022-03-01 01:00:00 2022-03-01  2.652308\n",
       "2     2022-03-01 02:00:00 2022-03-01  2.974419\n",
       "3     2022-03-01 03:00:00 2022-03-01  2.895349\n",
       "4     2022-03-01 04:00:00 2022-03-01  2.535659\n",
       "...                   ...        ...       ...\n",
       "16411 2024-01-31 19:00:00 2024-01-31  4.294615\n",
       "16412 2024-01-31 20:00:00 2024-01-31  3.028462\n",
       "16413 2024-01-31 21:00:00 2024-01-31  1.810769\n",
       "16414 2024-01-31 22:00:00 2024-01-31  0.812308\n",
       "16415 2024-01-31 23:00:00 2024-01-31 -0.045385\n",
       "\n",
       "[16416 rows x 3 columns]"
      ]
     },
     "execution_count": 76,
     "metadata": {},
     "output_type": "execute_result"
    }
   ],
   "source": [
    "df_data.관측일자 = df_data.관측일자.map(lambda x: pd.to_datetime(  x,  format='%Y%m%d' ))\n",
    "df_data"
   ]
  },
  {
   "cell_type": "code",
   "execution_count": 78,
   "id": "3cb75f12-2aea-4f8e-ba9a-cac1305aa23b",
   "metadata": {},
   "outputs": [
    {
     "data": {
      "text/html": [
       "<div>\n",
       "<style scoped>\n",
       "    .dataframe tbody tr th:only-of-type {\n",
       "        vertical-align: middle;\n",
       "    }\n",
       "\n",
       "    .dataframe tbody tr th {\n",
       "        vertical-align: top;\n",
       "    }\n",
       "\n",
       "    .dataframe thead th {\n",
       "        text-align: right;\n",
       "    }\n",
       "</style>\n",
       "<table border=\"1\" class=\"dataframe\">\n",
       "  <thead>\n",
       "    <tr style=\"text-align: right;\">\n",
       "      <th></th>\n",
       "      <th>date</th>\n",
       "    </tr>\n",
       "  </thead>\n",
       "  <tbody>\n",
       "    <tr>\n",
       "      <th>160</th>\n",
       "      <td>2022-08-08</td>\n",
       "    </tr>\n",
       "    <tr>\n",
       "      <th>238</th>\n",
       "      <td>2022-10-25</td>\n",
       "    </tr>\n",
       "    <tr>\n",
       "      <th>239</th>\n",
       "      <td>2022-10-26</td>\n",
       "    </tr>\n",
       "    <tr>\n",
       "      <th>240</th>\n",
       "      <td>2022-10-27</td>\n",
       "    </tr>\n",
       "    <tr>\n",
       "      <th>241</th>\n",
       "      <td>2022-10-28</td>\n",
       "    </tr>\n",
       "    <tr>\n",
       "      <th>242</th>\n",
       "      <td>2022-10-29</td>\n",
       "    </tr>\n",
       "    <tr>\n",
       "      <th>243</th>\n",
       "      <td>2022-10-30</td>\n",
       "    </tr>\n",
       "    <tr>\n",
       "      <th>244</th>\n",
       "      <td>2022-10-31</td>\n",
       "    </tr>\n",
       "    <tr>\n",
       "      <th>245</th>\n",
       "      <td>2022-11-01</td>\n",
       "    </tr>\n",
       "    <tr>\n",
       "      <th>246</th>\n",
       "      <td>2022-11-02</td>\n",
       "    </tr>\n",
       "    <tr>\n",
       "      <th>247</th>\n",
       "      <td>2022-11-03</td>\n",
       "    </tr>\n",
       "    <tr>\n",
       "      <th>300</th>\n",
       "      <td>2022-12-26</td>\n",
       "    </tr>\n",
       "  </tbody>\n",
       "</table>\n",
       "</div>"
      ],
      "text/plain": [
       "          date\n",
       "160 2022-08-08\n",
       "238 2022-10-25\n",
       "239 2022-10-26\n",
       "240 2022-10-27\n",
       "241 2022-10-28\n",
       "242 2022-10-29\n",
       "243 2022-10-30\n",
       "244 2022-10-31\n",
       "245 2022-11-01\n",
       "246 2022-11-02\n",
       "247 2022-11-03\n",
       "300 2022-12-26"
      ]
     },
     "execution_count": 78,
     "metadata": {},
     "output_type": "execute_result"
    }
   ],
   "source": [
    "df_missing_date = df_date_range.loc[ ~ df_date_range.date.isin(df_data.관측일자.unique()) ]\n",
    "df_missing_date"
   ]
  },
  {
   "cell_type": "code",
   "execution_count": 137,
   "id": "98378c8a-60db-49f7-b754-95cceebf14e8",
   "metadata": {},
   "outputs": [
    {
     "name": "stderr",
     "output_type": "stream",
     "text": [
      "/var/folders/r5/124yntwj1n7_xfgvd8f6pzv40000gn/T/ipykernel_2400/400261678.py:3: SettingWithCopyWarning: \n",
      "A value is trying to be set on a copy of a slice from a DataFrame\n",
      "\n",
      "See the caveats in the documentation: https://pandas.pydata.org/pandas-docs/stable/user_guide/indexing.html#returning-a-view-versus-a-copy\n",
      "  df_temp.drop(columns=['date_time', '관측일자'], inplace=True)\n"
     ]
    },
    {
     "data": {
      "text/html": [
       "<div>\n",
       "<style scoped>\n",
       "    .dataframe tbody tr th:only-of-type {\n",
       "        vertical-align: middle;\n",
       "    }\n",
       "\n",
       "    .dataframe tbody tr th {\n",
       "        vertical-align: top;\n",
       "    }\n",
       "\n",
       "    .dataframe thead th {\n",
       "        text-align: right;\n",
       "    }\n",
       "</style>\n",
       "<table border=\"1\" class=\"dataframe\">\n",
       "  <thead>\n",
       "    <tr style=\"text-align: right;\">\n",
       "      <th></th>\n",
       "      <th>기온</th>\n",
       "    </tr>\n",
       "    <tr>\n",
       "      <th>date_time</th>\n",
       "      <th></th>\n",
       "    </tr>\n",
       "  </thead>\n",
       "  <tbody>\n",
       "    <tr>\n",
       "      <th>2023-01-01 00:00:00</th>\n",
       "      <td>-3.054032</td>\n",
       "    </tr>\n",
       "    <tr>\n",
       "      <th>2023-01-01 01:00:00</th>\n",
       "      <td>-3.132800</td>\n",
       "    </tr>\n",
       "    <tr>\n",
       "      <th>2023-01-01 02:00:00</th>\n",
       "      <td>-3.342063</td>\n",
       "    </tr>\n",
       "    <tr>\n",
       "      <th>2023-01-01 03:00:00</th>\n",
       "      <td>-3.532258</td>\n",
       "    </tr>\n",
       "    <tr>\n",
       "      <th>2023-01-01 04:00:00</th>\n",
       "      <td>-3.738889</td>\n",
       "    </tr>\n",
       "    <tr>\n",
       "      <th>...</th>\n",
       "      <td>...</td>\n",
       "    </tr>\n",
       "    <tr>\n",
       "      <th>2024-01-31 19:00:00</th>\n",
       "      <td>4.294615</td>\n",
       "    </tr>\n",
       "    <tr>\n",
       "      <th>2024-01-31 20:00:00</th>\n",
       "      <td>3.028462</td>\n",
       "    </tr>\n",
       "    <tr>\n",
       "      <th>2024-01-31 21:00:00</th>\n",
       "      <td>1.810769</td>\n",
       "    </tr>\n",
       "    <tr>\n",
       "      <th>2024-01-31 22:00:00</th>\n",
       "      <td>0.812308</td>\n",
       "    </tr>\n",
       "    <tr>\n",
       "      <th>2024-01-31 23:00:00</th>\n",
       "      <td>-0.045385</td>\n",
       "    </tr>\n",
       "  </tbody>\n",
       "</table>\n",
       "<p>9445 rows × 1 columns</p>\n",
       "</div>"
      ],
      "text/plain": [
       "                           기온\n",
       "date_time                    \n",
       "2023-01-01 00:00:00 -3.054032\n",
       "2023-01-01 01:00:00 -3.132800\n",
       "2023-01-01 02:00:00 -3.342063\n",
       "2023-01-01 03:00:00 -3.532258\n",
       "2023-01-01 04:00:00 -3.738889\n",
       "...                       ...\n",
       "2024-01-31 19:00:00  4.294615\n",
       "2024-01-31 20:00:00  3.028462\n",
       "2024-01-31 21:00:00  1.810769\n",
       "2024-01-31 22:00:00  0.812308\n",
       "2024-01-31 23:00:00 -0.045385\n",
       "\n",
       "[9445 rows x 1 columns]"
      ]
     },
     "execution_count": 137,
     "metadata": {},
     "output_type": "execute_result"
    }
   ],
   "source": [
    "df_temp = df_data.loc[df_data.관측일자 > '2022-12-31']\n",
    "df_temp.index = df_temp.date_time\n",
    "df_temp.drop(columns=['date_time', '관측일자'], inplace=True)\n",
    "df_temp"
   ]
  },
  {
   "cell_type": "code",
   "execution_count": 122,
   "id": "0ac532f6-eff0-4628-9874-b54a827d81bb",
   "metadata": {},
   "outputs": [
    {
     "name": "stderr",
     "output_type": "stream",
     "text": [
      "/var/folders/r5/124yntwj1n7_xfgvd8f6pzv40000gn/T/ipykernel_2400/723623358.py:1: FutureWarning: 'H' is deprecated and will be removed in a future version, please use 'h' instead.\n",
      "  date_range = pd.date_range('20230101', '20240201', freq='1H')[:-1]\n"
     ]
    },
    {
     "data": {
      "text/plain": [
       "DatetimeIndex(['2023-01-01 00:00:00', '2023-01-01 01:00:00',\n",
       "               '2023-01-01 02:00:00', '2023-01-01 03:00:00',\n",
       "               '2023-01-01 04:00:00', '2023-01-01 05:00:00',\n",
       "               '2023-01-01 06:00:00', '2023-01-01 07:00:00',\n",
       "               '2023-01-01 08:00:00', '2023-01-01 09:00:00',\n",
       "               ...\n",
       "               '2024-01-31 14:00:00', '2024-01-31 15:00:00',\n",
       "               '2024-01-31 16:00:00', '2024-01-31 17:00:00',\n",
       "               '2024-01-31 18:00:00', '2024-01-31 19:00:00',\n",
       "               '2024-01-31 20:00:00', '2024-01-31 21:00:00',\n",
       "               '2024-01-31 22:00:00', '2024-01-31 23:00:00'],\n",
       "              dtype='datetime64[ns]', length=9504, freq='h')"
      ]
     },
     "execution_count": 122,
     "metadata": {},
     "output_type": "execute_result"
    }
   ],
   "source": [
    "date_range = pd.date_range('20230101', '20240201', freq='1H')[:-1]\n",
    "date_range"
   ]
  },
  {
   "cell_type": "code",
   "execution_count": 179,
   "id": "b7a50a55-2ed9-4f5c-86ea-b1cca6abb6c3",
   "metadata": {},
   "outputs": [
    {
     "name": "stdout",
     "output_type": "stream",
     "text": [
      "<class 'pandas.core.frame.DataFrame'>\n",
      "DatetimeIndex: 9504 entries, 2023-01-01 00:00:00 to 2024-01-31 23:00:00\n",
      "Freq: h\n",
      "Data columns (total 2 columns):\n",
      " #   Column     Non-Null Count  Dtype         \n",
      "---  ------     --------------  -----         \n",
      " 0   기온         0 non-null      object        \n",
      " 1   date_time  9504 non-null   datetime64[ns]\n",
      "dtypes: datetime64[ns](1), object(1)\n",
      "memory usage: 222.8+ KB\n"
     ]
    }
   ],
   "source": [
    "df_dummy = pd.DataFrame(data=None, columns=df_temp.columns, index = date_range)\n",
    "df_dummy['date_time'] = df_dummy.index\n",
    "df_dummy.info()"
   ]
  },
  {
   "cell_type": "code",
   "execution_count": 180,
   "id": "592c53a1-79e3-40ac-93d7-fed0b9e55aa7",
   "metadata": {
    "scrolled": true
   },
   "outputs": [
    {
     "data": {
      "text/html": [
       "<div>\n",
       "<style scoped>\n",
       "    .dataframe tbody tr th:only-of-type {\n",
       "        vertical-align: middle;\n",
       "    }\n",
       "\n",
       "    .dataframe tbody tr th {\n",
       "        vertical-align: top;\n",
       "    }\n",
       "\n",
       "    .dataframe thead th {\n",
       "        text-align: right;\n",
       "    }\n",
       "</style>\n",
       "<table border=\"1\" class=\"dataframe\">\n",
       "  <thead>\n",
       "    <tr style=\"text-align: right;\">\n",
       "      <th></th>\n",
       "      <th>기온</th>\n",
       "      <th>date_time</th>\n",
       "    </tr>\n",
       "  </thead>\n",
       "  <tbody>\n",
       "    <tr>\n",
       "      <th>2023-01-01 00:00:00</th>\n",
       "      <td>-3.054032</td>\n",
       "      <td>2023-01-01 00:00:00</td>\n",
       "    </tr>\n",
       "    <tr>\n",
       "      <th>2023-01-01 01:00:00</th>\n",
       "      <td>-3.1328</td>\n",
       "      <td>2023-01-01 01:00:00</td>\n",
       "    </tr>\n",
       "    <tr>\n",
       "      <th>2023-01-01 02:00:00</th>\n",
       "      <td>-3.342063</td>\n",
       "      <td>2023-01-01 02:00:00</td>\n",
       "    </tr>\n",
       "    <tr>\n",
       "      <th>2023-01-01 03:00:00</th>\n",
       "      <td>-3.532258</td>\n",
       "      <td>2023-01-01 03:00:00</td>\n",
       "    </tr>\n",
       "    <tr>\n",
       "      <th>2023-01-01 04:00:00</th>\n",
       "      <td>-3.738889</td>\n",
       "      <td>2023-01-01 04:00:00</td>\n",
       "    </tr>\n",
       "    <tr>\n",
       "      <th>...</th>\n",
       "      <td>...</td>\n",
       "      <td>...</td>\n",
       "    </tr>\n",
       "    <tr>\n",
       "      <th>2024-01-31 19:00:00</th>\n",
       "      <td>4.294615</td>\n",
       "      <td>2024-01-31 19:00:00</td>\n",
       "    </tr>\n",
       "    <tr>\n",
       "      <th>2024-01-31 20:00:00</th>\n",
       "      <td>3.028462</td>\n",
       "      <td>2024-01-31 20:00:00</td>\n",
       "    </tr>\n",
       "    <tr>\n",
       "      <th>2024-01-31 21:00:00</th>\n",
       "      <td>1.810769</td>\n",
       "      <td>2024-01-31 21:00:00</td>\n",
       "    </tr>\n",
       "    <tr>\n",
       "      <th>2024-01-31 22:00:00</th>\n",
       "      <td>0.812308</td>\n",
       "      <td>2024-01-31 22:00:00</td>\n",
       "    </tr>\n",
       "    <tr>\n",
       "      <th>2024-01-31 23:00:00</th>\n",
       "      <td>-0.045385</td>\n",
       "      <td>2024-01-31 23:00:00</td>\n",
       "    </tr>\n",
       "  </tbody>\n",
       "</table>\n",
       "<p>9504 rows × 2 columns</p>\n",
       "</div>"
      ],
      "text/plain": [
       "                           기온           date_time\n",
       "2023-01-01 00:00:00 -3.054032 2023-01-01 00:00:00\n",
       "2023-01-01 01:00:00   -3.1328 2023-01-01 01:00:00\n",
       "2023-01-01 02:00:00 -3.342063 2023-01-01 02:00:00\n",
       "2023-01-01 03:00:00 -3.532258 2023-01-01 03:00:00\n",
       "2023-01-01 04:00:00 -3.738889 2023-01-01 04:00:00\n",
       "...                       ...                 ...\n",
       "2024-01-31 19:00:00  4.294615 2024-01-31 19:00:00\n",
       "2024-01-31 20:00:00  3.028462 2024-01-31 20:00:00\n",
       "2024-01-31 21:00:00  1.810769 2024-01-31 21:00:00\n",
       "2024-01-31 22:00:00  0.812308 2024-01-31 22:00:00\n",
       "2024-01-31 23:00:00 -0.045385 2024-01-31 23:00:00\n",
       "\n",
       "[9504 rows x 2 columns]"
      ]
     },
     "execution_count": 180,
     "metadata": {},
     "output_type": "execute_result"
    }
   ],
   "source": [
    "df_dummy.update(df_temp, overwrite=False)\n",
    "df_dummy"
   ]
  },
  {
   "cell_type": "code",
   "execution_count": 181,
   "id": "37b08e6f-0ae6-48d2-a6b1-332972864670",
   "metadata": {},
   "outputs": [
    {
     "name": "stdout",
     "output_type": "stream",
     "text": [
      "<class 'pandas.core.frame.DataFrame'>\n",
      "DatetimeIndex: 9504 entries, 2023-01-01 00:00:00 to 2024-01-31 23:00:00\n",
      "Freq: h\n",
      "Data columns (total 2 columns):\n",
      " #   Column     Non-Null Count  Dtype         \n",
      "---  ------     --------------  -----         \n",
      " 0   기온         9445 non-null   object        \n",
      " 1   date_time  9504 non-null   datetime64[ns]\n",
      "dtypes: datetime64[ns](1), object(1)\n",
      "memory usage: 222.8+ KB\n"
     ]
    }
   ],
   "source": [
    "df_dummy.info()"
   ]
  },
  {
   "cell_type": "code",
   "execution_count": 182,
   "id": "d26df5bd-a0aa-40e0-b395-3748faba7f07",
   "metadata": {
    "scrolled": true
   },
   "outputs": [
    {
     "name": "stdout",
     "output_type": "stream",
     "text": [
      "<class 'pandas.core.frame.DataFrame'>\n",
      "DatetimeIndex: 9504 entries, 2023-01-01 00:00:00 to 2024-01-31 23:00:00\n",
      "Freq: h\n",
      "Data columns (total 2 columns):\n",
      " #   Column     Non-Null Count  Dtype         \n",
      "---  ------     --------------  -----         \n",
      " 0   기온         9504 non-null   float64       \n",
      " 1   date_time  9504 non-null   datetime64[ns]\n",
      "dtypes: datetime64[ns](1), float64(1)\n",
      "memory usage: 222.8 KB\n"
     ]
    },
    {
     "name": "stderr",
     "output_type": "stream",
     "text": [
      "/var/folders/r5/124yntwj1n7_xfgvd8f6pzv40000gn/T/ipykernel_2400/2331655139.py:1: FutureWarning: Downcasting object dtype arrays on .fillna, .ffill, .bfill is deprecated and will change in a future version. Call result.infer_objects(copy=False) instead. To opt-in to the future behavior, set `pd.set_option('future.no_silent_downcasting', True)`\n",
      "  df_dummy.ffill( inplace=True)\n"
     ]
    }
   ],
   "source": [
    "df_dummy.ffill( inplace=True)\n",
    "df_dummy.info()"
   ]
  },
  {
   "cell_type": "code",
   "execution_count": 183,
   "id": "4ac6b1c8-bbb0-42a4-8997-1955b46b06eb",
   "metadata": {},
   "outputs": [
    {
     "data": {
      "text/html": [
       "<div>\n",
       "<style scoped>\n",
       "    .dataframe tbody tr th:only-of-type {\n",
       "        vertical-align: middle;\n",
       "    }\n",
       "\n",
       "    .dataframe tbody tr th {\n",
       "        vertical-align: top;\n",
       "    }\n",
       "\n",
       "    .dataframe thead th {\n",
       "        text-align: right;\n",
       "    }\n",
       "</style>\n",
       "<table border=\"1\" class=\"dataframe\">\n",
       "  <thead>\n",
       "    <tr style=\"text-align: right;\">\n",
       "      <th></th>\n",
       "      <th>기온</th>\n",
       "      <th>date_time</th>\n",
       "    </tr>\n",
       "  </thead>\n",
       "  <tbody>\n",
       "    <tr>\n",
       "      <th>2023-01-01 00:00:00</th>\n",
       "      <td>-3.054032</td>\n",
       "      <td>2023-01-01 00:00:00</td>\n",
       "    </tr>\n",
       "    <tr>\n",
       "      <th>2023-01-01 01:00:00</th>\n",
       "      <td>-3.132800</td>\n",
       "      <td>2023-01-01 01:00:00</td>\n",
       "    </tr>\n",
       "    <tr>\n",
       "      <th>2023-01-01 02:00:00</th>\n",
       "      <td>-3.342063</td>\n",
       "      <td>2023-01-01 02:00:00</td>\n",
       "    </tr>\n",
       "    <tr>\n",
       "      <th>2023-01-01 03:00:00</th>\n",
       "      <td>-3.532258</td>\n",
       "      <td>2023-01-01 03:00:00</td>\n",
       "    </tr>\n",
       "    <tr>\n",
       "      <th>2023-01-01 04:00:00</th>\n",
       "      <td>-3.738889</td>\n",
       "      <td>2023-01-01 04:00:00</td>\n",
       "    </tr>\n",
       "    <tr>\n",
       "      <th>...</th>\n",
       "      <td>...</td>\n",
       "      <td>...</td>\n",
       "    </tr>\n",
       "    <tr>\n",
       "      <th>2024-01-31 19:00:00</th>\n",
       "      <td>4.294615</td>\n",
       "      <td>2024-01-31 19:00:00</td>\n",
       "    </tr>\n",
       "    <tr>\n",
       "      <th>2024-01-31 20:00:00</th>\n",
       "      <td>3.028462</td>\n",
       "      <td>2024-01-31 20:00:00</td>\n",
       "    </tr>\n",
       "    <tr>\n",
       "      <th>2024-01-31 21:00:00</th>\n",
       "      <td>1.810769</td>\n",
       "      <td>2024-01-31 21:00:00</td>\n",
       "    </tr>\n",
       "    <tr>\n",
       "      <th>2024-01-31 22:00:00</th>\n",
       "      <td>0.812308</td>\n",
       "      <td>2024-01-31 22:00:00</td>\n",
       "    </tr>\n",
       "    <tr>\n",
       "      <th>2024-01-31 23:00:00</th>\n",
       "      <td>-0.045385</td>\n",
       "      <td>2024-01-31 23:00:00</td>\n",
       "    </tr>\n",
       "  </tbody>\n",
       "</table>\n",
       "<p>9504 rows × 2 columns</p>\n",
       "</div>"
      ],
      "text/plain": [
       "                           기온           date_time\n",
       "2023-01-01 00:00:00 -3.054032 2023-01-01 00:00:00\n",
       "2023-01-01 01:00:00 -3.132800 2023-01-01 01:00:00\n",
       "2023-01-01 02:00:00 -3.342063 2023-01-01 02:00:00\n",
       "2023-01-01 03:00:00 -3.532258 2023-01-01 03:00:00\n",
       "2023-01-01 04:00:00 -3.738889 2023-01-01 04:00:00\n",
       "...                       ...                 ...\n",
       "2024-01-31 19:00:00  4.294615 2024-01-31 19:00:00\n",
       "2024-01-31 20:00:00  3.028462 2024-01-31 20:00:00\n",
       "2024-01-31 21:00:00  1.810769 2024-01-31 21:00:00\n",
       "2024-01-31 22:00:00  0.812308 2024-01-31 22:00:00\n",
       "2024-01-31 23:00:00 -0.045385 2024-01-31 23:00:00\n",
       "\n",
       "[9504 rows x 2 columns]"
      ]
     },
     "execution_count": 183,
     "metadata": {},
     "output_type": "execute_result"
    }
   ],
   "source": [
    "df_dummy"
   ]
  },
  {
   "cell_type": "code",
   "execution_count": 184,
   "id": "0d8f6d9e-224c-40bf-ae3a-626ae9ddd309",
   "metadata": {},
   "outputs": [
    {
     "data": {
      "text/html": [
       "<div>\n",
       "<style scoped>\n",
       "    .dataframe tbody tr th:only-of-type {\n",
       "        vertical-align: middle;\n",
       "    }\n",
       "\n",
       "    .dataframe tbody tr th {\n",
       "        vertical-align: top;\n",
       "    }\n",
       "\n",
       "    .dataframe thead th {\n",
       "        text-align: right;\n",
       "    }\n",
       "</style>\n",
       "<table border=\"1\" class=\"dataframe\">\n",
       "  <thead>\n",
       "    <tr style=\"text-align: right;\">\n",
       "      <th></th>\n",
       "      <th>기온</th>\n",
       "      <th>date_time</th>\n",
       "    </tr>\n",
       "  </thead>\n",
       "  <tbody>\n",
       "    <tr>\n",
       "      <th>2023-01-01 00:00:00</th>\n",
       "      <td>-3</td>\n",
       "      <td>2023-01-01 00:00:00</td>\n",
       "    </tr>\n",
       "    <tr>\n",
       "      <th>2023-01-01 01:00:00</th>\n",
       "      <td>-3</td>\n",
       "      <td>2023-01-01 01:00:00</td>\n",
       "    </tr>\n",
       "    <tr>\n",
       "      <th>2023-01-01 02:00:00</th>\n",
       "      <td>-3</td>\n",
       "      <td>2023-01-01 02:00:00</td>\n",
       "    </tr>\n",
       "    <tr>\n",
       "      <th>2023-01-01 03:00:00</th>\n",
       "      <td>-4</td>\n",
       "      <td>2023-01-01 03:00:00</td>\n",
       "    </tr>\n",
       "    <tr>\n",
       "      <th>2023-01-01 04:00:00</th>\n",
       "      <td>-4</td>\n",
       "      <td>2023-01-01 04:00:00</td>\n",
       "    </tr>\n",
       "    <tr>\n",
       "      <th>...</th>\n",
       "      <td>...</td>\n",
       "      <td>...</td>\n",
       "    </tr>\n",
       "    <tr>\n",
       "      <th>2024-01-31 19:00:00</th>\n",
       "      <td>4</td>\n",
       "      <td>2024-01-31 19:00:00</td>\n",
       "    </tr>\n",
       "    <tr>\n",
       "      <th>2024-01-31 20:00:00</th>\n",
       "      <td>3</td>\n",
       "      <td>2024-01-31 20:00:00</td>\n",
       "    </tr>\n",
       "    <tr>\n",
       "      <th>2024-01-31 21:00:00</th>\n",
       "      <td>2</td>\n",
       "      <td>2024-01-31 21:00:00</td>\n",
       "    </tr>\n",
       "    <tr>\n",
       "      <th>2024-01-31 22:00:00</th>\n",
       "      <td>1</td>\n",
       "      <td>2024-01-31 22:00:00</td>\n",
       "    </tr>\n",
       "    <tr>\n",
       "      <th>2024-01-31 23:00:00</th>\n",
       "      <td>0</td>\n",
       "      <td>2024-01-31 23:00:00</td>\n",
       "    </tr>\n",
       "  </tbody>\n",
       "</table>\n",
       "<p>9504 rows × 2 columns</p>\n",
       "</div>"
      ],
      "text/plain": [
       "                     기온           date_time\n",
       "2023-01-01 00:00:00  -3 2023-01-01 00:00:00\n",
       "2023-01-01 01:00:00  -3 2023-01-01 01:00:00\n",
       "2023-01-01 02:00:00  -3 2023-01-01 02:00:00\n",
       "2023-01-01 03:00:00  -4 2023-01-01 03:00:00\n",
       "2023-01-01 04:00:00  -4 2023-01-01 04:00:00\n",
       "...                  ..                 ...\n",
       "2024-01-31 19:00:00   4 2024-01-31 19:00:00\n",
       "2024-01-31 20:00:00   3 2024-01-31 20:00:00\n",
       "2024-01-31 21:00:00   2 2024-01-31 21:00:00\n",
       "2024-01-31 22:00:00   1 2024-01-31 22:00:00\n",
       "2024-01-31 23:00:00   0 2024-01-31 23:00:00\n",
       "\n",
       "[9504 rows x 2 columns]"
      ]
     },
     "execution_count": 184,
     "metadata": {},
     "output_type": "execute_result"
    }
   ],
   "source": [
    "df_dummy.기온 = df_dummy.기온.map(lambda x: round(x))\n",
    "df_dummy"
   ]
  },
  {
   "cell_type": "code",
   "execution_count": 186,
   "id": "c6a59841-8fd9-4ad7-a49f-4d9ea167faef",
   "metadata": {},
   "outputs": [
    {
     "data": {
      "text/plain": [
       "count    9504.000000\n",
       "mean       11.639625\n",
       "std        11.450109\n",
       "min       -19.000000\n",
       "25%         2.000000\n",
       "50%        12.000000\n",
       "75%        22.000000\n",
       "max        34.000000\n",
       "Name: 기온, dtype: float64"
      ]
     },
     "execution_count": 186,
     "metadata": {},
     "output_type": "execute_result"
    }
   ],
   "source": [
    "df_dummy['기온'].describe()"
   ]
  },
  {
   "cell_type": "code",
   "execution_count": 189,
   "id": "bd19930b-95cc-4f75-8a6c-9fa539caee82",
   "metadata": {},
   "outputs": [],
   "source": [
    "filePath = f'{file_dir}/Temp_230101_240131.csv'\n",
    "df_dummy.to_csv(filePath)"
   ]
  },
  {
   "cell_type": "code",
   "execution_count": null,
   "id": "0272aa82-17ac-4001-ac17-978977304285",
   "metadata": {},
   "outputs": [],
   "source": []
  }
 ],
 "metadata": {
  "kernelspec": {
   "display_name": "Python 3 (ipykernel)",
   "language": "python",
   "name": "python3"
  },
  "language_info": {
   "codemirror_mode": {
    "name": "ipython",
    "version": 3
   },
   "file_extension": ".py",
   "mimetype": "text/x-python",
   "name": "python",
   "nbconvert_exporter": "python",
   "pygments_lexer": "ipython3",
   "version": "3.12.7"
  }
 },
 "nbformat": 4,
 "nbformat_minor": 5
}

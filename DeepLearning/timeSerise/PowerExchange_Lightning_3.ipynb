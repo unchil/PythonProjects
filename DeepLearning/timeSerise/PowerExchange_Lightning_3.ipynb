{
 "cells": [
  {
   "cell_type": "code",
   "execution_count": 1,
   "id": "cca15108-75dc-440f-96a3-9ad711c0eab7",
   "metadata": {},
   "outputs": [],
   "source": [
    "import pandas as pd\n",
    "import os\n",
    "import torch\n",
    "from torch.utils.data import Dataset\n",
    "from sklearn.preprocessing import MinMaxScaler\n",
    "from torch.utils.data import DataLoader\n",
    "from torch import nn\n",
    "import pytorch_lightning as L\n",
    "from pytorch_lightning import seed_everything, LightningModule, Trainer\n",
    "import numpy as np"
   ]
  },
  {
   "cell_type": "code",
   "execution_count": 2,
   "id": "dc05bf27-97f9-4890-bdf7-2bc31513bf04",
   "metadata": {
    "scrolled": true
   },
   "outputs": [
    {
     "data": {
      "text/html": [
       "<div>\n",
       "<style scoped>\n",
       "    .dataframe tbody tr th:only-of-type {\n",
       "        vertical-align: middle;\n",
       "    }\n",
       "\n",
       "    .dataframe tbody tr th {\n",
       "        vertical-align: top;\n",
       "    }\n",
       "\n",
       "    .dataframe thead th {\n",
       "        text-align: right;\n",
       "    }\n",
       "</style>\n",
       "<table border=\"1\" class=\"dataframe\">\n",
       "  <thead>\n",
       "    <tr style=\"text-align: right;\">\n",
       "      <th></th>\n",
       "      <th>demand</th>\n",
       "      <th>month_1</th>\n",
       "      <th>month_2</th>\n",
       "      <th>month_3</th>\n",
       "      <th>month_4</th>\n",
       "      <th>month_5</th>\n",
       "      <th>month_6</th>\n",
       "      <th>month_7</th>\n",
       "      <th>month_8</th>\n",
       "      <th>month_9</th>\n",
       "      <th>...</th>\n",
       "      <th>hr_20</th>\n",
       "      <th>hr_21</th>\n",
       "      <th>hr_22</th>\n",
       "      <th>hr_23</th>\n",
       "      <th>temp_1</th>\n",
       "      <th>temp_2</th>\n",
       "      <th>temp_3</th>\n",
       "      <th>temp_4</th>\n",
       "      <th>temp_5</th>\n",
       "      <th>temp_6</th>\n",
       "    </tr>\n",
       "    <tr>\n",
       "      <th>date_time</th>\n",
       "      <th></th>\n",
       "      <th></th>\n",
       "      <th></th>\n",
       "      <th></th>\n",
       "      <th></th>\n",
       "      <th></th>\n",
       "      <th></th>\n",
       "      <th></th>\n",
       "      <th></th>\n",
       "      <th></th>\n",
       "      <th></th>\n",
       "      <th></th>\n",
       "      <th></th>\n",
       "      <th></th>\n",
       "      <th></th>\n",
       "      <th></th>\n",
       "      <th></th>\n",
       "      <th></th>\n",
       "      <th></th>\n",
       "      <th></th>\n",
       "      <th></th>\n",
       "    </tr>\n",
       "  </thead>\n",
       "  <tbody>\n",
       "    <tr>\n",
       "      <th>2013-01-01 00:00:00</th>\n",
       "      <td>60178</td>\n",
       "      <td>True</td>\n",
       "      <td>False</td>\n",
       "      <td>False</td>\n",
       "      <td>False</td>\n",
       "      <td>False</td>\n",
       "      <td>False</td>\n",
       "      <td>False</td>\n",
       "      <td>False</td>\n",
       "      <td>False</td>\n",
       "      <td>...</td>\n",
       "      <td>False</td>\n",
       "      <td>False</td>\n",
       "      <td>False</td>\n",
       "      <td>False</td>\n",
       "      <td>True</td>\n",
       "      <td>False</td>\n",
       "      <td>False</td>\n",
       "      <td>False</td>\n",
       "      <td>False</td>\n",
       "      <td>False</td>\n",
       "    </tr>\n",
       "    <tr>\n",
       "      <th>2013-01-01 01:00:00</th>\n",
       "      <td>57862</td>\n",
       "      <td>True</td>\n",
       "      <td>False</td>\n",
       "      <td>False</td>\n",
       "      <td>False</td>\n",
       "      <td>False</td>\n",
       "      <td>False</td>\n",
       "      <td>False</td>\n",
       "      <td>False</td>\n",
       "      <td>False</td>\n",
       "      <td>...</td>\n",
       "      <td>False</td>\n",
       "      <td>False</td>\n",
       "      <td>False</td>\n",
       "      <td>False</td>\n",
       "      <td>True</td>\n",
       "      <td>False</td>\n",
       "      <td>False</td>\n",
       "      <td>False</td>\n",
       "      <td>False</td>\n",
       "      <td>False</td>\n",
       "    </tr>\n",
       "    <tr>\n",
       "      <th>2013-01-01 02:00:00</th>\n",
       "      <td>56165</td>\n",
       "      <td>True</td>\n",
       "      <td>False</td>\n",
       "      <td>False</td>\n",
       "      <td>False</td>\n",
       "      <td>False</td>\n",
       "      <td>False</td>\n",
       "      <td>False</td>\n",
       "      <td>False</td>\n",
       "      <td>False</td>\n",
       "      <td>...</td>\n",
       "      <td>False</td>\n",
       "      <td>False</td>\n",
       "      <td>False</td>\n",
       "      <td>False</td>\n",
       "      <td>True</td>\n",
       "      <td>False</td>\n",
       "      <td>False</td>\n",
       "      <td>False</td>\n",
       "      <td>False</td>\n",
       "      <td>False</td>\n",
       "    </tr>\n",
       "    <tr>\n",
       "      <th>2013-01-01 03:00:00</th>\n",
       "      <td>55135</td>\n",
       "      <td>True</td>\n",
       "      <td>False</td>\n",
       "      <td>False</td>\n",
       "      <td>False</td>\n",
       "      <td>False</td>\n",
       "      <td>False</td>\n",
       "      <td>False</td>\n",
       "      <td>False</td>\n",
       "      <td>False</td>\n",
       "      <td>...</td>\n",
       "      <td>False</td>\n",
       "      <td>False</td>\n",
       "      <td>False</td>\n",
       "      <td>False</td>\n",
       "      <td>True</td>\n",
       "      <td>False</td>\n",
       "      <td>False</td>\n",
       "      <td>False</td>\n",
       "      <td>False</td>\n",
       "      <td>False</td>\n",
       "    </tr>\n",
       "    <tr>\n",
       "      <th>2013-01-01 04:00:00</th>\n",
       "      <td>54450</td>\n",
       "      <td>True</td>\n",
       "      <td>False</td>\n",
       "      <td>False</td>\n",
       "      <td>False</td>\n",
       "      <td>False</td>\n",
       "      <td>False</td>\n",
       "      <td>False</td>\n",
       "      <td>False</td>\n",
       "      <td>False</td>\n",
       "      <td>...</td>\n",
       "      <td>False</td>\n",
       "      <td>False</td>\n",
       "      <td>False</td>\n",
       "      <td>False</td>\n",
       "      <td>True</td>\n",
       "      <td>False</td>\n",
       "      <td>False</td>\n",
       "      <td>False</td>\n",
       "      <td>False</td>\n",
       "      <td>False</td>\n",
       "    </tr>\n",
       "    <tr>\n",
       "      <th>...</th>\n",
       "      <td>...</td>\n",
       "      <td>...</td>\n",
       "      <td>...</td>\n",
       "      <td>...</td>\n",
       "      <td>...</td>\n",
       "      <td>...</td>\n",
       "      <td>...</td>\n",
       "      <td>...</td>\n",
       "      <td>...</td>\n",
       "      <td>...</td>\n",
       "      <td>...</td>\n",
       "      <td>...</td>\n",
       "      <td>...</td>\n",
       "      <td>...</td>\n",
       "      <td>...</td>\n",
       "      <td>...</td>\n",
       "      <td>...</td>\n",
       "      <td>...</td>\n",
       "      <td>...</td>\n",
       "      <td>...</td>\n",
       "      <td>...</td>\n",
       "    </tr>\n",
       "    <tr>\n",
       "      <th>2023-12-31 19:00:00</th>\n",
       "      <td>62902</td>\n",
       "      <td>False</td>\n",
       "      <td>False</td>\n",
       "      <td>False</td>\n",
       "      <td>False</td>\n",
       "      <td>False</td>\n",
       "      <td>False</td>\n",
       "      <td>False</td>\n",
       "      <td>False</td>\n",
       "      <td>False</td>\n",
       "      <td>...</td>\n",
       "      <td>False</td>\n",
       "      <td>False</td>\n",
       "      <td>False</td>\n",
       "      <td>False</td>\n",
       "      <td>True</td>\n",
       "      <td>False</td>\n",
       "      <td>False</td>\n",
       "      <td>False</td>\n",
       "      <td>False</td>\n",
       "      <td>False</td>\n",
       "    </tr>\n",
       "    <tr>\n",
       "      <th>2023-12-31 20:00:00</th>\n",
       "      <td>62061</td>\n",
       "      <td>False</td>\n",
       "      <td>False</td>\n",
       "      <td>False</td>\n",
       "      <td>False</td>\n",
       "      <td>False</td>\n",
       "      <td>False</td>\n",
       "      <td>False</td>\n",
       "      <td>False</td>\n",
       "      <td>False</td>\n",
       "      <td>...</td>\n",
       "      <td>True</td>\n",
       "      <td>False</td>\n",
       "      <td>False</td>\n",
       "      <td>False</td>\n",
       "      <td>True</td>\n",
       "      <td>False</td>\n",
       "      <td>False</td>\n",
       "      <td>False</td>\n",
       "      <td>False</td>\n",
       "      <td>False</td>\n",
       "    </tr>\n",
       "    <tr>\n",
       "      <th>2023-12-31 21:00:00</th>\n",
       "      <td>61403</td>\n",
       "      <td>False</td>\n",
       "      <td>False</td>\n",
       "      <td>False</td>\n",
       "      <td>False</td>\n",
       "      <td>False</td>\n",
       "      <td>False</td>\n",
       "      <td>False</td>\n",
       "      <td>False</td>\n",
       "      <td>False</td>\n",
       "      <td>...</td>\n",
       "      <td>False</td>\n",
       "      <td>True</td>\n",
       "      <td>False</td>\n",
       "      <td>False</td>\n",
       "      <td>True</td>\n",
       "      <td>False</td>\n",
       "      <td>False</td>\n",
       "      <td>False</td>\n",
       "      <td>False</td>\n",
       "      <td>False</td>\n",
       "    </tr>\n",
       "    <tr>\n",
       "      <th>2023-12-31 22:00:00</th>\n",
       "      <td>61891</td>\n",
       "      <td>False</td>\n",
       "      <td>False</td>\n",
       "      <td>False</td>\n",
       "      <td>False</td>\n",
       "      <td>False</td>\n",
       "      <td>False</td>\n",
       "      <td>False</td>\n",
       "      <td>False</td>\n",
       "      <td>False</td>\n",
       "      <td>...</td>\n",
       "      <td>False</td>\n",
       "      <td>False</td>\n",
       "      <td>True</td>\n",
       "      <td>False</td>\n",
       "      <td>True</td>\n",
       "      <td>False</td>\n",
       "      <td>False</td>\n",
       "      <td>False</td>\n",
       "      <td>False</td>\n",
       "      <td>False</td>\n",
       "    </tr>\n",
       "    <tr>\n",
       "      <th>2023-12-31 23:00:00</th>\n",
       "      <td>62125</td>\n",
       "      <td>False</td>\n",
       "      <td>False</td>\n",
       "      <td>False</td>\n",
       "      <td>False</td>\n",
       "      <td>False</td>\n",
       "      <td>False</td>\n",
       "      <td>False</td>\n",
       "      <td>False</td>\n",
       "      <td>False</td>\n",
       "      <td>...</td>\n",
       "      <td>False</td>\n",
       "      <td>False</td>\n",
       "      <td>False</td>\n",
       "      <td>True</td>\n",
       "      <td>True</td>\n",
       "      <td>False</td>\n",
       "      <td>False</td>\n",
       "      <td>False</td>\n",
       "      <td>False</td>\n",
       "      <td>False</td>\n",
       "    </tr>\n",
       "  </tbody>\n",
       "</table>\n",
       "<p>96408 rows × 50 columns</p>\n",
       "</div>"
      ],
      "text/plain": [
       "                     demand  month_1  month_2  month_3  month_4  month_5  \\\n",
       "date_time                                                                  \n",
       "2013-01-01 00:00:00   60178     True    False    False    False    False   \n",
       "2013-01-01 01:00:00   57862     True    False    False    False    False   \n",
       "2013-01-01 02:00:00   56165     True    False    False    False    False   \n",
       "2013-01-01 03:00:00   55135     True    False    False    False    False   \n",
       "2013-01-01 04:00:00   54450     True    False    False    False    False   \n",
       "...                     ...      ...      ...      ...      ...      ...   \n",
       "2023-12-31 19:00:00   62902    False    False    False    False    False   \n",
       "2023-12-31 20:00:00   62061    False    False    False    False    False   \n",
       "2023-12-31 21:00:00   61403    False    False    False    False    False   \n",
       "2023-12-31 22:00:00   61891    False    False    False    False    False   \n",
       "2023-12-31 23:00:00   62125    False    False    False    False    False   \n",
       "\n",
       "                     month_6  month_7  month_8  month_9  ...  hr_20  hr_21  \\\n",
       "date_time                                                ...                 \n",
       "2013-01-01 00:00:00    False    False    False    False  ...  False  False   \n",
       "2013-01-01 01:00:00    False    False    False    False  ...  False  False   \n",
       "2013-01-01 02:00:00    False    False    False    False  ...  False  False   \n",
       "2013-01-01 03:00:00    False    False    False    False  ...  False  False   \n",
       "2013-01-01 04:00:00    False    False    False    False  ...  False  False   \n",
       "...                      ...      ...      ...      ...  ...    ...    ...   \n",
       "2023-12-31 19:00:00    False    False    False    False  ...  False  False   \n",
       "2023-12-31 20:00:00    False    False    False    False  ...   True  False   \n",
       "2023-12-31 21:00:00    False    False    False    False  ...  False   True   \n",
       "2023-12-31 22:00:00    False    False    False    False  ...  False  False   \n",
       "2023-12-31 23:00:00    False    False    False    False  ...  False  False   \n",
       "\n",
       "                     hr_22  hr_23  temp_1  temp_2  temp_3  temp_4  temp_5  \\\n",
       "date_time                                                                   \n",
       "2013-01-01 00:00:00  False  False    True   False   False   False   False   \n",
       "2013-01-01 01:00:00  False  False    True   False   False   False   False   \n",
       "2013-01-01 02:00:00  False  False    True   False   False   False   False   \n",
       "2013-01-01 03:00:00  False  False    True   False   False   False   False   \n",
       "2013-01-01 04:00:00  False  False    True   False   False   False   False   \n",
       "...                    ...    ...     ...     ...     ...     ...     ...   \n",
       "2023-12-31 19:00:00  False  False    True   False   False   False   False   \n",
       "2023-12-31 20:00:00  False  False    True   False   False   False   False   \n",
       "2023-12-31 21:00:00  False  False    True   False   False   False   False   \n",
       "2023-12-31 22:00:00   True  False    True   False   False   False   False   \n",
       "2023-12-31 23:00:00  False   True    True   False   False   False   False   \n",
       "\n",
       "                     temp_6  \n",
       "date_time                    \n",
       "2013-01-01 00:00:00   False  \n",
       "2013-01-01 01:00:00   False  \n",
       "2013-01-01 02:00:00   False  \n",
       "2013-01-01 03:00:00   False  \n",
       "2013-01-01 04:00:00   False  \n",
       "...                     ...  \n",
       "2023-12-31 19:00:00   False  \n",
       "2023-12-31 20:00:00   False  \n",
       "2023-12-31 21:00:00   False  \n",
       "2023-12-31 22:00:00   False  \n",
       "2023-12-31 23:00:00   False  \n",
       "\n",
       "[96408 rows x 50 columns]"
      ]
     },
     "execution_count": 2,
     "metadata": {},
     "output_type": "execute_result"
    }
   ],
   "source": [
    "data_dir = '/Volumes/Data/Row_Data'\n",
    "load_file = 'kpx_powerDemand_2013_2023_v4.csv'\n",
    "url = f'{data_dir}/{load_file}'\n",
    "\n",
    "df_data = pd.read_csv(url, parse_dates=['date_time'], index_col='date_time')\n",
    "df_data"
   ]
  },
  {
   "cell_type": "code",
   "execution_count": 3,
   "id": "b0677ff9-93ba-4237-bf9a-095dad4ae253",
   "metadata": {},
   "outputs": [
    {
     "data": {
      "text/html": [
       "<style>#sk-container-id-1 {\n",
       "  /* Definition of color scheme common for light and dark mode */\n",
       "  --sklearn-color-text: black;\n",
       "  --sklearn-color-line: gray;\n",
       "  /* Definition of color scheme for unfitted estimators */\n",
       "  --sklearn-color-unfitted-level-0: #fff5e6;\n",
       "  --sklearn-color-unfitted-level-1: #f6e4d2;\n",
       "  --sklearn-color-unfitted-level-2: #ffe0b3;\n",
       "  --sklearn-color-unfitted-level-3: chocolate;\n",
       "  /* Definition of color scheme for fitted estimators */\n",
       "  --sklearn-color-fitted-level-0: #f0f8ff;\n",
       "  --sklearn-color-fitted-level-1: #d4ebff;\n",
       "  --sklearn-color-fitted-level-2: #b3dbfd;\n",
       "  --sklearn-color-fitted-level-3: cornflowerblue;\n",
       "\n",
       "  /* Specific color for light theme */\n",
       "  --sklearn-color-text-on-default-background: var(--sg-text-color, var(--theme-code-foreground, var(--jp-content-font-color1, black)));\n",
       "  --sklearn-color-background: var(--sg-background-color, var(--theme-background, var(--jp-layout-color0, white)));\n",
       "  --sklearn-color-border-box: var(--sg-text-color, var(--theme-code-foreground, var(--jp-content-font-color1, black)));\n",
       "  --sklearn-color-icon: #696969;\n",
       "\n",
       "  @media (prefers-color-scheme: dark) {\n",
       "    /* Redefinition of color scheme for dark theme */\n",
       "    --sklearn-color-text-on-default-background: var(--sg-text-color, var(--theme-code-foreground, var(--jp-content-font-color1, white)));\n",
       "    --sklearn-color-background: var(--sg-background-color, var(--theme-background, var(--jp-layout-color0, #111)));\n",
       "    --sklearn-color-border-box: var(--sg-text-color, var(--theme-code-foreground, var(--jp-content-font-color1, white)));\n",
       "    --sklearn-color-icon: #878787;\n",
       "  }\n",
       "}\n",
       "\n",
       "#sk-container-id-1 {\n",
       "  color: var(--sklearn-color-text);\n",
       "}\n",
       "\n",
       "#sk-container-id-1 pre {\n",
       "  padding: 0;\n",
       "}\n",
       "\n",
       "#sk-container-id-1 input.sk-hidden--visually {\n",
       "  border: 0;\n",
       "  clip: rect(1px 1px 1px 1px);\n",
       "  clip: rect(1px, 1px, 1px, 1px);\n",
       "  height: 1px;\n",
       "  margin: -1px;\n",
       "  overflow: hidden;\n",
       "  padding: 0;\n",
       "  position: absolute;\n",
       "  width: 1px;\n",
       "}\n",
       "\n",
       "#sk-container-id-1 div.sk-dashed-wrapped {\n",
       "  border: 1px dashed var(--sklearn-color-line);\n",
       "  margin: 0 0.4em 0.5em 0.4em;\n",
       "  box-sizing: border-box;\n",
       "  padding-bottom: 0.4em;\n",
       "  background-color: var(--sklearn-color-background);\n",
       "}\n",
       "\n",
       "#sk-container-id-1 div.sk-container {\n",
       "  /* jupyter's `normalize.less` sets `[hidden] { display: none; }`\n",
       "     but bootstrap.min.css set `[hidden] { display: none !important; }`\n",
       "     so we also need the `!important` here to be able to override the\n",
       "     default hidden behavior on the sphinx rendered scikit-learn.org.\n",
       "     See: https://github.com/scikit-learn/scikit-learn/issues/21755 */\n",
       "  display: inline-block !important;\n",
       "  position: relative;\n",
       "}\n",
       "\n",
       "#sk-container-id-1 div.sk-text-repr-fallback {\n",
       "  display: none;\n",
       "}\n",
       "\n",
       "div.sk-parallel-item,\n",
       "div.sk-serial,\n",
       "div.sk-item {\n",
       "  /* draw centered vertical line to link estimators */\n",
       "  background-image: linear-gradient(var(--sklearn-color-text-on-default-background), var(--sklearn-color-text-on-default-background));\n",
       "  background-size: 2px 100%;\n",
       "  background-repeat: no-repeat;\n",
       "  background-position: center center;\n",
       "}\n",
       "\n",
       "/* Parallel-specific style estimator block */\n",
       "\n",
       "#sk-container-id-1 div.sk-parallel-item::after {\n",
       "  content: \"\";\n",
       "  width: 100%;\n",
       "  border-bottom: 2px solid var(--sklearn-color-text-on-default-background);\n",
       "  flex-grow: 1;\n",
       "}\n",
       "\n",
       "#sk-container-id-1 div.sk-parallel {\n",
       "  display: flex;\n",
       "  align-items: stretch;\n",
       "  justify-content: center;\n",
       "  background-color: var(--sklearn-color-background);\n",
       "  position: relative;\n",
       "}\n",
       "\n",
       "#sk-container-id-1 div.sk-parallel-item {\n",
       "  display: flex;\n",
       "  flex-direction: column;\n",
       "}\n",
       "\n",
       "#sk-container-id-1 div.sk-parallel-item:first-child::after {\n",
       "  align-self: flex-end;\n",
       "  width: 50%;\n",
       "}\n",
       "\n",
       "#sk-container-id-1 div.sk-parallel-item:last-child::after {\n",
       "  align-self: flex-start;\n",
       "  width: 50%;\n",
       "}\n",
       "\n",
       "#sk-container-id-1 div.sk-parallel-item:only-child::after {\n",
       "  width: 0;\n",
       "}\n",
       "\n",
       "/* Serial-specific style estimator block */\n",
       "\n",
       "#sk-container-id-1 div.sk-serial {\n",
       "  display: flex;\n",
       "  flex-direction: column;\n",
       "  align-items: center;\n",
       "  background-color: var(--sklearn-color-background);\n",
       "  padding-right: 1em;\n",
       "  padding-left: 1em;\n",
       "}\n",
       "\n",
       "\n",
       "/* Toggleable style: style used for estimator/Pipeline/ColumnTransformer box that is\n",
       "clickable and can be expanded/collapsed.\n",
       "- Pipeline and ColumnTransformer use this feature and define the default style\n",
       "- Estimators will overwrite some part of the style using the `sk-estimator` class\n",
       "*/\n",
       "\n",
       "/* Pipeline and ColumnTransformer style (default) */\n",
       "\n",
       "#sk-container-id-1 div.sk-toggleable {\n",
       "  /* Default theme specific background. It is overwritten whether we have a\n",
       "  specific estimator or a Pipeline/ColumnTransformer */\n",
       "  background-color: var(--sklearn-color-background);\n",
       "}\n",
       "\n",
       "/* Toggleable label */\n",
       "#sk-container-id-1 label.sk-toggleable__label {\n",
       "  cursor: pointer;\n",
       "  display: block;\n",
       "  width: 100%;\n",
       "  margin-bottom: 0;\n",
       "  padding: 0.5em;\n",
       "  box-sizing: border-box;\n",
       "  text-align: center;\n",
       "}\n",
       "\n",
       "#sk-container-id-1 label.sk-toggleable__label-arrow:before {\n",
       "  /* Arrow on the left of the label */\n",
       "  content: \"▸\";\n",
       "  float: left;\n",
       "  margin-right: 0.25em;\n",
       "  color: var(--sklearn-color-icon);\n",
       "}\n",
       "\n",
       "#sk-container-id-1 label.sk-toggleable__label-arrow:hover:before {\n",
       "  color: var(--sklearn-color-text);\n",
       "}\n",
       "\n",
       "/* Toggleable content - dropdown */\n",
       "\n",
       "#sk-container-id-1 div.sk-toggleable__content {\n",
       "  max-height: 0;\n",
       "  max-width: 0;\n",
       "  overflow: hidden;\n",
       "  text-align: left;\n",
       "  /* unfitted */\n",
       "  background-color: var(--sklearn-color-unfitted-level-0);\n",
       "}\n",
       "\n",
       "#sk-container-id-1 div.sk-toggleable__content.fitted {\n",
       "  /* fitted */\n",
       "  background-color: var(--sklearn-color-fitted-level-0);\n",
       "}\n",
       "\n",
       "#sk-container-id-1 div.sk-toggleable__content pre {\n",
       "  margin: 0.2em;\n",
       "  border-radius: 0.25em;\n",
       "  color: var(--sklearn-color-text);\n",
       "  /* unfitted */\n",
       "  background-color: var(--sklearn-color-unfitted-level-0);\n",
       "}\n",
       "\n",
       "#sk-container-id-1 div.sk-toggleable__content.fitted pre {\n",
       "  /* unfitted */\n",
       "  background-color: var(--sklearn-color-fitted-level-0);\n",
       "}\n",
       "\n",
       "#sk-container-id-1 input.sk-toggleable__control:checked~div.sk-toggleable__content {\n",
       "  /* Expand drop-down */\n",
       "  max-height: 200px;\n",
       "  max-width: 100%;\n",
       "  overflow: auto;\n",
       "}\n",
       "\n",
       "#sk-container-id-1 input.sk-toggleable__control:checked~label.sk-toggleable__label-arrow:before {\n",
       "  content: \"▾\";\n",
       "}\n",
       "\n",
       "/* Pipeline/ColumnTransformer-specific style */\n",
       "\n",
       "#sk-container-id-1 div.sk-label input.sk-toggleable__control:checked~label.sk-toggleable__label {\n",
       "  color: var(--sklearn-color-text);\n",
       "  background-color: var(--sklearn-color-unfitted-level-2);\n",
       "}\n",
       "\n",
       "#sk-container-id-1 div.sk-label.fitted input.sk-toggleable__control:checked~label.sk-toggleable__label {\n",
       "  background-color: var(--sklearn-color-fitted-level-2);\n",
       "}\n",
       "\n",
       "/* Estimator-specific style */\n",
       "\n",
       "/* Colorize estimator box */\n",
       "#sk-container-id-1 div.sk-estimator input.sk-toggleable__control:checked~label.sk-toggleable__label {\n",
       "  /* unfitted */\n",
       "  background-color: var(--sklearn-color-unfitted-level-2);\n",
       "}\n",
       "\n",
       "#sk-container-id-1 div.sk-estimator.fitted input.sk-toggleable__control:checked~label.sk-toggleable__label {\n",
       "  /* fitted */\n",
       "  background-color: var(--sklearn-color-fitted-level-2);\n",
       "}\n",
       "\n",
       "#sk-container-id-1 div.sk-label label.sk-toggleable__label,\n",
       "#sk-container-id-1 div.sk-label label {\n",
       "  /* The background is the default theme color */\n",
       "  color: var(--sklearn-color-text-on-default-background);\n",
       "}\n",
       "\n",
       "/* On hover, darken the color of the background */\n",
       "#sk-container-id-1 div.sk-label:hover label.sk-toggleable__label {\n",
       "  color: var(--sklearn-color-text);\n",
       "  background-color: var(--sklearn-color-unfitted-level-2);\n",
       "}\n",
       "\n",
       "/* Label box, darken color on hover, fitted */\n",
       "#sk-container-id-1 div.sk-label.fitted:hover label.sk-toggleable__label.fitted {\n",
       "  color: var(--sklearn-color-text);\n",
       "  background-color: var(--sklearn-color-fitted-level-2);\n",
       "}\n",
       "\n",
       "/* Estimator label */\n",
       "\n",
       "#sk-container-id-1 div.sk-label label {\n",
       "  font-family: monospace;\n",
       "  font-weight: bold;\n",
       "  display: inline-block;\n",
       "  line-height: 1.2em;\n",
       "}\n",
       "\n",
       "#sk-container-id-1 div.sk-label-container {\n",
       "  text-align: center;\n",
       "}\n",
       "\n",
       "/* Estimator-specific */\n",
       "#sk-container-id-1 div.sk-estimator {\n",
       "  font-family: monospace;\n",
       "  border: 1px dotted var(--sklearn-color-border-box);\n",
       "  border-radius: 0.25em;\n",
       "  box-sizing: border-box;\n",
       "  margin-bottom: 0.5em;\n",
       "  /* unfitted */\n",
       "  background-color: var(--sklearn-color-unfitted-level-0);\n",
       "}\n",
       "\n",
       "#sk-container-id-1 div.sk-estimator.fitted {\n",
       "  /* fitted */\n",
       "  background-color: var(--sklearn-color-fitted-level-0);\n",
       "}\n",
       "\n",
       "/* on hover */\n",
       "#sk-container-id-1 div.sk-estimator:hover {\n",
       "  /* unfitted */\n",
       "  background-color: var(--sklearn-color-unfitted-level-2);\n",
       "}\n",
       "\n",
       "#sk-container-id-1 div.sk-estimator.fitted:hover {\n",
       "  /* fitted */\n",
       "  background-color: var(--sklearn-color-fitted-level-2);\n",
       "}\n",
       "\n",
       "/* Specification for estimator info (e.g. \"i\" and \"?\") */\n",
       "\n",
       "/* Common style for \"i\" and \"?\" */\n",
       "\n",
       ".sk-estimator-doc-link,\n",
       "a:link.sk-estimator-doc-link,\n",
       "a:visited.sk-estimator-doc-link {\n",
       "  float: right;\n",
       "  font-size: smaller;\n",
       "  line-height: 1em;\n",
       "  font-family: monospace;\n",
       "  background-color: var(--sklearn-color-background);\n",
       "  border-radius: 1em;\n",
       "  height: 1em;\n",
       "  width: 1em;\n",
       "  text-decoration: none !important;\n",
       "  margin-left: 1ex;\n",
       "  /* unfitted */\n",
       "  border: var(--sklearn-color-unfitted-level-1) 1pt solid;\n",
       "  color: var(--sklearn-color-unfitted-level-1);\n",
       "}\n",
       "\n",
       ".sk-estimator-doc-link.fitted,\n",
       "a:link.sk-estimator-doc-link.fitted,\n",
       "a:visited.sk-estimator-doc-link.fitted {\n",
       "  /* fitted */\n",
       "  border: var(--sklearn-color-fitted-level-1) 1pt solid;\n",
       "  color: var(--sklearn-color-fitted-level-1);\n",
       "}\n",
       "\n",
       "/* On hover */\n",
       "div.sk-estimator:hover .sk-estimator-doc-link:hover,\n",
       ".sk-estimator-doc-link:hover,\n",
       "div.sk-label-container:hover .sk-estimator-doc-link:hover,\n",
       ".sk-estimator-doc-link:hover {\n",
       "  /* unfitted */\n",
       "  background-color: var(--sklearn-color-unfitted-level-3);\n",
       "  color: var(--sklearn-color-background);\n",
       "  text-decoration: none;\n",
       "}\n",
       "\n",
       "div.sk-estimator.fitted:hover .sk-estimator-doc-link.fitted:hover,\n",
       ".sk-estimator-doc-link.fitted:hover,\n",
       "div.sk-label-container:hover .sk-estimator-doc-link.fitted:hover,\n",
       ".sk-estimator-doc-link.fitted:hover {\n",
       "  /* fitted */\n",
       "  background-color: var(--sklearn-color-fitted-level-3);\n",
       "  color: var(--sklearn-color-background);\n",
       "  text-decoration: none;\n",
       "}\n",
       "\n",
       "/* Span, style for the box shown on hovering the info icon */\n",
       ".sk-estimator-doc-link span {\n",
       "  display: none;\n",
       "  z-index: 9999;\n",
       "  position: relative;\n",
       "  font-weight: normal;\n",
       "  right: .2ex;\n",
       "  padding: .5ex;\n",
       "  margin: .5ex;\n",
       "  width: min-content;\n",
       "  min-width: 20ex;\n",
       "  max-width: 50ex;\n",
       "  color: var(--sklearn-color-text);\n",
       "  box-shadow: 2pt 2pt 4pt #999;\n",
       "  /* unfitted */\n",
       "  background: var(--sklearn-color-unfitted-level-0);\n",
       "  border: .5pt solid var(--sklearn-color-unfitted-level-3);\n",
       "}\n",
       "\n",
       ".sk-estimator-doc-link.fitted span {\n",
       "  /* fitted */\n",
       "  background: var(--sklearn-color-fitted-level-0);\n",
       "  border: var(--sklearn-color-fitted-level-3);\n",
       "}\n",
       "\n",
       ".sk-estimator-doc-link:hover span {\n",
       "  display: block;\n",
       "}\n",
       "\n",
       "/* \"?\"-specific style due to the `<a>` HTML tag */\n",
       "\n",
       "#sk-container-id-1 a.estimator_doc_link {\n",
       "  float: right;\n",
       "  font-size: 1rem;\n",
       "  line-height: 1em;\n",
       "  font-family: monospace;\n",
       "  background-color: var(--sklearn-color-background);\n",
       "  border-radius: 1rem;\n",
       "  height: 1rem;\n",
       "  width: 1rem;\n",
       "  text-decoration: none;\n",
       "  /* unfitted */\n",
       "  color: var(--sklearn-color-unfitted-level-1);\n",
       "  border: var(--sklearn-color-unfitted-level-1) 1pt solid;\n",
       "}\n",
       "\n",
       "#sk-container-id-1 a.estimator_doc_link.fitted {\n",
       "  /* fitted */\n",
       "  border: var(--sklearn-color-fitted-level-1) 1pt solid;\n",
       "  color: var(--sklearn-color-fitted-level-1);\n",
       "}\n",
       "\n",
       "/* On hover */\n",
       "#sk-container-id-1 a.estimator_doc_link:hover {\n",
       "  /* unfitted */\n",
       "  background-color: var(--sklearn-color-unfitted-level-3);\n",
       "  color: var(--sklearn-color-background);\n",
       "  text-decoration: none;\n",
       "}\n",
       "\n",
       "#sk-container-id-1 a.estimator_doc_link.fitted:hover {\n",
       "  /* fitted */\n",
       "  background-color: var(--sklearn-color-fitted-level-3);\n",
       "}\n",
       "</style><div id=\"sk-container-id-1\" class=\"sk-top-container\"><div class=\"sk-text-repr-fallback\"><pre>MinMaxScaler()</pre><b>In a Jupyter environment, please rerun this cell to show the HTML representation or trust the notebook. <br />On GitHub, the HTML representation is unable to render, please try loading this page with nbviewer.org.</b></div><div class=\"sk-container\" hidden><div class=\"sk-item\"><div class=\"sk-estimator fitted sk-toggleable\"><input class=\"sk-toggleable__control sk-hidden--visually\" id=\"sk-estimator-id-1\" type=\"checkbox\" checked><label for=\"sk-estimator-id-1\" class=\"sk-toggleable__label fitted sk-toggleable__label-arrow fitted\">&nbsp;&nbsp;MinMaxScaler<a class=\"sk-estimator-doc-link fitted\" rel=\"noreferrer\" target=\"_blank\" href=\"https://scikit-learn.org/1.5/modules/generated/sklearn.preprocessing.MinMaxScaler.html\">?<span>Documentation for MinMaxScaler</span></a><span class=\"sk-estimator-doc-link fitted\">i<span>Fitted</span></span></label><div class=\"sk-toggleable__content fitted\"><pre>MinMaxScaler()</pre></div> </div></div></div></div>"
      ],
      "text/plain": [
       "MinMaxScaler()"
      ]
     },
     "execution_count": 3,
     "metadata": {},
     "output_type": "execute_result"
    }
   ],
   "source": [
    "scaler = MinMaxScaler()\n",
    "scaler.fit( df_data[['demand']] )"
   ]
  },
  {
   "cell_type": "code",
   "execution_count": 4,
   "id": "b4f75e9c-8bc3-4667-aadb-f7db5060e828",
   "metadata": {},
   "outputs": [],
   "source": [
    "window_size = 720"
   ]
  },
  {
   "cell_type": "code",
   "execution_count": 5,
   "id": "9d5e9706-428e-4af7-a116-317452ce3a79",
   "metadata": {},
   "outputs": [],
   "source": [
    "class PowerDemandVolumeDataset(Dataset):\n",
    "    \n",
    "    def __init__(self, df_data, data_type , transformer, window_size=window_size):\n",
    "\n",
    "        self.type = data_type\n",
    "        self.transformer = transformer\n",
    "        # window_size= 720 #(24 Hour  * 30Day)\n",
    "        self.window_size = window_size\n",
    "        self.df_data = df_data\n",
    "\n",
    "        self.data = self.getData()\n",
    "        \n",
    "        features = self.data\n",
    "        target = self.data.demand\n",
    "        \n",
    "        self.x, self.y = [], []\n",
    "\n",
    "\n",
    "        # 각 시간간격별 예측시  1시간뒤: x = 0 , 2시간뒤: x = 1, 3시간뒤: x = 2 ...\n",
    "        #\n",
    "        # for i in range(len(features) - self.window_size - X):\n",
    "        #     v = features.iloc[ i: (i + window_size) ].values\n",
    "        #     self.x.append(v)\n",
    "        #     self.y.append( target.iloc[ i + window_size + x] )\n",
    "\n",
    "        \n",
    "        for i in range(len(features) - self.window_size ):\n",
    "            v = features.iloc[ i: (i + window_size) ].values\n",
    "            self.x.append(v)\n",
    "            self.y.append( features.iloc[ i + window_size ]['demand'] )\n",
    "            #self.y.append( target[ i + window_size ] )\n",
    "\n",
    "\n",
    "        # Many to Many output_size = 6\n",
    "       # for i in range(len(features) - self.window_size - 6 + 1):\n",
    "       #     self.x.append( features.iloc[ i: (i + window_size) ].values )\n",
    "       #     a = target[  i + window_size :  i + window_size + 6].values.reshape(-1, 1)\n",
    "       #     self.y.append( a)\n",
    "    \n",
    "\n",
    "    def getData(self):\n",
    "\n",
    "        if self.type == 'train':\n",
    "            df_data = self.df_data.loc['2013-01-01':'2020-12-31']\n",
    "            df_data.demand =  self.transformer.transform(df_data[['demand']])\n",
    "            return df_data\n",
    "        elif self.type == 'valid':\n",
    "            df_data = self.df_data.loc['2020-01-01':'2022-12-31']\n",
    "            df_data.demand =  self.transformer.transform(df_data[['demand']])\n",
    "            return df_data\n",
    "        elif self.type == 'test': \n",
    "            df_data = self.df_data.loc['2023-01-01':'2023-12-31']\n",
    "            df_data.demand =  self.transformer.transform(df_data[['demand']])\n",
    "            return df_data\n",
    "        else:\n",
    "            df_data = self.df_data\n",
    "            df_data.demand =  self.transformer.transform(df_data[['demand']])\n",
    "            return df_data\n",
    "    \n",
    "    \n",
    "    def __getitem__(self, index):\n",
    "        \n",
    "        x = self.x[index].astype(np.float32)\n",
    "        y = self.y[index].astype(np.float32)\n",
    "        return x, y\n",
    "    \n",
    "        \n",
    "        \n",
    "    \n",
    "    def __len__(self):\n",
    "        \n",
    "        return len(self.x)"
   ]
  },
  {
   "cell_type": "code",
   "execution_count": 6,
   "id": "67d092fd-2f24-41cf-aefc-c7cdd7bf97e9",
   "metadata": {},
   "outputs": [
    {
     "name": "stdout",
     "output_type": "stream",
     "text": [
      "Device:mps, Number of workers:8\n",
      "Current Dir:/Volumes/WorkSpace/PythonProjects/timeSerise\n"
     ]
    }
   ],
   "source": [
    "input_size =50\n",
    "batch_size=100\n",
    "learning_rate=0.0001\n",
    "log_path = os.getcwd()\n",
    "device = torch.device(\"mps\") if torch.backends.mps.is_available() else  torch.device(\"cpu\")\n",
    "NUM_WORKERS = os.cpu_count()\n",
    "print(f'Device:{device}, Number of workers:{NUM_WORKERS}\\nCurrent Dir:{log_path}')"
   ]
  },
  {
   "cell_type": "code",
   "execution_count": 7,
   "id": "596a8607-ad47-4aa5-939c-e467b6470926",
   "metadata": {
    "scrolled": true
   },
   "outputs": [
    {
     "name": "stderr",
     "output_type": "stream",
     "text": [
      "/var/folders/r5/124yntwj1n7_xfgvd8f6pzv40000gn/T/ipykernel_7451/4046016201.py:53: SettingWithCopyWarning: \n",
      "A value is trying to be set on a copy of a slice from a DataFrame.\n",
      "Try using .loc[row_indexer,col_indexer] = value instead\n",
      "\n",
      "See the caveats in the documentation: https://pandas.pydata.org/pandas-docs/stable/user_guide/indexing.html#returning-a-view-versus-a-copy\n",
      "  df_data.demand =  self.transformer.transform(df_data[['demand']])\n"
     ]
    },
    {
     "name": "stdout",
     "output_type": "stream",
     "text": [
      "Size of the features (720, 50)\n",
      "Printing features:\n",
      " [[0.48199946 1.         0.         ... 0.         0.         0.        ]\n",
      " [0.44007826 1.         0.         ... 0.         0.         0.        ]\n",
      " [0.41011736 1.         0.         ... 0.         0.         0.        ]\n",
      " ...\n",
      " [0.67333037 1.         0.         ... 0.         0.         0.        ]\n",
      " [0.6700014  1.         0.         ... 0.         0.         0.        ]\n",
      " [0.66288006 1.         0.         ... 0.         0.         0.        ]]\n",
      "Size of the targets ()\n",
      "Printing targets:\n",
      " 0.5984796\n"
     ]
    }
   ],
   "source": [
    "test_data = PowerDemandVolumeDataset(df_data=df_data, data_type='test', transformer=scaler,  window_size=window_size)\n",
    "#let's loop it over single iteration and print the shape and also data\n",
    "for i, (features,targets) in enumerate(test_data):\n",
    "    print(\"Size of the features\",features.shape)\n",
    "    print(\"Printing features:\\n\", features)\n",
    "    print(\"Size of the targets\",targets.shape)\n",
    "    print(\"Printing targets:\\n\", targets)\n",
    "    break"
   ]
  },
  {
   "cell_type": "code",
   "execution_count": null,
   "id": "3aca5e2a-15bd-41e9-85b6-f0d49db4ddc4",
   "metadata": {
    "scrolled": true
   },
   "outputs": [],
   "source": [
    "#num_worker = 1\n",
    "train_loader = DataLoader( PowerDemandVolumeDataset(df_data=df_data, data_type='train', transformer=scaler), batch_size=batch_size)\n",
    "valid_loader = DataLoader( PowerDemandVolumeDataset(df_data=df_data, data_type='valid', transformer=scaler), batch_size=batch_size)\n",
    "test_loader = DataLoader( PowerDemandVolumeDataset(df_data=df_data, data_type='test', transformer=scaler), batch_size=batch_size)\n"
   ]
  },
  {
   "cell_type": "code",
   "execution_count": null,
   "id": "b5e742fa-d61a-4431-9e2c-0e93c7138853",
   "metadata": {},
   "outputs": [],
   "source": []
  },
  {
   "cell_type": "code",
   "execution_count": null,
   "id": "95798dc9-77f6-480d-bb45-f051feef7c2b",
   "metadata": {},
   "outputs": [],
   "source": []
  },
  {
   "cell_type": "code",
   "execution_count": null,
   "id": "808781ed-0bfd-4c18-8618-d2aba375e7e4",
   "metadata": {},
   "outputs": [],
   "source": []
  },
  {
   "cell_type": "code",
   "execution_count": 8,
   "id": "9f62eaeb-fff9-4877-b050-39d7303f472b",
   "metadata": {},
   "outputs": [],
   "source": [
    "class PowerDemandPrediction(L.LightningModule):\n",
    "    def __init__(self, input_size=input_size, output_size=1, hidden_dim=10, n_layers=2, lr=learning_rate, window_size=window_size):\n",
    " \n",
    "        super(PowerDemandPrediction, self).__init__()\n",
    "\n",
    "        self.hidden_dim = hidden_dim\n",
    "        self.n_layers = n_layers\n",
    "        self.lstm = nn.LSTM(input_size, hidden_dim, n_layers, bidirectional=False, batch_first=True)\n",
    "        self.fc = nn.Linear(hidden_dim * window_size, output_size)\n",
    "        self.loss = nn.MSELoss()\n",
    "        self.flatten = nn.Flatten()\n",
    "        self.learning_rate = lr\n",
    "\n",
    "    \n",
    "    def forward(self, x):\n",
    "        \n",
    "        batch_size = x.size(0)\n",
    "        hidden = self.init_hidden(batch_size)    \n",
    "        lstm_out, (hidden, cell) = self.lstm(x, hidden)\n",
    "        out = self.flatten(lstm_out)\n",
    "        out = self.fc(out)\n",
    "        return out\n",
    "\n",
    "    def init_hidden(self, batch_size):   \n",
    "        hidden_state = torch.zeros(self.n_layers, batch_size, self.hidden_dim).to(device)\n",
    "        cell_state = torch.zeros(self.n_layers, batch_size, self.hidden_dim).to(device)\n",
    "        hidden = (hidden_state, cell_state)\n",
    "        return hidden\n",
    "\n",
    "    def configure_optimizers(self):\n",
    "        return {'optimizer': torch.optim.Adam(params=self.parameters(), lr = self.learning_rate) }\n",
    "\n",
    "    def training_step(self, train_batch, batch_idx):\n",
    "        features, targets = train_batch\n",
    "        output = self(features) \n",
    "        output = output.view(-1)\n",
    "        loss = self.loss(output, targets)\n",
    "        self.log('train_loss', loss, prog_bar=True)\n",
    "        return {\"loss\": loss}\n",
    "        \n",
    "    \n",
    "    def validation_step(self, val_batch, batch_idx):\n",
    "        features, targets = val_batch\n",
    "        output = self(features) \n",
    "        output = output.view(-1)\n",
    "        loss = self.loss(output, targets)\n",
    "        self.log('val_loss', loss, prog_bar=True)\n",
    "\n",
    "    def predict_step(self, batch, batch_idx):\n",
    "        features, targets = batch\n",
    "        result = self(features)\n",
    "        return result.view(-1).tolist()\n",
    "        \n"
   ]
  },
  {
   "cell_type": "code",
   "execution_count": 11,
   "id": "9979dd22-246c-43d0-a11e-7f17038be046",
   "metadata": {},
   "outputs": [
    {
     "data": {
      "text/plain": [
       "PowerDemandPrediction(\n",
       "  (lstm): LSTM(50, 10, num_layers=2, batch_first=True)\n",
       "  (fc): Linear(in_features=7200, out_features=1, bias=True)\n",
       "  (loss): MSELoss()\n",
       "  (flatten): Flatten(start_dim=1, end_dim=-1)\n",
       ")"
      ]
     },
     "execution_count": 11,
     "metadata": {},
     "output_type": "execute_result"
    }
   ],
   "source": [
    "model = PowerDemandPrediction().to(device)\n",
    "model"
   ]
  },
  {
   "cell_type": "code",
   "execution_count": 22,
   "id": "53646ccd-8824-4c9f-9ab5-a64db6cf4831",
   "metadata": {},
   "outputs": [
    {
     "name": "stderr",
     "output_type": "stream",
     "text": [
      "GPU available: True (mps), used: True\n",
      "TPU available: False, using: 0 TPU cores\n",
      "HPU available: False, using: 0 HPUs\n",
      "Running in `fast_dev_run` mode: will run the requested loop using 1 batch(es). Logging and checkpointing is suppressed.\n"
     ]
    }
   ],
   "source": [
    "trainer = L.Trainer( fast_dev_run=True, accelerator='mps', devices=1)"
   ]
  },
  {
   "cell_type": "code",
   "execution_count": 11,
   "id": "1fa86263-6822-4684-a2bf-9898891da598",
   "metadata": {},
   "outputs": [
    {
     "name": "stderr",
     "output_type": "stream",
     "text": [
      "/Library/Frameworks/Python.framework/Versions/3.12/lib/python3.12/site-packages/lightning_fabric/connector.py:571: `precision=16` is supported for historical reasons but its usage is discouraged. Please set your precision to 16-mixed instead!\n",
      "Using 16bit Automatic Mixed Precision (AMP)\n",
      "/Library/Frameworks/Python.framework/Versions/3.12/lib/python3.12/site-packages/torch/amp/grad_scaler.py:132: UserWarning: torch.cuda.amp.GradScaler is enabled, but CUDA is not available.  Disabling.\n",
      "  warnings.warn(\n",
      "GPU available: True (mps), used: True\n",
      "TPU available: False, using: 0 TPU cores\n",
      "HPU available: False, using: 0 HPUs\n"
     ]
    }
   ],
   "source": [
    "trainer = L.Trainer( default_root_dir=log_path, precision=\"16\", max_epochs=1, accelerator='mps', devices=1)"
   ]
  },
  {
   "cell_type": "code",
   "execution_count": null,
   "id": "eb0b52d5-3a04-43b6-bf7f-17b5c90a8162",
   "metadata": {},
   "outputs": [
    {
     "name": "stderr",
     "output_type": "stream",
     "text": [
      "\n",
      "  | Name    | Type    | Params | Mode\n",
      "-------------------------------------------\n",
      "0 | lstm    | LSTM    | 3.4 K  | eval\n",
      "1 | fc      | Linear  | 7.2 K  | eval\n",
      "2 | loss    | MSELoss | 0      | eval\n",
      "3 | flatten | Flatten | 0      | eval\n",
      "-------------------------------------------\n",
      "10.6 K    Trainable params\n",
      "0         Non-trainable params\n",
      "10.6 K    Total params\n",
      "0.042     Total estimated model params size (MB)\n",
      "0         Modules in train mode\n",
      "4         Modules in eval mode\n"
     ]
    },
    {
     "data": {
      "application/vnd.jupyter.widget-view+json": {
       "model_id": "",
       "version_major": 2,
       "version_minor": 0
      },
      "text/plain": [
       "Sanity Checking: |                                                            | 0/? [00:00<?, ?it/s]"
      ]
     },
     "metadata": {},
     "output_type": "display_data"
    },
    {
     "name": "stderr",
     "output_type": "stream",
     "text": [
      "/Library/Frameworks/Python.framework/Versions/3.12/lib/python3.12/site-packages/pytorch_lightning/trainer/connectors/data_connector.py:424: PossibleUserWarning:\n",
      "\n",
      "The 'val_dataloader' does not have many workers which may be a bottleneck. Consider increasing the value of the `num_workers` argument` to `num_workers=7` in the `DataLoader` to improve performance.\n",
      "\n",
      "/Library/Frameworks/Python.framework/Versions/3.12/lib/python3.12/site-packages/torch/amp/autocast_mode.py:266: UserWarning:\n",
      "\n",
      "User provided device_type of 'cuda', but CUDA is not available. Disabling\n",
      "\n",
      "/Library/Frameworks/Python.framework/Versions/3.12/lib/python3.12/site-packages/pytorch_lightning/trainer/connectors/data_connector.py:424: PossibleUserWarning:\n",
      "\n",
      "The 'train_dataloader' does not have many workers which may be a bottleneck. Consider increasing the value of the `num_workers` argument` to `num_workers=7` in the `DataLoader` to improve performance.\n",
      "\n"
     ]
    },
    {
     "data": {
      "application/vnd.jupyter.widget-view+json": {
       "model_id": "b51178a14f2648fd98b107bcef6d056b",
       "version_major": 2,
       "version_minor": 0
      },
      "text/plain": [
       "Training: |                                                                   | 0/? [00:00<?, ?it/s]"
      ]
     },
     "metadata": {},
     "output_type": "display_data"
    },
    {
     "data": {
      "application/vnd.jupyter.widget-view+json": {
       "model_id": "",
       "version_major": 2,
       "version_minor": 0
      },
      "text/plain": [
       "Validation: |                                                                 | 0/? [00:00<?, ?it/s]"
      ]
     },
     "metadata": {},
     "output_type": "display_data"
    }
   ],
   "source": [
    "trainer.fit( model, train_loader,  valid_loader)"
   ]
  },
  {
   "cell_type": "code",
   "execution_count": 9,
   "id": "e0121a9a-7976-476a-8b8d-9f418251c0b6",
   "metadata": {},
   "outputs": [
    {
     "data": {
      "text/plain": [
       "PowerDemandPrediction(\n",
       "  (lstm): LSTM(50, 10, num_layers=2, batch_first=True)\n",
       "  (fc): Linear(in_features=7200, out_features=1, bias=True)\n",
       "  (loss): MSELoss()\n",
       "  (flatten): Flatten(start_dim=1, end_dim=-1)\n",
       ")"
      ]
     },
     "execution_count": 9,
     "metadata": {},
     "output_type": "execute_result"
    }
   ],
   "source": [
    "PATH = '/Volumes/WorkSpace/PythonProjects/timeSerise/lightning_logs/version_18/checkpoints/epoch=0-step=81.ckpt'\n",
    "model = PowerDemandPrediction.load_from_checkpoint(PATH).to(device)\n",
    "model.eval()"
   ]
  },
  {
   "cell_type": "code",
   "execution_count": null,
   "id": "0640c404-4f84-4d1a-85c8-b03aed1fdfa3",
   "metadata": {},
   "outputs": [],
   "source": []
  },
  {
   "cell_type": "code",
   "execution_count": null,
   "id": "727ee1ac-2e8e-45a4-a99f-59f7ea9f3bec",
   "metadata": {},
   "outputs": [],
   "source": []
  },
  {
   "cell_type": "code",
   "execution_count": 33,
   "id": "6ebcda5e-05bb-42fe-aefb-091506557870",
   "metadata": {},
   "outputs": [
    {
     "name": "stderr",
     "output_type": "stream",
     "text": [
      "GPU available: True (mps), used: True\n",
      "TPU available: False, using: 0 TPU cores\n",
      "HPU available: False, using: 0 HPUs\n"
     ]
    },
    {
     "data": {
      "application/vnd.jupyter.widget-view+json": {
       "model_id": "6d0c5c3116964b9ab7612e5c2d7ac1dc",
       "version_major": 2,
       "version_minor": 0
      },
      "text/plain": [
       "Predicting: |                                                                 | 0/? [00:00<?, ?it/s]"
      ]
     },
     "metadata": {},
     "output_type": "display_data"
    }
   ],
   "source": [
    "trainer = L.Trainer( accelerator='mps', devices=1)\n",
    "predictions = trainer.predict(model, test_loader)\n"
   ]
  },
  {
   "cell_type": "code",
   "execution_count": null,
   "id": "40aeac56-c5b8-43f7-9197-77c7ad4616c9",
   "metadata": {},
   "outputs": [],
   "source": []
  },
  {
   "cell_type": "code",
   "execution_count": 21,
   "id": "faae0882-9d7d-41e9-addc-71c1f1a8f9e2",
   "metadata": {},
   "outputs": [],
   "source": [
    "predicted_result = sum(predictions, [])\n"
   ]
  },
  {
   "cell_type": "code",
   "execution_count": 17,
   "id": "20d9c1c9-0484-4883-9190-e46b0c95f2d3",
   "metadata": {},
   "outputs": [],
   "source": [
    "actual_result = []\n",
    "\n",
    "for i, (features,targets) in enumerate(test_loader):\n",
    "    targets = targets.to(device)\n",
    "    actual_result.extend(targets.view(-1).tolist())"
   ]
  },
  {
   "cell_type": "code",
   "execution_count": 13,
   "id": "487ca187-fde1-4dfb-8774-3f9d6ed60ab2",
   "metadata": {},
   "outputs": [],
   "source": [
    "predicted_result, actual_result = [], []\n",
    "\n",
    "for i, (features,targets) in enumerate(test_loader):\n",
    "\n",
    "    features = features.to(device)\n",
    "    targets = targets.to(device)\n",
    "\n",
    "    result = model(features)\n",
    "    predicted_result.extend(result.view(-1).tolist())\n",
    "    actual_result.extend(targets.view(-1).tolist())"
   ]
  },
  {
   "cell_type": "code",
   "execution_count": 18,
   "id": "92c71514-ec75-4d71-b7c0-ae931a6f7d65",
   "metadata": {},
   "outputs": [
    {
     "data": {
      "text/plain": [
       "2023-01-31 00:00:00    65069\n",
       "2023-01-31 01:00:00    62933\n",
       "2023-01-31 02:00:00    61792\n",
       "2023-01-31 03:00:00    61302\n",
       "2023-01-31 04:00:00    62034\n",
       "                       ...  \n",
       "2023-12-31 19:00:00    64934\n",
       "2023-12-31 20:00:00    63817\n",
       "2023-12-31 21:00:00    62436\n",
       "2023-12-31 22:00:00    63010\n",
       "2023-12-31 23:00:00    62981\n",
       "Freq: h, Name: demand, Length: 8040, dtype: int64"
      ]
     },
     "execution_count": 18,
     "metadata": {},
     "output_type": "execute_result"
    }
   ],
   "source": [
    "df_before = df_data.loc['2023-01-30':'2023-12-30']['demand']\n",
    "df_before.index = pd.date_range('2023-01-31 00:00:00', '2023-12-31 23:00:00', freq='1h')\n",
    "df_before"
   ]
  },
  {
   "cell_type": "code",
   "execution_count": 23,
   "id": "e5f2c387-464f-4605-9f2b-a5e9ac45ad6f",
   "metadata": {},
   "outputs": [
    {
     "data": {
      "text/html": [
       "<div>\n",
       "<style scoped>\n",
       "    .dataframe tbody tr th:only-of-type {\n",
       "        vertical-align: middle;\n",
       "    }\n",
       "\n",
       "    .dataframe tbody tr th {\n",
       "        vertical-align: top;\n",
       "    }\n",
       "\n",
       "    .dataframe thead th {\n",
       "        text-align: right;\n",
       "    }\n",
       "</style>\n",
       "<table border=\"1\" class=\"dataframe\">\n",
       "  <thead>\n",
       "    <tr style=\"text-align: right;\">\n",
       "      <th></th>\n",
       "      <th>actual</th>\n",
       "      <th>predicted</th>\n",
       "      <th>before</th>\n",
       "    </tr>\n",
       "  </thead>\n",
       "  <tbody>\n",
       "    <tr>\n",
       "      <th>2023-01-31 00:00:00</th>\n",
       "      <td>71109.998834</td>\n",
       "      <td>62240.229335</td>\n",
       "      <td>65069</td>\n",
       "    </tr>\n",
       "    <tr>\n",
       "      <th>2023-01-31 01:00:00</th>\n",
       "      <td>68704.999390</td>\n",
       "      <td>59534.294514</td>\n",
       "      <td>62933</td>\n",
       "    </tr>\n",
       "    <tr>\n",
       "      <th>2023-01-31 02:00:00</th>\n",
       "      <td>67449.999146</td>\n",
       "      <td>58380.656802</td>\n",
       "      <td>61792</td>\n",
       "    </tr>\n",
       "    <tr>\n",
       "      <th>2023-01-31 03:00:00</th>\n",
       "      <td>66689.999856</td>\n",
       "      <td>58254.090406</td>\n",
       "      <td>61302</td>\n",
       "    </tr>\n",
       "    <tr>\n",
       "      <th>2023-01-31 04:00:00</th>\n",
       "      <td>66998.000372</td>\n",
       "      <td>58542.679155</td>\n",
       "      <td>62034</td>\n",
       "    </tr>\n",
       "    <tr>\n",
       "      <th>...</th>\n",
       "      <td>...</td>\n",
       "      <td>...</td>\n",
       "      <td>...</td>\n",
       "    </tr>\n",
       "    <tr>\n",
       "      <th>2023-12-31 19:00:00</th>\n",
       "      <td>62901.999208</td>\n",
       "      <td>62352.443144</td>\n",
       "      <td>64934</td>\n",
       "    </tr>\n",
       "    <tr>\n",
       "      <th>2023-12-31 20:00:00</th>\n",
       "      <td>62060.999162</td>\n",
       "      <td>61816.041301</td>\n",
       "      <td>63817</td>\n",
       "    </tr>\n",
       "    <tr>\n",
       "      <th>2023-12-31 21:00:00</th>\n",
       "      <td>61402.999795</td>\n",
       "      <td>60946.971738</td>\n",
       "      <td>62436</td>\n",
       "    </tr>\n",
       "    <tr>\n",
       "      <th>2023-12-31 22:00:00</th>\n",
       "      <td>61890.999869</td>\n",
       "      <td>60767.854454</td>\n",
       "      <td>63010</td>\n",
       "    </tr>\n",
       "    <tr>\n",
       "      <th>2023-12-31 23:00:00</th>\n",
       "      <td>62125.000510</td>\n",
       "      <td>60231.020159</td>\n",
       "      <td>62981</td>\n",
       "    </tr>\n",
       "  </tbody>\n",
       "</table>\n",
       "<p>8040 rows × 3 columns</p>\n",
       "</div>"
      ],
      "text/plain": [
       "                           actual     predicted  before\n",
       "2023-01-31 00:00:00  71109.998834  62240.229335   65069\n",
       "2023-01-31 01:00:00  68704.999390  59534.294514   62933\n",
       "2023-01-31 02:00:00  67449.999146  58380.656802   61792\n",
       "2023-01-31 03:00:00  66689.999856  58254.090406   61302\n",
       "2023-01-31 04:00:00  66998.000372  58542.679155   62034\n",
       "...                           ...           ...     ...\n",
       "2023-12-31 19:00:00  62901.999208  62352.443144   64934\n",
       "2023-12-31 20:00:00  62060.999162  61816.041301   63817\n",
       "2023-12-31 21:00:00  61402.999795  60946.971738   62436\n",
       "2023-12-31 22:00:00  61890.999869  60767.854454   63010\n",
       "2023-12-31 23:00:00  62125.000510  60231.020159   62981\n",
       "\n",
       "[8040 rows x 3 columns]"
      ]
     },
     "execution_count": 23,
     "metadata": {},
     "output_type": "execute_result"
    }
   ],
   "source": [
    "actual_predicted_df = pd.DataFrame(data={\"actual\":actual_result, \"predicted\": predicted_result})\n",
    "inverse_transformed_values = scaler.inverse_transform(actual_predicted_df)\n",
    "actual_predicted_df[\"actual\"] = inverse_transformed_values[:,[0]]\n",
    "actual_predicted_df[\"predicted\"] = inverse_transformed_values[:,[1]]\n",
    "\n",
    "# window_size= 720 #(24 Hour  * 30Day) 을 뺀 일수 \n",
    "actual_predicted_df.index = pd.date_range('2023-01-31 00:00:00', '2023-12-31 23:00:00', freq='1h')\n",
    "\n",
    "actual_predicted_df['before'] = df_before\n",
    "actual_predicted_df"
   ]
  },
  {
   "cell_type": "code",
   "execution_count": 27,
   "id": "3833ec30-ce4b-4cbd-bd24-53262d39327f",
   "metadata": {},
   "outputs": [
    {
     "data": {
      "application/vnd.plotly.v1+json": {
       "config": {
        "plotlyServerURL": "https://plot.ly"
       },
       "data": [
        {
         "hovertemplate": "variable=actual<br>index=%{x}<br>value=%{y}<extra></extra>",
         "legendgroup": "actual",
         "line": {
          "color": "#4b9ed6",
          "dash": "solid"
         },
         "marker": {
          "symbol": "circle"
         },
         "mode": "lines+markers",
         "name": "actual",
         "orientation": "v",
         "showlegend": true,
         "type": "scatter",
         "x": [
          "2023-03-27T00:00:00",
          "2023-03-27T01:00:00",
          "2023-03-27T02:00:00",
          "2023-03-27T03:00:00",
          "2023-03-27T04:00:00",
          "2023-03-27T05:00:00",
          "2023-03-27T06:00:00",
          "2023-03-27T07:00:00",
          "2023-03-27T08:00:00",
          "2023-03-27T09:00:00",
          "2023-03-27T10:00:00",
          "2023-03-27T11:00:00",
          "2023-03-27T12:00:00",
          "2023-03-27T13:00:00",
          "2023-03-27T14:00:00",
          "2023-03-27T15:00:00",
          "2023-03-27T16:00:00",
          "2023-03-27T17:00:00",
          "2023-03-27T18:00:00",
          "2023-03-27T19:00:00",
          "2023-03-27T20:00:00",
          "2023-03-27T21:00:00",
          "2023-03-27T22:00:00",
          "2023-03-27T23:00:00",
          "2023-03-28T00:00:00",
          "2023-03-28T01:00:00",
          "2023-03-28T02:00:00",
          "2023-03-28T03:00:00",
          "2023-03-28T04:00:00",
          "2023-03-28T05:00:00",
          "2023-03-28T06:00:00",
          "2023-03-28T07:00:00",
          "2023-03-28T08:00:00",
          "2023-03-28T09:00:00",
          "2023-03-28T10:00:00",
          "2023-03-28T11:00:00",
          "2023-03-28T12:00:00",
          "2023-03-28T13:00:00",
          "2023-03-28T14:00:00",
          "2023-03-28T15:00:00",
          "2023-03-28T16:00:00",
          "2023-03-28T17:00:00",
          "2023-03-28T18:00:00",
          "2023-03-28T19:00:00",
          "2023-03-28T20:00:00",
          "2023-03-28T21:00:00",
          "2023-03-28T22:00:00",
          "2023-03-28T23:00:00"
         ],
         "xaxis": "x",
         "y": [
          54364.99989807606,
          52416.000722527504,
          51467.00024712086,
          51231.00059556961,
          52048.000353336334,
          54623.00082707405,
          58517.999793410294,
          62316.000705957405,
          63933.000813245766,
          63011.00001096725,
          61507.00046539306,
          57985.00026392937,
          54344.999368309975,
          56472.99946439266,
          57986.0006377697,
          60278.99989414214,
          64094.00021493434,
          66553.00074219702,
          68572.99867224692,
          69046.99872303008,
          67241.00090384482,
          65635.99833559988,
          65534.998786449425,
          64248.00047326087,
          60270.000003099434,
          58209.99927675724,
          57145.9992287159,
          56805.000269412994,
          57363.00046110153,
          59300.00036084651,
          62399.000473022454,
          65067.99961578845,
          66375.00019550322,
          65709.00131130217,
          64173.0002233982,
          61378.999506354325,
          58432.99927866458,
          61201.00069642066,
          62223.99931108951,
          63176.999545097344,
          65394.998551607125,
          66658.99868702887,
          68454.99971485136,
          69011.99953269957,
          67341.00007915495,
          65551.00129437445,
          65413.998707532875,
          64194.99976408481
         ],
         "yaxis": "y"
        },
        {
         "hovertemplate": "variable=predicted<br>index=%{x}<br>value=%{y}<extra></extra>",
         "legendgroup": "predicted",
         "line": {
          "color": "#c80004",
          "dash": "solid"
         },
         "marker": {
          "symbol": "circle"
         },
         "mode": "lines+markers",
         "name": "predicted",
         "orientation": "v",
         "showlegend": true,
         "type": "scatter",
         "x": [
          "2023-03-27T00:00:00",
          "2023-03-27T01:00:00",
          "2023-03-27T02:00:00",
          "2023-03-27T03:00:00",
          "2023-03-27T04:00:00",
          "2023-03-27T05:00:00",
          "2023-03-27T06:00:00",
          "2023-03-27T07:00:00",
          "2023-03-27T08:00:00",
          "2023-03-27T09:00:00",
          "2023-03-27T10:00:00",
          "2023-03-27T11:00:00",
          "2023-03-27T12:00:00",
          "2023-03-27T13:00:00",
          "2023-03-27T14:00:00",
          "2023-03-27T15:00:00",
          "2023-03-27T16:00:00",
          "2023-03-27T17:00:00",
          "2023-03-27T18:00:00",
          "2023-03-27T19:00:00",
          "2023-03-27T20:00:00",
          "2023-03-27T21:00:00",
          "2023-03-27T22:00:00",
          "2023-03-27T23:00:00",
          "2023-03-28T00:00:00",
          "2023-03-28T01:00:00",
          "2023-03-28T02:00:00",
          "2023-03-28T03:00:00",
          "2023-03-28T04:00:00",
          "2023-03-28T05:00:00",
          "2023-03-28T06:00:00",
          "2023-03-28T07:00:00",
          "2023-03-28T08:00:00",
          "2023-03-28T09:00:00",
          "2023-03-28T10:00:00",
          "2023-03-28T11:00:00",
          "2023-03-28T12:00:00",
          "2023-03-28T13:00:00",
          "2023-03-28T14:00:00",
          "2023-03-28T15:00:00",
          "2023-03-28T16:00:00",
          "2023-03-28T17:00:00",
          "2023-03-28T18:00:00",
          "2023-03-28T19:00:00",
          "2023-03-28T20:00:00",
          "2023-03-28T21:00:00",
          "2023-03-28T22:00:00",
          "2023-03-28T23:00:00"
         ],
         "xaxis": "x",
         "y": [
          51256.8852686882,
          48877.79568058252,
          47868.39589780569,
          48348.740333378315,
          49457.86227822304,
          51593.20886969566,
          54890.85092282295,
          58614.65917897224,
          62093.11533021926,
          63558.666479825966,
          63474.23909592628,
          61946.25489282607,
          59723.049079418175,
          61335.8184390068,
          63121.063711285584,
          64546.61206459998,
          66220.07424402235,
          67056.20267796515,
          67932.39122128485,
          67966.35877609251,
          66989.7716026306,
          65875.19188904761,
          64827.8543177843,
          63572.09337246417,
          60188.22638869285,
          57421.41812515259,
          56093.8039393425,
          56148.774134516716,
          56715.98783874512,
          58232.35137975216,
          60919.97727501392,
          63706.4751882553,
          66577.62452745436,
          67503.0849559307,
          66787.2236881256,
          64764.12390446662,
          62349.71295702457,
          63880.45166170596,
          65651.34782171248,
          67292.7528824806,
          69300.51707410811,
          70111.9175171852,
          70787.67699337004,
          70689.65425109862,
          69522.95436573027,
          67765.64835381506,
          66088.05268526076,
          64468.88683807849
         ],
         "yaxis": "y"
        },
        {
         "hovertemplate": "variable=before<br>index=%{x}<br>value=%{y}<extra></extra>",
         "legendgroup": "before",
         "line": {
          "color": "#58a200",
          "dash": "solid"
         },
         "marker": {
          "symbol": "circle"
         },
         "mode": "lines+markers",
         "name": "before",
         "orientation": "v",
         "showlegend": true,
         "type": "scatter",
         "x": [
          "2023-03-27T00:00:00",
          "2023-03-27T01:00:00",
          "2023-03-27T02:00:00",
          "2023-03-27T03:00:00",
          "2023-03-27T04:00:00",
          "2023-03-27T05:00:00",
          "2023-03-27T06:00:00",
          "2023-03-27T07:00:00",
          "2023-03-27T08:00:00",
          "2023-03-27T09:00:00",
          "2023-03-27T10:00:00",
          "2023-03-27T11:00:00",
          "2023-03-27T12:00:00",
          "2023-03-27T13:00:00",
          "2023-03-27T14:00:00",
          "2023-03-27T15:00:00",
          "2023-03-27T16:00:00",
          "2023-03-27T17:00:00",
          "2023-03-27T18:00:00",
          "2023-03-27T19:00:00",
          "2023-03-27T20:00:00",
          "2023-03-27T21:00:00",
          "2023-03-27T22:00:00",
          "2023-03-27T23:00:00",
          "2023-03-28T00:00:00",
          "2023-03-28T01:00:00",
          "2023-03-28T02:00:00",
          "2023-03-28T03:00:00",
          "2023-03-28T04:00:00",
          "2023-03-28T05:00:00",
          "2023-03-28T06:00:00",
          "2023-03-28T07:00:00",
          "2023-03-28T08:00:00",
          "2023-03-28T09:00:00",
          "2023-03-28T10:00:00",
          "2023-03-28T11:00:00",
          "2023-03-28T12:00:00",
          "2023-03-28T13:00:00",
          "2023-03-28T14:00:00",
          "2023-03-28T15:00:00",
          "2023-03-28T16:00:00",
          "2023-03-28T17:00:00",
          "2023-03-28T18:00:00",
          "2023-03-28T19:00:00",
          "2023-03-28T20:00:00",
          "2023-03-28T21:00:00",
          "2023-03-28T22:00:00",
          "2023-03-28T23:00:00"
         ],
         "xaxis": "x",
         "y": [
          54990,
          52575,
          51185,
          50586,
          50766,
          51707,
          52433,
          51778,
          49771,
          46888,
          45232,
          43036,
          42199,
          42677,
          43683,
          45610,
          49120,
          53597,
          57514,
          59275,
          59090,
          58541,
          58172,
          57272,
          54365,
          52416,
          51467,
          51231,
          52048,
          54623,
          58518,
          62316,
          63933,
          63011,
          61507,
          57985,
          54345,
          56473,
          57986,
          60279,
          64094,
          66553,
          68573,
          69047,
          67241,
          65636,
          65535,
          64248
         ],
         "yaxis": "y"
        }
       ],
       "layout": {
        "autosize": true,
        "legend": {
         "title": {
          "text": "variable"
         },
         "tracegroupgap": 0
        },
        "margin": {
         "t": 60
        },
        "template": {
         "data": {
          "bar": [
           {
            "error_x": {
             "color": "#f2f5fa"
            },
            "error_y": {
             "color": "#f2f5fa"
            },
            "marker": {
             "line": {
              "color": "rgb(17,17,17)",
              "width": 0.5
             },
             "pattern": {
              "fillmode": "overlay",
              "size": 10,
              "solidity": 0.2
             }
            },
            "type": "bar"
           }
          ],
          "barpolar": [
           {
            "marker": {
             "line": {
              "color": "rgb(17,17,17)",
              "width": 0.5
             },
             "pattern": {
              "fillmode": "overlay",
              "size": 10,
              "solidity": 0.2
             }
            },
            "type": "barpolar"
           }
          ],
          "carpet": [
           {
            "aaxis": {
             "endlinecolor": "#A2B1C6",
             "gridcolor": "#506784",
             "linecolor": "#506784",
             "minorgridcolor": "#506784",
             "startlinecolor": "#A2B1C6"
            },
            "baxis": {
             "endlinecolor": "#A2B1C6",
             "gridcolor": "#506784",
             "linecolor": "#506784",
             "minorgridcolor": "#506784",
             "startlinecolor": "#A2B1C6"
            },
            "type": "carpet"
           }
          ],
          "choropleth": [
           {
            "colorbar": {
             "outlinewidth": 0,
             "ticks": ""
            },
            "type": "choropleth"
           }
          ],
          "contour": [
           {
            "colorbar": {
             "outlinewidth": 0,
             "ticks": ""
            },
            "colorscale": [
             [
              0,
              "#0d0887"
             ],
             [
              0.1111111111111111,
              "#46039f"
             ],
             [
              0.2222222222222222,
              "#7201a8"
             ],
             [
              0.3333333333333333,
              "#9c179e"
             ],
             [
              0.4444444444444444,
              "#bd3786"
             ],
             [
              0.5555555555555556,
              "#d8576b"
             ],
             [
              0.6666666666666666,
              "#ed7953"
             ],
             [
              0.7777777777777778,
              "#fb9f3a"
             ],
             [
              0.8888888888888888,
              "#fdca26"
             ],
             [
              1,
              "#f0f921"
             ]
            ],
            "type": "contour"
           }
          ],
          "contourcarpet": [
           {
            "colorbar": {
             "outlinewidth": 0,
             "ticks": ""
            },
            "type": "contourcarpet"
           }
          ],
          "heatmap": [
           {
            "colorbar": {
             "outlinewidth": 0,
             "ticks": ""
            },
            "colorscale": [
             [
              0,
              "#0d0887"
             ],
             [
              0.1111111111111111,
              "#46039f"
             ],
             [
              0.2222222222222222,
              "#7201a8"
             ],
             [
              0.3333333333333333,
              "#9c179e"
             ],
             [
              0.4444444444444444,
              "#bd3786"
             ],
             [
              0.5555555555555556,
              "#d8576b"
             ],
             [
              0.6666666666666666,
              "#ed7953"
             ],
             [
              0.7777777777777778,
              "#fb9f3a"
             ],
             [
              0.8888888888888888,
              "#fdca26"
             ],
             [
              1,
              "#f0f921"
             ]
            ],
            "type": "heatmap"
           }
          ],
          "heatmapgl": [
           {
            "colorbar": {
             "outlinewidth": 0,
             "ticks": ""
            },
            "colorscale": [
             [
              0,
              "#0d0887"
             ],
             [
              0.1111111111111111,
              "#46039f"
             ],
             [
              0.2222222222222222,
              "#7201a8"
             ],
             [
              0.3333333333333333,
              "#9c179e"
             ],
             [
              0.4444444444444444,
              "#bd3786"
             ],
             [
              0.5555555555555556,
              "#d8576b"
             ],
             [
              0.6666666666666666,
              "#ed7953"
             ],
             [
              0.7777777777777778,
              "#fb9f3a"
             ],
             [
              0.8888888888888888,
              "#fdca26"
             ],
             [
              1,
              "#f0f921"
             ]
            ],
            "type": "heatmapgl"
           }
          ],
          "histogram": [
           {
            "marker": {
             "pattern": {
              "fillmode": "overlay",
              "size": 10,
              "solidity": 0.2
             }
            },
            "type": "histogram"
           }
          ],
          "histogram2d": [
           {
            "colorbar": {
             "outlinewidth": 0,
             "ticks": ""
            },
            "colorscale": [
             [
              0,
              "#0d0887"
             ],
             [
              0.1111111111111111,
              "#46039f"
             ],
             [
              0.2222222222222222,
              "#7201a8"
             ],
             [
              0.3333333333333333,
              "#9c179e"
             ],
             [
              0.4444444444444444,
              "#bd3786"
             ],
             [
              0.5555555555555556,
              "#d8576b"
             ],
             [
              0.6666666666666666,
              "#ed7953"
             ],
             [
              0.7777777777777778,
              "#fb9f3a"
             ],
             [
              0.8888888888888888,
              "#fdca26"
             ],
             [
              1,
              "#f0f921"
             ]
            ],
            "type": "histogram2d"
           }
          ],
          "histogram2dcontour": [
           {
            "colorbar": {
             "outlinewidth": 0,
             "ticks": ""
            },
            "colorscale": [
             [
              0,
              "#0d0887"
             ],
             [
              0.1111111111111111,
              "#46039f"
             ],
             [
              0.2222222222222222,
              "#7201a8"
             ],
             [
              0.3333333333333333,
              "#9c179e"
             ],
             [
              0.4444444444444444,
              "#bd3786"
             ],
             [
              0.5555555555555556,
              "#d8576b"
             ],
             [
              0.6666666666666666,
              "#ed7953"
             ],
             [
              0.7777777777777778,
              "#fb9f3a"
             ],
             [
              0.8888888888888888,
              "#fdca26"
             ],
             [
              1,
              "#f0f921"
             ]
            ],
            "type": "histogram2dcontour"
           }
          ],
          "mesh3d": [
           {
            "colorbar": {
             "outlinewidth": 0,
             "ticks": ""
            },
            "type": "mesh3d"
           }
          ],
          "parcoords": [
           {
            "line": {
             "colorbar": {
              "outlinewidth": 0,
              "ticks": ""
             }
            },
            "type": "parcoords"
           }
          ],
          "pie": [
           {
            "automargin": true,
            "type": "pie"
           }
          ],
          "scatter": [
           {
            "marker": {
             "line": {
              "color": "#060606"
             }
            },
            "type": "scatter"
           }
          ],
          "scatter3d": [
           {
            "line": {
             "colorbar": {
              "outlinewidth": 0,
              "ticks": ""
             }
            },
            "marker": {
             "colorbar": {
              "outlinewidth": 0,
              "ticks": ""
             }
            },
            "type": "scatter3d"
           }
          ],
          "scattercarpet": [
           {
            "marker": {
             "colorbar": {
              "outlinewidth": 0,
              "ticks": ""
             }
            },
            "type": "scattercarpet"
           }
          ],
          "scattergeo": [
           {
            "marker": {
             "colorbar": {
              "outlinewidth": 0,
              "ticks": ""
             }
            },
            "type": "scattergeo"
           }
          ],
          "scattergl": [
           {
            "marker": {
             "line": {
              "color": "#060606"
             }
            },
            "type": "scattergl"
           }
          ],
          "scattermapbox": [
           {
            "marker": {
             "colorbar": {
              "outlinewidth": 0,
              "ticks": ""
             }
            },
            "type": "scattermapbox"
           }
          ],
          "scatterpolar": [
           {
            "marker": {
             "colorbar": {
              "outlinewidth": 0,
              "ticks": ""
             }
            },
            "type": "scatterpolar"
           }
          ],
          "scatterpolargl": [
           {
            "marker": {
             "colorbar": {
              "outlinewidth": 0,
              "ticks": ""
             }
            },
            "type": "scatterpolargl"
           }
          ],
          "scatterternary": [
           {
            "marker": {
             "colorbar": {
              "outlinewidth": 0,
              "ticks": ""
             }
            },
            "type": "scatterternary"
           }
          ],
          "surface": [
           {
            "colorbar": {
             "outlinewidth": 0,
             "ticks": ""
            },
            "colorscale": [
             [
              0,
              "#0d0887"
             ],
             [
              0.1111111111111111,
              "#46039f"
             ],
             [
              0.2222222222222222,
              "#7201a8"
             ],
             [
              0.3333333333333333,
              "#9c179e"
             ],
             [
              0.4444444444444444,
              "#bd3786"
             ],
             [
              0.5555555555555556,
              "#d8576b"
             ],
             [
              0.6666666666666666,
              "#ed7953"
             ],
             [
              0.7777777777777778,
              "#fb9f3a"
             ],
             [
              0.8888888888888888,
              "#fdca26"
             ],
             [
              1,
              "#f0f921"
             ]
            ],
            "type": "surface"
           }
          ],
          "table": [
           {
            "cells": {
             "fill": {
              "color": "#506784"
             },
             "line": {
              "color": "rgb(17,17,17)"
             }
            },
            "header": {
             "fill": {
              "color": "#2a3f5f"
             },
             "line": {
              "color": "rgb(17,17,17)"
             }
            },
            "type": "table"
           }
          ]
         },
         "layout": {
          "annotationdefaults": {
           "arrowcolor": "#f2f5fa",
           "arrowhead": 0,
           "arrowwidth": 1,
           "font": {
            "color": "#adafae"
           }
          },
          "autotypenumbers": "strict",
          "coloraxis": {
           "colorbar": {
            "outlinewidth": 0,
            "ticks": ""
           }
          },
          "colorscale": {
           "diverging": [
            [
             0,
             "#8e0152"
            ],
            [
             0.1,
             "#c51b7d"
            ],
            [
             0.2,
             "#de77ae"
            ],
            [
             0.3,
             "#f1b6da"
            ],
            [
             0.4,
             "#fde0ef"
            ],
            [
             0.5,
             "#f7f7f7"
            ],
            [
             0.6,
             "#e6f5d0"
            ],
            [
             0.7,
             "#b8e186"
            ],
            [
             0.8,
             "#7fbc41"
            ],
            [
             0.9,
             "#4d9221"
            ],
            [
             1,
             "#276419"
            ]
           ],
           "sequential": [
            [
             0,
             "#2a9fd6"
            ],
            [
             0.1,
             "#4098c6"
            ],
            [
             0.2,
             "#5790b6"
            ],
            [
             0.30000000000000004,
             "#6d89a6"
            ],
            [
             0.4,
             "#838196"
            ],
            [
             0.5,
             "#9a7a86"
            ],
            [
             0.6000000000000001,
             "#b07276"
            ],
            [
             0.7000000000000001,
             "#c66b66"
            ],
            [
             0.8,
             "#dd6456"
            ],
            [
             0.9,
             "#f35c46"
            ],
            [
             1,
             "#ff5536"
            ]
           ],
           "sequentialminus": [
            [
             0,
             "#0d0887"
            ],
            [
             0.1111111111111111,
             "#46039f"
            ],
            [
             0.2222222222222222,
             "#7201a8"
            ],
            [
             0.3333333333333333,
             "#9c179e"
            ],
            [
             0.4444444444444444,
             "#bd3786"
            ],
            [
             0.5555555555555556,
             "#d8576b"
            ],
            [
             0.6666666666666666,
             "#ed7953"
            ],
            [
             0.7777777777777778,
             "#fb9f3a"
            ],
            [
             0.8888888888888888,
             "#fdca26"
            ],
            [
             1,
             "#f0f921"
            ]
           ]
          },
          "colorway": [
           "#4b9ed6",
           "#c80004",
           "#58a200",
           "#ff9d24",
           "#a32acd"
          ],
          "font": {
           "color": "#adafae",
           "family": "Roboto,-apple-system,BlinkMacSystemFont,\"Segoe UI\",\"Helvetica Neue\",Arial,sans-serif"
          },
          "geo": {
           "bgcolor": "#060606",
           "lakecolor": "#060606",
           "landcolor": "#060606",
           "showlakes": true,
           "showland": true,
           "subunitcolor": "#506784"
          },
          "hoverlabel": {
           "align": "left",
           "font": {
            "family": "Roboto,-apple-system,BlinkMacSystemFont,\"Segoe UI\",\"Helvetica Neue\",Arial,sans-serif"
           }
          },
          "hovermode": "closest",
          "mapbox": {
           "style": "dark"
          },
          "paper_bgcolor": "#282828",
          "piecolorway": [
           "#4b9ed6",
           "#c80004",
           "#58a200",
           "#ff9d24",
           "#a32acd"
          ],
          "plot_bgcolor": "#060606",
          "polar": {
           "angularaxis": {
            "gridcolor": "#506784",
            "linecolor": "#506784",
            "ticks": ""
           },
           "bgcolor": "rgb(17,17,17)",
           "radialaxis": {
            "gridcolor": "#506784",
            "linecolor": "#506784",
            "ticks": ""
           }
          },
          "scene": {
           "xaxis": {
            "backgroundcolor": "rgb(17,17,17)",
            "gridcolor": "#506784",
            "gridwidth": 2,
            "linecolor": "#506784",
            "showbackground": true,
            "ticks": "",
            "zerolinecolor": "#C8D4E3"
           },
           "yaxis": {
            "backgroundcolor": "rgb(17,17,17)",
            "gridcolor": "#506784",
            "gridwidth": 2,
            "linecolor": "#506784",
            "showbackground": true,
            "ticks": "",
            "zerolinecolor": "#C8D4E3"
           },
           "zaxis": {
            "backgroundcolor": "rgb(17,17,17)",
            "gridcolor": "#506784",
            "gridwidth": 2,
            "linecolor": "#506784",
            "showbackground": true,
            "ticks": "",
            "zerolinecolor": "#C8D4E3"
           }
          },
          "shapedefaults": {
           "line": {
            "color": "#f2f5fa"
           }
          },
          "sliderdefaults": {
           "bgcolor": "#C8D4E3",
           "bordercolor": "rgb(17,17,17)",
           "borderwidth": 1,
           "tickwidth": 0
          },
          "ternary": {
           "aaxis": {
            "gridcolor": "#506784",
            "linecolor": "#506784",
            "ticks": ""
           },
           "baxis": {
            "gridcolor": "#506784",
            "linecolor": "#506784",
            "ticks": ""
           },
           "bgcolor": "rgb(17,17,17)",
           "caxis": {
            "gridcolor": "#506784",
            "linecolor": "#506784",
            "ticks": ""
           }
          },
          "title": {
           "x": 0.05
          },
          "updatemenudefaults": {
           "bgcolor": "#506784",
           "borderwidth": 0
          },
          "xaxis": {
           "automargin": true,
           "gridcolor": "#131413",
           "gridwidth": 0.5,
           "linecolor": "#506784",
           "ticks": "",
           "title": {
            "standoff": 15
           },
           "zerolinecolor": "#131413",
           "zerolinewidth": 2
          },
          "yaxis": {
           "automargin": true,
           "gridcolor": "#131413",
           "gridwidth": 0.5,
           "linecolor": "#506784",
           "ticks": "",
           "title": {
            "standoff": 15
           },
           "zerolinecolor": "#131413",
           "zerolinewidth": 2
          }
         }
        },
        "xaxis": {
         "anchor": "y",
         "autorange": true,
         "domain": [
          0,
          1
         ],
         "range": [
          "2023-03-26 21:08:30.5223",
          "2023-03-29 01:51:29.4777"
         ],
         "title": {
          "text": "index"
         },
         "type": "date"
        },
        "yaxis": {
         "anchor": "x",
         "domain": [
          0,
          1
         ],
         "range": [
          0,
          120000
         ],
         "title": {
          "text": "value"
         },
         "type": "linear"
        }
       }
      },
      "image/png": "[encoded data removed]",
      "text/html": [
       "<div>                            <div id=\"25105f92-0f12-4d9b-a1e8-be8295c1a25a\" class=\"plotly-graph-div\" style=\"height:600px; width:100%;\"></div>            <script type=\"text/javascript\">                require([\"plotly\"], function(Plotly) {                    window.PLOTLYENV=window.PLOTLYENV || {};                                    if (document.getElementById(\"25105f92-0f12-4d9b-a1e8-be8295c1a25a\")) {                    Plotly.newPlot(                        \"25105f92-0f12-4d9b-a1e8-be8295c1a25a\",                        [{\"hovertemplate\":\"variable=actual\\u003cbr\\u003eindex=%{x}\\u003cbr\\u003evalue=%{y}\\u003cextra\\u003e\\u003c\\u002fextra\\u003e\",\"legendgroup\":\"actual\",\"line\":{\"color\":\"#4b9ed6\",\"dash\":\"solid\"},\"marker\":{\"symbol\":\"circle\"},\"mode\":\"lines+markers\",\"name\":\"actual\",\"orientation\":\"v\",\"showlegend\":true,\"x\":[\"2023-03-27T00:00:00\",\"2023-03-27T01:00:00\",\"2023-03-27T02:00:00\",\"2023-03-27T03:00:00\",\"2023-03-27T04:00:00\",\"2023-03-27T05:00:00\",\"2023-03-27T06:00:00\",\"2023-03-27T07:00:00\",\"2023-03-27T08:00:00\",\"2023-03-27T09:00:00\",\"2023-03-27T10:00:00\",\"2023-03-27T11:00:00\",\"2023-03-27T12:00:00\",\"2023-03-27T13:00:00\",\"2023-03-27T14:00:00\",\"2023-03-27T15:00:00\",\"2023-03-27T16:00:00\",\"2023-03-27T17:00:00\",\"2023-03-27T18:00:00\",\"2023-03-27T19:00:00\",\"2023-03-27T20:00:00\",\"2023-03-27T21:00:00\",\"2023-03-27T22:00:00\",\"2023-03-27T23:00:00\",\"2023-03-28T00:00:00\",\"2023-03-28T01:00:00\",\"2023-03-28T02:00:00\",\"2023-03-28T03:00:00\",\"2023-03-28T04:00:00\",\"2023-03-28T05:00:00\",\"2023-03-28T06:00:00\",\"2023-03-28T07:00:00\",\"2023-03-28T08:00:00\",\"2023-03-28T09:00:00\",\"2023-03-28T10:00:00\",\"2023-03-28T11:00:00\",\"2023-03-28T12:00:00\",\"2023-03-28T13:00:00\",\"2023-03-28T14:00:00\",\"2023-03-28T15:00:00\",\"2023-03-28T16:00:00\",\"2023-03-28T17:00:00\",\"2023-03-28T18:00:00\",\"2023-03-28T19:00:00\",\"2023-03-28T20:00:00\",\"2023-03-28T21:00:00\",\"2023-03-28T22:00:00\",\"2023-03-28T23:00:00\"],\"xaxis\":\"x\",\"y\":[54364.99989807606,52416.000722527504,51467.00024712086,51231.00059556961,52048.000353336334,54623.00082707405,58517.999793410294,62316.000705957405,63933.000813245766,63011.00001096725,61507.00046539306,57985.00026392937,54344.999368309975,56472.99946439266,57986.0006377697,60278.99989414214,64094.00021493434,66553.00074219702,68572.99867224692,69046.99872303008,67241.00090384482,65635.99833559988,65534.998786449425,64248.00047326087,60270.000003099434,58209.99927675724,57145.9992287159,56805.000269412994,57363.00046110153,59300.00036084651,62399.000473022454,65067.99961578845,66375.00019550322,65709.00131130217,64173.0002233982,61378.999506354325,58432.99927866458,61201.00069642066,62223.99931108951,63176.999545097344,65394.998551607125,66658.99868702887,68454.99971485136,69011.99953269957,67341.00007915495,65551.00129437445,65413.998707532875,64194.99976408481],\"yaxis\":\"y\",\"type\":\"scatter\"},{\"hovertemplate\":\"variable=predicted\\u003cbr\\u003eindex=%{x}\\u003cbr\\u003evalue=%{y}\\u003cextra\\u003e\\u003c\\u002fextra\\u003e\",\"legendgroup\":\"predicted\",\"line\":{\"color\":\"#c80004\",\"dash\":\"solid\"},\"marker\":{\"symbol\":\"circle\"},\"mode\":\"lines+markers\",\"name\":\"predicted\",\"orientation\":\"v\",\"showlegend\":true,\"x\":[\"2023-03-27T00:00:00\",\"2023-03-27T01:00:00\",\"2023-03-27T02:00:00\",\"2023-03-27T03:00:00\",\"2023-03-27T04:00:00\",\"2023-03-27T05:00:00\",\"2023-03-27T06:00:00\",\"2023-03-27T07:00:00\",\"2023-03-27T08:00:00\",\"2023-03-27T09:00:00\",\"2023-03-27T10:00:00\",\"2023-03-27T11:00:00\",\"2023-03-27T12:00:00\",\"2023-03-27T13:00:00\",\"2023-03-27T14:00:00\",\"2023-03-27T15:00:00\",\"2023-03-27T16:00:00\",\"2023-03-27T17:00:00\",\"2023-03-27T18:00:00\",\"2023-03-27T19:00:00\",\"2023-03-27T20:00:00\",\"2023-03-27T21:00:00\",\"2023-03-27T22:00:00\",\"2023-03-27T23:00:00\",\"2023-03-28T00:00:00\",\"2023-03-28T01:00:00\",\"2023-03-28T02:00:00\",\"2023-03-28T03:00:00\",\"2023-03-28T04:00:00\",\"2023-03-28T05:00:00\",\"2023-03-28T06:00:00\",\"2023-03-28T07:00:00\",\"2023-03-28T08:00:00\",\"2023-03-28T09:00:00\",\"2023-03-28T10:00:00\",\"2023-03-28T11:00:00\",\"2023-03-28T12:00:00\",\"2023-03-28T13:00:00\",\"2023-03-28T14:00:00\",\"2023-03-28T15:00:00\",\"2023-03-28T16:00:00\",\"2023-03-28T17:00:00\",\"2023-03-28T18:00:00\",\"2023-03-28T19:00:00\",\"2023-03-28T20:00:00\",\"2023-03-28T21:00:00\",\"2023-03-28T22:00:00\",\"2023-03-28T23:00:00\"],\"xaxis\":\"x\",\"y\":[51256.8852686882,48877.79568058252,47868.39589780569,48348.740333378315,49457.86227822304,51593.20886969566,54890.85092282295,58614.65917897224,62093.11533021926,63558.666479825966,63474.23909592628,61946.25489282607,59723.049079418175,61335.8184390068,63121.063711285584,64546.61206459998,66220.07424402235,67056.20267796515,67932.39122128485,67966.35877609251,66989.7716026306,65875.19188904761,64827.8543177843,63572.09337246417,60188.22638869285,57421.41812515259,56093.8039393425,56148.774134516716,56715.98783874512,58232.35137975216,60919.97727501392,63706.4751882553,66577.62452745436,67503.0849559307,66787.2236881256,64764.12390446662,62349.71295702457,63880.45166170596,65651.34782171248,67292.7528824806,69300.51707410811,70111.9175171852,70787.67699337004,70689.65425109862,69522.95436573027,67765.64835381506,66088.05268526076,64468.88683807849],\"yaxis\":\"y\",\"type\":\"scatter\"},{\"hovertemplate\":\"variable=before\\u003cbr\\u003eindex=%{x}\\u003cbr\\u003evalue=%{y}\\u003cextra\\u003e\\u003c\\u002fextra\\u003e\",\"legendgroup\":\"before\",\"line\":{\"color\":\"#58a200\",\"dash\":\"solid\"},\"marker\":{\"symbol\":\"circle\"},\"mode\":\"lines+markers\",\"name\":\"before\",\"orientation\":\"v\",\"showlegend\":true,\"x\":[\"2023-03-27T00:00:00\",\"2023-03-27T01:00:00\",\"2023-03-27T02:00:00\",\"2023-03-27T03:00:00\",\"2023-03-27T04:00:00\",\"2023-03-27T05:00:00\",\"2023-03-27T06:00:00\",\"2023-03-27T07:00:00\",\"2023-03-27T08:00:00\",\"2023-03-27T09:00:00\",\"2023-03-27T10:00:00\",\"2023-03-27T11:00:00\",\"2023-03-27T12:00:00\",\"2023-03-27T13:00:00\",\"2023-03-27T14:00:00\",\"2023-03-27T15:00:00\",\"2023-03-27T16:00:00\",\"2023-03-27T17:00:00\",\"2023-03-27T18:00:00\",\"2023-03-27T19:00:00\",\"2023-03-27T20:00:00\",\"2023-03-27T21:00:00\",\"2023-03-27T22:00:00\",\"2023-03-27T23:00:00\",\"2023-03-28T00:00:00\",\"2023-03-28T01:00:00\",\"2023-03-28T02:00:00\",\"2023-03-28T03:00:00\",\"2023-03-28T04:00:00\",\"2023-03-28T05:00:00\",\"2023-03-28T06:00:00\",\"2023-03-28T07:00:00\",\"2023-03-28T08:00:00\",\"2023-03-28T09:00:00\",\"2023-03-28T10:00:00\",\"2023-03-28T11:00:00\",\"2023-03-28T12:00:00\",\"2023-03-28T13:00:00\",\"2023-03-28T14:00:00\",\"2023-03-28T15:00:00\",\"2023-03-28T16:00:00\",\"2023-03-28T17:00:00\",\"2023-03-28T18:00:00\",\"2023-03-28T19:00:00\",\"2023-03-28T20:00:00\",\"2023-03-28T21:00:00\",\"2023-03-28T22:00:00\",\"2023-03-28T23:00:00\"],\"xaxis\":\"x\",\"y\":[54990.0,52575.0,51185.0,50586.0,50766.0,51707.0,52433.0,51778.0,49771.0,46888.0,45232.0,43036.0,42199.0,42677.0,43683.0,45610.0,49120.0,53597.0,57514.0,59275.0,59090.0,58541.0,58172.0,57272.0,54365.0,52416.0,51467.0,51231.0,52048.0,54623.0,58518.0,62316.0,63933.0,63011.0,61507.0,57985.0,54345.0,56473.0,57986.0,60279.0,64094.0,66553.0,68573.0,69047.0,67241.0,65636.0,65535.0,64248.0],\"yaxis\":\"y\",\"type\":\"scatter\"}],                        {\"template\":{\"data\":{\"barpolar\":[{\"marker\":{\"line\":{\"color\":\"rgb(17,17,17)\",\"width\":0.5},\"pattern\":{\"fillmode\":\"overlay\",\"size\":10,\"solidity\":0.2}},\"type\":\"barpolar\"}],\"bar\":[{\"error_x\":{\"color\":\"#f2f5fa\"},\"error_y\":{\"color\":\"#f2f5fa\"},\"marker\":{\"line\":{\"color\":\"rgb(17,17,17)\",\"width\":0.5},\"pattern\":{\"fillmode\":\"overlay\",\"size\":10,\"solidity\":0.2}},\"type\":\"bar\"}],\"carpet\":[{\"aaxis\":{\"endlinecolor\":\"#A2B1C6\",\"gridcolor\":\"#506784\",\"linecolor\":\"#506784\",\"minorgridcolor\":\"#506784\",\"startlinecolor\":\"#A2B1C6\"},\"baxis\":{\"endlinecolor\":\"#A2B1C6\",\"gridcolor\":\"#506784\",\"linecolor\":\"#506784\",\"minorgridcolor\":\"#506784\",\"startlinecolor\":\"#A2B1C6\"},\"type\":\"carpet\"}],\"choropleth\":[{\"colorbar\":{\"outlinewidth\":0,\"ticks\":\"\"},\"type\":\"choropleth\"}],\"contourcarpet\":[{\"colorbar\":{\"outlinewidth\":0,\"ticks\":\"\"},\"type\":\"contourcarpet\"}],\"contour\":[{\"colorbar\":{\"outlinewidth\":0,\"ticks\":\"\"},\"colorscale\":[[0.0,\"#0d0887\"],[0.1111111111111111,\"#46039f\"],[0.2222222222222222,\"#7201a8\"],[0.3333333333333333,\"#9c179e\"],[0.4444444444444444,\"#bd3786\"],[0.5555555555555556,\"#d8576b\"],[0.6666666666666666,\"#ed7953\"],[0.7777777777777778,\"#fb9f3a\"],[0.8888888888888888,\"#fdca26\"],[1.0,\"#f0f921\"]],\"type\":\"contour\"}],\"heatmapgl\":[{\"colorbar\":{\"outlinewidth\":0,\"ticks\":\"\"},\"colorscale\":[[0.0,\"#0d0887\"],[0.1111111111111111,\"#46039f\"],[0.2222222222222222,\"#7201a8\"],[0.3333333333333333,\"#9c179e\"],[0.4444444444444444,\"#bd3786\"],[0.5555555555555556,\"#d8576b\"],[0.6666666666666666,\"#ed7953\"],[0.7777777777777778,\"#fb9f3a\"],[0.8888888888888888,\"#fdca26\"],[1.0,\"#f0f921\"]],\"type\":\"heatmapgl\"}],\"heatmap\":[{\"colorbar\":{\"outlinewidth\":0,\"ticks\":\"\"},\"colorscale\":[[0.0,\"#0d0887\"],[0.1111111111111111,\"#46039f\"],[0.2222222222222222,\"#7201a8\"],[0.3333333333333333,\"#9c179e\"],[0.4444444444444444,\"#bd3786\"],[0.5555555555555556,\"#d8576b\"],[0.6666666666666666,\"#ed7953\"],[0.7777777777777778,\"#fb9f3a\"],[0.8888888888888888,\"#fdca26\"],[1.0,\"#f0f921\"]],\"type\":\"heatmap\"}],\"histogram2dcontour\":[{\"colorbar\":{\"outlinewidth\":0,\"ticks\":\"\"},\"colorscale\":[[0.0,\"#0d0887\"],[0.1111111111111111,\"#46039f\"],[0.2222222222222222,\"#7201a8\"],[0.3333333333333333,\"#9c179e\"],[0.4444444444444444,\"#bd3786\"],[0.5555555555555556,\"#d8576b\"],[0.6666666666666666,\"#ed7953\"],[0.7777777777777778,\"#fb9f3a\"],[0.8888888888888888,\"#fdca26\"],[1.0,\"#f0f921\"]],\"type\":\"histogram2dcontour\"}],\"histogram2d\":[{\"colorbar\":{\"outlinewidth\":0,\"ticks\":\"\"},\"colorscale\":[[0.0,\"#0d0887\"],[0.1111111111111111,\"#46039f\"],[0.2222222222222222,\"#7201a8\"],[0.3333333333333333,\"#9c179e\"],[0.4444444444444444,\"#bd3786\"],[0.5555555555555556,\"#d8576b\"],[0.6666666666666666,\"#ed7953\"],[0.7777777777777778,\"#fb9f3a\"],[0.8888888888888888,\"#fdca26\"],[1.0,\"#f0f921\"]],\"type\":\"histogram2d\"}],\"histogram\":[{\"marker\":{\"pattern\":{\"fillmode\":\"overlay\",\"size\":10,\"solidity\":0.2}},\"type\":\"histogram\"}],\"mesh3d\":[{\"colorbar\":{\"outlinewidth\":0,\"ticks\":\"\"},\"type\":\"mesh3d\"}],\"parcoords\":[{\"line\":{\"colorbar\":{\"outlinewidth\":0,\"ticks\":\"\"}},\"type\":\"parcoords\"}],\"pie\":[{\"automargin\":true,\"type\":\"pie\"}],\"scatter3d\":[{\"line\":{\"colorbar\":{\"outlinewidth\":0,\"ticks\":\"\"}},\"marker\":{\"colorbar\":{\"outlinewidth\":0,\"ticks\":\"\"}},\"type\":\"scatter3d\"}],\"scattercarpet\":[{\"marker\":{\"colorbar\":{\"outlinewidth\":0,\"ticks\":\"\"}},\"type\":\"scattercarpet\"}],\"scattergeo\":[{\"marker\":{\"colorbar\":{\"outlinewidth\":0,\"ticks\":\"\"}},\"type\":\"scattergeo\"}],\"scattergl\":[{\"marker\":{\"line\":{\"color\":\"#060606\"}},\"type\":\"scattergl\"}],\"scattermapbox\":[{\"marker\":{\"colorbar\":{\"outlinewidth\":0,\"ticks\":\"\"}},\"type\":\"scattermapbox\"}],\"scatterpolargl\":[{\"marker\":{\"colorbar\":{\"outlinewidth\":0,\"ticks\":\"\"}},\"type\":\"scatterpolargl\"}],\"scatterpolar\":[{\"marker\":{\"colorbar\":{\"outlinewidth\":0,\"ticks\":\"\"}},\"type\":\"scatterpolar\"}],\"scatter\":[{\"marker\":{\"line\":{\"color\":\"#060606\"}},\"type\":\"scatter\"}],\"scatterternary\":[{\"marker\":{\"colorbar\":{\"outlinewidth\":0,\"ticks\":\"\"}},\"type\":\"scatterternary\"}],\"surface\":[{\"colorbar\":{\"outlinewidth\":0,\"ticks\":\"\"},\"colorscale\":[[0.0,\"#0d0887\"],[0.1111111111111111,\"#46039f\"],[0.2222222222222222,\"#7201a8\"],[0.3333333333333333,\"#9c179e\"],[0.4444444444444444,\"#bd3786\"],[0.5555555555555556,\"#d8576b\"],[0.6666666666666666,\"#ed7953\"],[0.7777777777777778,\"#fb9f3a\"],[0.8888888888888888,\"#fdca26\"],[1.0,\"#f0f921\"]],\"type\":\"surface\"}],\"table\":[{\"cells\":{\"fill\":{\"color\":\"#506784\"},\"line\":{\"color\":\"rgb(17,17,17)\"}},\"header\":{\"fill\":{\"color\":\"#2a3f5f\"},\"line\":{\"color\":\"rgb(17,17,17)\"}},\"type\":\"table\"}]},\"layout\":{\"annotationdefaults\":{\"arrowcolor\":\"#f2f5fa\",\"arrowhead\":0,\"arrowwidth\":1,\"font\":{\"color\":\"#adafae\"}},\"autotypenumbers\":\"strict\",\"coloraxis\":{\"colorbar\":{\"outlinewidth\":0,\"ticks\":\"\"}},\"colorscale\":{\"diverging\":[[0,\"#8e0152\"],[0.1,\"#c51b7d\"],[0.2,\"#de77ae\"],[0.3,\"#f1b6da\"],[0.4,\"#fde0ef\"],[0.5,\"#f7f7f7\"],[0.6,\"#e6f5d0\"],[0.7,\"#b8e186\"],[0.8,\"#7fbc41\"],[0.9,\"#4d9221\"],[1,\"#276419\"]],\"sequential\":[[0.0,\"#2a9fd6\"],[0.1,\"#4098c6\"],[0.2,\"#5790b6\"],[0.30000000000000004,\"#6d89a6\"],[0.4,\"#838196\"],[0.5,\"#9a7a86\"],[0.6000000000000001,\"#b07276\"],[0.7000000000000001,\"#c66b66\"],[0.8,\"#dd6456\"],[0.9,\"#f35c46\"],[1.0,\"#ff5536\"]],\"sequentialminus\":[[0.0,\"#0d0887\"],[0.1111111111111111,\"#46039f\"],[0.2222222222222222,\"#7201a8\"],[0.3333333333333333,\"#9c179e\"],[0.4444444444444444,\"#bd3786\"],[0.5555555555555556,\"#d8576b\"],[0.6666666666666666,\"#ed7953\"],[0.7777777777777778,\"#fb9f3a\"],[0.8888888888888888,\"#fdca26\"],[1.0,\"#f0f921\"]]},\"colorway\":[\"#4b9ed6\",\"#c80004\",\"#58a200\",\"#ff9d24\",\"#a32acd\"],\"font\":{\"color\":\"#adafae\",\"family\":\"Roboto,-apple-system,BlinkMacSystemFont,\\\"Segoe UI\\\",\\\"Helvetica Neue\\\",Arial,sans-serif\"},\"geo\":{\"bgcolor\":\"#060606\",\"lakecolor\":\"#060606\",\"landcolor\":\"#060606\",\"showlakes\":true,\"showland\":true,\"subunitcolor\":\"#506784\"},\"hoverlabel\":{\"align\":\"left\",\"font\":{\"family\":\"Roboto,-apple-system,BlinkMacSystemFont,\\\"Segoe UI\\\",\\\"Helvetica Neue\\\",Arial,sans-serif\"}},\"hovermode\":\"closest\",\"mapbox\":{\"style\":\"dark\"},\"paper_bgcolor\":\"#282828\",\"piecolorway\":[\"#4b9ed6\",\"#c80004\",\"#58a200\",\"#ff9d24\",\"#a32acd\"],\"plot_bgcolor\":\"#060606\",\"polar\":{\"angularaxis\":{\"gridcolor\":\"#506784\",\"linecolor\":\"#506784\",\"ticks\":\"\"},\"bgcolor\":\"rgb(17,17,17)\",\"radialaxis\":{\"gridcolor\":\"#506784\",\"linecolor\":\"#506784\",\"ticks\":\"\"}},\"scene\":{\"xaxis\":{\"backgroundcolor\":\"rgb(17,17,17)\",\"gridcolor\":\"#506784\",\"gridwidth\":2,\"linecolor\":\"#506784\",\"showbackground\":true,\"ticks\":\"\",\"zerolinecolor\":\"#C8D4E3\"},\"yaxis\":{\"backgroundcolor\":\"rgb(17,17,17)\",\"gridcolor\":\"#506784\",\"gridwidth\":2,\"linecolor\":\"#506784\",\"showbackground\":true,\"ticks\":\"\",\"zerolinecolor\":\"#C8D4E3\"},\"zaxis\":{\"backgroundcolor\":\"rgb(17,17,17)\",\"gridcolor\":\"#506784\",\"gridwidth\":2,\"linecolor\":\"#506784\",\"showbackground\":true,\"ticks\":\"\",\"zerolinecolor\":\"#C8D4E3\"}},\"shapedefaults\":{\"line\":{\"color\":\"#f2f5fa\"}},\"sliderdefaults\":{\"bgcolor\":\"#C8D4E3\",\"bordercolor\":\"rgb(17,17,17)\",\"borderwidth\":1,\"tickwidth\":0},\"ternary\":{\"aaxis\":{\"gridcolor\":\"#506784\",\"linecolor\":\"#506784\",\"ticks\":\"\"},\"baxis\":{\"gridcolor\":\"#506784\",\"linecolor\":\"#506784\",\"ticks\":\"\"},\"bgcolor\":\"rgb(17,17,17)\",\"caxis\":{\"gridcolor\":\"#506784\",\"linecolor\":\"#506784\",\"ticks\":\"\"}},\"title\":{\"x\":0.05},\"updatemenudefaults\":{\"bgcolor\":\"#506784\",\"borderwidth\":0},\"xaxis\":{\"automargin\":true,\"gridcolor\":\"#131413\",\"gridwidth\":0.5,\"linecolor\":\"#506784\",\"ticks\":\"\",\"title\":{\"standoff\":15},\"zerolinecolor\":\"#131413\",\"zerolinewidth\":2},\"yaxis\":{\"automargin\":true,\"gridcolor\":\"#131413\",\"gridwidth\":0.5,\"linecolor\":\"#506784\",\"ticks\":\"\",\"title\":{\"standoff\":15},\"zerolinecolor\":\"#131413\",\"zerolinewidth\":2}}},\"xaxis\":{\"anchor\":\"y\",\"domain\":[0.0,1.0],\"title\":{\"text\":\"index\"}},\"yaxis\":{\"anchor\":\"x\",\"domain\":[0.0,1.0],\"title\":{\"text\":\"value\"},\"range\":[0,120000]},\"legend\":{\"title\":{\"text\":\"variable\"},\"tracegroupgap\":0},\"margin\":{\"t\":60},\"height\":600},                        {\"responsive\": true}                    ).then(function(){\n",
       "                            \n",
       "var gd = document.getElementById('25105f92-0f12-4d9b-a1e8-be8295c1a25a');\n",
       "var x = new MutationObserver(function (mutations, observer) {{\n",
       "        var display = window.getComputedStyle(gd).display;\n",
       "        if (!display || display === 'none') {{\n",
       "            console.log([gd, 'removed!']);\n",
       "            Plotly.purge(gd);\n",
       "            observer.disconnect();\n",
       "        }}\n",
       "}});\n",
       "\n",
       "// Listen for the removal of the full notebook cells\n",
       "var notebookContainer = gd.closest('#notebook-container');\n",
       "if (notebookContainer) {{\n",
       "    x.observe(notebookContainer, {childList: true});\n",
       "}}\n",
       "\n",
       "// Listen for the clearing of the current output cell\n",
       "var outputEl = gd.closest('.output');\n",
       "if (outputEl) {{\n",
       "    x.observe(outputEl, {childList: true});\n",
       "}}\n",
       "\n",
       "                        })                };                });            </script>        </div>"
      ]
     },
     "metadata": {},
     "output_type": "display_data"
    }
   ],
   "source": [
    "import plotly.express as px\n",
    "from dash_bootstrap_templates import load_figure_template\n",
    "load_figure_template([\"minty\",  \"minty_dark\", 'cyborg', 'cyborg_dark'])\n",
    "\n",
    "start_date = '2023-03-27'\n",
    "end_date = '2023-03-28'\n",
    "\n",
    "data = actual_predicted_df.loc[start_date:end_date]\n",
    "fig = px.line( data[['actual', 'predicted', 'before']], markers=True, template='cyborg', height=600)\n",
    "fig.update_layout(yaxis_range=[0, 120000])\n",
    "fig.show()"
   ]
  },
  {
   "cell_type": "code",
   "execution_count": null,
   "id": "5ee4b6d2-a00c-47f4-8ba2-9d921f9450ad",
   "metadata": {},
   "outputs": [],
   "source": []
  }
 ],
 "metadata": {
  "kernelspec": {
   "display_name": "Python 3 (ipykernel)",
   "language": "python",
   "name": "python3"
  },
  "language_info": {
   "codemirror_mode": {
    "name": "ipython",
    "version": 3
   },
   "file_extension": ".py",
   "mimetype": "text/x-python",
   "name": "python",
   "nbconvert_exporter": "python",
   "pygments_lexer": "ipython3",
   "version": "3.12.7"
  }
 },
 "nbformat": 4,
 "nbformat_minor": 5
}

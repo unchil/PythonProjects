{
 "cells": [
  {
   "cell_type": "code",
   "execution_count": 30,
   "id": "d7f6655d-89f1-428f-a0eb-95759db241c5",
   "metadata": {},
   "outputs": [
    {
     "name": "stdout",
     "output_type": "stream",
     "text": [
      "Device: mps\n"
     ]
    }
   ],
   "source": [
    "import torch\n",
    "device = torch.device(\"mps\") if torch.backends.mps.is_available() else  torch.device(\"cpu\")\n",
    "print('Device:', device)"
   ]
  },
  {
   "cell_type": "code",
   "execution_count": 31,
   "id": "50ce45d7-91a4-4d29-9bba-9934e00df34c",
   "metadata": {},
   "outputs": [
    {
     "name": "stdout",
     "output_type": "stream",
     "text": [
      "Number of workers: 8\n"
     ]
    }
   ],
   "source": [
    "import os\n",
    "NUM_WORKERS = os.cpu_count()\n",
    "print(\"Number of workers:\", NUM_WORKERS)"
   ]
  },
  {
   "cell_type": "code",
   "execution_count": 32,
   "id": "c71e6cbe-9564-4dcb-a61c-053573b76d2a",
   "metadata": {},
   "outputs": [],
   "source": [
    "import ssl\n",
    "from torchvision import transforms\n",
    "from torchvision.datasets import MNIST\n",
    "from torch.utils.data import DataLoader\n",
    "\n",
    "ssl._create_default_https_context = ssl._create_unverified_context\n",
    "\n",
    "data_path = os.getcwd()\n",
    "\n",
    "train_dataset = MNIST(\n",
    "    data_path,\n",
    "    train=True,\n",
    "    download=False,\n",
    "    transform=transforms.ToTensor()\n",
    ")\n",
    "\n",
    "test_dataset = MNIST(\n",
    "    data_path,\n",
    "    train=False,\n",
    "    download=False,\n",
    "    transform=transforms.ToTensor()\n",
    ")\n"
   ]
  },
  {
   "cell_type": "code",
   "execution_count": 6,
   "id": "d015ba0b-4c11-43cb-b42f-5175f6b693aa",
   "metadata": {},
   "outputs": [
    {
     "name": "stdout",
     "output_type": "stream",
     "text": [
      "torch.Size([10000, 28, 28])\n"
     ]
    }
   ],
   "source": [
    "print(test_dataset.data.shape)"
   ]
  },
  {
   "cell_type": "code",
   "execution_count": 7,
   "id": "300536d9-7f98-429e-938e-fdf5b3344854",
   "metadata": {},
   "outputs": [
    {
     "name": "stdout",
     "output_type": "stream",
     "text": [
      "torch.Size([10000, 1, 28, 28])\n"
     ]
    }
   ],
   "source": [
    "X_test = test_dataset.data.view(len(test_dataset), 1, 28, 28)\n",
    "print(X_test.shape)"
   ]
  },
  {
   "cell_type": "code",
   "execution_count": 33,
   "id": "d92151c2-208a-4391-b28a-9fef05297310",
   "metadata": {},
   "outputs": [
    {
     "name": "stdout",
     "output_type": "stream",
     "text": [
      "train_set_size:48000, valid_set_size:12000\n"
     ]
    }
   ],
   "source": [
    "import torch.utils.data as data\n",
    "\n",
    "# use 20% of training data for validation\n",
    "train_set_size = int(len(train_dataset) * 0.8)\n",
    "valid_set_size = len(train_dataset) - train_set_size\n",
    "\n",
    "seed = torch.Generator().manual_seed(42)\n",
    "\n",
    "train_set, valid_set = data.random_split(\n",
    "    train_dataset,\n",
    "    [train_set_size,valid_set_size],\n",
    "    generator=seed\n",
    ")\n",
    "\n",
    "print('train_set_size:{}, valid_set_size:{}'.format(train_set_size, valid_set_size))"
   ]
  },
  {
   "cell_type": "code",
   "execution_count": 34,
   "id": "f9c5c40c-0fe9-4f68-88eb-5a827a9fa173",
   "metadata": {},
   "outputs": [],
   "source": [
    "batch_size = 100"
   ]
  },
  {
   "cell_type": "code",
   "execution_count": 35,
   "id": "4856d57a-dcaf-47a0-9462-fcfb0781f32f",
   "metadata": {},
   "outputs": [
    {
     "name": "stdout",
     "output_type": "stream",
     "text": [
      "train_loader || batch_size:100, batch_count:480\n"
     ]
    }
   ],
   "source": [
    "\n",
    "train_loader = DataLoader(\n",
    "    train_set,\n",
    "    batch_size=batch_size,\n",
    "    shuffle=True,\n",
    "    drop_last=True,\n",
    "    pin_memory=True,\n",
    "    num_workers=NUM_WORKERS,\n",
    "    persistent_workers=True\n",
    ")\n",
    "print('train_loader || batch_size:{}, batch_count:{}'.format(batch_size, len(train_loader)))"
   ]
  },
  {
   "cell_type": "code",
   "execution_count": 36,
   "id": "a8f8b6c1-c92b-41b2-a5c0-5cd8437f228f",
   "metadata": {},
   "outputs": [
    {
     "name": "stdout",
     "output_type": "stream",
     "text": [
      "valid_loader || batch_size:100, batch_count:120\n"
     ]
    }
   ],
   "source": [
    "valid_loader = DataLoader(\n",
    "    valid_set,\n",
    "    batch_size=batch_size,\n",
    "    shuffle=False,\n",
    "    drop_last=True,\n",
    "    pin_memory=True,\n",
    "    num_workers=NUM_WORKERS,\n",
    "    persistent_workers=True\n",
    ")\n",
    "print('valid_loader || batch_size:{}, batch_count:{}'.format(batch_size, len(valid_loader)))"
   ]
  },
  {
   "cell_type": "code",
   "execution_count": 37,
   "id": "0d1531e3-b473-4aa5-ae6a-e35dd0b624bf",
   "metadata": {},
   "outputs": [
    {
     "name": "stdout",
     "output_type": "stream",
     "text": [
      "test_loader || batch_size:100, batch_count:100\n"
     ]
    }
   ],
   "source": [
    "test_loader = DataLoader(\n",
    "    test_dataset,\n",
    "    batch_size=batch_size,\n",
    "    shuffle=False,\n",
    "    drop_last=True,\n",
    "    pin_memory=True,\n",
    "    num_workers=NUM_WORKERS\n",
    ")\n",
    "print('test_loader || batch_size:{}, batch_count:{}'.format(batch_size, len(test_loader)))"
   ]
  },
  {
   "cell_type": "code",
   "execution_count": null,
   "id": "6747f4e1-406a-4ae0-aec9-974adf9ab9a7",
   "metadata": {},
   "outputs": [],
   "source": []
  },
  {
   "cell_type": "code",
   "execution_count": 38,
   "id": "5c4d59fa-ce6a-476a-b158-894a83b16c5f",
   "metadata": {},
   "outputs": [],
   "source": [
    "from torch import nn\n",
    "\n",
    "class CNN(nn.Module):\n",
    "    \n",
    "    def __init__(self):\n",
    "        super(CNN, self).__init__()\n",
    "        \n",
    "        self.l1 = nn.Sequential(\n",
    "            nn.Conv2d(\n",
    "                in_channels=1, \n",
    "                out_channels=32, \n",
    "                kernel_size=3, \n",
    "                stride=1, \n",
    "                padding=1\n",
    "            ),\n",
    "            nn.ReLU(),\n",
    "            nn.MaxPool2d(\n",
    "                kernel_size=2, \n",
    "                stride=2\n",
    "            )\n",
    "        )\n",
    "\n",
    "        self.l2 = nn.Sequential(\n",
    "            nn.Conv2d(\n",
    "                in_channels=32, \n",
    "                out_channels=64, \n",
    "                kernel_size=3, \n",
    "                stride=1, \n",
    "                padding=1\n",
    "            ),\n",
    "            nn.ReLU(),\n",
    "            nn.MaxPool2d(\n",
    "                kernel_size=2, \n",
    "                stride=2\n",
    "            )\n",
    "        )\n",
    "\n",
    "\n",
    "        self.fc1 = nn.Linear(                \n",
    "            in_features=7*7*64, \n",
    "            out_features=1024, \n",
    "            bias=True\n",
    "        )\n",
    "        nn.init.xavier_uniform_(self.fc1.weight)\n",
    "\n",
    "        self.l3 = nn.Sequential(\n",
    "            self.fc1,\n",
    "            nn.ReLU(),\n",
    "            nn.Dropout(p=0.5)\n",
    "        )\n",
    "\n",
    "        self.fc2 = nn.Linear(\n",
    "            in_features=1024, \n",
    "            out_features=10\n",
    "        )\n",
    "        nn.init.xavier_uniform_(self.fc2.weight)\n",
    "\n",
    "        self.flatten = nn.Flatten()\n",
    "        \n",
    "        \n",
    "\n",
    "    def forward(self, x):\n",
    "        out = self.l1(x)\n",
    "        out = self.l2(out)\n",
    "        out = self.flatten(out)\n",
    "        out = self.l3(out)\n",
    "        out = self.fc2(out)\n",
    "        return out"
   ]
  },
  {
   "cell_type": "code",
   "execution_count": 108,
   "id": "a4b73611-2bb0-4571-8079-440f6b23282e",
   "metadata": {},
   "outputs": [],
   "source": [
    "from torchmetrics.classification import MulticlassAccuracy\n",
    "import lightning as L\n",
    "import torch.nn.functional as F \n",
    "\n",
    "class LitAutoEncoder(L.LightningModule):\n",
    "    def __init__(self, encoder, lr=1e-3):\n",
    "        super().__init__()\n",
    "        self.encoder = encoder\n",
    "        \n",
    "        self.training_metric = MulticlassAccuracy( num_classes=10)\n",
    "        self.validation_metric = MulticlassAccuracy( num_classes=10)\n",
    "        self.test_metric = MulticlassAccuracy( num_classes=10)\n",
    "\n",
    "        self.lr = lr \n",
    "\n",
    "        self.loss_fn = nn.CrossEntropyLoss()\n",
    "\n",
    "\n",
    "    \n",
    "    def training_step(self, batch, batch_idx):\n",
    "        x_batch, y_batch = batch\n",
    "        pred = self.encoder(x_batch)\n",
    "        acc = self.training_metric( pred, y_batch)\n",
    "        loss = self.loss_fn( pred, y_batch)\n",
    "        values = {\"loss\": loss, \"acc\": acc}  \n",
    "        self.log_dict(values)\n",
    "        \n",
    "        return {\"loss\":loss, 'acc': acc}\n",
    "\n",
    "\n",
    "    def on_train_epoch_end(self):\n",
    "        acc = self.training_metric.compute()\n",
    "        self.log('total_training_acc', acc, prog_bar=True)\n",
    "        self.training_metric.reset()\n",
    "        return acc\n",
    "    \n",
    "    def validation_step(self, batch, batch_idx):\n",
    "        x_batch, y_batch = batch\n",
    "        pred = self.encoder(x_batch)\n",
    "        acc = self.validation_metric( pred , y_batch)\n",
    "        loss = self.loss_fn( pred, y_batch)\n",
    "        values = {\"loss\": loss, \"acc\": acc}  \n",
    "        self.log_dict(values, prog_bar=True)\n",
    "        return {\"loss\":loss, 'acc': acc} \n",
    "\n",
    "    \n",
    "    def on_validation_epoch_end(self):\n",
    "        acc = self.validation_metric.compute()\n",
    "        self.log('total_validation_acc', acc, prog_bar=True)\n",
    "        self.validation_metric.reset()\n",
    "        return acc\n",
    "\n",
    "\n",
    "    def test_step(self, batch, batch_idx):\n",
    "        x_batch, y_batch = batch\n",
    "        pred = self.encoder(x_batch)\n",
    "        acc = self.test_metric( pred , y_batch)\n",
    "        loss = self.loss_fn(pred, y_batch)\n",
    "        values = {\"loss\": loss, \"acc\": acc}  \n",
    "        self.log_dict(values)\n",
    "        return {\"loss\":loss, 'acc': acc}  \n",
    "\n",
    "    \n",
    "    def on_test_epoch_end(self):\n",
    "        acc = self.test_metric.compute()\n",
    "        self.log('total_test_acc', acc, prog_bar=True)\n",
    "        self.test_metric.reset()\n",
    "        return acc\n",
    "\n",
    "\n",
    "    \n",
    "    def configure_optimizers(self):\n",
    "        optimizer = torch.optim.Adam(self.parameters(), lr=self.lr)\n",
    "        return optimizer\n",
    "\n",
    "\n",
    "    def predict_step(self, batch, batch_idx, dataloader_idx=0):\n",
    "        self.encoder.eval()\n",
    "        with torch.no_grad():\n",
    "            x_batch, y_batch = batch\n",
    "            pred = self.encoder(x_batch)\n",
    "        return pred\n",
    "\n"
   ]
  },
  {
   "cell_type": "code",
   "execution_count": null,
   "id": "64e093cc-3856-4219-ac1a-1a9bbda106b5",
   "metadata": {},
   "outputs": [],
   "source": []
  },
  {
   "cell_type": "code",
   "execution_count": 40,
   "id": "18ee73fb-7ffb-4bf2-80e7-3b71802c41cb",
   "metadata": {},
   "outputs": [],
   "source": [
    "autoencoder = LitAutoEncoder(CNN()).to(device)"
   ]
  },
  {
   "cell_type": "code",
   "execution_count": null,
   "id": "ba91d193-917c-4e93-b8b2-b86b2a133f99",
   "metadata": {},
   "outputs": [],
   "source": []
  },
  {
   "cell_type": "code",
   "execution_count": 41,
   "id": "0e9826c8-b7f7-4740-aafc-69ddb353f85a",
   "metadata": {},
   "outputs": [],
   "source": [
    "from lightning.pytorch.callbacks.early_stopping import EarlyStopping\n",
    "\n",
    "callback_loss=EarlyStopping(\n",
    "    monitor='loss',\n",
    "    mode='min'\n",
    ")\n",
    "\n",
    "callback_accuracy=EarlyStopping(\n",
    "    monitor='acc',\n",
    "    min_delta=0.00, \n",
    "    patience=3, \n",
    "    verbose=False, \n",
    "    mode=\"max\"\n",
    ")"
   ]
  },
  {
   "cell_type": "code",
   "execution_count": null,
   "id": "94e54faf-bc52-4df5-9987-542434138e64",
   "metadata": {},
   "outputs": [],
   "source": [
    "trainer = L.Trainer(\n",
    "    fast_dev_run=True,\n",
    "    accelerator='mps',\n",
    "    devices=1\n",
    ")"
   ]
  },
  {
   "cell_type": "code",
   "execution_count": null,
   "id": "8c36985b-5a8e-4912-a10a-26586ad8e8a6",
   "metadata": {},
   "outputs": [],
   "source": [
    "trainer = L.Trainer(\n",
    "    default_root_dir=data_path,\n",
    "    limit_train_batches=0.1, # limit_train_batches=10\n",
    "    limit_val_batches=0.01, # limit_val_batches=5\n",
    "  #  callbacks=[callback_loss],\n",
    "    precision=\"bf16-mixed\",\n",
    "    max_epochs=10,\n",
    "    accelerator='mps',\n",
    "    devices=1\n",
    ")\n"
   ]
  },
  {
   "cell_type": "code",
   "execution_count": 42,
   "id": "c694ce2d-3b5f-46a6-9b7c-3e29a7d899ae",
   "metadata": {},
   "outputs": [
    {
     "name": "stderr",
     "output_type": "stream",
     "text": [
      "Using bfloat16 Automatic Mixed Precision (AMP)\n",
      "GPU available: True (mps), used: True\n",
      "TPU available: False, using: 0 TPU cores\n",
      "IPU available: False, using: 0 IPUs\n",
      "HPU available: False, using: 0 HPUs\n"
     ]
    }
   ],
   "source": [
    "trainer = L.Trainer(\n",
    "    default_root_dir=data_path,\n",
    "    num_sanity_val_steps=2,\n",
    "    check_val_every_n_epoch=5,\n",
    "    callbacks=[callback_accuracy],\n",
    "    precision=\"bf16-mixed\",\n",
    "    accelerator='mps',\n",
    "    devices=1,\n",
    "    max_epochs=100\n",
    ")\n"
   ]
  },
  {
   "cell_type": "code",
   "execution_count": 43,
   "id": "1256121b-2505-4568-a1eb-c9f01080023b",
   "metadata": {},
   "outputs": [
    {
     "name": "stderr",
     "output_type": "stream",
     "text": [
      "Missing logger folder: /Users/unchil/PythonProjects/lightning_logs\n",
      "\n",
      "  | Name              | Type               | Params\n",
      "---------------------------------------------------------\n",
      "0 | encoder           | CNN                | 3.2 M \n",
      "1 | training_metric   | MulticlassAccuracy | 0     \n",
      "2 | validation_metric | MulticlassAccuracy | 0     \n",
      "3 | test_metric       | MulticlassAccuracy | 0     \n",
      "4 | loss_fn           | CrossEntropyLoss   | 0     \n",
      "---------------------------------------------------------\n",
      "3.2 M     Trainable params\n",
      "0         Non-trainable params\n",
      "3.2 M     Total params\n",
      "12.965    Total estimated model params size (MB)\n"
     ]
    },
    {
     "data": {
      "application/vnd.jupyter.widget-view+json": {
       "model_id": "",
       "version_major": 2,
       "version_minor": 0
      },
      "text/plain": [
       "Sanity Checking: |                                                                                            …"
      ]
     },
     "metadata": {},
     "output_type": "display_data"
    },
    {
     "data": {
      "application/vnd.jupyter.widget-view+json": {
       "model_id": "51f08515d32c41a2905d5dc19a42805e",
       "version_major": 2,
       "version_minor": 0
      },
      "text/plain": [
       "Training: |                                                                                                   …"
      ]
     },
     "metadata": {},
     "output_type": "display_data"
    },
    {
     "data": {
      "application/vnd.jupyter.widget-view+json": {
       "model_id": "",
       "version_major": 2,
       "version_minor": 0
      },
      "text/plain": [
       "Validation: |                                                                                                 …"
      ]
     },
     "metadata": {},
     "output_type": "display_data"
    },
    {
     "data": {
      "application/vnd.jupyter.widget-view+json": {
       "model_id": "",
       "version_major": 2,
       "version_minor": 0
      },
      "text/plain": [
       "Validation: |                                                                                                 …"
      ]
     },
     "metadata": {},
     "output_type": "display_data"
    },
    {
     "data": {
      "application/vnd.jupyter.widget-view+json": {
       "model_id": "",
       "version_major": 2,
       "version_minor": 0
      },
      "text/plain": [
       "Validation: |                                                                                                 …"
      ]
     },
     "metadata": {},
     "output_type": "display_data"
    },
    {
     "data": {
      "application/vnd.jupyter.widget-view+json": {
       "model_id": "",
       "version_major": 2,
       "version_minor": 0
      },
      "text/plain": [
       "Validation: |                                                                                                 …"
      ]
     },
     "metadata": {},
     "output_type": "display_data"
    },
    {
     "data": {
      "application/vnd.jupyter.widget-view+json": {
       "model_id": "",
       "version_major": 2,
       "version_minor": 0
      },
      "text/plain": [
       "Validation: |                                                                                                 …"
      ]
     },
     "metadata": {},
     "output_type": "display_data"
    },
    {
     "data": {
      "application/vnd.jupyter.widget-view+json": {
       "model_id": "",
       "version_major": 2,
       "version_minor": 0
      },
      "text/plain": [
       "Validation: |                                                                                                 …"
      ]
     },
     "metadata": {},
     "output_type": "display_data"
    }
   ],
   "source": [
    "\n",
    "trainer.fit(\n",
    "    autoencoder,\n",
    "    train_loader, \n",
    "    valid_loader\n",
    ")\n"
   ]
  },
  {
   "cell_type": "code",
   "execution_count": 44,
   "id": "2b84d26d-07b0-4cbe-b16f-df3c8c726079",
   "metadata": {},
   "outputs": [
    {
     "name": "stderr",
     "output_type": "stream",
     "text": [
      "/Library/Frameworks/Python.framework/Versions/3.12/lib/python3.12/site-packages/lightning/pytorch/trainer/connectors/data_connector.py:436: Consider setting `persistent_workers=True` in 'test_dataloader' to speed up the dataloader worker initialization.\n"
     ]
    },
    {
     "data": {
      "application/vnd.jupyter.widget-view+json": {
       "model_id": "657742af34904e7c8c2e4706d984c4bd",
       "version_major": 2,
       "version_minor": 0
      },
      "text/plain": [
       "Testing: |                                                                                                    …"
      ]
     },
     "metadata": {},
     "output_type": "display_data"
    },
    {
     "data": {
      "text/html": [
       "<pre style=\"white-space:pre;overflow-x:auto;line-height:normal;font-family:Menlo,'DejaVu Sans Mono',consolas,'Courier New',monospace\">┏━━━━━━━━━━━━━━━━━━━━━━━━━━━┳━━━━━━━━━━━━━━━━━━━━━━━━━━━┓\n",
       "┃<span style=\"font-weight: bold\">        Test metric        </span>┃<span style=\"font-weight: bold\">       DataLoader 0        </span>┃\n",
       "┡━━━━━━━━━━━━━━━━━━━━━━━━━━━╇━━━━━━━━━━━━━━━━━━━━━━━━━━━┩\n",
       "│<span style=\"color: #008080; text-decoration-color: #008080\">            acc            </span>│<span style=\"color: #800080; text-decoration-color: #800080\">    0.9940900206565857     </span>│\n",
       "│<span style=\"color: #008080; text-decoration-color: #008080\">           loss            </span>│<span style=\"color: #800080; text-decoration-color: #800080\">   0.033184271305799484    </span>│\n",
       "│<span style=\"color: #008080; text-decoration-color: #008080\">      total_test_acc       </span>│<span style=\"color: #800080; text-decoration-color: #800080\">    0.9943863153457642     </span>│\n",
       "└───────────────────────────┴───────────────────────────┘\n",
       "</pre>\n"
      ],
      "text/plain": [
       "┏━━━━━━━━━━━━━━━━━━━━━━━━━━━┳━━━━━━━━━━━━━━━━━━━━━━━━━━━┓\n",
       "┃\u001b[1m \u001b[0m\u001b[1m       Test metric       \u001b[0m\u001b[1m \u001b[0m┃\u001b[1m \u001b[0m\u001b[1m      DataLoader 0       \u001b[0m\u001b[1m \u001b[0m┃\n",
       "┡━━━━━━━━━━━━━━━━━━━━━━━━━━━╇━━━━━━━━━━━━━━━━━━━━━━━━━━━┩\n",
       "│\u001b[36m \u001b[0m\u001b[36m           acc           \u001b[0m\u001b[36m \u001b[0m│\u001b[35m \u001b[0m\u001b[35m   0.9940900206565857    \u001b[0m\u001b[35m \u001b[0m│\n",
       "│\u001b[36m \u001b[0m\u001b[36m          loss           \u001b[0m\u001b[36m \u001b[0m│\u001b[35m \u001b[0m\u001b[35m  0.033184271305799484   \u001b[0m\u001b[35m \u001b[0m│\n",
       "│\u001b[36m \u001b[0m\u001b[36m     total_test_acc      \u001b[0m\u001b[36m \u001b[0m│\u001b[35m \u001b[0m\u001b[35m   0.9943863153457642    \u001b[0m\u001b[35m \u001b[0m│\n",
       "└───────────────────────────┴───────────────────────────┘\n"
      ]
     },
     "metadata": {},
     "output_type": "display_data"
    },
    {
     "data": {
      "text/plain": [
       "[{'loss': 0.033184271305799484,\n",
       "  'acc': 0.9940900206565857,\n",
       "  'total_test_acc': 0.9943863153457642}]"
      ]
     },
     "execution_count": 44,
     "metadata": {},
     "output_type": "execute_result"
    }
   ],
   "source": [
    "trainer.test(\n",
    "    autoencoder,\n",
    "    test_loader\n",
    ")"
   ]
  },
  {
   "cell_type": "code",
   "execution_count": null,
   "id": "f0245156-1cbd-4a31-98aa-00af441dddd6",
   "metadata": {},
   "outputs": [],
   "source": [
    "%reload_ext tensorboard\n",
    "%tensorboard --logdir=lightning_logs/"
   ]
  },
  {
   "cell_type": "code",
   "execution_count": 46,
   "id": "f7721c23-8d42-47be-a08f-4abb70bc0b69",
   "metadata": {},
   "outputs": [],
   "source": [
    "checkpoint = '/Users/unchil/PythonProjects/lightning_logs/version_0/checkpoints/epoch=29-step=14400.ckpt'"
   ]
  },
  {
   "cell_type": "code",
   "execution_count": 106,
   "id": "edbfd666-9946-4964-a5d1-3c448d3025bc",
   "metadata": {},
   "outputs": [
    {
     "name": "stderr",
     "output_type": "stream",
     "text": [
      "GPU available: True (mps), used: True\n",
      "TPU available: False, using: 0 TPU cores\n",
      "IPU available: False, using: 0 IPUs\n",
      "HPU available: False, using: 0 HPUs\n"
     ]
    },
    {
     "data": {
      "application/vnd.jupyter.widget-view+json": {
       "model_id": "326079a59eb3471b97c1d15ed5edee69",
       "version_major": 2,
       "version_minor": 0
      },
      "text/plain": [
       "Predicting: |                                                                                                 …"
      ]
     },
     "metadata": {},
     "output_type": "display_data"
    }
   ],
   "source": [
    "model = LitAutoEncoder.load_from_checkpoint(checkpoint, encoder=CNN()).to(device)\n",
    "trainer = L.Trainer(accelerator='mps', devices=1)\n",
    "pred = trainer.predict(model, test_loader)"
   ]
  },
  {
   "cell_type": "code",
   "execution_count": null,
   "id": "95eb0769-e87b-4d1f-8cbf-69e8825ac972",
   "metadata": {},
   "outputs": [],
   "source": []
  },
  {
   "cell_type": "code",
   "execution_count": null,
   "id": "64db8a0e-512a-4f42-96ea-5f0bba19fab5",
   "metadata": {},
   "outputs": [],
   "source": []
  }
 ],
 "metadata": {
  "kernelspec": {
   "display_name": "Python 3 (ipykernel)",
   "language": "python",
   "name": "python3"
  },
  "language_info": {
   "codemirror_mode": {
    "name": "ipython",
    "version": 3
   },
   "file_extension": ".py",
   "mimetype": "text/x-python",
   "name": "python",
   "nbconvert_exporter": "python",
   "pygments_lexer": "ipython3",
   "version": "3.12.2"
  }
 },
 "nbformat": 4,
 "nbformat_minor": 5
}
